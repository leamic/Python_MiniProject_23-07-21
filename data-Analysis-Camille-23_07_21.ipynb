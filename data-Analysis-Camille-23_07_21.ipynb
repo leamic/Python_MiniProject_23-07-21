{
 "cells": [
  {
   "cell_type": "code",
   "execution_count": 103,
   "source": [
    "import numpy as np\r\n",
    "import pandas as pd\r\n",
    "import matplotlib.pyplot as plt\r\n",
    "import seaborn as sns\r\n",
    "sns.set_style(\"darkgrid\")\r\n",
    "import scipy.stats as stat"
   ],
   "outputs": [],
   "metadata": {}
  },
  {
   "cell_type": "code",
   "execution_count": 104,
   "source": [
    "commune= pd.read_excel(\"commune.xlsx\")\r\n",
    "enroll= pd.read_csv(\"enroll.csv\")\r\n",
    "industry= pd.read_csv(\"industry.csv\")\r\n",
    "ord = pd.read_csv(\"ord.csv\")\r\n",
    "study_domain= pd.read_csv(\"study_domain.csv\")\r\n",
    "technology= pd.read_csv(\"technology.csv\")\r\n",
    "transaction= pd.read_csv(\"transaction.csv\")\r\n",
    "quest= pd.read_csv(\"quest.csv\")"
   ],
   "outputs": [],
   "metadata": {}
  },
  {
   "cell_type": "code",
   "execution_count": 105,
   "source": [
    "quest.dropna(inplace=True)"
   ],
   "outputs": [],
   "metadata": {}
  },
  {
   "cell_type": "code",
   "execution_count": 106,
   "source": [
    "newquest=quest.drop([\"modified_at\",\"department\",\"current_employed\",\"Unnamed: 0\",\"study_domain\",\"university\"],axis=1,inplace=False)"
   ],
   "outputs": [],
   "metadata": {}
  },
  {
   "cell_type": "markdown",
   "source": [
    "## create age column"
   ],
   "metadata": {}
  },
  {
   "cell_type": "code",
   "execution_count": 107,
   "source": [
    "newquest.drop(newquest[newquest[\"dob\"]==\"3 aout 1977\"].index,inplace=True)"
   ],
   "outputs": [],
   "metadata": {}
  },
  {
   "cell_type": "code",
   "execution_count": 108,
   "source": [
    "newquest[\"dob\"]=newquest[\"dob\"].apply(lambda x: x.replace(\"/\",\"\"))"
   ],
   "outputs": [],
   "metadata": {}
  },
  {
   "cell_type": "code",
   "execution_count": 109,
   "source": [
    "newquest[\"dob\"].unique()"
   ],
   "outputs": [
    {
     "output_type": "execute_result",
     "data": {
      "text/plain": [
       "array(['29091996', '17051996', '24111996', '20071997', '03121996',\n",
       "       '30041988', '10091996', '03021991', '10071997', '20111994',\n",
       "       '30121994', '09051992', '26031992', '01111994', '19011999',\n",
       "       '09101987', '02051995', '05021992', '21091995', '05121995',\n",
       "       '25121993', '09121998', '28022021', '26101991', '27081986',\n",
       "       '13021977', '23081986', '13011989', '14042000', '31121998',\n",
       "       '14051995', '04101996', '10011997', '22041998', '26061989',\n",
       "       '16101996', '01031996', '11111994', '03091989', '14091996',\n",
       "       '13121987', '13101996', '10122001', '01111996', '17041996',\n",
       "       '31072000', '31051995', '09121997', '19101993', '14041986',\n",
       "       '03081990', '05072002', '05051996', '22031992', '07091996',\n",
       "       '28071994', '25061997', '30101995', '23081998', '17051997',\n",
       "       '25121998', '01101995', '31031996', '20091993', '15101983',\n",
       "       '09071995', '19021999', '20091998', '09041995', '28101998',\n",
       "       '22061996', '01061996', '16111983', '15121995', '28121987',\n",
       "       '30011997', '03121999', '19091980', '30121992', '12021997',\n",
       "       '30011990', '21061996', '29051991', '19091974', '29121994',\n",
       "       '16101997', '14082021', '06071998', '30011991', '19031991',\n",
       "       '14041989', '01051988', '20011987', '21041991', '12061997',\n",
       "       '13071990', '17061989', '28081986', '06011994', '14121996',\n",
       "       '17071994', '23031994', '11061995', '06061999', '04091994',\n",
       "       '13121997', '21101998', '07111991', '17111988', '20101980',\n",
       "       '07121970', '23061996', '31121997', '27031994', '19031990',\n",
       "       '28012001', '15101996', '06091997', '29121998', '23081992',\n",
       "       '05121994', '01011988', '08111981', '16051995', '13121994',\n",
       "       '11061992', '26121996', '03081999', '16091998', '02021994',\n",
       "       '27081992', '29091999', '27111998', '17091988', '23111997',\n",
       "       '20101996', '25111991', '27111991', '26021996', '28021991',\n",
       "       '13101997', '23091990', '07081995', '28012000', '04032000',\n",
       "       '20041996', '30061992', '19091995', '19022000', '12121988',\n",
       "       '27121993', '13091990', '15021995', '14011997', '22101998',\n",
       "       '10102000', '25091997', '26061972', '21101982', '16101995',\n",
       "       '09061997', '22041987', '09041992', '01101990', '11051994',\n",
       "       '18121994', '28051995', '18022021', '25121992', '02091997',\n",
       "       '11091995', '25071993', '14111997', '05121996', '24041995',\n",
       "       '30091994', '10011983', '15081994', '11101997', '03011991',\n",
       "       '20061995', '10101975', '12121990', '16051997', '20011993',\n",
       "       '20082000', '24101992', '01121988', '23041993', '27061997',\n",
       "       '19111990', '18051997', '27021993', '12051995', '05111996',\n",
       "       '30031999', '10081997', '22012020', '05082021', '20101992',\n",
       "       '14062000', '03031992', '18071999', '31101983', '18111998',\n",
       "       '11021991', '25072021', '13011981', '07061976', '25031986',\n",
       "       '10091999', '22121988', '14081992', '21061982', '18072021',\n",
       "       '06011991', '09021997', '12041980', '22011984', '28031985',\n",
       "       '24021997', '16091995', '19041987', '09081991', '22021987',\n",
       "       '16071995', '17041992', '30031983', '14121993', '25071997',\n",
       "       '15021994', '08101990', '28121993', '22071993'], dtype=object)"
      ]
     },
     "metadata": {},
     "execution_count": 109
    }
   ],
   "metadata": {}
  },
  {
   "cell_type": "code",
   "execution_count": 110,
   "source": [
    "newquest[\"dob\"]=pd.to_datetime(newquest[\"dob\"],format='%d%m%Y')"
   ],
   "outputs": [],
   "metadata": {}
  },
  {
   "cell_type": "code",
   "execution_count": 111,
   "source": [
    "now = pd.Timestamp('now')\r\n",
    "newquest['age'] = (now - newquest['dob']).astype('<m8[Y]')"
   ],
   "outputs": [],
   "metadata": {}
  },
  {
   "cell_type": "code",
   "execution_count": 112,
   "source": [
    "newquest.drop(\"dob\",axis=1,inplace=True)"
   ],
   "outputs": [],
   "metadata": {}
  },
  {
   "cell_type": "markdown",
   "source": [
    "## create Communename column"
   ],
   "metadata": {}
  },
  {
   "cell_type": "code",
   "execution_count": 113,
   "source": [
    "newquest.commune.unique()"
   ],
   "outputs": [
    {
     "output_type": "execute_result",
     "data": {
      "text/plain": [
       "array(['ht0111', 'ht0112', 'ht0521', 'ht0118', 'ht0113', 'ht0114',\n",
       "       'ht0131', 'ht0434', 'ht0731', 'ht0211', 'ht0711', 'ht0117',\n",
       "       'ht0122', 'ht0322', 'ht0121', 'ht0542', 'ht0721', 'ht0432',\n",
       "       'ht0134', 'ht0116', 'ht0531', 'ht0133', 'ht0123', 'ht0421',\n",
       "       'ht0532', 'ht0342', 'ht0311', 'ht0611', 'ht0115', 'ht0313',\n",
       "       'ht0921', 'ht0621', 'ht0412', 'ht1012'], dtype=object)"
      ]
     },
     "metadata": {},
     "execution_count": 113
    }
   ],
   "metadata": {}
  },
  {
   "cell_type": "code",
   "execution_count": 114,
   "source": [
    "commune.head()"
   ],
   "outputs": [
    {
     "output_type": "execute_result",
     "data": {
      "text/plain": [
       "      Commune_en     Commune_FR Commune_Id  Departement ADM1_PCODE\n",
       "0       Abricots       Abricots     HT0812  Grande'Anse       HT08\n",
       "1   Acul du Nord   Acul du Nord     HT0321        North       HT03\n",
       "2  Anse-a-Foleur  Anse-à-Foleur     HT0922   North-West       HT09\n",
       "3   Anse-a-Pitre   Anse-à-Pître     HT0234   South-East       HT02\n",
       "4    Anse-a-Veau    Anse-à-Veau     HT1021       Nippes       HT10"
      ],
      "text/html": [
       "<div>\n",
       "<style scoped>\n",
       "    .dataframe tbody tr th:only-of-type {\n",
       "        vertical-align: middle;\n",
       "    }\n",
       "\n",
       "    .dataframe tbody tr th {\n",
       "        vertical-align: top;\n",
       "    }\n",
       "\n",
       "    .dataframe thead th {\n",
       "        text-align: right;\n",
       "    }\n",
       "</style>\n",
       "<table border=\"1\" class=\"dataframe\">\n",
       "  <thead>\n",
       "    <tr style=\"text-align: right;\">\n",
       "      <th></th>\n",
       "      <th>Commune_en</th>\n",
       "      <th>Commune_FR</th>\n",
       "      <th>Commune_Id</th>\n",
       "      <th>Departement</th>\n",
       "      <th>ADM1_PCODE</th>\n",
       "    </tr>\n",
       "  </thead>\n",
       "  <tbody>\n",
       "    <tr>\n",
       "      <th>0</th>\n",
       "      <td>Abricots</td>\n",
       "      <td>Abricots</td>\n",
       "      <td>HT0812</td>\n",
       "      <td>Grande'Anse</td>\n",
       "      <td>HT08</td>\n",
       "    </tr>\n",
       "    <tr>\n",
       "      <th>1</th>\n",
       "      <td>Acul du Nord</td>\n",
       "      <td>Acul du Nord</td>\n",
       "      <td>HT0321</td>\n",
       "      <td>North</td>\n",
       "      <td>HT03</td>\n",
       "    </tr>\n",
       "    <tr>\n",
       "      <th>2</th>\n",
       "      <td>Anse-a-Foleur</td>\n",
       "      <td>Anse-à-Foleur</td>\n",
       "      <td>HT0922</td>\n",
       "      <td>North-West</td>\n",
       "      <td>HT09</td>\n",
       "    </tr>\n",
       "    <tr>\n",
       "      <th>3</th>\n",
       "      <td>Anse-a-Pitre</td>\n",
       "      <td>Anse-à-Pître</td>\n",
       "      <td>HT0234</td>\n",
       "      <td>South-East</td>\n",
       "      <td>HT02</td>\n",
       "    </tr>\n",
       "    <tr>\n",
       "      <th>4</th>\n",
       "      <td>Anse-a-Veau</td>\n",
       "      <td>Anse-à-Veau</td>\n",
       "      <td>HT1021</td>\n",
       "      <td>Nippes</td>\n",
       "      <td>HT10</td>\n",
       "    </tr>\n",
       "  </tbody>\n",
       "</table>\n",
       "</div>"
      ]
     },
     "metadata": {},
     "execution_count": 114
    }
   ],
   "metadata": {}
  },
  {
   "cell_type": "code",
   "execution_count": 115,
   "source": [
    "commune.drop([\"Commune_en\",\"Departement\",\"ADM1_PCODE\"],axis=1,inplace=True)"
   ],
   "outputs": [],
   "metadata": {}
  },
  {
   "cell_type": "code",
   "execution_count": 116,
   "source": [
    "commune.set_axis([\"commune_name\",\"commune\"],axis=1,inplace=True)\r\n",
    "commune[\"commune\"]=commune[\"commune\"].apply(lambda x : x.lower())"
   ],
   "outputs": [],
   "metadata": {}
  },
  {
   "cell_type": "code",
   "execution_count": 117,
   "source": [
    "newquest.shape\r\n"
   ],
   "outputs": [
    {
     "output_type": "execute_result",
     "data": {
      "text/plain": [
       "(242, 11)"
      ]
     },
     "metadata": {},
     "execution_count": 117
    }
   ],
   "metadata": {}
  },
  {
   "cell_type": "code",
   "execution_count": 118,
   "source": [
    "newquest=pd.merge(newquest,commune,on=\"commune\")\r\n",
    "newquest.drop(\"commune\",axis=1,inplace=True)"
   ],
   "outputs": [],
   "metadata": {}
  },
  {
   "cell_type": "markdown",
   "source": [
    "## Create enroll date"
   ],
   "metadata": {}
  },
  {
   "cell_type": "code",
   "execution_count": 119,
   "source": [
    "newenroll=enroll[[\"created_at\",\"quest_id\",\"user_id\"]]\r\n",
    "newenroll.shape"
   ],
   "outputs": [
    {
     "output_type": "execute_result",
     "data": {
      "text/plain": [
       "(148, 3)"
      ]
     },
     "metadata": {},
     "execution_count": 119
    }
   ],
   "metadata": {}
  },
  {
   "cell_type": "code",
   "execution_count": 120,
   "source": [
    "newquest=pd.merge(newenroll,newquest,on=\"quest_id\",how='right')"
   ],
   "outputs": [],
   "metadata": {}
  },
  {
   "cell_type": "code",
   "execution_count": 121,
   "source": [
    "newquest.rename(columns={\"created_at_x\":\"enroll_date\",\"created_at_y\":\"application_date\",\"hear_AA_1\":\"communication_channel\",\"after_AA\":\"bootcamp_interest\"},inplace=True)"
   ],
   "outputs": [],
   "metadata": {}
  },
  {
   "cell_type": "code",
   "execution_count": 122,
   "source": [
    "newquest.head()"
   ],
   "outputs": [
    {
     "output_type": "execute_result",
     "data": {
      "text/plain": [
       "                enroll_date                              quest_id     user_id  \\\n",
       "0                       NaN  905ddcf2-ce95-11eb-9a92-7c67a234f601         NaN   \n",
       "1  2021-02-20T21:20:37.450Z  905e2608-ce95-11eb-809f-7c67a234f601  40117659.0   \n",
       "2                       NaN  905e4cf5-ce95-11eb-96a9-7c67a234f601         NaN   \n",
       "3                       NaN  905e73fd-ce95-11eb-a7b0-7c67a234f601         NaN   \n",
       "4                       NaN  905e9b27-ce95-11eb-9c37-7c67a234f601         NaN   \n",
       "\n",
       "   gender             application_date         education_level  \\\n",
       "0  female  2021-02-16T16:01:10.861844Z     Bachelors (bacc +4)   \n",
       "1    male  2021-02-16T16:56:30.579504Z     Bachelors (bacc +4)   \n",
       "2    male  2021-02-16T16:57:55.754541Z     Bachelors (bacc +4)   \n",
       "3    male  2021-02-16T17:05:40.907948Z  High School (16 years)   \n",
       "4    male  2021-02-16T18:35:14.430837Z                   Other   \n",
       "\n",
       "  formal_sector_job have_computer_home internet_at_home communication_channel  \\\n",
       "0           unknown                Yes              Yes                Friend   \n",
       "1           unknown                Yes              Yes                Friend   \n",
       "2           unknown                Yes              Yes                  ESIH   \n",
       "3           unknown                Yes              Yes              WhatsApp   \n",
       "4           unknown                Yes              Yes                  ESIH   \n",
       "\n",
       "                   bootcamp_interest   age    commune_name  \n",
       "0           Finding a job/internship  24.0  Port-au-Prince  \n",
       "1  Improving my data analysis skills  25.0  Port-au-Prince  \n",
       "2  Improving my data analysis skills  24.0  Port-au-Prince  \n",
       "3                         Mentorship  24.0  Port-au-Prince  \n",
       "4  Improving my data analysis skills  24.0  Port-au-Prince  "
      ],
      "text/html": [
       "<div>\n",
       "<style scoped>\n",
       "    .dataframe tbody tr th:only-of-type {\n",
       "        vertical-align: middle;\n",
       "    }\n",
       "\n",
       "    .dataframe tbody tr th {\n",
       "        vertical-align: top;\n",
       "    }\n",
       "\n",
       "    .dataframe thead th {\n",
       "        text-align: right;\n",
       "    }\n",
       "</style>\n",
       "<table border=\"1\" class=\"dataframe\">\n",
       "  <thead>\n",
       "    <tr style=\"text-align: right;\">\n",
       "      <th></th>\n",
       "      <th>enroll_date</th>\n",
       "      <th>quest_id</th>\n",
       "      <th>user_id</th>\n",
       "      <th>gender</th>\n",
       "      <th>application_date</th>\n",
       "      <th>education_level</th>\n",
       "      <th>formal_sector_job</th>\n",
       "      <th>have_computer_home</th>\n",
       "      <th>internet_at_home</th>\n",
       "      <th>communication_channel</th>\n",
       "      <th>bootcamp_interest</th>\n",
       "      <th>age</th>\n",
       "      <th>commune_name</th>\n",
       "    </tr>\n",
       "  </thead>\n",
       "  <tbody>\n",
       "    <tr>\n",
       "      <th>0</th>\n",
       "      <td>NaN</td>\n",
       "      <td>905ddcf2-ce95-11eb-9a92-7c67a234f601</td>\n",
       "      <td>NaN</td>\n",
       "      <td>female</td>\n",
       "      <td>2021-02-16T16:01:10.861844Z</td>\n",
       "      <td>Bachelors (bacc +4)</td>\n",
       "      <td>unknown</td>\n",
       "      <td>Yes</td>\n",
       "      <td>Yes</td>\n",
       "      <td>Friend</td>\n",
       "      <td>Finding a job/internship</td>\n",
       "      <td>24.0</td>\n",
       "      <td>Port-au-Prince</td>\n",
       "    </tr>\n",
       "    <tr>\n",
       "      <th>1</th>\n",
       "      <td>2021-02-20T21:20:37.450Z</td>\n",
       "      <td>905e2608-ce95-11eb-809f-7c67a234f601</td>\n",
       "      <td>40117659.0</td>\n",
       "      <td>male</td>\n",
       "      <td>2021-02-16T16:56:30.579504Z</td>\n",
       "      <td>Bachelors (bacc +4)</td>\n",
       "      <td>unknown</td>\n",
       "      <td>Yes</td>\n",
       "      <td>Yes</td>\n",
       "      <td>Friend</td>\n",
       "      <td>Improving my data analysis skills</td>\n",
       "      <td>25.0</td>\n",
       "      <td>Port-au-Prince</td>\n",
       "    </tr>\n",
       "    <tr>\n",
       "      <th>2</th>\n",
       "      <td>NaN</td>\n",
       "      <td>905e4cf5-ce95-11eb-96a9-7c67a234f601</td>\n",
       "      <td>NaN</td>\n",
       "      <td>male</td>\n",
       "      <td>2021-02-16T16:57:55.754541Z</td>\n",
       "      <td>Bachelors (bacc +4)</td>\n",
       "      <td>unknown</td>\n",
       "      <td>Yes</td>\n",
       "      <td>Yes</td>\n",
       "      <td>ESIH</td>\n",
       "      <td>Improving my data analysis skills</td>\n",
       "      <td>24.0</td>\n",
       "      <td>Port-au-Prince</td>\n",
       "    </tr>\n",
       "    <tr>\n",
       "      <th>3</th>\n",
       "      <td>NaN</td>\n",
       "      <td>905e73fd-ce95-11eb-a7b0-7c67a234f601</td>\n",
       "      <td>NaN</td>\n",
       "      <td>male</td>\n",
       "      <td>2021-02-16T17:05:40.907948Z</td>\n",
       "      <td>High School (16 years)</td>\n",
       "      <td>unknown</td>\n",
       "      <td>Yes</td>\n",
       "      <td>Yes</td>\n",
       "      <td>WhatsApp</td>\n",
       "      <td>Mentorship</td>\n",
       "      <td>24.0</td>\n",
       "      <td>Port-au-Prince</td>\n",
       "    </tr>\n",
       "    <tr>\n",
       "      <th>4</th>\n",
       "      <td>NaN</td>\n",
       "      <td>905e9b27-ce95-11eb-9c37-7c67a234f601</td>\n",
       "      <td>NaN</td>\n",
       "      <td>male</td>\n",
       "      <td>2021-02-16T18:35:14.430837Z</td>\n",
       "      <td>Other</td>\n",
       "      <td>unknown</td>\n",
       "      <td>Yes</td>\n",
       "      <td>Yes</td>\n",
       "      <td>ESIH</td>\n",
       "      <td>Improving my data analysis skills</td>\n",
       "      <td>24.0</td>\n",
       "      <td>Port-au-Prince</td>\n",
       "    </tr>\n",
       "  </tbody>\n",
       "</table>\n",
       "</div>"
      ]
     },
     "metadata": {},
     "execution_count": 122
    }
   ],
   "metadata": {}
  },
  {
   "cell_type": "markdown",
   "source": [
    "## Create is_enroll(Yes/No) column"
   ],
   "metadata": {}
  },
  {
   "cell_type": "code",
   "execution_count": 123,
   "source": [
    "newquest[\"is_enroll\"]=newquest[\"enroll_date\"].apply(lambda x: \"No\" if pd.isnull(x) else \"Yes\" )"
   ],
   "outputs": [],
   "metadata": {}
  },
  {
   "cell_type": "markdown",
   "source": [
    "## Payment Date"
   ],
   "metadata": {}
  },
  {
   "cell_type": "code",
   "execution_count": 124,
   "source": [
    "newtransac= transaction[[\"created_at\",\"user_id\"]]\r\n",
    "newtransac.shape"
   ],
   "outputs": [
    {
     "output_type": "execute_result",
     "data": {
      "text/plain": [
       "(60, 2)"
      ]
     },
     "metadata": {},
     "execution_count": 124
    }
   ],
   "metadata": {}
  },
  {
   "cell_type": "code",
   "execution_count": 125,
   "source": [
    "neword=ord[[\"quest_id\",\"created_at\"]]\r\n",
    "neword.shape"
   ],
   "outputs": [
    {
     "output_type": "execute_result",
     "data": {
      "text/plain": [
       "(18, 2)"
      ]
     },
     "metadata": {},
     "execution_count": 125
    }
   ],
   "metadata": {}
  },
  {
   "cell_type": "code",
   "execution_count": 126,
   "source": [
    "restran=pd.merge(newtransac,neword,on=\"created_at\",how=\"outer\")\r\n",
    "restran.rename(columns={\"created_at\":\"Payment date\"},inplace=True)\r\n",
    "restran\r\n"
   ],
   "outputs": [
    {
     "output_type": "execute_result",
     "data": {
      "text/plain": [
       "                Payment date     user_id                              quest_id\n",
       "0   2021-03-08T05:08:50.832Z  40976440.0                                   NaN\n",
       "1   2021-03-08T17:26:35.841Z  41179271.0                                   NaN\n",
       "2   2021-03-08T18:52:09.147Z  40973512.0                                   NaN\n",
       "3   2021-03-08T19:06:32.837Z  41177453.0                                   NaN\n",
       "4   2021-03-08T22:10:00.796Z  40797121.0                                   NaN\n",
       "..                       ...         ...                                   ...\n",
       "73  2021-02-18T14:45:02.292Z         NaN  905f5dc1-ce95-11eb-bfa7-7c67a234f601\n",
       "74  2021-02-17T13:48:38.371Z         NaN                                   NaN\n",
       "75  2021-02-17T11:08:54.385Z         NaN  9062b754-ce95-11eb-b31e-7c67a234f601\n",
       "76  2021-02-16T20:09:31.627Z         NaN  9069789f-ce95-11eb-9788-7c67a234f601\n",
       "77  2021-01-05T04:00:41.222Z         NaN                                   NaN\n",
       "\n",
       "[78 rows x 3 columns]"
      ],
      "text/html": [
       "<div>\n",
       "<style scoped>\n",
       "    .dataframe tbody tr th:only-of-type {\n",
       "        vertical-align: middle;\n",
       "    }\n",
       "\n",
       "    .dataframe tbody tr th {\n",
       "        vertical-align: top;\n",
       "    }\n",
       "\n",
       "    .dataframe thead th {\n",
       "        text-align: right;\n",
       "    }\n",
       "</style>\n",
       "<table border=\"1\" class=\"dataframe\">\n",
       "  <thead>\n",
       "    <tr style=\"text-align: right;\">\n",
       "      <th></th>\n",
       "      <th>Payment date</th>\n",
       "      <th>user_id</th>\n",
       "      <th>quest_id</th>\n",
       "    </tr>\n",
       "  </thead>\n",
       "  <tbody>\n",
       "    <tr>\n",
       "      <th>0</th>\n",
       "      <td>2021-03-08T05:08:50.832Z</td>\n",
       "      <td>40976440.0</td>\n",
       "      <td>NaN</td>\n",
       "    </tr>\n",
       "    <tr>\n",
       "      <th>1</th>\n",
       "      <td>2021-03-08T17:26:35.841Z</td>\n",
       "      <td>41179271.0</td>\n",
       "      <td>NaN</td>\n",
       "    </tr>\n",
       "    <tr>\n",
       "      <th>2</th>\n",
       "      <td>2021-03-08T18:52:09.147Z</td>\n",
       "      <td>40973512.0</td>\n",
       "      <td>NaN</td>\n",
       "    </tr>\n",
       "    <tr>\n",
       "      <th>3</th>\n",
       "      <td>2021-03-08T19:06:32.837Z</td>\n",
       "      <td>41177453.0</td>\n",
       "      <td>NaN</td>\n",
       "    </tr>\n",
       "    <tr>\n",
       "      <th>4</th>\n",
       "      <td>2021-03-08T22:10:00.796Z</td>\n",
       "      <td>40797121.0</td>\n",
       "      <td>NaN</td>\n",
       "    </tr>\n",
       "    <tr>\n",
       "      <th>...</th>\n",
       "      <td>...</td>\n",
       "      <td>...</td>\n",
       "      <td>...</td>\n",
       "    </tr>\n",
       "    <tr>\n",
       "      <th>73</th>\n",
       "      <td>2021-02-18T14:45:02.292Z</td>\n",
       "      <td>NaN</td>\n",
       "      <td>905f5dc1-ce95-11eb-bfa7-7c67a234f601</td>\n",
       "    </tr>\n",
       "    <tr>\n",
       "      <th>74</th>\n",
       "      <td>2021-02-17T13:48:38.371Z</td>\n",
       "      <td>NaN</td>\n",
       "      <td>NaN</td>\n",
       "    </tr>\n",
       "    <tr>\n",
       "      <th>75</th>\n",
       "      <td>2021-02-17T11:08:54.385Z</td>\n",
       "      <td>NaN</td>\n",
       "      <td>9062b754-ce95-11eb-b31e-7c67a234f601</td>\n",
       "    </tr>\n",
       "    <tr>\n",
       "      <th>76</th>\n",
       "      <td>2021-02-16T20:09:31.627Z</td>\n",
       "      <td>NaN</td>\n",
       "      <td>9069789f-ce95-11eb-9788-7c67a234f601</td>\n",
       "    </tr>\n",
       "    <tr>\n",
       "      <th>77</th>\n",
       "      <td>2021-01-05T04:00:41.222Z</td>\n",
       "      <td>NaN</td>\n",
       "      <td>NaN</td>\n",
       "    </tr>\n",
       "  </tbody>\n",
       "</table>\n",
       "<p>78 rows × 3 columns</p>\n",
       "</div>"
      ]
     },
     "metadata": {},
     "execution_count": 126
    }
   ],
   "metadata": {}
  },
  {
   "cell_type": "code",
   "execution_count": 127,
   "source": [
    "newquest=pd.merge(newquest,restran,how='left',on=[\"quest_id\"])"
   ],
   "outputs": [],
   "metadata": {}
  },
  {
   "cell_type": "code",
   "execution_count": 128,
   "source": [
    "newquest[\"Payment date\"].isnull().value_counts()"
   ],
   "outputs": [
    {
     "output_type": "execute_result",
     "data": {
      "text/plain": [
       "True     228\n",
       "False     14\n",
       "Name: Payment date, dtype: int64"
      ]
     },
     "metadata": {},
     "execution_count": 128
    }
   ],
   "metadata": {}
  },
  {
   "cell_type": "markdown",
   "source": [
    "## Create payed(Yes/No) column"
   ],
   "metadata": {}
  },
  {
   "cell_type": "code",
   "execution_count": 129,
   "source": [
    "newquest[\"payed\"]=newquest[\"Payment date\"].apply(lambda x: \"No\" if pd.isnull(x) else \"Yes\" )\r\n"
   ],
   "outputs": [],
   "metadata": {}
  },
  {
   "cell_type": "markdown",
   "source": [
    "## Create dummies list for technology"
   ],
   "metadata": {}
  },
  {
   "cell_type": "code",
   "execution_count": 130,
   "source": [
    "technology.head()"
   ],
   "outputs": [
    {
     "output_type": "execute_result",
     "data": {
      "text/plain": [
       "   Unnamed: 0     key      values                              quest_id\n",
       "0           0   item1           R  905ddcf2-ce95-11eb-9a92-7c67a234f601\n",
       "1           1  item11       Excel  905ddcf2-ce95-11eb-9a92-7c67a234f601\n",
       "2           2   item2      Python  905e2608-ce95-11eb-809f-7c67a234f601\n",
       "3           3   item3        Java  905e2608-ce95-11eb-809f-7c67a234f601\n",
       "4           4   item4  JavaScript  905e2608-ce95-11eb-809f-7c67a234f601"
      ],
      "text/html": [
       "<div>\n",
       "<style scoped>\n",
       "    .dataframe tbody tr th:only-of-type {\n",
       "        vertical-align: middle;\n",
       "    }\n",
       "\n",
       "    .dataframe tbody tr th {\n",
       "        vertical-align: top;\n",
       "    }\n",
       "\n",
       "    .dataframe thead th {\n",
       "        text-align: right;\n",
       "    }\n",
       "</style>\n",
       "<table border=\"1\" class=\"dataframe\">\n",
       "  <thead>\n",
       "    <tr style=\"text-align: right;\">\n",
       "      <th></th>\n",
       "      <th>Unnamed: 0</th>\n",
       "      <th>key</th>\n",
       "      <th>values</th>\n",
       "      <th>quest_id</th>\n",
       "    </tr>\n",
       "  </thead>\n",
       "  <tbody>\n",
       "    <tr>\n",
       "      <th>0</th>\n",
       "      <td>0</td>\n",
       "      <td>item1</td>\n",
       "      <td>R</td>\n",
       "      <td>905ddcf2-ce95-11eb-9a92-7c67a234f601</td>\n",
       "    </tr>\n",
       "    <tr>\n",
       "      <th>1</th>\n",
       "      <td>1</td>\n",
       "      <td>item11</td>\n",
       "      <td>Excel</td>\n",
       "      <td>905ddcf2-ce95-11eb-9a92-7c67a234f601</td>\n",
       "    </tr>\n",
       "    <tr>\n",
       "      <th>2</th>\n",
       "      <td>2</td>\n",
       "      <td>item2</td>\n",
       "      <td>Python</td>\n",
       "      <td>905e2608-ce95-11eb-809f-7c67a234f601</td>\n",
       "    </tr>\n",
       "    <tr>\n",
       "      <th>3</th>\n",
       "      <td>3</td>\n",
       "      <td>item3</td>\n",
       "      <td>Java</td>\n",
       "      <td>905e2608-ce95-11eb-809f-7c67a234f601</td>\n",
       "    </tr>\n",
       "    <tr>\n",
       "      <th>4</th>\n",
       "      <td>4</td>\n",
       "      <td>item4</td>\n",
       "      <td>JavaScript</td>\n",
       "      <td>905e2608-ce95-11eb-809f-7c67a234f601</td>\n",
       "    </tr>\n",
       "  </tbody>\n",
       "</table>\n",
       "</div>"
      ]
     },
     "metadata": {},
     "execution_count": 130
    }
   ],
   "metadata": {}
  },
  {
   "cell_type": "code",
   "execution_count": 131,
   "source": [
    "newtech=technology[[\"values\",\"quest_id\"]]"
   ],
   "outputs": [],
   "metadata": {}
  },
  {
   "cell_type": "code",
   "execution_count": 132,
   "source": [
    "newtech=newtech.groupby(\"quest_id\")['values'].apply(lambda x: ','.join(x.astype(str))).reset_index()"
   ],
   "outputs": [],
   "metadata": {}
  },
  {
   "cell_type": "code",
   "execution_count": 133,
   "source": [
    "newtech.head(15)"
   ],
   "outputs": [
    {
     "output_type": "execute_result",
     "data": {
      "text/plain": [
       "                                quest_id  \\\n",
       "0   905ddcf2-ce95-11eb-9a92-7c67a234f601   \n",
       "1   905e2608-ce95-11eb-809f-7c67a234f601   \n",
       "2   905e4cf5-ce95-11eb-96a9-7c67a234f601   \n",
       "3   905e73fd-ce95-11eb-a7b0-7c67a234f601   \n",
       "4   905e9b27-ce95-11eb-9c37-7c67a234f601   \n",
       "5   905ec1ec-ce95-11eb-8136-7c67a234f601   \n",
       "6   905ec1ed-ce95-11eb-829c-7c67a234f601   \n",
       "7   905ef688-ce95-11eb-9b57-7c67a234f601   \n",
       "8   905f0fbd-ce95-11eb-b153-7c67a234f601   \n",
       "9   905f0fbe-ce95-11eb-8396-7c67a234f601   \n",
       "10  905f36c8-ce95-11eb-bef0-7c67a234f601   \n",
       "11  905f36c9-ce95-11eb-aa33-7c67a234f601   \n",
       "12  905f36ca-ce95-11eb-9411-7c67a234f601   \n",
       "13  905f5dbf-ce95-11eb-a1fb-7c67a234f601   \n",
       "14  905f5dc0-ce95-11eb-8056-7c67a234f601   \n",
       "\n",
       "                                       values  \n",
       "0                                     R,Excel  \n",
       "1   Python,Java,JavaScript,SQL,Excel,Bash,Git  \n",
       "2            Excel,Java,JavaScript,PHP,Python  \n",
       "3                                    PHP,Bash  \n",
       "4            Python,Excel,JavaScript,Java,SQL  \n",
       "5                 R,Python,Java,PHP,SQL,Excel  \n",
       "6                   PHP,Excel,Java,JavaScript  \n",
       "7                                       Excel  \n",
       "8     Excel,Git,Java,PowerBI or Tableau,other  \n",
       "9                     Excel,JavaScript,Python  \n",
       "10                               Bash,SQL,PHP  \n",
       "11                                  Excel,SQL  \n",
       "12                                      Excel  \n",
       "13                   JavaScript,PHP,SQL,Excel  \n",
       "14                                 Excel,Java  "
      ],
      "text/html": [
       "<div>\n",
       "<style scoped>\n",
       "    .dataframe tbody tr th:only-of-type {\n",
       "        vertical-align: middle;\n",
       "    }\n",
       "\n",
       "    .dataframe tbody tr th {\n",
       "        vertical-align: top;\n",
       "    }\n",
       "\n",
       "    .dataframe thead th {\n",
       "        text-align: right;\n",
       "    }\n",
       "</style>\n",
       "<table border=\"1\" class=\"dataframe\">\n",
       "  <thead>\n",
       "    <tr style=\"text-align: right;\">\n",
       "      <th></th>\n",
       "      <th>quest_id</th>\n",
       "      <th>values</th>\n",
       "    </tr>\n",
       "  </thead>\n",
       "  <tbody>\n",
       "    <tr>\n",
       "      <th>0</th>\n",
       "      <td>905ddcf2-ce95-11eb-9a92-7c67a234f601</td>\n",
       "      <td>R,Excel</td>\n",
       "    </tr>\n",
       "    <tr>\n",
       "      <th>1</th>\n",
       "      <td>905e2608-ce95-11eb-809f-7c67a234f601</td>\n",
       "      <td>Python,Java,JavaScript,SQL,Excel,Bash,Git</td>\n",
       "    </tr>\n",
       "    <tr>\n",
       "      <th>2</th>\n",
       "      <td>905e4cf5-ce95-11eb-96a9-7c67a234f601</td>\n",
       "      <td>Excel,Java,JavaScript,PHP,Python</td>\n",
       "    </tr>\n",
       "    <tr>\n",
       "      <th>3</th>\n",
       "      <td>905e73fd-ce95-11eb-a7b0-7c67a234f601</td>\n",
       "      <td>PHP,Bash</td>\n",
       "    </tr>\n",
       "    <tr>\n",
       "      <th>4</th>\n",
       "      <td>905e9b27-ce95-11eb-9c37-7c67a234f601</td>\n",
       "      <td>Python,Excel,JavaScript,Java,SQL</td>\n",
       "    </tr>\n",
       "    <tr>\n",
       "      <th>5</th>\n",
       "      <td>905ec1ec-ce95-11eb-8136-7c67a234f601</td>\n",
       "      <td>R,Python,Java,PHP,SQL,Excel</td>\n",
       "    </tr>\n",
       "    <tr>\n",
       "      <th>6</th>\n",
       "      <td>905ec1ed-ce95-11eb-829c-7c67a234f601</td>\n",
       "      <td>PHP,Excel,Java,JavaScript</td>\n",
       "    </tr>\n",
       "    <tr>\n",
       "      <th>7</th>\n",
       "      <td>905ef688-ce95-11eb-9b57-7c67a234f601</td>\n",
       "      <td>Excel</td>\n",
       "    </tr>\n",
       "    <tr>\n",
       "      <th>8</th>\n",
       "      <td>905f0fbd-ce95-11eb-b153-7c67a234f601</td>\n",
       "      <td>Excel,Git,Java,PowerBI or Tableau,other</td>\n",
       "    </tr>\n",
       "    <tr>\n",
       "      <th>9</th>\n",
       "      <td>905f0fbe-ce95-11eb-8396-7c67a234f601</td>\n",
       "      <td>Excel,JavaScript,Python</td>\n",
       "    </tr>\n",
       "    <tr>\n",
       "      <th>10</th>\n",
       "      <td>905f36c8-ce95-11eb-bef0-7c67a234f601</td>\n",
       "      <td>Bash,SQL,PHP</td>\n",
       "    </tr>\n",
       "    <tr>\n",
       "      <th>11</th>\n",
       "      <td>905f36c9-ce95-11eb-aa33-7c67a234f601</td>\n",
       "      <td>Excel,SQL</td>\n",
       "    </tr>\n",
       "    <tr>\n",
       "      <th>12</th>\n",
       "      <td>905f36ca-ce95-11eb-9411-7c67a234f601</td>\n",
       "      <td>Excel</td>\n",
       "    </tr>\n",
       "    <tr>\n",
       "      <th>13</th>\n",
       "      <td>905f5dbf-ce95-11eb-a1fb-7c67a234f601</td>\n",
       "      <td>JavaScript,PHP,SQL,Excel</td>\n",
       "    </tr>\n",
       "    <tr>\n",
       "      <th>14</th>\n",
       "      <td>905f5dc0-ce95-11eb-8056-7c67a234f601</td>\n",
       "      <td>Excel,Java</td>\n",
       "    </tr>\n",
       "  </tbody>\n",
       "</table>\n",
       "</div>"
      ]
     },
     "metadata": {},
     "execution_count": 133
    }
   ],
   "metadata": {}
  },
  {
   "cell_type": "code",
   "execution_count": 134,
   "source": [
    "newtech.shape"
   ],
   "outputs": [
    {
     "output_type": "execute_result",
     "data": {
      "text/plain": [
       "(244, 2)"
      ]
     },
     "metadata": {},
     "execution_count": 134
    }
   ],
   "metadata": {}
  },
  {
   "cell_type": "code",
   "execution_count": 135,
   "source": [
    "dum=newtech[\"values\"].str.get_dummies(sep=\",\")"
   ],
   "outputs": [],
   "metadata": {}
  },
  {
   "cell_type": "code",
   "execution_count": 136,
   "source": [
    "newtech=newtech.join(dum)\r\n",
    "newtech.drop(\"values\",axis=1,inplace=True)"
   ],
   "outputs": [],
   "metadata": {}
  },
  {
   "cell_type": "code",
   "execution_count": 137,
   "source": [
    "newtech.head()"
   ],
   "outputs": [
    {
     "output_type": "execute_result",
     "data": {
      "text/plain": [
       "                               quest_id  Bash  Excel  Git  Java  JavaScript  \\\n",
       "0  905ddcf2-ce95-11eb-9a92-7c67a234f601     0      1    0     0           0   \n",
       "1  905e2608-ce95-11eb-809f-7c67a234f601     1      1    1     1           1   \n",
       "2  905e4cf5-ce95-11eb-96a9-7c67a234f601     0      1    0     1           1   \n",
       "3  905e73fd-ce95-11eb-a7b0-7c67a234f601     1      0    0     0           0   \n",
       "4  905e9b27-ce95-11eb-9c37-7c67a234f601     0      1    0     1           1   \n",
       "\n",
       "   PHP  PowerBI or Tableau  Python  R  SQL  VBA  other  \n",
       "0    0                   0       0  1    0    0      0  \n",
       "1    0                   0       1  0    1    0      0  \n",
       "2    1                   0       1  0    0    0      0  \n",
       "3    1                   0       0  0    0    0      0  \n",
       "4    0                   0       1  0    1    0      0  "
      ],
      "text/html": [
       "<div>\n",
       "<style scoped>\n",
       "    .dataframe tbody tr th:only-of-type {\n",
       "        vertical-align: middle;\n",
       "    }\n",
       "\n",
       "    .dataframe tbody tr th {\n",
       "        vertical-align: top;\n",
       "    }\n",
       "\n",
       "    .dataframe thead th {\n",
       "        text-align: right;\n",
       "    }\n",
       "</style>\n",
       "<table border=\"1\" class=\"dataframe\">\n",
       "  <thead>\n",
       "    <tr style=\"text-align: right;\">\n",
       "      <th></th>\n",
       "      <th>quest_id</th>\n",
       "      <th>Bash</th>\n",
       "      <th>Excel</th>\n",
       "      <th>Git</th>\n",
       "      <th>Java</th>\n",
       "      <th>JavaScript</th>\n",
       "      <th>PHP</th>\n",
       "      <th>PowerBI or Tableau</th>\n",
       "      <th>Python</th>\n",
       "      <th>R</th>\n",
       "      <th>SQL</th>\n",
       "      <th>VBA</th>\n",
       "      <th>other</th>\n",
       "    </tr>\n",
       "  </thead>\n",
       "  <tbody>\n",
       "    <tr>\n",
       "      <th>0</th>\n",
       "      <td>905ddcf2-ce95-11eb-9a92-7c67a234f601</td>\n",
       "      <td>0</td>\n",
       "      <td>1</td>\n",
       "      <td>0</td>\n",
       "      <td>0</td>\n",
       "      <td>0</td>\n",
       "      <td>0</td>\n",
       "      <td>0</td>\n",
       "      <td>0</td>\n",
       "      <td>1</td>\n",
       "      <td>0</td>\n",
       "      <td>0</td>\n",
       "      <td>0</td>\n",
       "    </tr>\n",
       "    <tr>\n",
       "      <th>1</th>\n",
       "      <td>905e2608-ce95-11eb-809f-7c67a234f601</td>\n",
       "      <td>1</td>\n",
       "      <td>1</td>\n",
       "      <td>1</td>\n",
       "      <td>1</td>\n",
       "      <td>1</td>\n",
       "      <td>0</td>\n",
       "      <td>0</td>\n",
       "      <td>1</td>\n",
       "      <td>0</td>\n",
       "      <td>1</td>\n",
       "      <td>0</td>\n",
       "      <td>0</td>\n",
       "    </tr>\n",
       "    <tr>\n",
       "      <th>2</th>\n",
       "      <td>905e4cf5-ce95-11eb-96a9-7c67a234f601</td>\n",
       "      <td>0</td>\n",
       "      <td>1</td>\n",
       "      <td>0</td>\n",
       "      <td>1</td>\n",
       "      <td>1</td>\n",
       "      <td>1</td>\n",
       "      <td>0</td>\n",
       "      <td>1</td>\n",
       "      <td>0</td>\n",
       "      <td>0</td>\n",
       "      <td>0</td>\n",
       "      <td>0</td>\n",
       "    </tr>\n",
       "    <tr>\n",
       "      <th>3</th>\n",
       "      <td>905e73fd-ce95-11eb-a7b0-7c67a234f601</td>\n",
       "      <td>1</td>\n",
       "      <td>0</td>\n",
       "      <td>0</td>\n",
       "      <td>0</td>\n",
       "      <td>0</td>\n",
       "      <td>1</td>\n",
       "      <td>0</td>\n",
       "      <td>0</td>\n",
       "      <td>0</td>\n",
       "      <td>0</td>\n",
       "      <td>0</td>\n",
       "      <td>0</td>\n",
       "    </tr>\n",
       "    <tr>\n",
       "      <th>4</th>\n",
       "      <td>905e9b27-ce95-11eb-9c37-7c67a234f601</td>\n",
       "      <td>0</td>\n",
       "      <td>1</td>\n",
       "      <td>0</td>\n",
       "      <td>1</td>\n",
       "      <td>1</td>\n",
       "      <td>0</td>\n",
       "      <td>0</td>\n",
       "      <td>1</td>\n",
       "      <td>0</td>\n",
       "      <td>1</td>\n",
       "      <td>0</td>\n",
       "      <td>0</td>\n",
       "    </tr>\n",
       "  </tbody>\n",
       "</table>\n",
       "</div>"
      ]
     },
     "metadata": {},
     "execution_count": 137
    }
   ],
   "metadata": {}
  },
  {
   "cell_type": "code",
   "execution_count": 138,
   "source": [
    "newquest.shape"
   ],
   "outputs": [
    {
     "output_type": "execute_result",
     "data": {
      "text/plain": [
       "(242, 17)"
      ]
     },
     "metadata": {},
     "execution_count": 138
    }
   ],
   "metadata": {}
  },
  {
   "cell_type": "code",
   "execution_count": 139,
   "source": [
    "newquest=pd.merge(newquest,newtech,how='left',on=\"quest_id\",validate=\"1:m\")"
   ],
   "outputs": [],
   "metadata": {}
  },
  {
   "cell_type": "markdown",
   "source": [
    "## Create study domain dummy list"
   ],
   "metadata": {}
  },
  {
   "cell_type": "code",
   "execution_count": 140,
   "source": [
    "newstu=study_domain[[\"values\",\"quest_id\"]]"
   ],
   "outputs": [],
   "metadata": {}
  },
  {
   "cell_type": "code",
   "execution_count": 141,
   "source": [
    "newstu=newstu.groupby(\"quest_id\")['values'].apply(lambda x: ','.join(x.astype(str))).reset_index()"
   ],
   "outputs": [],
   "metadata": {}
  },
  {
   "cell_type": "code",
   "execution_count": 142,
   "source": [
    "dum2=newstu[\"values\"].str.get_dummies(sep=\",\")"
   ],
   "outputs": [],
   "metadata": {}
  },
  {
   "cell_type": "code",
   "execution_count": 143,
   "source": [
    "newstu=newstu.join(dum2)\r\n",
    "newstu.drop(\"values\",axis=1,inplace=True)"
   ],
   "outputs": [],
   "metadata": {}
  },
  {
   "cell_type": "code",
   "execution_count": 144,
   "source": [
    "newquest=pd.merge(newquest,newstu,how='left',on=\"quest_id\",validate=\"1:1\")"
   ],
   "outputs": [],
   "metadata": {}
  },
  {
   "cell_type": "markdown",
   "source": [
    "## End of transformation"
   ],
   "metadata": {}
  },
  {
   "cell_type": "code",
   "execution_count": 145,
   "source": [
    "newquest.columns"
   ],
   "outputs": [
    {
     "output_type": "execute_result",
     "data": {
      "text/plain": [
       "Index(['enroll_date', 'quest_id', 'user_id_x', 'gender', 'application_date',\n",
       "       'education_level', 'formal_sector_job', 'have_computer_home',\n",
       "       'internet_at_home', 'communication_channel', 'bootcamp_interest', 'age',\n",
       "       'commune_name', 'is_enroll', 'Payment date', 'user_id_y', 'payed',\n",
       "       'Bash', 'Excel', 'Git', 'Java', 'JavaScript', 'PHP',\n",
       "       'PowerBI or Tableau', 'Python', 'R', 'SQL', 'VBA', 'other_x',\n",
       "       'Accounting', 'Computer Science', 'Economics', 'Electrical Engineering',\n",
       "       'Law', 'Management', 'Medicine', 'Statistics', 'other_y'],\n",
       "      dtype='object')"
      ]
     },
     "metadata": {},
     "execution_count": 145
    }
   ],
   "metadata": {}
  },
  {
   "cell_type": "code",
   "execution_count": 146,
   "source": [
    "newquest.shape"
   ],
   "outputs": [
    {
     "output_type": "execute_result",
     "data": {
      "text/plain": [
       "(242, 38)"
      ]
     },
     "metadata": {},
     "execution_count": 146
    }
   ],
   "metadata": {}
  },
  {
   "cell_type": "code",
   "execution_count": 147,
   "source": [
    "newquest.rename(columns={\"formal_sector_job\":\"Job is formal\",\"have_computer_home\":\"Have computer at home\",\"internet_at_home\":\"Have internet at home\",\"other_y\":\"ST_other\",\"other_x\":\"T_other\"},inplace=\"True\")"
   ],
   "outputs": [],
   "metadata": {}
  },
  {
   "cell_type": "code",
   "execution_count": 148,
   "source": [
    "finalset=newquest[[\"quest_id\",\"gender\",\"age\",\"commune_name\",\"application_date\",\"enroll_date\",\"is_enroll\",\"education_level\",\"communication_channel\",\"bootcamp_interest\",\"Payment date\",\"payed\",\"Bash\",\r\n",
    "       \"Excel\", \"Git\", \"Java\", \"JavaScript\", \"PHP\", \"PowerBI or Tableau\",\r\n",
    "       \"Python\", \"R\", \"T_other\",\"Accounting\",\r\n",
    "       \"Computer Science\", \"Economics\", \"Electrical Engineering\", \"Law\",\r\n",
    "       \"Management\", \"Medicine\", \"Statistics\", \"ST_other\",\"Job is formal\",\"Have computer at home\",\"Have internet at home\"]]"
   ],
   "outputs": [],
   "metadata": {}
  },
  {
   "cell_type": "code",
   "execution_count": 149,
   "source": [
    "finalset.head()"
   ],
   "outputs": [
    {
     "output_type": "execute_result",
     "data": {
      "text/plain": [
       "                               quest_id  gender   age    commune_name  \\\n",
       "0  905ddcf2-ce95-11eb-9a92-7c67a234f601  female  24.0  Port-au-Prince   \n",
       "1  905e2608-ce95-11eb-809f-7c67a234f601    male  25.0  Port-au-Prince   \n",
       "2  905e4cf5-ce95-11eb-96a9-7c67a234f601    male  24.0  Port-au-Prince   \n",
       "3  905e73fd-ce95-11eb-a7b0-7c67a234f601    male  24.0  Port-au-Prince   \n",
       "4  905e9b27-ce95-11eb-9c37-7c67a234f601    male  24.0  Port-au-Prince   \n",
       "\n",
       "              application_date               enroll_date is_enroll  \\\n",
       "0  2021-02-16T16:01:10.861844Z                       NaN        No   \n",
       "1  2021-02-16T16:56:30.579504Z  2021-02-20T21:20:37.450Z       Yes   \n",
       "2  2021-02-16T16:57:55.754541Z                       NaN        No   \n",
       "3  2021-02-16T17:05:40.907948Z                       NaN        No   \n",
       "4  2021-02-16T18:35:14.430837Z                       NaN        No   \n",
       "\n",
       "          education_level communication_channel  \\\n",
       "0     Bachelors (bacc +4)                Friend   \n",
       "1     Bachelors (bacc +4)                Friend   \n",
       "2     Bachelors (bacc +4)                  ESIH   \n",
       "3  High School (16 years)              WhatsApp   \n",
       "4                   Other                  ESIH   \n",
       "\n",
       "                   bootcamp_interest  ... Economics Electrical Engineering  \\\n",
       "0           Finding a job/internship  ...       0.0                    0.0   \n",
       "1  Improving my data analysis skills  ...       NaN                    NaN   \n",
       "2  Improving my data analysis skills  ...       0.0                    0.0   \n",
       "3                         Mentorship  ...       0.0                    0.0   \n",
       "4  Improving my data analysis skills  ...       0.0                    0.0   \n",
       "\n",
       "   Law  Management  Medicine  Statistics  ST_other  Job is formal  \\\n",
       "0  0.0         0.0       0.0         0.0       1.0        unknown   \n",
       "1  NaN         NaN       NaN         NaN       NaN        unknown   \n",
       "2  0.0         1.0       0.0         0.0       0.0        unknown   \n",
       "3  0.0         0.0       0.0         0.0       1.0        unknown   \n",
       "4  0.0         0.0       0.0         0.0       1.0        unknown   \n",
       "\n",
       "   Have computer at home  Have internet at home  \n",
       "0                    Yes                    Yes  \n",
       "1                    Yes                    Yes  \n",
       "2                    Yes                    Yes  \n",
       "3                    Yes                    Yes  \n",
       "4                    Yes                    Yes  \n",
       "\n",
       "[5 rows x 34 columns]"
      ],
      "text/html": [
       "<div>\n",
       "<style scoped>\n",
       "    .dataframe tbody tr th:only-of-type {\n",
       "        vertical-align: middle;\n",
       "    }\n",
       "\n",
       "    .dataframe tbody tr th {\n",
       "        vertical-align: top;\n",
       "    }\n",
       "\n",
       "    .dataframe thead th {\n",
       "        text-align: right;\n",
       "    }\n",
       "</style>\n",
       "<table border=\"1\" class=\"dataframe\">\n",
       "  <thead>\n",
       "    <tr style=\"text-align: right;\">\n",
       "      <th></th>\n",
       "      <th>quest_id</th>\n",
       "      <th>gender</th>\n",
       "      <th>age</th>\n",
       "      <th>commune_name</th>\n",
       "      <th>application_date</th>\n",
       "      <th>enroll_date</th>\n",
       "      <th>is_enroll</th>\n",
       "      <th>education_level</th>\n",
       "      <th>communication_channel</th>\n",
       "      <th>bootcamp_interest</th>\n",
       "      <th>...</th>\n",
       "      <th>Economics</th>\n",
       "      <th>Electrical Engineering</th>\n",
       "      <th>Law</th>\n",
       "      <th>Management</th>\n",
       "      <th>Medicine</th>\n",
       "      <th>Statistics</th>\n",
       "      <th>ST_other</th>\n",
       "      <th>Job is formal</th>\n",
       "      <th>Have computer at home</th>\n",
       "      <th>Have internet at home</th>\n",
       "    </tr>\n",
       "  </thead>\n",
       "  <tbody>\n",
       "    <tr>\n",
       "      <th>0</th>\n",
       "      <td>905ddcf2-ce95-11eb-9a92-7c67a234f601</td>\n",
       "      <td>female</td>\n",
       "      <td>24.0</td>\n",
       "      <td>Port-au-Prince</td>\n",
       "      <td>2021-02-16T16:01:10.861844Z</td>\n",
       "      <td>NaN</td>\n",
       "      <td>No</td>\n",
       "      <td>Bachelors (bacc +4)</td>\n",
       "      <td>Friend</td>\n",
       "      <td>Finding a job/internship</td>\n",
       "      <td>...</td>\n",
       "      <td>0.0</td>\n",
       "      <td>0.0</td>\n",
       "      <td>0.0</td>\n",
       "      <td>0.0</td>\n",
       "      <td>0.0</td>\n",
       "      <td>0.0</td>\n",
       "      <td>1.0</td>\n",
       "      <td>unknown</td>\n",
       "      <td>Yes</td>\n",
       "      <td>Yes</td>\n",
       "    </tr>\n",
       "    <tr>\n",
       "      <th>1</th>\n",
       "      <td>905e2608-ce95-11eb-809f-7c67a234f601</td>\n",
       "      <td>male</td>\n",
       "      <td>25.0</td>\n",
       "      <td>Port-au-Prince</td>\n",
       "      <td>2021-02-16T16:56:30.579504Z</td>\n",
       "      <td>2021-02-20T21:20:37.450Z</td>\n",
       "      <td>Yes</td>\n",
       "      <td>Bachelors (bacc +4)</td>\n",
       "      <td>Friend</td>\n",
       "      <td>Improving my data analysis skills</td>\n",
       "      <td>...</td>\n",
       "      <td>NaN</td>\n",
       "      <td>NaN</td>\n",
       "      <td>NaN</td>\n",
       "      <td>NaN</td>\n",
       "      <td>NaN</td>\n",
       "      <td>NaN</td>\n",
       "      <td>NaN</td>\n",
       "      <td>unknown</td>\n",
       "      <td>Yes</td>\n",
       "      <td>Yes</td>\n",
       "    </tr>\n",
       "    <tr>\n",
       "      <th>2</th>\n",
       "      <td>905e4cf5-ce95-11eb-96a9-7c67a234f601</td>\n",
       "      <td>male</td>\n",
       "      <td>24.0</td>\n",
       "      <td>Port-au-Prince</td>\n",
       "      <td>2021-02-16T16:57:55.754541Z</td>\n",
       "      <td>NaN</td>\n",
       "      <td>No</td>\n",
       "      <td>Bachelors (bacc +4)</td>\n",
       "      <td>ESIH</td>\n",
       "      <td>Improving my data analysis skills</td>\n",
       "      <td>...</td>\n",
       "      <td>0.0</td>\n",
       "      <td>0.0</td>\n",
       "      <td>0.0</td>\n",
       "      <td>1.0</td>\n",
       "      <td>0.0</td>\n",
       "      <td>0.0</td>\n",
       "      <td>0.0</td>\n",
       "      <td>unknown</td>\n",
       "      <td>Yes</td>\n",
       "      <td>Yes</td>\n",
       "    </tr>\n",
       "    <tr>\n",
       "      <th>3</th>\n",
       "      <td>905e73fd-ce95-11eb-a7b0-7c67a234f601</td>\n",
       "      <td>male</td>\n",
       "      <td>24.0</td>\n",
       "      <td>Port-au-Prince</td>\n",
       "      <td>2021-02-16T17:05:40.907948Z</td>\n",
       "      <td>NaN</td>\n",
       "      <td>No</td>\n",
       "      <td>High School (16 years)</td>\n",
       "      <td>WhatsApp</td>\n",
       "      <td>Mentorship</td>\n",
       "      <td>...</td>\n",
       "      <td>0.0</td>\n",
       "      <td>0.0</td>\n",
       "      <td>0.0</td>\n",
       "      <td>0.0</td>\n",
       "      <td>0.0</td>\n",
       "      <td>0.0</td>\n",
       "      <td>1.0</td>\n",
       "      <td>unknown</td>\n",
       "      <td>Yes</td>\n",
       "      <td>Yes</td>\n",
       "    </tr>\n",
       "    <tr>\n",
       "      <th>4</th>\n",
       "      <td>905e9b27-ce95-11eb-9c37-7c67a234f601</td>\n",
       "      <td>male</td>\n",
       "      <td>24.0</td>\n",
       "      <td>Port-au-Prince</td>\n",
       "      <td>2021-02-16T18:35:14.430837Z</td>\n",
       "      <td>NaN</td>\n",
       "      <td>No</td>\n",
       "      <td>Other</td>\n",
       "      <td>ESIH</td>\n",
       "      <td>Improving my data analysis skills</td>\n",
       "      <td>...</td>\n",
       "      <td>0.0</td>\n",
       "      <td>0.0</td>\n",
       "      <td>0.0</td>\n",
       "      <td>0.0</td>\n",
       "      <td>0.0</td>\n",
       "      <td>0.0</td>\n",
       "      <td>1.0</td>\n",
       "      <td>unknown</td>\n",
       "      <td>Yes</td>\n",
       "      <td>Yes</td>\n",
       "    </tr>\n",
       "  </tbody>\n",
       "</table>\n",
       "<p>5 rows × 34 columns</p>\n",
       "</div>"
      ]
     },
     "metadata": {},
     "execution_count": 149
    }
   ],
   "metadata": {}
  },
  {
   "cell_type": "markdown",
   "source": [
    "# Ayiti Analytics Probability and Statistics Project"
   ],
   "metadata": {}
  },
  {
   "cell_type": "markdown",
   "source": [
    "Use all the files to have a final datasets to have the following columns\r\n",
    "   <ul>\r\n",
    "    <li>questid</li>\r\n",
    "    <li>gender</li>\r\n",
    "    <li>age (age of applicant)</li>\r\n",
    "    <li>communeName (use data prep in commune file)</li>\r\n",
    "    <li>application_date (created at in quest file)</li>\r\n",
    "    <li>enroll_date (created_at in enroll file)</li>\r\n",
    "    <li>is_enroll (Yes/No) (use data prep in enroll file)</li>\r\n",
    "    <li>Education Level</li>\r\n",
    "   <li>Communication channels(hear_AA1)</li>\r\n",
    "    <li>Bootcamp Insterest (after_AA)</li>\r\n",
    "    <li>Payement Date (use ord and transaction files)</li>\r\n",
    "    <li>Payed (Yes/No)</li>\r\n",
    "    <li>list Technologies as columns based (use get_dummies)</li>\r\n",
    "    <li>list  Study domains (use get_dummies)</li>\r\n",
    "    <li>Job is formal</li>\r\n",
    "    <li>Have computer at home</li>\r\n",
    "    <li>Have internet at home</li>\r\n",
    "    \r\n",
    "   </ul>\r\n",
    "   "
   ],
   "metadata": {}
  },
  {
   "cell_type": "code",
   "execution_count": 150,
   "source": [
    "finalset.age.unique()"
   ],
   "outputs": [
    {
     "output_type": "execute_result",
     "data": {
      "text/plain": [
       "array([24., 25., 33., 30., 26., 29., 22., 27.,  0., 34., 44., 32., 21.,\n",
       "       23., 31., 19., 20., 35., 37., 40., 28., 46., -1., 50., 39., 49.,\n",
       "       38., 45.,  1., 41., 36.])"
      ]
     },
     "metadata": {},
     "execution_count": 150
    }
   ],
   "metadata": {}
  },
  {
   "cell_type": "markdown",
   "source": [
    "###  1. How many observations and variables are there in the dataset\r\n",
    " "
   ],
   "metadata": {}
  },
  {
   "cell_type": "code",
   "execution_count": 151,
   "source": [
    "finalset.shape"
   ],
   "outputs": [
    {
     "output_type": "execute_result",
     "data": {
      "text/plain": [
       "(242, 34)"
      ]
     },
     "metadata": {},
     "execution_count": 151
    }
   ],
   "metadata": {}
  },
  {
   "cell_type": "markdown",
   "source": [
    "### Answer-1 : Their is 242 observations and 34 variables in the data set"
   ],
   "metadata": {}
  },
  {
   "cell_type": "markdown",
   "source": [
    "### 2.A Calculate the average age of the observations\r\n",
    "   * On the whole dataset\r\n",
    "   * On the whole male dataset\r\n",
    "   * On all the female dataset\r\n",
    "### 2.B Calculate \r\n",
    "   * variance of the whole datatset,male and female\r\n",
    "   * kurtosis of the whole datatset,male and female\r\n",
    "   * skewness of the whole datatset,male and female\r\n",
    "### 2.C Does the age distribution follow a normal distribution \r\n",
    "   "
   ],
   "metadata": {}
  },
  {
   "cell_type": "code",
   "execution_count": 152,
   "source": [
    "aveall=finalset.age.mean()\r\n",
    "avesex=finalset[[\"age\",\"gender\"]].groupby(\"gender\").mean()\r\n",
    "print(aveall,avesex)"
   ],
   "outputs": [
    {
     "output_type": "stream",
     "name": "stdout",
     "text": [
      "26.760330578512395               age\n",
      "gender           \n",
      "female  24.909091\n",
      "male    27.171717\n"
     ]
    }
   ],
   "metadata": {}
  },
  {
   "cell_type": "markdown",
   "source": [
    "### Answer-2A : The average age  is 27.17 years for males, 24.9 years for females and 26.76 for the overall dataset"
   ],
   "metadata": {}
  },
  {
   "cell_type": "code",
   "execution_count": 153,
   "source": [
    "varall=finalset.age.var()\r\n",
    "varsex=finalset[[\"age\",\"gender\"]].groupby(\"gender\").var()\r\n",
    "print(varall,varsex)"
   ],
   "outputs": [
    {
     "output_type": "stream",
     "name": "stdout",
     "text": [
      "51.45269366619796               age\n",
      "gender           \n",
      "female  53.665962\n",
      "male    50.295237\n"
     ]
    }
   ],
   "metadata": {}
  },
  {
   "cell_type": "markdown",
   "source": [
    "### Answer-2B : The age variance is 50.29 years for males, 53.66 years for females and 51.45 for the overall dataset"
   ],
   "metadata": {}
  },
  {
   "cell_type": "code",
   "execution_count": 154,
   "source": [
    "kurall=finalset.age.kurtosis()\r\n",
    "kurmale=finalset[[\"age\",\"gender\"]][finalset[\"gender\"]==\"male\"]\r\n",
    "kurfemale=finalset[[\"age\",\"gender\"]][finalset[\"gender\"]==\"female\"]\r\n",
    "print(\"alldata kurtosis : \",kurall)\r\n",
    "print(\"Male kurtosis : \",kurmale.kurtosis())\r\n",
    "print(\"female kurtosis : \",kurfemale.kurtosis())"
   ],
   "outputs": [
    {
     "output_type": "stream",
     "name": "stdout",
     "text": [
      "alldata kurtosis :  5.19688723572512\n",
      "Male kurtosis :  age    5.261487\n",
      "dtype: float64\n",
      "female kurtosis :  age    5.961896\n",
      "dtype: float64\n"
     ]
    }
   ],
   "metadata": {}
  },
  {
   "cell_type": "markdown",
   "source": [
    "### Answer-2B : The age kurtosis is 5.26 for males distribution, 5.96  for females distribution and 5.19 for the overall dataset distribution"
   ],
   "metadata": {}
  },
  {
   "cell_type": "code",
   "execution_count": 155,
   "source": [
    "skeall=finalset.age.skew()\r\n",
    "skemale=finalset[[\"age\",\"gender\"]][finalset[\"gender\"]==\"male\"]\r\n",
    "skefemale=finalset[[\"age\",\"gender\"]][finalset[\"gender\"]==\"female\"]\r\n",
    "print(\"alldata skewness : \",skeall)\r\n",
    "print(\"Male skewness : \",skemale.skew())\r\n",
    "print(\"female skewness : \",skefemale.skew())"
   ],
   "outputs": [
    {
     "output_type": "stream",
     "name": "stdout",
     "text": [
      "alldata skewness :  -0.7501166186507338\n",
      "Male skewness :  age   -0.670249\n",
      "dtype: float64\n",
      "female skewness :  age   -1.158519\n",
      "dtype: float64\n"
     ]
    }
   ],
   "metadata": {}
  },
  {
   "cell_type": "markdown",
   "source": [
    "### Answer-2B : The age skewness is -0.67 for males distribution, -1.15  for females distribution and -0.75 for the overall dataset distribution"
   ],
   "metadata": {}
  },
  {
   "cell_type": "code",
   "execution_count": 156,
   "source": [
    "agedis=finalset.age\r\n",
    "stat.shapiro(agedis)"
   ],
   "outputs": [
    {
     "output_type": "execute_result",
     "data": {
      "text/plain": [
       "ShapiroResult(statistic=0.8533609509468079, pvalue=2.1055028312749573e-14)"
      ]
     },
     "metadata": {},
     "execution_count": 156
    }
   ],
   "metadata": {}
  },
  {
   "cell_type": "markdown",
   "source": [
    "### Answer-2C Considering the p-value =2.1055028312749573e-14, we reject the null hypothesis.We have sufficient evidence to say that the sample data does not come from a normal distribution."
   ],
   "metadata": {}
  },
  {
   "cell_type": "markdown",
   "source": [
    "### 3.Display the age frequency disbrution\n",
    "   * On the whole dataset\n",
    "   * On the whole male dataset\n",
    "   * On all the female dataset"
   ],
   "metadata": {}
  },
  {
   "cell_type": "code",
   "execution_count": 157,
   "source": [
    "sns.histplot(data=finalset,x=finalset.age,bins=40,hue=\"gender\",kde=True)\r\n",
    "plt.title(\"Distribution of age frequency by gender\")\r\n",
    "plt.xlabel(\"Age\")\r\n",
    "plt.ylabel(\"Number of applicants\")\r\n",
    "plt.figure(figsize=(10,10))\r\n",
    "plt.show()"
   ],
   "outputs": [
    {
     "output_type": "display_data",
     "data": {
      "text/plain": [
       "<Figure size 432x288 with 1 Axes>"
      ],
      "image/png": "",
      "image/svg+xml": "<?xml version=\"1.0\" encoding=\"utf-8\" standalone=\"no\"?>\r\n<!DOCTYPE svg PUBLIC \"-//W3C//DTD SVG 1.1//EN\"\r\n  \"http://www.w3.org/Graphics/SVG/1.1/DTD/svg11.dtd\">\r\n<!-- Created with matplotlib (https://matplotlib.org/) -->\r\n<svg height=\"275.983438pt\" version=\"1.1\" viewBox=\"0 0 380.589062 275.983438\" width=\"380.589062pt\" xmlns=\"http://www.w3.org/2000/svg\" xmlns:xlink=\"http://www.w3.org/1999/xlink\">\r\n <metadata>\r\n  <rdf:RDF xmlns:cc=\"http://creativecommons.org/ns#\" xmlns:dc=\"http://purl.org/dc/elements/1.1/\" xmlns:rdf=\"http://www.w3.org/1999/02/22-rdf-syntax-ns#\">\r\n   <cc:Work>\r\n    <dc:type rdf:resource=\"http://purl.org/dc/dcmitype/StillImage\"/>\r\n    <dc:date>2021-07-23T20:03:14.667188</dc:date>\r\n    <dc:format>image/svg+xml</dc:format>\r\n    <dc:creator>\r\n     <cc:Agent>\r\n      <dc:title>Matplotlib v3.3.2, https://matplotlib.org/</dc:title>\r\n     </cc:Agent>\r\n    </dc:creator>\r\n   </cc:Work>\r\n  </rdf:RDF>\r\n </metadata>\r\n <defs>\r\n  <style type=\"text/css\">*{stroke-linecap:butt;stroke-linejoin:round;}</style>\r\n </defs>\r\n <g id=\"figure_1\">\r\n  <g id=\"patch_1\">\r\n   <path d=\"M 0 275.983438 \r\nL 380.589062 275.983438 \r\nL 380.589062 0 \r\nL 0 0 \r\nz\r\n\" style=\"fill:#ffffff;\"/>\r\n  </g>\r\n  <g id=\"axes_1\">\r\n   <g id=\"patch_2\">\r\n    <path d=\"M 38.589063 239.375625 \r\nL 373.389063 239.375625 \r\nL 373.389063 21.935625 \r\nL 38.589063 21.935625 \r\nz\r\n\" style=\"fill:#eaeaf2;\"/>\r\n   </g>\r\n   <g id=\"matplotlib.axis_1\">\r\n    <g id=\"xtick_1\">\r\n     <g id=\"line2d_1\">\r\n      <path clip-path=\"url(#pbbb67e9c79)\" d=\"M 59.775159 239.375625 \r\nL 59.775159 21.935625 \r\n\" style=\"fill:none;stroke:#ffffff;stroke-linecap:round;stroke-width:0.8;\"/>\r\n     </g>\r\n     <g id=\"text_1\">\r\n      <!-- 0 -->\r\n      <g style=\"fill:#262626;\" transform=\"translate(56.99469 253.533438)scale(0.1 -0.1)\">\r\n       <defs>\r\n        <path d=\"M 4.15625 35.296875 \r\nQ 4.15625 48 6.765625 55.734375 \r\nQ 9.375 63.484375 14.515625 67.671875 \r\nQ 19.671875 71.875 27.484375 71.875 \r\nQ 33.25 71.875 37.59375 69.546875 \r\nQ 41.9375 67.234375 44.765625 62.859375 \r\nQ 47.609375 58.5 49.21875 52.21875 \r\nQ 50.828125 45.953125 50.828125 35.296875 \r\nQ 50.828125 22.703125 48.234375 14.96875 \r\nQ 45.65625 7.234375 40.5 3 \r\nQ 35.359375 -1.21875 27.484375 -1.21875 \r\nQ 17.140625 -1.21875 11.234375 6.203125 \r\nQ 4.15625 15.140625 4.15625 35.296875 \r\nz\r\nM 13.1875 35.296875 \r\nQ 13.1875 17.671875 17.3125 11.828125 \r\nQ 21.4375 6 27.484375 6 \r\nQ 33.546875 6 37.671875 11.859375 \r\nQ 41.796875 17.71875 41.796875 35.296875 \r\nQ 41.796875 52.984375 37.671875 58.78125 \r\nQ 33.546875 64.59375 27.390625 64.59375 \r\nQ 21.34375 64.59375 17.71875 59.46875 \r\nQ 13.1875 52.9375 13.1875 35.296875 \r\nz\r\n\" id=\"ArialMT-48\"/>\r\n       </defs>\r\n       <use xlink:href=\"#ArialMT-48\"/>\r\n      </g>\r\n     </g>\r\n    </g>\r\n    <g id=\"xtick_2\">\r\n     <g id=\"line2d_2\">\r\n      <path clip-path=\"url(#pbbb67e9c79)\" d=\"M 119.454303 239.375625 \r\nL 119.454303 21.935625 \r\n\" style=\"fill:none;stroke:#ffffff;stroke-linecap:round;stroke-width:0.8;\"/>\r\n     </g>\r\n     <g id=\"text_2\">\r\n      <!-- 10 -->\r\n      <g style=\"fill:#262626;\" transform=\"translate(113.893366 253.533438)scale(0.1 -0.1)\">\r\n       <defs>\r\n        <path d=\"M 37.25 0 \r\nL 28.46875 0 \r\nL 28.46875 56 \r\nQ 25.296875 52.984375 20.140625 49.953125 \r\nQ 14.984375 46.921875 10.890625 45.40625 \r\nL 10.890625 53.90625 \r\nQ 18.265625 57.375 23.78125 62.296875 \r\nQ 29.296875 67.234375 31.59375 71.875 \r\nL 37.25 71.875 \r\nz\r\n\" id=\"ArialMT-49\"/>\r\n       </defs>\r\n       <use xlink:href=\"#ArialMT-49\"/>\r\n       <use x=\"55.615234\" xlink:href=\"#ArialMT-48\"/>\r\n      </g>\r\n     </g>\r\n    </g>\r\n    <g id=\"xtick_3\">\r\n     <g id=\"line2d_3\">\r\n      <path clip-path=\"url(#pbbb67e9c79)\" d=\"M 179.133448 239.375625 \r\nL 179.133448 21.935625 \r\n\" style=\"fill:none;stroke:#ffffff;stroke-linecap:round;stroke-width:0.8;\"/>\r\n     </g>\r\n     <g id=\"text_3\">\r\n      <!-- 20 -->\r\n      <g style=\"fill:#262626;\" transform=\"translate(173.57251 253.533438)scale(0.1 -0.1)\">\r\n       <defs>\r\n        <path d=\"M 50.34375 8.453125 \r\nL 50.34375 0 \r\nL 3.03125 0 \r\nQ 2.9375 3.171875 4.046875 6.109375 \r\nQ 5.859375 10.9375 9.828125 15.625 \r\nQ 13.8125 20.3125 21.34375 26.46875 \r\nQ 33.015625 36.03125 37.109375 41.625 \r\nQ 41.21875 47.21875 41.21875 52.203125 \r\nQ 41.21875 57.421875 37.46875 61 \r\nQ 33.734375 64.59375 27.734375 64.59375 \r\nQ 21.390625 64.59375 17.578125 60.78125 \r\nQ 13.765625 56.984375 13.71875 50.25 \r\nL 4.6875 51.171875 \r\nQ 5.609375 61.28125 11.65625 66.578125 \r\nQ 17.71875 71.875 27.9375 71.875 \r\nQ 38.234375 71.875 44.234375 66.15625 \r\nQ 50.25 60.453125 50.25 52 \r\nQ 50.25 47.703125 48.484375 43.546875 \r\nQ 46.734375 39.40625 42.65625 34.8125 \r\nQ 38.578125 30.21875 29.109375 22.21875 \r\nQ 21.1875 15.578125 18.9375 13.203125 \r\nQ 16.703125 10.84375 15.234375 8.453125 \r\nz\r\n\" id=\"ArialMT-50\"/>\r\n       </defs>\r\n       <use xlink:href=\"#ArialMT-50\"/>\r\n       <use x=\"55.615234\" xlink:href=\"#ArialMT-48\"/>\r\n      </g>\r\n     </g>\r\n    </g>\r\n    <g id=\"xtick_4\">\r\n     <g id=\"line2d_4\">\r\n      <path clip-path=\"url(#pbbb67e9c79)\" d=\"M 238.812592 239.375625 \r\nL 238.812592 21.935625 \r\n\" style=\"fill:none;stroke:#ffffff;stroke-linecap:round;stroke-width:0.8;\"/>\r\n     </g>\r\n     <g id=\"text_4\">\r\n      <!-- 30 -->\r\n      <g style=\"fill:#262626;\" transform=\"translate(233.251654 253.533438)scale(0.1 -0.1)\">\r\n       <defs>\r\n        <path d=\"M 4.203125 18.890625 \r\nL 12.984375 20.0625 \r\nQ 14.5 12.59375 18.140625 9.296875 \r\nQ 21.78125 6 27 6 \r\nQ 33.203125 6 37.46875 10.296875 \r\nQ 41.75 14.59375 41.75 20.953125 \r\nQ 41.75 27 37.796875 30.921875 \r\nQ 33.84375 34.859375 27.734375 34.859375 \r\nQ 25.25 34.859375 21.53125 33.890625 \r\nL 22.515625 41.609375 \r\nQ 23.390625 41.5 23.921875 41.5 \r\nQ 29.546875 41.5 34.03125 44.421875 \r\nQ 38.53125 47.359375 38.53125 53.46875 \r\nQ 38.53125 58.296875 35.25 61.46875 \r\nQ 31.984375 64.65625 26.8125 64.65625 \r\nQ 21.6875 64.65625 18.265625 61.421875 \r\nQ 14.84375 58.203125 13.875 51.765625 \r\nL 5.078125 53.328125 \r\nQ 6.6875 62.15625 12.390625 67.015625 \r\nQ 18.109375 71.875 26.609375 71.875 \r\nQ 32.46875 71.875 37.390625 69.359375 \r\nQ 42.328125 66.84375 44.9375 62.5 \r\nQ 47.5625 58.15625 47.5625 53.265625 \r\nQ 47.5625 48.640625 45.0625 44.828125 \r\nQ 42.578125 41.015625 37.703125 38.765625 \r\nQ 44.046875 37.3125 47.5625 32.6875 \r\nQ 51.078125 28.078125 51.078125 21.140625 \r\nQ 51.078125 11.765625 44.234375 5.25 \r\nQ 37.40625 -1.265625 26.953125 -1.265625 \r\nQ 17.53125 -1.265625 11.296875 4.34375 \r\nQ 5.078125 9.96875 4.203125 18.890625 \r\nz\r\n\" id=\"ArialMT-51\"/>\r\n       </defs>\r\n       <use xlink:href=\"#ArialMT-51\"/>\r\n       <use x=\"55.615234\" xlink:href=\"#ArialMT-48\"/>\r\n      </g>\r\n     </g>\r\n    </g>\r\n    <g id=\"xtick_5\">\r\n     <g id=\"line2d_5\">\r\n      <path clip-path=\"url(#pbbb67e9c79)\" d=\"M 298.491736 239.375625 \r\nL 298.491736 21.935625 \r\n\" style=\"fill:none;stroke:#ffffff;stroke-linecap:round;stroke-width:0.8;\"/>\r\n     </g>\r\n     <g id=\"text_5\">\r\n      <!-- 40 -->\r\n      <g style=\"fill:#262626;\" transform=\"translate(292.930799 253.533438)scale(0.1 -0.1)\">\r\n       <defs>\r\n        <path d=\"M 32.328125 0 \r\nL 32.328125 17.140625 \r\nL 1.265625 17.140625 \r\nL 1.265625 25.203125 \r\nL 33.9375 71.578125 \r\nL 41.109375 71.578125 \r\nL 41.109375 25.203125 \r\nL 50.78125 25.203125 \r\nL 50.78125 17.140625 \r\nL 41.109375 17.140625 \r\nL 41.109375 0 \r\nz\r\nM 32.328125 25.203125 \r\nL 32.328125 57.46875 \r\nL 9.90625 25.203125 \r\nz\r\n\" id=\"ArialMT-52\"/>\r\n       </defs>\r\n       <use xlink:href=\"#ArialMT-52\"/>\r\n       <use x=\"55.615234\" xlink:href=\"#ArialMT-48\"/>\r\n      </g>\r\n     </g>\r\n    </g>\r\n    <g id=\"xtick_6\">\r\n     <g id=\"line2d_6\">\r\n      <path clip-path=\"url(#pbbb67e9c79)\" d=\"M 358.170881 239.375625 \r\nL 358.170881 21.935625 \r\n\" style=\"fill:none;stroke:#ffffff;stroke-linecap:round;stroke-width:0.8;\"/>\r\n     </g>\r\n     <g id=\"text_6\">\r\n      <!-- 50 -->\r\n      <g style=\"fill:#262626;\" transform=\"translate(352.609943 253.533438)scale(0.1 -0.1)\">\r\n       <defs>\r\n        <path d=\"M 4.15625 18.75 \r\nL 13.375 19.53125 \r\nQ 14.40625 12.796875 18.140625 9.390625 \r\nQ 21.875 6 27.15625 6 \r\nQ 33.5 6 37.890625 10.78125 \r\nQ 42.28125 15.578125 42.28125 23.484375 \r\nQ 42.28125 31 38.0625 35.34375 \r\nQ 33.84375 39.703125 27 39.703125 \r\nQ 22.75 39.703125 19.328125 37.765625 \r\nQ 15.921875 35.84375 13.96875 32.765625 \r\nL 5.71875 33.84375 \r\nL 12.640625 70.609375 \r\nL 48.25 70.609375 \r\nL 48.25 62.203125 \r\nL 19.671875 62.203125 \r\nL 15.828125 42.96875 \r\nQ 22.265625 47.46875 29.34375 47.46875 \r\nQ 38.71875 47.46875 45.15625 40.96875 \r\nQ 51.609375 34.46875 51.609375 24.265625 \r\nQ 51.609375 14.546875 45.953125 7.46875 \r\nQ 39.0625 -1.21875 27.15625 -1.21875 \r\nQ 17.390625 -1.21875 11.203125 4.25 \r\nQ 5.03125 9.71875 4.15625 18.75 \r\nz\r\n\" id=\"ArialMT-53\"/>\r\n       </defs>\r\n       <use xlink:href=\"#ArialMT-53\"/>\r\n       <use x=\"55.615234\" xlink:href=\"#ArialMT-48\"/>\r\n      </g>\r\n     </g>\r\n    </g>\r\n    <g id=\"text_7\">\r\n     <!-- Age -->\r\n     <g style=\"fill:#262626;\" transform=\"translate(197.092969 266.67875)scale(0.1 -0.1)\">\r\n      <defs>\r\n       <path d=\"M -0.140625 0 \r\nL 27.34375 71.578125 \r\nL 37.546875 71.578125 \r\nL 66.84375 0 \r\nL 56.0625 0 \r\nL 47.703125 21.6875 \r\nL 17.78125 21.6875 \r\nL 9.90625 0 \r\nz\r\nM 20.515625 29.390625 \r\nL 44.78125 29.390625 \r\nL 37.3125 49.21875 \r\nQ 33.890625 58.25 32.234375 64.0625 \r\nQ 30.859375 57.171875 28.375 50.390625 \r\nz\r\n\" id=\"ArialMT-65\"/>\r\n       <path d=\"M 4.984375 -4.296875 \r\nL 13.53125 -5.5625 \r\nQ 14.0625 -9.515625 16.5 -11.328125 \r\nQ 19.78125 -13.765625 25.4375 -13.765625 \r\nQ 31.546875 -13.765625 34.859375 -11.328125 \r\nQ 38.1875 -8.890625 39.359375 -4.5 \r\nQ 40.046875 -1.8125 39.984375 6.78125 \r\nQ 34.234375 0 25.640625 0 \r\nQ 14.9375 0 9.078125 7.71875 \r\nQ 3.21875 15.4375 3.21875 26.21875 \r\nQ 3.21875 33.640625 5.90625 39.90625 \r\nQ 8.59375 46.1875 13.6875 49.609375 \r\nQ 18.796875 53.03125 25.6875 53.03125 \r\nQ 34.859375 53.03125 40.828125 45.609375 \r\nL 40.828125 51.859375 \r\nL 48.921875 51.859375 \r\nL 48.921875 7.03125 \r\nQ 48.921875 -5.078125 46.453125 -10.125 \r\nQ 44 -15.1875 38.640625 -18.109375 \r\nQ 33.296875 -21.046875 25.484375 -21.046875 \r\nQ 16.21875 -21.046875 10.5 -16.875 \r\nQ 4.78125 -12.703125 4.984375 -4.296875 \r\nz\r\nM 12.25 26.859375 \r\nQ 12.25 16.65625 16.296875 11.96875 \r\nQ 20.359375 7.28125 26.46875 7.28125 \r\nQ 32.515625 7.28125 36.609375 11.9375 \r\nQ 40.71875 16.609375 40.71875 26.5625 \r\nQ 40.71875 36.078125 36.5 40.90625 \r\nQ 32.28125 45.75 26.3125 45.75 \r\nQ 20.453125 45.75 16.34375 40.984375 \r\nQ 12.25 36.234375 12.25 26.859375 \r\nz\r\n\" id=\"ArialMT-103\"/>\r\n       <path d=\"M 42.09375 16.703125 \r\nL 51.171875 15.578125 \r\nQ 49.03125 7.625 43.21875 3.21875 \r\nQ 37.40625 -1.171875 28.375 -1.171875 \r\nQ 17 -1.171875 10.328125 5.828125 \r\nQ 3.65625 12.84375 3.65625 25.484375 \r\nQ 3.65625 38.578125 10.390625 45.796875 \r\nQ 17.140625 53.03125 27.875 53.03125 \r\nQ 38.28125 53.03125 44.875 45.953125 \r\nQ 51.46875 38.875 51.46875 26.03125 \r\nQ 51.46875 25.25 51.421875 23.6875 \r\nL 12.75 23.6875 \r\nQ 13.234375 15.140625 17.578125 10.59375 \r\nQ 21.921875 6.0625 28.421875 6.0625 \r\nQ 33.25 6.0625 36.671875 8.59375 \r\nQ 40.09375 11.140625 42.09375 16.703125 \r\nz\r\nM 13.234375 30.90625 \r\nL 42.1875 30.90625 \r\nQ 41.609375 37.453125 38.875 40.71875 \r\nQ 34.671875 45.796875 27.984375 45.796875 \r\nQ 21.921875 45.796875 17.796875 41.75 \r\nQ 13.671875 37.703125 13.234375 30.90625 \r\nz\r\n\" id=\"ArialMT-101\"/>\r\n      </defs>\r\n      <use xlink:href=\"#ArialMT-65\"/>\r\n      <use x=\"66.699219\" xlink:href=\"#ArialMT-103\"/>\r\n      <use x=\"122.314453\" xlink:href=\"#ArialMT-101\"/>\r\n     </g>\r\n    </g>\r\n   </g>\r\n   <g id=\"matplotlib.axis_2\">\r\n    <g id=\"ytick_1\">\r\n     <g id=\"line2d_7\">\r\n      <path clip-path=\"url(#pbbb67e9c79)\" d=\"M 38.589063 239.375625 \r\nL 373.389063 239.375625 \r\n\" style=\"fill:none;stroke:#ffffff;stroke-linecap:round;stroke-width:0.8;\"/>\r\n     </g>\r\n     <g id=\"text_8\">\r\n      <!-- 0 -->\r\n      <g style=\"fill:#262626;\" transform=\"translate(26.028125 242.954531)scale(0.1 -0.1)\">\r\n       <use xlink:href=\"#ArialMT-48\"/>\r\n      </g>\r\n     </g>\r\n    </g>\r\n    <g id=\"ytick_2\">\r\n     <g id=\"line2d_8\">\r\n      <path clip-path=\"url(#pbbb67e9c79)\" d=\"M 38.589063 207.999002 \r\nL 373.389063 207.999002 \r\n\" style=\"fill:none;stroke:#ffffff;stroke-linecap:round;stroke-width:0.8;\"/>\r\n     </g>\r\n     <g id=\"text_9\">\r\n      <!-- 5 -->\r\n      <g style=\"fill:#262626;\" transform=\"translate(26.028125 211.577908)scale(0.1 -0.1)\">\r\n       <use xlink:href=\"#ArialMT-53\"/>\r\n      </g>\r\n     </g>\r\n    </g>\r\n    <g id=\"ytick_3\">\r\n     <g id=\"line2d_9\">\r\n      <path clip-path=\"url(#pbbb67e9c79)\" d=\"M 38.589063 176.622378 \r\nL 373.389063 176.622378 \r\n\" style=\"fill:none;stroke:#ffffff;stroke-linecap:round;stroke-width:0.8;\"/>\r\n     </g>\r\n     <g id=\"text_10\">\r\n      <!-- 10 -->\r\n      <g style=\"fill:#262626;\" transform=\"translate(20.467188 180.201284)scale(0.1 -0.1)\">\r\n       <use xlink:href=\"#ArialMT-49\"/>\r\n       <use x=\"55.615234\" xlink:href=\"#ArialMT-48\"/>\r\n      </g>\r\n     </g>\r\n    </g>\r\n    <g id=\"ytick_4\">\r\n     <g id=\"line2d_10\">\r\n      <path clip-path=\"url(#pbbb67e9c79)\" d=\"M 38.589063 145.245755 \r\nL 373.389063 145.245755 \r\n\" style=\"fill:none;stroke:#ffffff;stroke-linecap:round;stroke-width:0.8;\"/>\r\n     </g>\r\n     <g id=\"text_11\">\r\n      <!-- 15 -->\r\n      <g style=\"fill:#262626;\" transform=\"translate(20.467188 148.824661)scale(0.1 -0.1)\">\r\n       <use xlink:href=\"#ArialMT-49\"/>\r\n       <use x=\"55.615234\" xlink:href=\"#ArialMT-53\"/>\r\n      </g>\r\n     </g>\r\n    </g>\r\n    <g id=\"ytick_5\">\r\n     <g id=\"line2d_11\">\r\n      <path clip-path=\"url(#pbbb67e9c79)\" d=\"M 38.589063 113.869131 \r\nL 373.389063 113.869131 \r\n\" style=\"fill:none;stroke:#ffffff;stroke-linecap:round;stroke-width:0.8;\"/>\r\n     </g>\r\n     <g id=\"text_12\">\r\n      <!-- 20 -->\r\n      <g style=\"fill:#262626;\" transform=\"translate(20.467188 117.448038)scale(0.1 -0.1)\">\r\n       <use xlink:href=\"#ArialMT-50\"/>\r\n       <use x=\"55.615234\" xlink:href=\"#ArialMT-48\"/>\r\n      </g>\r\n     </g>\r\n    </g>\r\n    <g id=\"ytick_6\">\r\n     <g id=\"line2d_12\">\r\n      <path clip-path=\"url(#pbbb67e9c79)\" d=\"M 38.589063 82.492508 \r\nL 373.389063 82.492508 \r\n\" style=\"fill:none;stroke:#ffffff;stroke-linecap:round;stroke-width:0.8;\"/>\r\n     </g>\r\n     <g id=\"text_13\">\r\n      <!-- 25 -->\r\n      <g style=\"fill:#262626;\" transform=\"translate(20.467188 86.071414)scale(0.1 -0.1)\">\r\n       <use xlink:href=\"#ArialMT-50\"/>\r\n       <use x=\"55.615234\" xlink:href=\"#ArialMT-53\"/>\r\n      </g>\r\n     </g>\r\n    </g>\r\n    <g id=\"ytick_7\">\r\n     <g id=\"line2d_13\">\r\n      <path clip-path=\"url(#pbbb67e9c79)\" d=\"M 38.589063 51.115885 \r\nL 373.389063 51.115885 \r\n\" style=\"fill:none;stroke:#ffffff;stroke-linecap:round;stroke-width:0.8;\"/>\r\n     </g>\r\n     <g id=\"text_14\">\r\n      <!-- 30 -->\r\n      <g style=\"fill:#262626;\" transform=\"translate(20.467188 54.694791)scale(0.1 -0.1)\">\r\n       <use xlink:href=\"#ArialMT-51\"/>\r\n       <use x=\"55.615234\" xlink:href=\"#ArialMT-48\"/>\r\n      </g>\r\n     </g>\r\n    </g>\r\n    <g id=\"text_15\">\r\n     <!-- Number of applicants -->\r\n     <g style=\"fill:#262626;\" transform=\"translate(14.479688 177.898594)rotate(-90)scale(0.1 -0.1)\">\r\n      <defs>\r\n       <path d=\"M 7.625 0 \r\nL 7.625 71.578125 \r\nL 17.328125 71.578125 \r\nL 54.9375 15.375 \r\nL 54.9375 71.578125 \r\nL 64.015625 71.578125 \r\nL 64.015625 0 \r\nL 54.296875 0 \r\nL 16.703125 56.25 \r\nL 16.703125 0 \r\nz\r\n\" id=\"ArialMT-78\"/>\r\n       <path d=\"M 40.578125 0 \r\nL 40.578125 7.625 \r\nQ 34.515625 -1.171875 24.125 -1.171875 \r\nQ 19.53125 -1.171875 15.546875 0.578125 \r\nQ 11.578125 2.34375 9.640625 5 \r\nQ 7.71875 7.671875 6.9375 11.53125 \r\nQ 6.390625 14.109375 6.390625 19.734375 \r\nL 6.390625 51.859375 \r\nL 15.1875 51.859375 \r\nL 15.1875 23.09375 \r\nQ 15.1875 16.21875 15.71875 13.8125 \r\nQ 16.546875 10.359375 19.234375 8.375 \r\nQ 21.921875 6.390625 25.875 6.390625 \r\nQ 29.828125 6.390625 33.296875 8.421875 \r\nQ 36.765625 10.453125 38.203125 13.9375 \r\nQ 39.65625 17.4375 39.65625 24.078125 \r\nL 39.65625 51.859375 \r\nL 48.4375 51.859375 \r\nL 48.4375 0 \r\nz\r\n\" id=\"ArialMT-117\"/>\r\n       <path d=\"M 6.59375 0 \r\nL 6.59375 51.859375 \r\nL 14.453125 51.859375 \r\nL 14.453125 44.578125 \r\nQ 16.890625 48.390625 20.9375 50.703125 \r\nQ 25 53.03125 30.171875 53.03125 \r\nQ 35.9375 53.03125 39.625 50.640625 \r\nQ 43.3125 48.25 44.828125 43.953125 \r\nQ 50.984375 53.03125 60.84375 53.03125 \r\nQ 68.5625 53.03125 72.703125 48.75 \r\nQ 76.859375 44.484375 76.859375 35.59375 \r\nL 76.859375 0 \r\nL 68.109375 0 \r\nL 68.109375 32.671875 \r\nQ 68.109375 37.9375 67.25 40.25 \r\nQ 66.40625 42.578125 64.15625 43.984375 \r\nQ 61.921875 45.40625 58.890625 45.40625 \r\nQ 53.421875 45.40625 49.796875 41.765625 \r\nQ 46.1875 38.140625 46.1875 30.125 \r\nL 46.1875 0 \r\nL 37.40625 0 \r\nL 37.40625 33.6875 \r\nQ 37.40625 39.546875 35.25 42.46875 \r\nQ 33.109375 45.40625 28.21875 45.40625 \r\nQ 24.515625 45.40625 21.359375 43.453125 \r\nQ 18.21875 41.5 16.796875 37.734375 \r\nQ 15.375 33.984375 15.375 26.90625 \r\nL 15.375 0 \r\nz\r\n\" id=\"ArialMT-109\"/>\r\n       <path d=\"M 14.703125 0 \r\nL 6.546875 0 \r\nL 6.546875 71.578125 \r\nL 15.328125 71.578125 \r\nL 15.328125 46.046875 \r\nQ 20.90625 53.03125 29.546875 53.03125 \r\nQ 34.328125 53.03125 38.59375 51.09375 \r\nQ 42.875 49.171875 45.625 45.671875 \r\nQ 48.390625 42.1875 49.953125 37.25 \r\nQ 51.515625 32.328125 51.515625 26.703125 \r\nQ 51.515625 13.375 44.921875 6.09375 \r\nQ 38.328125 -1.171875 29.109375 -1.171875 \r\nQ 19.921875 -1.171875 14.703125 6.5 \r\nz\r\nM 14.59375 26.3125 \r\nQ 14.59375 17 17.140625 12.84375 \r\nQ 21.296875 6.0625 28.375 6.0625 \r\nQ 34.125 6.0625 38.328125 11.0625 \r\nQ 42.53125 16.0625 42.53125 25.984375 \r\nQ 42.53125 36.140625 38.5 40.96875 \r\nQ 34.46875 45.796875 28.765625 45.796875 \r\nQ 23 45.796875 18.796875 40.796875 \r\nQ 14.59375 35.796875 14.59375 26.3125 \r\nz\r\n\" id=\"ArialMT-98\"/>\r\n       <path d=\"M 6.5 0 \r\nL 6.5 51.859375 \r\nL 14.40625 51.859375 \r\nL 14.40625 44 \r\nQ 17.4375 49.515625 20 51.265625 \r\nQ 22.5625 53.03125 25.640625 53.03125 \r\nQ 30.078125 53.03125 34.671875 50.203125 \r\nL 31.640625 42.046875 \r\nQ 28.421875 43.953125 25.203125 43.953125 \r\nQ 22.3125 43.953125 20.015625 42.21875 \r\nQ 17.71875 40.484375 16.75 37.40625 \r\nQ 15.28125 32.71875 15.28125 27.15625 \r\nL 15.28125 0 \r\nz\r\n\" id=\"ArialMT-114\"/>\r\n       <path id=\"ArialMT-32\"/>\r\n       <path d=\"M 3.328125 25.921875 \r\nQ 3.328125 40.328125 11.328125 47.265625 \r\nQ 18.015625 53.03125 27.640625 53.03125 \r\nQ 38.328125 53.03125 45.109375 46.015625 \r\nQ 51.90625 39.015625 51.90625 26.65625 \r\nQ 51.90625 16.65625 48.90625 10.90625 \r\nQ 45.90625 5.171875 40.15625 2 \r\nQ 34.421875 -1.171875 27.640625 -1.171875 \r\nQ 16.75 -1.171875 10.03125 5.8125 \r\nQ 3.328125 12.796875 3.328125 25.921875 \r\nz\r\nM 12.359375 25.921875 \r\nQ 12.359375 15.96875 16.703125 11.015625 \r\nQ 21.046875 6.0625 27.640625 6.0625 \r\nQ 34.1875 6.0625 38.53125 11.03125 \r\nQ 42.875 16.015625 42.875 26.21875 \r\nQ 42.875 35.84375 38.5 40.796875 \r\nQ 34.125 45.75 27.640625 45.75 \r\nQ 21.046875 45.75 16.703125 40.8125 \r\nQ 12.359375 35.890625 12.359375 25.921875 \r\nz\r\n\" id=\"ArialMT-111\"/>\r\n       <path d=\"M 8.6875 0 \r\nL 8.6875 45.015625 \r\nL 0.921875 45.015625 \r\nL 0.921875 51.859375 \r\nL 8.6875 51.859375 \r\nL 8.6875 57.375 \r\nQ 8.6875 62.59375 9.625 65.140625 \r\nQ 10.890625 68.5625 14.078125 70.671875 \r\nQ 17.28125 72.796875 23.046875 72.796875 \r\nQ 26.765625 72.796875 31.25 71.921875 \r\nL 29.9375 64.265625 \r\nQ 27.203125 64.75 24.75 64.75 \r\nQ 20.75 64.75 19.09375 63.03125 \r\nQ 17.4375 61.328125 17.4375 56.640625 \r\nL 17.4375 51.859375 \r\nL 27.546875 51.859375 \r\nL 27.546875 45.015625 \r\nL 17.4375 45.015625 \r\nL 17.4375 0 \r\nz\r\n\" id=\"ArialMT-102\"/>\r\n       <path d=\"M 40.4375 6.390625 \r\nQ 35.546875 2.25 31.03125 0.53125 \r\nQ 26.515625 -1.171875 21.34375 -1.171875 \r\nQ 12.796875 -1.171875 8.203125 3 \r\nQ 3.609375 7.171875 3.609375 13.671875 \r\nQ 3.609375 17.484375 5.34375 20.625 \r\nQ 7.078125 23.78125 9.890625 25.6875 \r\nQ 12.703125 27.59375 16.21875 28.5625 \r\nQ 18.796875 29.25 24.03125 29.890625 \r\nQ 34.671875 31.15625 39.703125 32.90625 \r\nQ 39.75 34.71875 39.75 35.203125 \r\nQ 39.75 40.578125 37.25 42.78125 \r\nQ 33.890625 45.75 27.25 45.75 \r\nQ 21.046875 45.75 18.09375 43.578125 \r\nQ 15.140625 41.40625 13.71875 35.890625 \r\nL 5.125 37.0625 \r\nQ 6.296875 42.578125 8.984375 45.96875 \r\nQ 11.671875 49.359375 16.75 51.1875 \r\nQ 21.828125 53.03125 28.515625 53.03125 \r\nQ 35.15625 53.03125 39.296875 51.46875 \r\nQ 43.453125 49.90625 45.40625 47.53125 \r\nQ 47.359375 45.171875 48.140625 41.546875 \r\nQ 48.578125 39.3125 48.578125 33.453125 \r\nL 48.578125 21.734375 \r\nQ 48.578125 9.46875 49.140625 6.21875 \r\nQ 49.703125 2.984375 51.375 0 \r\nL 42.1875 0 \r\nQ 40.828125 2.734375 40.4375 6.390625 \r\nz\r\nM 39.703125 26.03125 \r\nQ 34.90625 24.078125 25.34375 22.703125 \r\nQ 19.921875 21.921875 17.671875 20.9375 \r\nQ 15.4375 19.96875 14.203125 18.09375 \r\nQ 12.984375 16.21875 12.984375 13.921875 \r\nQ 12.984375 10.40625 15.640625 8.0625 \r\nQ 18.3125 5.71875 23.4375 5.71875 \r\nQ 28.515625 5.71875 32.46875 7.9375 \r\nQ 36.421875 10.15625 38.28125 14.015625 \r\nQ 39.703125 17 39.703125 22.796875 \r\nz\r\n\" id=\"ArialMT-97\"/>\r\n       <path d=\"M 6.59375 -19.875 \r\nL 6.59375 51.859375 \r\nL 14.59375 51.859375 \r\nL 14.59375 45.125 \r\nQ 17.4375 49.078125 21 51.046875 \r\nQ 24.5625 53.03125 29.640625 53.03125 \r\nQ 36.28125 53.03125 41.359375 49.609375 \r\nQ 46.4375 46.1875 49.015625 39.953125 \r\nQ 51.609375 33.734375 51.609375 26.3125 \r\nQ 51.609375 18.359375 48.75 11.984375 \r\nQ 45.90625 5.609375 40.453125 2.21875 \r\nQ 35.015625 -1.171875 29 -1.171875 \r\nQ 24.609375 -1.171875 21.109375 0.6875 \r\nQ 17.625 2.546875 15.375 5.375 \r\nL 15.375 -19.875 \r\nz\r\nM 14.546875 25.640625 \r\nQ 14.546875 15.625 18.59375 10.84375 \r\nQ 22.65625 6.0625 28.421875 6.0625 \r\nQ 34.28125 6.0625 38.453125 11.015625 \r\nQ 42.625 15.96875 42.625 26.375 \r\nQ 42.625 36.28125 38.546875 41.203125 \r\nQ 34.46875 46.140625 28.8125 46.140625 \r\nQ 23.1875 46.140625 18.859375 40.890625 \r\nQ 14.546875 35.640625 14.546875 25.640625 \r\nz\r\n\" id=\"ArialMT-112\"/>\r\n       <path d=\"M 6.390625 0 \r\nL 6.390625 71.578125 \r\nL 15.1875 71.578125 \r\nL 15.1875 0 \r\nz\r\n\" id=\"ArialMT-108\"/>\r\n       <path d=\"M 6.640625 61.46875 \r\nL 6.640625 71.578125 \r\nL 15.4375 71.578125 \r\nL 15.4375 61.46875 \r\nz\r\nM 6.640625 0 \r\nL 6.640625 51.859375 \r\nL 15.4375 51.859375 \r\nL 15.4375 0 \r\nz\r\n\" id=\"ArialMT-105\"/>\r\n       <path d=\"M 40.4375 19 \r\nL 49.078125 17.875 \r\nQ 47.65625 8.9375 41.8125 3.875 \r\nQ 35.984375 -1.171875 27.484375 -1.171875 \r\nQ 16.84375 -1.171875 10.375 5.78125 \r\nQ 3.90625 12.75 3.90625 25.734375 \r\nQ 3.90625 34.125 6.6875 40.421875 \r\nQ 9.46875 46.734375 15.15625 49.875 \r\nQ 20.84375 53.03125 27.546875 53.03125 \r\nQ 35.984375 53.03125 41.359375 48.75 \r\nQ 46.734375 44.484375 48.25 36.625 \r\nL 39.703125 35.296875 \r\nQ 38.484375 40.53125 35.375 43.15625 \r\nQ 32.28125 45.796875 27.875 45.796875 \r\nQ 21.234375 45.796875 17.078125 41.03125 \r\nQ 12.9375 36.28125 12.9375 25.984375 \r\nQ 12.9375 15.53125 16.9375 10.796875 \r\nQ 20.953125 6.0625 27.390625 6.0625 \r\nQ 32.5625 6.0625 36.03125 9.234375 \r\nQ 39.5 12.40625 40.4375 19 \r\nz\r\n\" id=\"ArialMT-99\"/>\r\n       <path d=\"M 6.59375 0 \r\nL 6.59375 51.859375 \r\nL 14.5 51.859375 \r\nL 14.5 44.484375 \r\nQ 20.21875 53.03125 31 53.03125 \r\nQ 35.6875 53.03125 39.625 51.34375 \r\nQ 43.5625 49.65625 45.515625 46.921875 \r\nQ 47.46875 44.1875 48.25 40.4375 \r\nQ 48.734375 37.984375 48.734375 31.890625 \r\nL 48.734375 0 \r\nL 39.9375 0 \r\nL 39.9375 31.546875 \r\nQ 39.9375 36.921875 38.90625 39.578125 \r\nQ 37.890625 42.234375 35.28125 43.8125 \r\nQ 32.671875 45.40625 29.15625 45.40625 \r\nQ 23.53125 45.40625 19.453125 41.84375 \r\nQ 15.375 38.28125 15.375 28.328125 \r\nL 15.375 0 \r\nz\r\n\" id=\"ArialMT-110\"/>\r\n       <path d=\"M 25.78125 7.859375 \r\nL 27.046875 0.09375 \r\nQ 23.34375 -0.6875 20.40625 -0.6875 \r\nQ 15.625 -0.6875 12.984375 0.828125 \r\nQ 10.359375 2.34375 9.28125 4.8125 \r\nQ 8.203125 7.28125 8.203125 15.1875 \r\nL 8.203125 45.015625 \r\nL 1.765625 45.015625 \r\nL 1.765625 51.859375 \r\nL 8.203125 51.859375 \r\nL 8.203125 64.703125 \r\nL 16.9375 69.96875 \r\nL 16.9375 51.859375 \r\nL 25.78125 51.859375 \r\nL 25.78125 45.015625 \r\nL 16.9375 45.015625 \r\nL 16.9375 14.703125 \r\nQ 16.9375 10.9375 17.40625 9.859375 \r\nQ 17.875 8.796875 18.921875 8.15625 \r\nQ 19.96875 7.515625 21.921875 7.515625 \r\nQ 23.390625 7.515625 25.78125 7.859375 \r\nz\r\n\" id=\"ArialMT-116\"/>\r\n       <path d=\"M 3.078125 15.484375 \r\nL 11.765625 16.84375 \r\nQ 12.5 11.625 15.84375 8.84375 \r\nQ 19.1875 6.0625 25.203125 6.0625 \r\nQ 31.25 6.0625 34.171875 8.515625 \r\nQ 37.109375 10.984375 37.109375 14.3125 \r\nQ 37.109375 17.28125 34.515625 19 \r\nQ 32.71875 20.171875 25.53125 21.96875 \r\nQ 15.875 24.421875 12.140625 26.203125 \r\nQ 8.40625 27.984375 6.46875 31.125 \r\nQ 4.546875 34.28125 4.546875 38.09375 \r\nQ 4.546875 41.546875 6.125 44.5 \r\nQ 7.71875 47.46875 10.453125 49.421875 \r\nQ 12.5 50.921875 16.03125 51.96875 \r\nQ 19.578125 53.03125 23.640625 53.03125 \r\nQ 29.734375 53.03125 34.34375 51.265625 \r\nQ 38.96875 49.515625 41.15625 46.5 \r\nQ 43.359375 43.5 44.1875 38.484375 \r\nL 35.59375 37.3125 \r\nQ 35.015625 41.3125 32.203125 43.546875 \r\nQ 29.390625 45.796875 24.265625 45.796875 \r\nQ 18.21875 45.796875 15.625 43.796875 \r\nQ 13.03125 41.796875 13.03125 39.109375 \r\nQ 13.03125 37.40625 14.109375 36.03125 \r\nQ 15.1875 34.625 17.484375 33.6875 \r\nQ 18.796875 33.203125 25.25 31.453125 \r\nQ 34.578125 28.953125 38.25 27.359375 \r\nQ 41.9375 25.78125 44.03125 22.75 \r\nQ 46.140625 19.734375 46.140625 15.234375 \r\nQ 46.140625 10.84375 43.578125 6.953125 \r\nQ 41.015625 3.078125 36.171875 0.953125 \r\nQ 31.34375 -1.171875 25.25 -1.171875 \r\nQ 15.140625 -1.171875 9.84375 3.03125 \r\nQ 4.546875 7.234375 3.078125 15.484375 \r\nz\r\n\" id=\"ArialMT-115\"/>\r\n      </defs>\r\n      <use xlink:href=\"#ArialMT-78\"/>\r\n      <use x=\"72.216797\" xlink:href=\"#ArialMT-117\"/>\r\n      <use x=\"127.832031\" xlink:href=\"#ArialMT-109\"/>\r\n      <use x=\"211.132812\" xlink:href=\"#ArialMT-98\"/>\r\n      <use x=\"266.748047\" xlink:href=\"#ArialMT-101\"/>\r\n      <use x=\"322.363281\" xlink:href=\"#ArialMT-114\"/>\r\n      <use x=\"355.664062\" xlink:href=\"#ArialMT-32\"/>\r\n      <use x=\"383.447266\" xlink:href=\"#ArialMT-111\"/>\r\n      <use x=\"439.0625\" xlink:href=\"#ArialMT-102\"/>\r\n      <use x=\"466.845703\" xlink:href=\"#ArialMT-32\"/>\r\n      <use x=\"494.628906\" xlink:href=\"#ArialMT-97\"/>\r\n      <use x=\"550.244141\" xlink:href=\"#ArialMT-112\"/>\r\n      <use x=\"605.859375\" xlink:href=\"#ArialMT-112\"/>\r\n      <use x=\"661.474609\" xlink:href=\"#ArialMT-108\"/>\r\n      <use x=\"683.691406\" xlink:href=\"#ArialMT-105\"/>\r\n      <use x=\"705.908203\" xlink:href=\"#ArialMT-99\"/>\r\n      <use x=\"755.908203\" xlink:href=\"#ArialMT-97\"/>\r\n      <use x=\"811.523438\" xlink:href=\"#ArialMT-110\"/>\r\n      <use x=\"867.138672\" xlink:href=\"#ArialMT-116\"/>\r\n      <use x=\"894.921875\" xlink:href=\"#ArialMT-115\"/>\r\n     </g>\r\n    </g>\r\n   </g>\r\n   <g id=\"patch_3\">\r\n    <path clip-path=\"url(#pbbb67e9c79)\" d=\"M 53.807244 239.375625 \r\nL 61.416335 239.375625 \r\nL 61.416335 207.999002 \r\nL 53.807244 207.999002 \r\nz\r\n\" style=\"fill:#ff7f0e;fill-opacity:0.5;stroke:#ffffff;stroke-linejoin:miter;stroke-width:0.760909;\"/>\r\n   </g>\r\n   <g id=\"patch_4\">\r\n    <path clip-path=\"url(#pbbb67e9c79)\" d=\"M 61.416335 239.375625 \r\nL 69.025426 239.375625 \r\nL 69.025426 239.375625 \r\nL 61.416335 239.375625 \r\nz\r\n\" style=\"fill:#ff7f0e;fill-opacity:0.5;stroke:#ffffff;stroke-linejoin:miter;stroke-width:0.760909;\"/>\r\n   </g>\r\n   <g id=\"patch_5\">\r\n    <path clip-path=\"url(#pbbb67e9c79)\" d=\"M 69.025426 239.375625 \r\nL 76.634517 239.375625 \r\nL 76.634517 239.375625 \r\nL 69.025426 239.375625 \r\nz\r\n\" style=\"fill:#ff7f0e;fill-opacity:0.5;stroke:#ffffff;stroke-linejoin:miter;stroke-width:0.760909;\"/>\r\n   </g>\r\n   <g id=\"patch_6\">\r\n    <path clip-path=\"url(#pbbb67e9c79)\" d=\"M 76.634517 239.375625 \r\nL 84.243608 239.375625 \r\nL 84.243608 239.375625 \r\nL 76.634517 239.375625 \r\nz\r\n\" style=\"fill:#ff7f0e;fill-opacity:0.5;stroke:#ffffff;stroke-linejoin:miter;stroke-width:0.760909;\"/>\r\n   </g>\r\n   <g id=\"patch_7\">\r\n    <path clip-path=\"url(#pbbb67e9c79)\" d=\"M 84.243608 239.375625 \r\nL 91.852699 239.375625 \r\nL 91.852699 239.375625 \r\nL 84.243608 239.375625 \r\nz\r\n\" style=\"fill:#ff7f0e;fill-opacity:0.5;stroke:#ffffff;stroke-linejoin:miter;stroke-width:0.760909;\"/>\r\n   </g>\r\n   <g id=\"patch_8\">\r\n    <path clip-path=\"url(#pbbb67e9c79)\" d=\"M 91.852699 239.375625 \r\nL 99.46179 239.375625 \r\nL 99.46179 239.375625 \r\nL 91.852699 239.375625 \r\nz\r\n\" style=\"fill:#ff7f0e;fill-opacity:0.5;stroke:#ffffff;stroke-linejoin:miter;stroke-width:0.760909;\"/>\r\n   </g>\r\n   <g id=\"patch_9\">\r\n    <path clip-path=\"url(#pbbb67e9c79)\" d=\"M 99.46179 239.375625 \r\nL 107.070881 239.375625 \r\nL 107.070881 239.375625 \r\nL 99.46179 239.375625 \r\nz\r\n\" style=\"fill:#ff7f0e;fill-opacity:0.5;stroke:#ffffff;stroke-linejoin:miter;stroke-width:0.760909;\"/>\r\n   </g>\r\n   <g id=\"patch_10\">\r\n    <path clip-path=\"url(#pbbb67e9c79)\" d=\"M 107.070881 239.375625 \r\nL 114.679972 239.375625 \r\nL 114.679972 239.375625 \r\nL 107.070881 239.375625 \r\nz\r\n\" style=\"fill:#ff7f0e;fill-opacity:0.5;stroke:#ffffff;stroke-linejoin:miter;stroke-width:0.760909;\"/>\r\n   </g>\r\n   <g id=\"patch_11\">\r\n    <path clip-path=\"url(#pbbb67e9c79)\" d=\"M 114.679972 239.375625 \r\nL 122.289063 239.375625 \r\nL 122.289063 239.375625 \r\nL 114.679972 239.375625 \r\nz\r\n\" style=\"fill:#ff7f0e;fill-opacity:0.5;stroke:#ffffff;stroke-linejoin:miter;stroke-width:0.760909;\"/>\r\n   </g>\r\n   <g id=\"patch_12\">\r\n    <path clip-path=\"url(#pbbb67e9c79)\" d=\"M 122.289063 239.375625 \r\nL 129.898153 239.375625 \r\nL 129.898153 239.375625 \r\nL 122.289063 239.375625 \r\nz\r\n\" style=\"fill:#ff7f0e;fill-opacity:0.5;stroke:#ffffff;stroke-linejoin:miter;stroke-width:0.760909;\"/>\r\n   </g>\r\n   <g id=\"patch_13\">\r\n    <path clip-path=\"url(#pbbb67e9c79)\" d=\"M 129.898153 239.375625 \r\nL 137.507244 239.375625 \r\nL 137.507244 239.375625 \r\nL 129.898153 239.375625 \r\nz\r\n\" style=\"fill:#ff7f0e;fill-opacity:0.5;stroke:#ffffff;stroke-linejoin:miter;stroke-width:0.760909;\"/>\r\n   </g>\r\n   <g id=\"patch_14\">\r\n    <path clip-path=\"url(#pbbb67e9c79)\" d=\"M 137.507244 239.375625 \r\nL 145.116335 239.375625 \r\nL 145.116335 239.375625 \r\nL 137.507244 239.375625 \r\nz\r\n\" style=\"fill:#ff7f0e;fill-opacity:0.5;stroke:#ffffff;stroke-linejoin:miter;stroke-width:0.760909;\"/>\r\n   </g>\r\n   <g id=\"patch_15\">\r\n    <path clip-path=\"url(#pbbb67e9c79)\" d=\"M 145.116335 239.375625 \r\nL 152.725426 239.375625 \r\nL 152.725426 239.375625 \r\nL 145.116335 239.375625 \r\nz\r\n\" style=\"fill:#ff7f0e;fill-opacity:0.5;stroke:#ffffff;stroke-linejoin:miter;stroke-width:0.760909;\"/>\r\n   </g>\r\n   <g id=\"patch_16\">\r\n    <path clip-path=\"url(#pbbb67e9c79)\" d=\"M 152.725426 239.375625 \r\nL 160.334517 239.375625 \r\nL 160.334517 239.375625 \r\nL 152.725426 239.375625 \r\nz\r\n\" style=\"fill:#ff7f0e;fill-opacity:0.5;stroke:#ffffff;stroke-linejoin:miter;stroke-width:0.760909;\"/>\r\n   </g>\r\n   <g id=\"patch_17\">\r\n    <path clip-path=\"url(#pbbb67e9c79)\" d=\"M 160.334517 239.375625 \r\nL 167.943608 239.375625 \r\nL 167.943608 239.375625 \r\nL 160.334517 239.375625 \r\nz\r\n\" style=\"fill:#ff7f0e;fill-opacity:0.5;stroke:#ffffff;stroke-linejoin:miter;stroke-width:0.760909;\"/>\r\n   </g>\r\n   <g id=\"patch_18\">\r\n    <path clip-path=\"url(#pbbb67e9c79)\" d=\"M 167.943608 239.375625 \r\nL 175.552699 239.375625 \r\nL 175.552699 226.824976 \r\nL 167.943608 226.824976 \r\nz\r\n\" style=\"fill:#ff7f0e;fill-opacity:0.5;stroke:#ffffff;stroke-linejoin:miter;stroke-width:0.760909;\"/>\r\n   </g>\r\n   <g id=\"patch_19\">\r\n    <path clip-path=\"url(#pbbb67e9c79)\" d=\"M 175.552699 239.375625 \r\nL 183.16179 239.375625 \r\nL 183.16179 214.274326 \r\nL 175.552699 214.274326 \r\nz\r\n\" style=\"fill:#ff7f0e;fill-opacity:0.5;stroke:#ffffff;stroke-linejoin:miter;stroke-width:0.760909;\"/>\r\n   </g>\r\n   <g id=\"patch_20\">\r\n    <path clip-path=\"url(#pbbb67e9c79)\" d=\"M 183.16179 239.375625 \r\nL 190.770881 239.375625 \r\nL 190.770881 201.723677 \r\nL 183.16179 201.723677 \r\nz\r\n\" style=\"fill:#ff7f0e;fill-opacity:0.5;stroke:#ffffff;stroke-linejoin:miter;stroke-width:0.760909;\"/>\r\n   </g>\r\n   <g id=\"patch_21\">\r\n    <path clip-path=\"url(#pbbb67e9c79)\" d=\"M 190.770881 239.375625 \r\nL 198.379972 239.375625 \r\nL 198.379972 113.869131 \r\nL 190.770881 113.869131 \r\nz\r\n\" style=\"fill:#ff7f0e;fill-opacity:0.5;stroke:#ffffff;stroke-linejoin:miter;stroke-width:0.760909;\"/>\r\n   </g>\r\n   <g id=\"patch_22\">\r\n    <path clip-path=\"url(#pbbb67e9c79)\" d=\"M 198.379972 239.375625 \r\nL 205.989063 239.375625 \r\nL 205.989063 76.217183 \r\nL 198.379972 76.217183 \r\nz\r\n\" style=\"fill:#ff7f0e;fill-opacity:0.5;stroke:#ffffff;stroke-linejoin:miter;stroke-width:0.760909;\"/>\r\n   </g>\r\n   <g id=\"patch_23\">\r\n    <path clip-path=\"url(#pbbb67e9c79)\" d=\"M 205.989063 239.375625 \r\nL 213.598153 239.375625 \r\nL 213.598153 107.593807 \r\nL 205.989063 107.593807 \r\nz\r\n\" style=\"fill:#ff7f0e;fill-opacity:0.5;stroke:#ffffff;stroke-linejoin:miter;stroke-width:0.760909;\"/>\r\n   </g>\r\n   <g id=\"patch_24\">\r\n    <path clip-path=\"url(#pbbb67e9c79)\" d=\"M 213.598153 239.375625 \r\nL 221.207244 239.375625 \r\nL 221.207244 32.289911 \r\nL 213.598153 32.289911 \r\nz\r\n\" style=\"fill:#ff7f0e;fill-opacity:0.5;stroke:#ffffff;stroke-linejoin:miter;stroke-width:0.760909;\"/>\r\n   </g>\r\n   <g id=\"patch_25\">\r\n    <path clip-path=\"url(#pbbb67e9c79)\" d=\"M 221.207244 239.375625 \r\nL 228.816335 239.375625 \r\nL 228.816335 182.897703 \r\nL 221.207244 182.897703 \r\nz\r\n\" style=\"fill:#ff7f0e;fill-opacity:0.5;stroke:#ffffff;stroke-linejoin:miter;stroke-width:0.760909;\"/>\r\n   </g>\r\n   <g id=\"patch_26\">\r\n    <path clip-path=\"url(#pbbb67e9c79)\" d=\"M 228.816335 239.375625 \r\nL 236.425426 239.375625 \r\nL 236.425426 151.52108 \r\nL 228.816335 151.52108 \r\nz\r\n\" style=\"fill:#ff7f0e;fill-opacity:0.5;stroke:#ffffff;stroke-linejoin:miter;stroke-width:0.760909;\"/>\r\n   </g>\r\n   <g id=\"patch_27\">\r\n    <path clip-path=\"url(#pbbb67e9c79)\" d=\"M 236.425426 239.375625 \r\nL 244.034517 239.375625 \r\nL 244.034517 151.52108 \r\nL 236.425426 151.52108 \r\nz\r\n\" style=\"fill:#ff7f0e;fill-opacity:0.5;stroke:#ffffff;stroke-linejoin:miter;stroke-width:0.760909;\"/>\r\n   </g>\r\n   <g id=\"patch_28\">\r\n    <path clip-path=\"url(#pbbb67e9c79)\" d=\"M 244.034517 239.375625 \r\nL 251.643608 239.375625 \r\nL 251.643608 164.071729 \r\nL 244.034517 164.071729 \r\nz\r\n\" style=\"fill:#ff7f0e;fill-opacity:0.5;stroke:#ffffff;stroke-linejoin:miter;stroke-width:0.760909;\"/>\r\n   </g>\r\n   <g id=\"patch_29\">\r\n    <path clip-path=\"url(#pbbb67e9c79)\" d=\"M 251.643608 239.375625 \r\nL 259.252699 239.375625 \r\nL 259.252699 207.999002 \r\nL 251.643608 207.999002 \r\nz\r\n\" style=\"fill:#ff7f0e;fill-opacity:0.5;stroke:#ffffff;stroke-linejoin:miter;stroke-width:0.760909;\"/>\r\n   </g>\r\n   <g id=\"patch_30\">\r\n    <path clip-path=\"url(#pbbb67e9c79)\" d=\"M 259.252699 239.375625 \r\nL 266.86179 239.375625 \r\nL 266.86179 201.723677 \r\nL 259.252699 201.723677 \r\nz\r\n\" style=\"fill:#ff7f0e;fill-opacity:0.5;stroke:#ffffff;stroke-linejoin:miter;stroke-width:0.760909;\"/>\r\n   </g>\r\n   <g id=\"patch_31\">\r\n    <path clip-path=\"url(#pbbb67e9c79)\" d=\"M 266.86179 239.375625 \r\nL 274.470881 239.375625 \r\nL 274.470881 226.824976 \r\nL 266.86179 226.824976 \r\nz\r\n\" style=\"fill:#ff7f0e;fill-opacity:0.5;stroke:#ffffff;stroke-linejoin:miter;stroke-width:0.760909;\"/>\r\n   </g>\r\n   <g id=\"patch_32\">\r\n    <path clip-path=\"url(#pbbb67e9c79)\" d=\"M 274.470881 239.375625 \r\nL 282.079972 239.375625 \r\nL 282.079972 207.999002 \r\nL 274.470881 207.999002 \r\nz\r\n\" style=\"fill:#ff7f0e;fill-opacity:0.5;stroke:#ffffff;stroke-linejoin:miter;stroke-width:0.760909;\"/>\r\n   </g>\r\n   <g id=\"patch_33\">\r\n    <path clip-path=\"url(#pbbb67e9c79)\" d=\"M 282.079972 239.375625 \r\nL 289.689063 239.375625 \r\nL 289.689063 220.549651 \r\nL 282.079972 220.549651 \r\nz\r\n\" style=\"fill:#ff7f0e;fill-opacity:0.5;stroke:#ffffff;stroke-linejoin:miter;stroke-width:0.760909;\"/>\r\n   </g>\r\n   <g id=\"patch_34\">\r\n    <path clip-path=\"url(#pbbb67e9c79)\" d=\"M 289.689063 239.375625 \r\nL 297.298153 239.375625 \r\nL 297.298153 226.824976 \r\nL 289.689063 226.824976 \r\nz\r\n\" style=\"fill:#ff7f0e;fill-opacity:0.5;stroke:#ffffff;stroke-linejoin:miter;stroke-width:0.760909;\"/>\r\n   </g>\r\n   <g id=\"patch_35\">\r\n    <path clip-path=\"url(#pbbb67e9c79)\" d=\"M 297.298153 239.375625 \r\nL 304.907244 239.375625 \r\nL 304.907244 214.274326 \r\nL 297.298153 214.274326 \r\nz\r\n\" style=\"fill:#ff7f0e;fill-opacity:0.5;stroke:#ffffff;stroke-linejoin:miter;stroke-width:0.760909;\"/>\r\n   </g>\r\n   <g id=\"patch_36\">\r\n    <path clip-path=\"url(#pbbb67e9c79)\" d=\"M 304.907244 239.375625 \r\nL 312.516335 239.375625 \r\nL 312.516335 239.375625 \r\nL 304.907244 239.375625 \r\nz\r\n\" style=\"fill:#ff7f0e;fill-opacity:0.5;stroke:#ffffff;stroke-linejoin:miter;stroke-width:0.760909;\"/>\r\n   </g>\r\n   <g id=\"patch_37\">\r\n    <path clip-path=\"url(#pbbb67e9c79)\" d=\"M 312.516335 239.375625 \r\nL 320.125426 239.375625 \r\nL 320.125426 239.375625 \r\nL 312.516335 239.375625 \r\nz\r\n\" style=\"fill:#ff7f0e;fill-opacity:0.5;stroke:#ffffff;stroke-linejoin:miter;stroke-width:0.760909;\"/>\r\n   </g>\r\n   <g id=\"patch_38\">\r\n    <path clip-path=\"url(#pbbb67e9c79)\" d=\"M 320.125426 239.375625 \r\nL 327.734517 239.375625 \r\nL 327.734517 233.1003 \r\nL 320.125426 233.1003 \r\nz\r\n\" style=\"fill:#ff7f0e;fill-opacity:0.5;stroke:#ffffff;stroke-linejoin:miter;stroke-width:0.760909;\"/>\r\n   </g>\r\n   <g id=\"patch_39\">\r\n    <path clip-path=\"url(#pbbb67e9c79)\" d=\"M 327.734517 239.375625 \r\nL 335.343608 239.375625 \r\nL 335.343608 226.824976 \r\nL 327.734517 226.824976 \r\nz\r\n\" style=\"fill:#ff7f0e;fill-opacity:0.5;stroke:#ffffff;stroke-linejoin:miter;stroke-width:0.760909;\"/>\r\n   </g>\r\n   <g id=\"patch_40\">\r\n    <path clip-path=\"url(#pbbb67e9c79)\" d=\"M 335.343608 239.375625 \r\nL 342.952699 239.375625 \r\nL 342.952699 239.375625 \r\nL 335.343608 239.375625 \r\nz\r\n\" style=\"fill:#ff7f0e;fill-opacity:0.5;stroke:#ffffff;stroke-linejoin:miter;stroke-width:0.760909;\"/>\r\n   </g>\r\n   <g id=\"patch_41\">\r\n    <path clip-path=\"url(#pbbb67e9c79)\" d=\"M 342.952699 239.375625 \r\nL 350.56179 239.375625 \r\nL 350.56179 239.375625 \r\nL 342.952699 239.375625 \r\nz\r\n\" style=\"fill:#ff7f0e;fill-opacity:0.5;stroke:#ffffff;stroke-linejoin:miter;stroke-width:0.760909;\"/>\r\n   </g>\r\n   <g id=\"patch_42\">\r\n    <path clip-path=\"url(#pbbb67e9c79)\" d=\"M 350.56179 239.375625 \r\nL 358.170881 239.375625 \r\nL 358.170881 226.824976 \r\nL 350.56179 226.824976 \r\nz\r\n\" style=\"fill:#ff7f0e;fill-opacity:0.5;stroke:#ffffff;stroke-linejoin:miter;stroke-width:0.760909;\"/>\r\n   </g>\r\n   <g id=\"patch_43\">\r\n    <path clip-path=\"url(#pbbb67e9c79)\" d=\"M 53.807244 239.375625 \r\nL 61.416335 239.375625 \r\nL 61.416335 233.1003 \r\nL 53.807244 233.1003 \r\nz\r\n\" style=\"fill:#1f77b4;fill-opacity:0.5;stroke:#ffffff;stroke-linejoin:miter;stroke-width:0.760909;\"/>\r\n   </g>\r\n   <g id=\"patch_44\">\r\n    <path clip-path=\"url(#pbbb67e9c79)\" d=\"M 61.416335 239.375625 \r\nL 69.025426 239.375625 \r\nL 69.025426 233.1003 \r\nL 61.416335 233.1003 \r\nz\r\n\" style=\"fill:#1f77b4;fill-opacity:0.5;stroke:#ffffff;stroke-linejoin:miter;stroke-width:0.760909;\"/>\r\n   </g>\r\n   <g id=\"patch_45\">\r\n    <path clip-path=\"url(#pbbb67e9c79)\" d=\"M 69.025426 239.375625 \r\nL 76.634517 239.375625 \r\nL 76.634517 239.375625 \r\nL 69.025426 239.375625 \r\nz\r\n\" style=\"fill:#1f77b4;fill-opacity:0.5;stroke:#ffffff;stroke-linejoin:miter;stroke-width:0.760909;\"/>\r\n   </g>\r\n   <g id=\"patch_46\">\r\n    <path clip-path=\"url(#pbbb67e9c79)\" d=\"M 76.634517 239.375625 \r\nL 84.243608 239.375625 \r\nL 84.243608 239.375625 \r\nL 76.634517 239.375625 \r\nz\r\n\" style=\"fill:#1f77b4;fill-opacity:0.5;stroke:#ffffff;stroke-linejoin:miter;stroke-width:0.760909;\"/>\r\n   </g>\r\n   <g id=\"patch_47\">\r\n    <path clip-path=\"url(#pbbb67e9c79)\" d=\"M 84.243608 239.375625 \r\nL 91.852699 239.375625 \r\nL 91.852699 239.375625 \r\nL 84.243608 239.375625 \r\nz\r\n\" style=\"fill:#1f77b4;fill-opacity:0.5;stroke:#ffffff;stroke-linejoin:miter;stroke-width:0.760909;\"/>\r\n   </g>\r\n   <g id=\"patch_48\">\r\n    <path clip-path=\"url(#pbbb67e9c79)\" d=\"M 91.852699 239.375625 \r\nL 99.46179 239.375625 \r\nL 99.46179 239.375625 \r\nL 91.852699 239.375625 \r\nz\r\n\" style=\"fill:#1f77b4;fill-opacity:0.5;stroke:#ffffff;stroke-linejoin:miter;stroke-width:0.760909;\"/>\r\n   </g>\r\n   <g id=\"patch_49\">\r\n    <path clip-path=\"url(#pbbb67e9c79)\" d=\"M 99.46179 239.375625 \r\nL 107.070881 239.375625 \r\nL 107.070881 239.375625 \r\nL 99.46179 239.375625 \r\nz\r\n\" style=\"fill:#1f77b4;fill-opacity:0.5;stroke:#ffffff;stroke-linejoin:miter;stroke-width:0.760909;\"/>\r\n   </g>\r\n   <g id=\"patch_50\">\r\n    <path clip-path=\"url(#pbbb67e9c79)\" d=\"M 107.070881 239.375625 \r\nL 114.679972 239.375625 \r\nL 114.679972 239.375625 \r\nL 107.070881 239.375625 \r\nz\r\n\" style=\"fill:#1f77b4;fill-opacity:0.5;stroke:#ffffff;stroke-linejoin:miter;stroke-width:0.760909;\"/>\r\n   </g>\r\n   <g id=\"patch_51\">\r\n    <path clip-path=\"url(#pbbb67e9c79)\" d=\"M 114.679972 239.375625 \r\nL 122.289063 239.375625 \r\nL 122.289063 239.375625 \r\nL 114.679972 239.375625 \r\nz\r\n\" style=\"fill:#1f77b4;fill-opacity:0.5;stroke:#ffffff;stroke-linejoin:miter;stroke-width:0.760909;\"/>\r\n   </g>\r\n   <g id=\"patch_52\">\r\n    <path clip-path=\"url(#pbbb67e9c79)\" d=\"M 122.289063 239.375625 \r\nL 129.898153 239.375625 \r\nL 129.898153 239.375625 \r\nL 122.289063 239.375625 \r\nz\r\n\" style=\"fill:#1f77b4;fill-opacity:0.5;stroke:#ffffff;stroke-linejoin:miter;stroke-width:0.760909;\"/>\r\n   </g>\r\n   <g id=\"patch_53\">\r\n    <path clip-path=\"url(#pbbb67e9c79)\" d=\"M 129.898153 239.375625 \r\nL 137.507244 239.375625 \r\nL 137.507244 239.375625 \r\nL 129.898153 239.375625 \r\nz\r\n\" style=\"fill:#1f77b4;fill-opacity:0.5;stroke:#ffffff;stroke-linejoin:miter;stroke-width:0.760909;\"/>\r\n   </g>\r\n   <g id=\"patch_54\">\r\n    <path clip-path=\"url(#pbbb67e9c79)\" d=\"M 137.507244 239.375625 \r\nL 145.116335 239.375625 \r\nL 145.116335 239.375625 \r\nL 137.507244 239.375625 \r\nz\r\n\" style=\"fill:#1f77b4;fill-opacity:0.5;stroke:#ffffff;stroke-linejoin:miter;stroke-width:0.760909;\"/>\r\n   </g>\r\n   <g id=\"patch_55\">\r\n    <path clip-path=\"url(#pbbb67e9c79)\" d=\"M 145.116335 239.375625 \r\nL 152.725426 239.375625 \r\nL 152.725426 239.375625 \r\nL 145.116335 239.375625 \r\nz\r\n\" style=\"fill:#1f77b4;fill-opacity:0.5;stroke:#ffffff;stroke-linejoin:miter;stroke-width:0.760909;\"/>\r\n   </g>\r\n   <g id=\"patch_56\">\r\n    <path clip-path=\"url(#pbbb67e9c79)\" d=\"M 152.725426 239.375625 \r\nL 160.334517 239.375625 \r\nL 160.334517 239.375625 \r\nL 152.725426 239.375625 \r\nz\r\n\" style=\"fill:#1f77b4;fill-opacity:0.5;stroke:#ffffff;stroke-linejoin:miter;stroke-width:0.760909;\"/>\r\n   </g>\r\n   <g id=\"patch_57\">\r\n    <path clip-path=\"url(#pbbb67e9c79)\" d=\"M 160.334517 239.375625 \r\nL 167.943608 239.375625 \r\nL 167.943608 239.375625 \r\nL 160.334517 239.375625 \r\nz\r\n\" style=\"fill:#1f77b4;fill-opacity:0.5;stroke:#ffffff;stroke-linejoin:miter;stroke-width:0.760909;\"/>\r\n   </g>\r\n   <g id=\"patch_58\">\r\n    <path clip-path=\"url(#pbbb67e9c79)\" d=\"M 167.943608 239.375625 \r\nL 175.552699 239.375625 \r\nL 175.552699 239.375625 \r\nL 167.943608 239.375625 \r\nz\r\n\" style=\"fill:#1f77b4;fill-opacity:0.5;stroke:#ffffff;stroke-linejoin:miter;stroke-width:0.760909;\"/>\r\n   </g>\r\n   <g id=\"patch_59\">\r\n    <path clip-path=\"url(#pbbb67e9c79)\" d=\"M 175.552699 239.375625 \r\nL 183.16179 239.375625 \r\nL 183.16179 239.375625 \r\nL 175.552699 239.375625 \r\nz\r\n\" style=\"fill:#1f77b4;fill-opacity:0.5;stroke:#ffffff;stroke-linejoin:miter;stroke-width:0.760909;\"/>\r\n   </g>\r\n   <g id=\"patch_60\">\r\n    <path clip-path=\"url(#pbbb67e9c79)\" d=\"M 183.16179 239.375625 \r\nL 190.770881 239.375625 \r\nL 190.770881 220.549651 \r\nL 183.16179 220.549651 \r\nz\r\n\" style=\"fill:#1f77b4;fill-opacity:0.5;stroke:#ffffff;stroke-linejoin:miter;stroke-width:0.760909;\"/>\r\n   </g>\r\n   <g id=\"patch_61\">\r\n    <path clip-path=\"url(#pbbb67e9c79)\" d=\"M 190.770881 239.375625 \r\nL 198.379972 239.375625 \r\nL 198.379972 164.071729 \r\nL 190.770881 164.071729 \r\nz\r\n\" style=\"fill:#1f77b4;fill-opacity:0.5;stroke:#ffffff;stroke-linejoin:miter;stroke-width:0.760909;\"/>\r\n   </g>\r\n   <g id=\"patch_62\">\r\n    <path clip-path=\"url(#pbbb67e9c79)\" d=\"M 198.379972 239.375625 \r\nL 205.989063 239.375625 \r\nL 205.989063 201.723677 \r\nL 198.379972 201.723677 \r\nz\r\n\" style=\"fill:#1f77b4;fill-opacity:0.5;stroke:#ffffff;stroke-linejoin:miter;stroke-width:0.760909;\"/>\r\n   </g>\r\n   <g id=\"patch_63\">\r\n    <path clip-path=\"url(#pbbb67e9c79)\" d=\"M 205.989063 239.375625 \r\nL 213.598153 239.375625 \r\nL 213.598153 233.1003 \r\nL 205.989063 233.1003 \r\nz\r\n\" style=\"fill:#1f77b4;fill-opacity:0.5;stroke:#ffffff;stroke-linejoin:miter;stroke-width:0.760909;\"/>\r\n   </g>\r\n   <g id=\"patch_64\">\r\n    <path clip-path=\"url(#pbbb67e9c79)\" d=\"M 213.598153 239.375625 \r\nL 221.207244 239.375625 \r\nL 221.207244 182.897703 \r\nL 213.598153 182.897703 \r\nz\r\n\" style=\"fill:#1f77b4;fill-opacity:0.5;stroke:#ffffff;stroke-linejoin:miter;stroke-width:0.760909;\"/>\r\n   </g>\r\n   <g id=\"patch_65\">\r\n    <path clip-path=\"url(#pbbb67e9c79)\" d=\"M 221.207244 239.375625 \r\nL 228.816335 239.375625 \r\nL 228.816335 226.824976 \r\nL 221.207244 226.824976 \r\nz\r\n\" style=\"fill:#1f77b4;fill-opacity:0.5;stroke:#ffffff;stroke-linejoin:miter;stroke-width:0.760909;\"/>\r\n   </g>\r\n   <g id=\"patch_66\">\r\n    <path clip-path=\"url(#pbbb67e9c79)\" d=\"M 228.816335 239.375625 \r\nL 236.425426 239.375625 \r\nL 236.425426 233.1003 \r\nL 228.816335 233.1003 \r\nz\r\n\" style=\"fill:#1f77b4;fill-opacity:0.5;stroke:#ffffff;stroke-linejoin:miter;stroke-width:0.760909;\"/>\r\n   </g>\r\n   <g id=\"patch_67\">\r\n    <path clip-path=\"url(#pbbb67e9c79)\" d=\"M 236.425426 239.375625 \r\nL 244.034517 239.375625 \r\nL 244.034517 226.824976 \r\nL 236.425426 226.824976 \r\nz\r\n\" style=\"fill:#1f77b4;fill-opacity:0.5;stroke:#ffffff;stroke-linejoin:miter;stroke-width:0.760909;\"/>\r\n   </g>\r\n   <g id=\"patch_68\">\r\n    <path clip-path=\"url(#pbbb67e9c79)\" d=\"M 244.034517 239.375625 \r\nL 251.643608 239.375625 \r\nL 251.643608 226.824976 \r\nL 244.034517 226.824976 \r\nz\r\n\" style=\"fill:#1f77b4;fill-opacity:0.5;stroke:#ffffff;stroke-linejoin:miter;stroke-width:0.760909;\"/>\r\n   </g>\r\n   <g id=\"patch_69\">\r\n    <path clip-path=\"url(#pbbb67e9c79)\" d=\"M 251.643608 239.375625 \r\nL 259.252699 239.375625 \r\nL 259.252699 233.1003 \r\nL 251.643608 233.1003 \r\nz\r\n\" style=\"fill:#1f77b4;fill-opacity:0.5;stroke:#ffffff;stroke-linejoin:miter;stroke-width:0.760909;\"/>\r\n   </g>\r\n   <g id=\"patch_70\">\r\n    <path clip-path=\"url(#pbbb67e9c79)\" d=\"M 259.252699 239.375625 \r\nL 266.86179 239.375625 \r\nL 266.86179 233.1003 \r\nL 259.252699 233.1003 \r\nz\r\n\" style=\"fill:#1f77b4;fill-opacity:0.5;stroke:#ffffff;stroke-linejoin:miter;stroke-width:0.760909;\"/>\r\n   </g>\r\n   <g id=\"patch_71\">\r\n    <path clip-path=\"url(#pbbb67e9c79)\" d=\"M 266.86179 239.375625 \r\nL 274.470881 239.375625 \r\nL 274.470881 239.375625 \r\nL 266.86179 239.375625 \r\nz\r\n\" style=\"fill:#1f77b4;fill-opacity:0.5;stroke:#ffffff;stroke-linejoin:miter;stroke-width:0.760909;\"/>\r\n   </g>\r\n   <g id=\"patch_72\">\r\n    <path clip-path=\"url(#pbbb67e9c79)\" d=\"M 274.470881 239.375625 \r\nL 282.079972 239.375625 \r\nL 282.079972 239.375625 \r\nL 274.470881 239.375625 \r\nz\r\n\" style=\"fill:#1f77b4;fill-opacity:0.5;stroke:#ffffff;stroke-linejoin:miter;stroke-width:0.760909;\"/>\r\n   </g>\r\n   <g id=\"patch_73\">\r\n    <path clip-path=\"url(#pbbb67e9c79)\" d=\"M 282.079972 239.375625 \r\nL 289.689063 239.375625 \r\nL 289.689063 233.1003 \r\nL 282.079972 233.1003 \r\nz\r\n\" style=\"fill:#1f77b4;fill-opacity:0.5;stroke:#ffffff;stroke-linejoin:miter;stroke-width:0.760909;\"/>\r\n   </g>\r\n   <g id=\"patch_74\">\r\n    <path clip-path=\"url(#pbbb67e9c79)\" d=\"M 289.689063 239.375625 \r\nL 297.298153 239.375625 \r\nL 297.298153 239.375625 \r\nL 289.689063 239.375625 \r\nz\r\n\" style=\"fill:#1f77b4;fill-opacity:0.5;stroke:#ffffff;stroke-linejoin:miter;stroke-width:0.760909;\"/>\r\n   </g>\r\n   <g id=\"patch_75\">\r\n    <path clip-path=\"url(#pbbb67e9c79)\" d=\"M 297.298153 239.375625 \r\nL 304.907244 239.375625 \r\nL 304.907244 239.375625 \r\nL 297.298153 239.375625 \r\nz\r\n\" style=\"fill:#1f77b4;fill-opacity:0.5;stroke:#ffffff;stroke-linejoin:miter;stroke-width:0.760909;\"/>\r\n   </g>\r\n   <g id=\"patch_76\">\r\n    <path clip-path=\"url(#pbbb67e9c79)\" d=\"M 304.907244 239.375625 \r\nL 312.516335 239.375625 \r\nL 312.516335 239.375625 \r\nL 304.907244 239.375625 \r\nz\r\n\" style=\"fill:#1f77b4;fill-opacity:0.5;stroke:#ffffff;stroke-linejoin:miter;stroke-width:0.760909;\"/>\r\n   </g>\r\n   <g id=\"patch_77\">\r\n    <path clip-path=\"url(#pbbb67e9c79)\" d=\"M 312.516335 239.375625 \r\nL 320.125426 239.375625 \r\nL 320.125426 239.375625 \r\nL 312.516335 239.375625 \r\nz\r\n\" style=\"fill:#1f77b4;fill-opacity:0.5;stroke:#ffffff;stroke-linejoin:miter;stroke-width:0.760909;\"/>\r\n   </g>\r\n   <g id=\"patch_78\">\r\n    <path clip-path=\"url(#pbbb67e9c79)\" d=\"M 320.125426 239.375625 \r\nL 327.734517 239.375625 \r\nL 327.734517 239.375625 \r\nL 320.125426 239.375625 \r\nz\r\n\" style=\"fill:#1f77b4;fill-opacity:0.5;stroke:#ffffff;stroke-linejoin:miter;stroke-width:0.760909;\"/>\r\n   </g>\r\n   <g id=\"patch_79\">\r\n    <path clip-path=\"url(#pbbb67e9c79)\" d=\"M 327.734517 239.375625 \r\nL 335.343608 239.375625 \r\nL 335.343608 233.1003 \r\nL 327.734517 233.1003 \r\nz\r\n\" style=\"fill:#1f77b4;fill-opacity:0.5;stroke:#ffffff;stroke-linejoin:miter;stroke-width:0.760909;\"/>\r\n   </g>\r\n   <g id=\"patch_80\">\r\n    <path clip-path=\"url(#pbbb67e9c79)\" d=\"M 335.343608 239.375625 \r\nL 342.952699 239.375625 \r\nL 342.952699 239.375625 \r\nL 335.343608 239.375625 \r\nz\r\n\" style=\"fill:#1f77b4;fill-opacity:0.5;stroke:#ffffff;stroke-linejoin:miter;stroke-width:0.760909;\"/>\r\n   </g>\r\n   <g id=\"patch_81\">\r\n    <path clip-path=\"url(#pbbb67e9c79)\" d=\"M 342.952699 239.375625 \r\nL 350.56179 239.375625 \r\nL 350.56179 239.375625 \r\nL 342.952699 239.375625 \r\nz\r\n\" style=\"fill:#1f77b4;fill-opacity:0.5;stroke:#ffffff;stroke-linejoin:miter;stroke-width:0.760909;\"/>\r\n   </g>\r\n   <g id=\"patch_82\">\r\n    <path clip-path=\"url(#pbbb67e9c79)\" d=\"M 350.56179 239.375625 \r\nL 358.170881 239.375625 \r\nL 358.170881 239.375625 \r\nL 350.56179 239.375625 \r\nz\r\n\" style=\"fill:#1f77b4;fill-opacity:0.5;stroke:#ffffff;stroke-linejoin:miter;stroke-width:0.760909;\"/>\r\n   </g>\r\n   <g id=\"line2d_14\">\r\n    <path clip-path=\"url(#pbbb67e9c79)\" d=\"M 53.807244 233.202976 \r\nL 56.866175 233.026259 \r\nL 59.925106 233.110615 \r\nL 62.984037 233.445935 \r\nL 66.042968 233.992368 \r\nL 70.631365 235.069434 \r\nL 78.278692 236.967133 \r\nL 82.867089 237.876785 \r\nL 87.455486 238.526971 \r\nL 92.043882 238.938518 \r\nL 98.161744 239.219919 \r\nL 107.338537 239.351367 \r\nL 127.221589 239.341283 \r\nL 134.868916 239.199936 \r\nL 139.457313 238.956039 \r\nL 142.516244 238.658556 \r\nL 145.575175 238.191686 \r\nL 148.634106 237.485013 \r\nL 151.693037 236.452056 \r\nL 154.751968 234.991813 \r\nL 156.281433 234.066716 \r\nL 157.810899 232.992112 \r\nL 159.340364 231.753047 \r\nL 160.86983 230.334559 \r\nL 162.399295 228.721891 \r\nL 163.928761 226.900724 \r\nL 165.458227 224.857424 \r\nL 166.987692 222.579306 \r\nL 168.517158 220.05493 \r\nL 170.046623 217.274428 \r\nL 171.576089 214.229879 \r\nL 173.105554 210.915729 \r\nL 176.164485 203.471168 \r\nL 179.223416 194.963042 \r\nL 182.282347 185.486348 \r\nL 185.341278 175.226528 \r\nL 196.047537 138.171726 \r\nL 199.106468 129.203357 \r\nL 200.635933 125.302184 \r\nL 202.165399 121.860316 \r\nL 203.694864 118.920485 \r\nL 205.22433 116.51533 \r\nL 206.753795 114.666276 \r\nL 208.283261 113.382882 \r\nL 209.812726 112.662716 \r\nL 211.342192 112.49177 \r\nL 212.871657 112.845384 \r\nL 214.401123 113.689632 \r\nL 215.930588 114.983058 \r\nL 217.460054 116.678684 \r\nL 218.989519 118.726121 \r\nL 220.518985 121.073682 \r\nL 223.577916 126.467534 \r\nL 226.636847 132.489 \r\nL 232.754709 145.312063 \r\nL 240.402036 161.283075 \r\nL 244.990433 170.459174 \r\nL 249.57883 179.174149 \r\nL 252.637761 184.652508 \r\nL 255.696692 189.806472 \r\nL 258.755623 194.586242 \r\nL 261.814554 198.947732 \r\nL 264.873485 202.857146 \r\nL 267.932416 206.296069 \r\nL 270.991347 209.266822 \r\nL 274.050278 211.796773 \r\nL 277.109209 213.939635 \r\nL 280.16814 215.772132 \r\nL 284.756536 218.139687 \r\nL 300.051191 225.595682 \r\nL 306.169053 228.573997 \r\nL 309.227984 229.892353 \r\nL 312.286915 231.03504 \r\nL 315.345846 231.979213 \r\nL 318.404777 232.725135 \r\nL 321.463708 233.293542 \r\nL 326.052105 233.890314 \r\nL 332.169967 234.407668 \r\nL 358.170881 236.304965 \r\nL 358.170881 236.304965 \r\n\" style=\"fill:none;stroke:#ff7f0e;stroke-linecap:round;stroke-width:1.5;\"/>\r\n   </g>\r\n   <g id=\"line2d_15\">\r\n    <path clip-path=\"url(#pbbb67e9c79)\" d=\"M 53.807244 237.662795 \r\nL 61.454572 237.600573 \r\nL 69.101899 237.755929 \r\nL 79.808158 238.225608 \r\nL 96.632279 238.971325 \r\nL 108.868003 239.242753 \r\nL 121.103727 239.297394 \r\nL 130.28052 239.167014 \r\nL 136.398382 238.912054 \r\nL 140.986778 238.561312 \r\nL 145.575175 238.004716 \r\nL 150.163571 237.168167 \r\nL 153.222502 236.417336 \r\nL 156.281433 235.488514 \r\nL 159.340364 234.366887 \r\nL 162.399295 233.045161 \r\nL 165.458227 231.525939 \r\nL 170.046623 228.911842 \r\nL 174.63502 225.991901 \r\nL 185.341278 218.996422 \r\nL 188.400209 217.243587 \r\nL 191.45914 215.717397 \r\nL 194.518071 214.469506 \r\nL 197.577002 213.538515 \r\nL 200.635933 212.947839 \r\nL 203.694864 212.704882 \r\nL 206.753795 212.801522 \r\nL 209.812726 213.215724 \r\nL 212.871657 213.91403 \r\nL 215.930588 214.854593 \r\nL 218.989519 215.990443 \r\nL 223.577916 217.953598 \r\nL 243.460967 226.930672 \r\nL 248.049364 228.653834 \r\nL 252.637761 230.192236 \r\nL 258.755623 231.972823 \r\nL 264.873485 233.474689 \r\nL 270.991347 234.726687 \r\nL 277.109209 235.749498 \r\nL 283.227071 236.560306 \r\nL 289.344933 237.177566 \r\nL 296.99226 237.709377 \r\nL 304.639588 238.019942 \r\nL 315.345846 238.203391 \r\nL 338.287829 238.509902 \r\nL 358.170881 239.051177 \r\nL 358.170881 239.051177 \r\n\" style=\"fill:none;stroke:#1f77b4;stroke-linecap:round;stroke-width:1.5;\"/>\r\n   </g>\r\n   <g id=\"patch_83\">\r\n    <path d=\"M 38.589063 239.375625 \r\nL 38.589063 21.935625 \r\n\" style=\"fill:none;stroke:#ffffff;stroke-linecap:square;stroke-linejoin:miter;stroke-width:0.8;\"/>\r\n   </g>\r\n   <g id=\"patch_84\">\r\n    <path d=\"M 373.389063 239.375625 \r\nL 373.389063 21.935625 \r\n\" style=\"fill:none;stroke:#ffffff;stroke-linecap:square;stroke-linejoin:miter;stroke-width:0.8;\"/>\r\n   </g>\r\n   <g id=\"patch_85\">\r\n    <path d=\"M 38.589063 239.375625 \r\nL 373.389063 239.375625 \r\n\" style=\"fill:none;stroke:#ffffff;stroke-linecap:square;stroke-linejoin:miter;stroke-width:0.8;\"/>\r\n   </g>\r\n   <g id=\"patch_86\">\r\n    <path d=\"M 38.589063 21.935625 \r\nL 373.389063 21.935625 \r\n\" style=\"fill:none;stroke:#ffffff;stroke-linecap:square;stroke-linejoin:miter;stroke-width:0.8;\"/>\r\n   </g>\r\n   <g id=\"text_16\">\r\n    <!-- Distribution of age frequency by gender -->\r\n    <g style=\"fill:#262626;\" transform=\"translate(101.266563 15.935625)scale(0.12 -0.12)\">\r\n     <defs>\r\n      <path d=\"M 7.71875 0 \r\nL 7.71875 71.578125 \r\nL 32.375 71.578125 \r\nQ 40.71875 71.578125 45.125 70.5625 \r\nQ 51.265625 69.140625 55.609375 65.4375 \r\nQ 61.28125 60.640625 64.078125 53.1875 \r\nQ 66.890625 45.75 66.890625 36.1875 \r\nQ 66.890625 28.03125 64.984375 21.734375 \r\nQ 63.09375 15.4375 60.109375 11.296875 \r\nQ 57.125 7.171875 53.578125 4.796875 \r\nQ 50.046875 2.4375 45.046875 1.21875 \r\nQ 40.046875 0 33.546875 0 \r\nz\r\nM 17.1875 8.453125 \r\nL 32.46875 8.453125 \r\nQ 39.546875 8.453125 43.578125 9.765625 \r\nQ 47.609375 11.078125 50 13.484375 \r\nQ 53.375 16.84375 55.25 22.53125 \r\nQ 57.125 28.21875 57.125 36.328125 \r\nQ 57.125 47.5625 53.4375 53.59375 \r\nQ 49.75 59.625 44.484375 61.671875 \r\nQ 40.671875 63.140625 32.234375 63.140625 \r\nL 17.1875 63.140625 \r\nz\r\n\" id=\"ArialMT-68\"/>\r\n      <path d=\"M 39.65625 -19.875 \r\nL 39.65625 5.515625 \r\nQ 37.59375 2.640625 33.90625 0.734375 \r\nQ 30.21875 -1.171875 26.078125 -1.171875 \r\nQ 16.84375 -1.171875 10.171875 6.203125 \r\nQ 3.515625 13.578125 3.515625 26.421875 \r\nQ 3.515625 34.234375 6.21875 40.421875 \r\nQ 8.9375 46.625 14.078125 49.828125 \r\nQ 19.234375 53.03125 25.390625 53.03125 \r\nQ 35.015625 53.03125 40.53125 44.921875 \r\nL 40.53125 51.859375 \r\nL 48.4375 51.859375 \r\nL 48.4375 -19.875 \r\nz\r\nM 12.546875 26.078125 \r\nQ 12.546875 16.0625 16.75 11.0625 \r\nQ 20.953125 6.0625 26.8125 6.0625 \r\nQ 32.421875 6.0625 36.46875 10.8125 \r\nQ 40.53125 15.578125 40.53125 25.296875 \r\nQ 40.53125 35.640625 36.25 40.859375 \r\nQ 31.984375 46.09375 26.21875 46.09375 \r\nQ 20.515625 46.09375 16.53125 41.234375 \r\nQ 12.546875 36.375 12.546875 26.078125 \r\nz\r\n\" id=\"ArialMT-113\"/>\r\n      <path d=\"M 6.203125 -19.96875 \r\nL 5.21875 -11.71875 \r\nQ 8.109375 -12.5 10.25 -12.5 \r\nQ 13.1875 -12.5 14.9375 -11.515625 \r\nQ 16.703125 -10.546875 17.828125 -8.796875 \r\nQ 18.65625 -7.46875 20.515625 -2.25 \r\nQ 20.75 -1.515625 21.296875 -0.09375 \r\nL 1.609375 51.859375 \r\nL 11.078125 51.859375 \r\nL 21.875 21.828125 \r\nQ 23.96875 16.109375 25.640625 9.8125 \r\nQ 27.15625 15.875 29.25 21.625 \r\nL 40.328125 51.859375 \r\nL 49.125 51.859375 \r\nL 29.390625 -0.875 \r\nQ 26.21875 -9.421875 24.46875 -12.640625 \r\nQ 22.125 -17 19.09375 -19.015625 \r\nQ 16.0625 -21.046875 11.859375 -21.046875 \r\nQ 9.328125 -21.046875 6.203125 -19.96875 \r\nz\r\n\" id=\"ArialMT-121\"/>\r\n      <path d=\"M 40.234375 0 \r\nL 40.234375 6.546875 \r\nQ 35.296875 -1.171875 25.734375 -1.171875 \r\nQ 19.53125 -1.171875 14.328125 2.25 \r\nQ 9.125 5.671875 6.265625 11.796875 \r\nQ 3.421875 17.921875 3.421875 25.875 \r\nQ 3.421875 33.640625 6 39.96875 \r\nQ 8.59375 46.296875 13.765625 49.65625 \r\nQ 18.953125 53.03125 25.34375 53.03125 \r\nQ 30.03125 53.03125 33.6875 51.046875 \r\nQ 37.359375 49.078125 39.65625 45.90625 \r\nL 39.65625 71.578125 \r\nL 48.390625 71.578125 \r\nL 48.390625 0 \r\nz\r\nM 12.453125 25.875 \r\nQ 12.453125 15.921875 16.640625 10.984375 \r\nQ 20.84375 6.0625 26.5625 6.0625 \r\nQ 32.328125 6.0625 36.34375 10.765625 \r\nQ 40.375 15.484375 40.375 25.140625 \r\nQ 40.375 35.796875 36.265625 40.765625 \r\nQ 32.171875 45.75 26.171875 45.75 \r\nQ 20.3125 45.75 16.375 40.96875 \r\nQ 12.453125 36.1875 12.453125 25.875 \r\nz\r\n\" id=\"ArialMT-100\"/>\r\n     </defs>\r\n     <use xlink:href=\"#ArialMT-68\"/>\r\n     <use x=\"72.216797\" xlink:href=\"#ArialMT-105\"/>\r\n     <use x=\"94.433594\" xlink:href=\"#ArialMT-115\"/>\r\n     <use x=\"144.433594\" xlink:href=\"#ArialMT-116\"/>\r\n     <use x=\"172.216797\" xlink:href=\"#ArialMT-114\"/>\r\n     <use x=\"205.517578\" xlink:href=\"#ArialMT-105\"/>\r\n     <use x=\"227.734375\" xlink:href=\"#ArialMT-98\"/>\r\n     <use x=\"283.349609\" xlink:href=\"#ArialMT-117\"/>\r\n     <use x=\"338.964844\" xlink:href=\"#ArialMT-116\"/>\r\n     <use x=\"366.748047\" xlink:href=\"#ArialMT-105\"/>\r\n     <use x=\"388.964844\" xlink:href=\"#ArialMT-111\"/>\r\n     <use x=\"444.580078\" xlink:href=\"#ArialMT-110\"/>\r\n     <use x=\"500.195312\" xlink:href=\"#ArialMT-32\"/>\r\n     <use x=\"527.978516\" xlink:href=\"#ArialMT-111\"/>\r\n     <use x=\"583.59375\" xlink:href=\"#ArialMT-102\"/>\r\n     <use x=\"611.376953\" xlink:href=\"#ArialMT-32\"/>\r\n     <use x=\"639.160156\" xlink:href=\"#ArialMT-97\"/>\r\n     <use x=\"694.775391\" xlink:href=\"#ArialMT-103\"/>\r\n     <use x=\"750.390625\" xlink:href=\"#ArialMT-101\"/>\r\n     <use x=\"806.005859\" xlink:href=\"#ArialMT-32\"/>\r\n     <use x=\"833.789062\" xlink:href=\"#ArialMT-102\"/>\r\n     <use x=\"861.572266\" xlink:href=\"#ArialMT-114\"/>\r\n     <use x=\"894.873047\" xlink:href=\"#ArialMT-101\"/>\r\n     <use x=\"950.488281\" xlink:href=\"#ArialMT-113\"/>\r\n     <use x=\"1006.103516\" xlink:href=\"#ArialMT-117\"/>\r\n     <use x=\"1061.71875\" xlink:href=\"#ArialMT-101\"/>\r\n     <use x=\"1117.333984\" xlink:href=\"#ArialMT-110\"/>\r\n     <use x=\"1172.949219\" xlink:href=\"#ArialMT-99\"/>\r\n     <use x=\"1222.949219\" xlink:href=\"#ArialMT-121\"/>\r\n     <use x=\"1272.949219\" xlink:href=\"#ArialMT-32\"/>\r\n     <use x=\"1300.732422\" xlink:href=\"#ArialMT-98\"/>\r\n     <use x=\"1356.347656\" xlink:href=\"#ArialMT-121\"/>\r\n     <use x=\"1406.347656\" xlink:href=\"#ArialMT-32\"/>\r\n     <use x=\"1434.130859\" xlink:href=\"#ArialMT-103\"/>\r\n     <use x=\"1489.746094\" xlink:href=\"#ArialMT-101\"/>\r\n     <use x=\"1545.361328\" xlink:href=\"#ArialMT-110\"/>\r\n     <use x=\"1600.976562\" xlink:href=\"#ArialMT-100\"/>\r\n     <use x=\"1656.591797\" xlink:href=\"#ArialMT-101\"/>\r\n     <use x=\"1712.207031\" xlink:href=\"#ArialMT-114\"/>\r\n    </g>\r\n   </g>\r\n   <g id=\"legend_1\">\r\n    <g id=\"patch_87\">\r\n     <path d=\"M 304.376563 72.48875 \r\nL 366.389063 72.48875 \r\nQ 368.389063 72.48875 368.389063 70.48875 \r\nL 368.389063 28.935625 \r\nQ 368.389063 26.935625 366.389063 26.935625 \r\nL 304.376563 26.935625 \r\nQ 302.376563 26.935625 302.376563 28.935625 \r\nL 302.376563 70.48875 \r\nQ 302.376563 72.48875 304.376563 72.48875 \r\nz\r\n\" style=\"fill:#eaeaf2;opacity:0.8;stroke:#cccccc;stroke-linejoin:miter;\"/>\r\n    </g>\r\n    <g id=\"text_17\">\r\n     <!-- gender -->\r\n     <g style=\"fill:#262626;\" transform=\"translate(319.815625 38.093438)scale(0.1 -0.1)\">\r\n      <use xlink:href=\"#ArialMT-103\"/>\r\n      <use x=\"55.615234\" xlink:href=\"#ArialMT-101\"/>\r\n      <use x=\"111.230469\" xlink:href=\"#ArialMT-110\"/>\r\n      <use x=\"166.845703\" xlink:href=\"#ArialMT-100\"/>\r\n      <use x=\"222.460938\" xlink:href=\"#ArialMT-101\"/>\r\n      <use x=\"278.076172\" xlink:href=\"#ArialMT-114\"/>\r\n     </g>\r\n    </g>\r\n    <g id=\"patch_88\">\r\n     <path d=\"M 306.376563 52.355938 \r\nL 326.376563 52.355938 \r\nL 326.376563 45.355938 \r\nL 306.376563 45.355938 \r\nz\r\n\" style=\"fill:#1f77b4;fill-opacity:0.5;stroke:#ffffff;stroke-linejoin:miter;\"/>\r\n    </g>\r\n    <g id=\"text_18\">\r\n     <!-- female -->\r\n     <g style=\"fill:#262626;\" transform=\"translate(334.376563 52.355938)scale(0.1 -0.1)\">\r\n      <use xlink:href=\"#ArialMT-102\"/>\r\n      <use x=\"27.783203\" xlink:href=\"#ArialMT-101\"/>\r\n      <use x=\"83.398438\" xlink:href=\"#ArialMT-109\"/>\r\n      <use x=\"166.699219\" xlink:href=\"#ArialMT-97\"/>\r\n      <use x=\"222.314453\" xlink:href=\"#ArialMT-108\"/>\r\n      <use x=\"244.53125\" xlink:href=\"#ArialMT-101\"/>\r\n     </g>\r\n    </g>\r\n    <g id=\"patch_89\">\r\n     <path d=\"M 306.376563 66.50125 \r\nL 326.376563 66.50125 \r\nL 326.376563 59.50125 \r\nL 306.376563 59.50125 \r\nz\r\n\" style=\"fill:#ff7f0e;fill-opacity:0.5;stroke:#ffffff;stroke-linejoin:miter;\"/>\r\n    </g>\r\n    <g id=\"text_19\">\r\n     <!-- male -->\r\n     <g style=\"fill:#262626;\" transform=\"translate(334.376563 66.50125)scale(0.1 -0.1)\">\r\n      <use xlink:href=\"#ArialMT-109\"/>\r\n      <use x=\"83.300781\" xlink:href=\"#ArialMT-97\"/>\r\n      <use x=\"138.916016\" xlink:href=\"#ArialMT-108\"/>\r\n      <use x=\"161.132812\" xlink:href=\"#ArialMT-101\"/>\r\n     </g>\r\n    </g>\r\n   </g>\r\n  </g>\r\n </g>\r\n <defs>\r\n  <clipPath id=\"pbbb67e9c79\">\r\n   <rect height=\"217.44\" width=\"334.8\" x=\"38.589063\" y=\"21.935625\"/>\r\n  </clipPath>\r\n </defs>\r\n</svg>\r\n"
     },
     "metadata": {}
    },
    {
     "output_type": "display_data",
     "data": {
      "text/plain": [
       "<Figure size 720x720 with 0 Axes>"
      ]
     },
     "metadata": {}
    }
   ],
   "metadata": {}
  },
  {
   "cell_type": "code",
   "execution_count": 158,
   "source": [
    "sns.histplot(data=finalset,x=finalset.age,bins=40,kde=True)\r\n",
    "plt.title(\"Distribution of age frequency on the whole dataset\")\r\n",
    "plt.xlabel(\"Age\")\r\n",
    "plt.ylabel(\"Number of applicants\")\r\n",
    "plt.figure(figsize=(10,10))\r\n",
    "plt.show()"
   ],
   "outputs": [
    {
     "output_type": "display_data",
     "data": {
      "text/plain": [
       "<Figure size 432x288 with 1 Axes>"
      ],
      "image/png": "",
      "image/svg+xml": "<?xml version=\"1.0\" encoding=\"utf-8\" standalone=\"no\"?>\r\n<!DOCTYPE svg PUBLIC \"-//W3C//DTD SVG 1.1//EN\"\r\n  \"http://www.w3.org/Graphics/SVG/1.1/DTD/svg11.dtd\">\r\n<!-- Created with matplotlib (https://matplotlib.org/) -->\r\n<svg height=\"275.983438pt\" version=\"1.1\" viewBox=\"0 0 380.589062 275.983438\" width=\"380.589062pt\" xmlns=\"http://www.w3.org/2000/svg\" xmlns:xlink=\"http://www.w3.org/1999/xlink\">\r\n <metadata>\r\n  <rdf:RDF xmlns:cc=\"http://creativecommons.org/ns#\" xmlns:dc=\"http://purl.org/dc/elements/1.1/\" xmlns:rdf=\"http://www.w3.org/1999/02/22-rdf-syntax-ns#\">\r\n   <cc:Work>\r\n    <dc:type rdf:resource=\"http://purl.org/dc/dcmitype/StillImage\"/>\r\n    <dc:date>2021-07-23T20:03:15.543057</dc:date>\r\n    <dc:format>image/svg+xml</dc:format>\r\n    <dc:creator>\r\n     <cc:Agent>\r\n      <dc:title>Matplotlib v3.3.2, https://matplotlib.org/</dc:title>\r\n     </cc:Agent>\r\n    </dc:creator>\r\n   </cc:Work>\r\n  </rdf:RDF>\r\n </metadata>\r\n <defs>\r\n  <style type=\"text/css\">*{stroke-linecap:butt;stroke-linejoin:round;}</style>\r\n </defs>\r\n <g id=\"figure_1\">\r\n  <g id=\"patch_1\">\r\n   <path d=\"M 0 275.983438 \r\nL 380.589062 275.983438 \r\nL 380.589062 0 \r\nL 0 0 \r\nz\r\n\" style=\"fill:#ffffff;\"/>\r\n  </g>\r\n  <g id=\"axes_1\">\r\n   <g id=\"patch_2\">\r\n    <path d=\"M 38.589063 239.375625 \r\nL 373.389063 239.375625 \r\nL 373.389063 21.935625 \r\nL 38.589063 21.935625 \r\nz\r\n\" style=\"fill:#eaeaf2;\"/>\r\n   </g>\r\n   <g id=\"matplotlib.axis_1\">\r\n    <g id=\"xtick_1\">\r\n     <g id=\"line2d_1\">\r\n      <path clip-path=\"url(#p97bd36a99a)\" d=\"M 59.775159 239.375625 \r\nL 59.775159 21.935625 \r\n\" style=\"fill:none;stroke:#ffffff;stroke-linecap:round;stroke-width:0.8;\"/>\r\n     </g>\r\n     <g id=\"text_1\">\r\n      <!-- 0 -->\r\n      <g style=\"fill:#262626;\" transform=\"translate(56.99469 253.533438)scale(0.1 -0.1)\">\r\n       <defs>\r\n        <path d=\"M 4.15625 35.296875 \r\nQ 4.15625 48 6.765625 55.734375 \r\nQ 9.375 63.484375 14.515625 67.671875 \r\nQ 19.671875 71.875 27.484375 71.875 \r\nQ 33.25 71.875 37.59375 69.546875 \r\nQ 41.9375 67.234375 44.765625 62.859375 \r\nQ 47.609375 58.5 49.21875 52.21875 \r\nQ 50.828125 45.953125 50.828125 35.296875 \r\nQ 50.828125 22.703125 48.234375 14.96875 \r\nQ 45.65625 7.234375 40.5 3 \r\nQ 35.359375 -1.21875 27.484375 -1.21875 \r\nQ 17.140625 -1.21875 11.234375 6.203125 \r\nQ 4.15625 15.140625 4.15625 35.296875 \r\nz\r\nM 13.1875 35.296875 \r\nQ 13.1875 17.671875 17.3125 11.828125 \r\nQ 21.4375 6 27.484375 6 \r\nQ 33.546875 6 37.671875 11.859375 \r\nQ 41.796875 17.71875 41.796875 35.296875 \r\nQ 41.796875 52.984375 37.671875 58.78125 \r\nQ 33.546875 64.59375 27.390625 64.59375 \r\nQ 21.34375 64.59375 17.71875 59.46875 \r\nQ 13.1875 52.9375 13.1875 35.296875 \r\nz\r\n\" id=\"ArialMT-48\"/>\r\n       </defs>\r\n       <use xlink:href=\"#ArialMT-48\"/>\r\n      </g>\r\n     </g>\r\n    </g>\r\n    <g id=\"xtick_2\">\r\n     <g id=\"line2d_2\">\r\n      <path clip-path=\"url(#p97bd36a99a)\" d=\"M 119.454303 239.375625 \r\nL 119.454303 21.935625 \r\n\" style=\"fill:none;stroke:#ffffff;stroke-linecap:round;stroke-width:0.8;\"/>\r\n     </g>\r\n     <g id=\"text_2\">\r\n      <!-- 10 -->\r\n      <g style=\"fill:#262626;\" transform=\"translate(113.893366 253.533438)scale(0.1 -0.1)\">\r\n       <defs>\r\n        <path d=\"M 37.25 0 \r\nL 28.46875 0 \r\nL 28.46875 56 \r\nQ 25.296875 52.984375 20.140625 49.953125 \r\nQ 14.984375 46.921875 10.890625 45.40625 \r\nL 10.890625 53.90625 \r\nQ 18.265625 57.375 23.78125 62.296875 \r\nQ 29.296875 67.234375 31.59375 71.875 \r\nL 37.25 71.875 \r\nz\r\n\" id=\"ArialMT-49\"/>\r\n       </defs>\r\n       <use xlink:href=\"#ArialMT-49\"/>\r\n       <use x=\"55.615234\" xlink:href=\"#ArialMT-48\"/>\r\n      </g>\r\n     </g>\r\n    </g>\r\n    <g id=\"xtick_3\">\r\n     <g id=\"line2d_3\">\r\n      <path clip-path=\"url(#p97bd36a99a)\" d=\"M 179.133448 239.375625 \r\nL 179.133448 21.935625 \r\n\" style=\"fill:none;stroke:#ffffff;stroke-linecap:round;stroke-width:0.8;\"/>\r\n     </g>\r\n     <g id=\"text_3\">\r\n      <!-- 20 -->\r\n      <g style=\"fill:#262626;\" transform=\"translate(173.57251 253.533438)scale(0.1 -0.1)\">\r\n       <defs>\r\n        <path d=\"M 50.34375 8.453125 \r\nL 50.34375 0 \r\nL 3.03125 0 \r\nQ 2.9375 3.171875 4.046875 6.109375 \r\nQ 5.859375 10.9375 9.828125 15.625 \r\nQ 13.8125 20.3125 21.34375 26.46875 \r\nQ 33.015625 36.03125 37.109375 41.625 \r\nQ 41.21875 47.21875 41.21875 52.203125 \r\nQ 41.21875 57.421875 37.46875 61 \r\nQ 33.734375 64.59375 27.734375 64.59375 \r\nQ 21.390625 64.59375 17.578125 60.78125 \r\nQ 13.765625 56.984375 13.71875 50.25 \r\nL 4.6875 51.171875 \r\nQ 5.609375 61.28125 11.65625 66.578125 \r\nQ 17.71875 71.875 27.9375 71.875 \r\nQ 38.234375 71.875 44.234375 66.15625 \r\nQ 50.25 60.453125 50.25 52 \r\nQ 50.25 47.703125 48.484375 43.546875 \r\nQ 46.734375 39.40625 42.65625 34.8125 \r\nQ 38.578125 30.21875 29.109375 22.21875 \r\nQ 21.1875 15.578125 18.9375 13.203125 \r\nQ 16.703125 10.84375 15.234375 8.453125 \r\nz\r\n\" id=\"ArialMT-50\"/>\r\n       </defs>\r\n       <use xlink:href=\"#ArialMT-50\"/>\r\n       <use x=\"55.615234\" xlink:href=\"#ArialMT-48\"/>\r\n      </g>\r\n     </g>\r\n    </g>\r\n    <g id=\"xtick_4\">\r\n     <g id=\"line2d_4\">\r\n      <path clip-path=\"url(#p97bd36a99a)\" d=\"M 238.812592 239.375625 \r\nL 238.812592 21.935625 \r\n\" style=\"fill:none;stroke:#ffffff;stroke-linecap:round;stroke-width:0.8;\"/>\r\n     </g>\r\n     <g id=\"text_4\">\r\n      <!-- 30 -->\r\n      <g style=\"fill:#262626;\" transform=\"translate(233.251654 253.533438)scale(0.1 -0.1)\">\r\n       <defs>\r\n        <path d=\"M 4.203125 18.890625 \r\nL 12.984375 20.0625 \r\nQ 14.5 12.59375 18.140625 9.296875 \r\nQ 21.78125 6 27 6 \r\nQ 33.203125 6 37.46875 10.296875 \r\nQ 41.75 14.59375 41.75 20.953125 \r\nQ 41.75 27 37.796875 30.921875 \r\nQ 33.84375 34.859375 27.734375 34.859375 \r\nQ 25.25 34.859375 21.53125 33.890625 \r\nL 22.515625 41.609375 \r\nQ 23.390625 41.5 23.921875 41.5 \r\nQ 29.546875 41.5 34.03125 44.421875 \r\nQ 38.53125 47.359375 38.53125 53.46875 \r\nQ 38.53125 58.296875 35.25 61.46875 \r\nQ 31.984375 64.65625 26.8125 64.65625 \r\nQ 21.6875 64.65625 18.265625 61.421875 \r\nQ 14.84375 58.203125 13.875 51.765625 \r\nL 5.078125 53.328125 \r\nQ 6.6875 62.15625 12.390625 67.015625 \r\nQ 18.109375 71.875 26.609375 71.875 \r\nQ 32.46875 71.875 37.390625 69.359375 \r\nQ 42.328125 66.84375 44.9375 62.5 \r\nQ 47.5625 58.15625 47.5625 53.265625 \r\nQ 47.5625 48.640625 45.0625 44.828125 \r\nQ 42.578125 41.015625 37.703125 38.765625 \r\nQ 44.046875 37.3125 47.5625 32.6875 \r\nQ 51.078125 28.078125 51.078125 21.140625 \r\nQ 51.078125 11.765625 44.234375 5.25 \r\nQ 37.40625 -1.265625 26.953125 -1.265625 \r\nQ 17.53125 -1.265625 11.296875 4.34375 \r\nQ 5.078125 9.96875 4.203125 18.890625 \r\nz\r\n\" id=\"ArialMT-51\"/>\r\n       </defs>\r\n       <use xlink:href=\"#ArialMT-51\"/>\r\n       <use x=\"55.615234\" xlink:href=\"#ArialMT-48\"/>\r\n      </g>\r\n     </g>\r\n    </g>\r\n    <g id=\"xtick_5\">\r\n     <g id=\"line2d_5\">\r\n      <path clip-path=\"url(#p97bd36a99a)\" d=\"M 298.491736 239.375625 \r\nL 298.491736 21.935625 \r\n\" style=\"fill:none;stroke:#ffffff;stroke-linecap:round;stroke-width:0.8;\"/>\r\n     </g>\r\n     <g id=\"text_5\">\r\n      <!-- 40 -->\r\n      <g style=\"fill:#262626;\" transform=\"translate(292.930799 253.533438)scale(0.1 -0.1)\">\r\n       <defs>\r\n        <path d=\"M 32.328125 0 \r\nL 32.328125 17.140625 \r\nL 1.265625 17.140625 \r\nL 1.265625 25.203125 \r\nL 33.9375 71.578125 \r\nL 41.109375 71.578125 \r\nL 41.109375 25.203125 \r\nL 50.78125 25.203125 \r\nL 50.78125 17.140625 \r\nL 41.109375 17.140625 \r\nL 41.109375 0 \r\nz\r\nM 32.328125 25.203125 \r\nL 32.328125 57.46875 \r\nL 9.90625 25.203125 \r\nz\r\n\" id=\"ArialMT-52\"/>\r\n       </defs>\r\n       <use xlink:href=\"#ArialMT-52\"/>\r\n       <use x=\"55.615234\" xlink:href=\"#ArialMT-48\"/>\r\n      </g>\r\n     </g>\r\n    </g>\r\n    <g id=\"xtick_6\">\r\n     <g id=\"line2d_6\">\r\n      <path clip-path=\"url(#p97bd36a99a)\" d=\"M 358.170881 239.375625 \r\nL 358.170881 21.935625 \r\n\" style=\"fill:none;stroke:#ffffff;stroke-linecap:round;stroke-width:0.8;\"/>\r\n     </g>\r\n     <g id=\"text_6\">\r\n      <!-- 50 -->\r\n      <g style=\"fill:#262626;\" transform=\"translate(352.609943 253.533438)scale(0.1 -0.1)\">\r\n       <defs>\r\n        <path d=\"M 4.15625 18.75 \r\nL 13.375 19.53125 \r\nQ 14.40625 12.796875 18.140625 9.390625 \r\nQ 21.875 6 27.15625 6 \r\nQ 33.5 6 37.890625 10.78125 \r\nQ 42.28125 15.578125 42.28125 23.484375 \r\nQ 42.28125 31 38.0625 35.34375 \r\nQ 33.84375 39.703125 27 39.703125 \r\nQ 22.75 39.703125 19.328125 37.765625 \r\nQ 15.921875 35.84375 13.96875 32.765625 \r\nL 5.71875 33.84375 \r\nL 12.640625 70.609375 \r\nL 48.25 70.609375 \r\nL 48.25 62.203125 \r\nL 19.671875 62.203125 \r\nL 15.828125 42.96875 \r\nQ 22.265625 47.46875 29.34375 47.46875 \r\nQ 38.71875 47.46875 45.15625 40.96875 \r\nQ 51.609375 34.46875 51.609375 24.265625 \r\nQ 51.609375 14.546875 45.953125 7.46875 \r\nQ 39.0625 -1.21875 27.15625 -1.21875 \r\nQ 17.390625 -1.21875 11.203125 4.25 \r\nQ 5.03125 9.71875 4.15625 18.75 \r\nz\r\n\" id=\"ArialMT-53\"/>\r\n       </defs>\r\n       <use xlink:href=\"#ArialMT-53\"/>\r\n       <use x=\"55.615234\" xlink:href=\"#ArialMT-48\"/>\r\n      </g>\r\n     </g>\r\n    </g>\r\n    <g id=\"text_7\">\r\n     <!-- Age -->\r\n     <g style=\"fill:#262626;\" transform=\"translate(197.092969 266.67875)scale(0.1 -0.1)\">\r\n      <defs>\r\n       <path d=\"M -0.140625 0 \r\nL 27.34375 71.578125 \r\nL 37.546875 71.578125 \r\nL 66.84375 0 \r\nL 56.0625 0 \r\nL 47.703125 21.6875 \r\nL 17.78125 21.6875 \r\nL 9.90625 0 \r\nz\r\nM 20.515625 29.390625 \r\nL 44.78125 29.390625 \r\nL 37.3125 49.21875 \r\nQ 33.890625 58.25 32.234375 64.0625 \r\nQ 30.859375 57.171875 28.375 50.390625 \r\nz\r\n\" id=\"ArialMT-65\"/>\r\n       <path d=\"M 4.984375 -4.296875 \r\nL 13.53125 -5.5625 \r\nQ 14.0625 -9.515625 16.5 -11.328125 \r\nQ 19.78125 -13.765625 25.4375 -13.765625 \r\nQ 31.546875 -13.765625 34.859375 -11.328125 \r\nQ 38.1875 -8.890625 39.359375 -4.5 \r\nQ 40.046875 -1.8125 39.984375 6.78125 \r\nQ 34.234375 0 25.640625 0 \r\nQ 14.9375 0 9.078125 7.71875 \r\nQ 3.21875 15.4375 3.21875 26.21875 \r\nQ 3.21875 33.640625 5.90625 39.90625 \r\nQ 8.59375 46.1875 13.6875 49.609375 \r\nQ 18.796875 53.03125 25.6875 53.03125 \r\nQ 34.859375 53.03125 40.828125 45.609375 \r\nL 40.828125 51.859375 \r\nL 48.921875 51.859375 \r\nL 48.921875 7.03125 \r\nQ 48.921875 -5.078125 46.453125 -10.125 \r\nQ 44 -15.1875 38.640625 -18.109375 \r\nQ 33.296875 -21.046875 25.484375 -21.046875 \r\nQ 16.21875 -21.046875 10.5 -16.875 \r\nQ 4.78125 -12.703125 4.984375 -4.296875 \r\nz\r\nM 12.25 26.859375 \r\nQ 12.25 16.65625 16.296875 11.96875 \r\nQ 20.359375 7.28125 26.46875 7.28125 \r\nQ 32.515625 7.28125 36.609375 11.9375 \r\nQ 40.71875 16.609375 40.71875 26.5625 \r\nQ 40.71875 36.078125 36.5 40.90625 \r\nQ 32.28125 45.75 26.3125 45.75 \r\nQ 20.453125 45.75 16.34375 40.984375 \r\nQ 12.25 36.234375 12.25 26.859375 \r\nz\r\n\" id=\"ArialMT-103\"/>\r\n       <path d=\"M 42.09375 16.703125 \r\nL 51.171875 15.578125 \r\nQ 49.03125 7.625 43.21875 3.21875 \r\nQ 37.40625 -1.171875 28.375 -1.171875 \r\nQ 17 -1.171875 10.328125 5.828125 \r\nQ 3.65625 12.84375 3.65625 25.484375 \r\nQ 3.65625 38.578125 10.390625 45.796875 \r\nQ 17.140625 53.03125 27.875 53.03125 \r\nQ 38.28125 53.03125 44.875 45.953125 \r\nQ 51.46875 38.875 51.46875 26.03125 \r\nQ 51.46875 25.25 51.421875 23.6875 \r\nL 12.75 23.6875 \r\nQ 13.234375 15.140625 17.578125 10.59375 \r\nQ 21.921875 6.0625 28.421875 6.0625 \r\nQ 33.25 6.0625 36.671875 8.59375 \r\nQ 40.09375 11.140625 42.09375 16.703125 \r\nz\r\nM 13.234375 30.90625 \r\nL 42.1875 30.90625 \r\nQ 41.609375 37.453125 38.875 40.71875 \r\nQ 34.671875 45.796875 27.984375 45.796875 \r\nQ 21.921875 45.796875 17.796875 41.75 \r\nQ 13.671875 37.703125 13.234375 30.90625 \r\nz\r\n\" id=\"ArialMT-101\"/>\r\n      </defs>\r\n      <use xlink:href=\"#ArialMT-65\"/>\r\n      <use x=\"66.699219\" xlink:href=\"#ArialMT-103\"/>\r\n      <use x=\"122.314453\" xlink:href=\"#ArialMT-101\"/>\r\n     </g>\r\n    </g>\r\n   </g>\r\n   <g id=\"matplotlib.axis_2\">\r\n    <g id=\"ytick_1\">\r\n     <g id=\"line2d_7\">\r\n      <path clip-path=\"url(#p97bd36a99a)\" d=\"M 38.589063 239.375625 \r\nL 373.389063 239.375625 \r\n\" style=\"fill:none;stroke:#ffffff;stroke-linecap:round;stroke-width:0.8;\"/>\r\n     </g>\r\n     <g id=\"text_8\">\r\n      <!-- 0 -->\r\n      <g style=\"fill:#262626;\" transform=\"translate(26.028125 242.954531)scale(0.1 -0.1)\">\r\n       <use xlink:href=\"#ArialMT-48\"/>\r\n      </g>\r\n     </g>\r\n    </g>\r\n    <g id=\"ytick_2\">\r\n     <g id=\"line2d_8\">\r\n      <path clip-path=\"url(#p97bd36a99a)\" d=\"M 38.589063 214.722564 \r\nL 373.389063 214.722564 \r\n\" style=\"fill:none;stroke:#ffffff;stroke-linecap:round;stroke-width:0.8;\"/>\r\n     </g>\r\n     <g id=\"text_9\">\r\n      <!-- 5 -->\r\n      <g style=\"fill:#262626;\" transform=\"translate(26.028125 218.30147)scale(0.1 -0.1)\">\r\n       <use xlink:href=\"#ArialMT-53\"/>\r\n      </g>\r\n     </g>\r\n    </g>\r\n    <g id=\"ytick_3\">\r\n     <g id=\"line2d_9\">\r\n      <path clip-path=\"url(#p97bd36a99a)\" d=\"M 38.589063 190.069503 \r\nL 373.389063 190.069503 \r\n\" style=\"fill:none;stroke:#ffffff;stroke-linecap:round;stroke-width:0.8;\"/>\r\n     </g>\r\n     <g id=\"text_10\">\r\n      <!-- 10 -->\r\n      <g style=\"fill:#262626;\" transform=\"translate(20.467188 193.648409)scale(0.1 -0.1)\">\r\n       <use xlink:href=\"#ArialMT-49\"/>\r\n       <use x=\"55.615234\" xlink:href=\"#ArialMT-48\"/>\r\n      </g>\r\n     </g>\r\n    </g>\r\n    <g id=\"ytick_4\">\r\n     <g id=\"line2d_10\">\r\n      <path clip-path=\"url(#p97bd36a99a)\" d=\"M 38.589063 165.416441 \r\nL 373.389063 165.416441 \r\n\" style=\"fill:none;stroke:#ffffff;stroke-linecap:round;stroke-width:0.8;\"/>\r\n     </g>\r\n     <g id=\"text_11\">\r\n      <!-- 15 -->\r\n      <g style=\"fill:#262626;\" transform=\"translate(20.467188 168.995348)scale(0.1 -0.1)\">\r\n       <use xlink:href=\"#ArialMT-49\"/>\r\n       <use x=\"55.615234\" xlink:href=\"#ArialMT-53\"/>\r\n      </g>\r\n     </g>\r\n    </g>\r\n    <g id=\"ytick_5\">\r\n     <g id=\"line2d_11\">\r\n      <path clip-path=\"url(#p97bd36a99a)\" d=\"M 38.589063 140.76338 \r\nL 373.389063 140.76338 \r\n\" style=\"fill:none;stroke:#ffffff;stroke-linecap:round;stroke-width:0.8;\"/>\r\n     </g>\r\n     <g id=\"text_12\">\r\n      <!-- 20 -->\r\n      <g style=\"fill:#262626;\" transform=\"translate(20.467188 144.342286)scale(0.1 -0.1)\">\r\n       <use xlink:href=\"#ArialMT-50\"/>\r\n       <use x=\"55.615234\" xlink:href=\"#ArialMT-48\"/>\r\n      </g>\r\n     </g>\r\n    </g>\r\n    <g id=\"ytick_6\">\r\n     <g id=\"line2d_12\">\r\n      <path clip-path=\"url(#p97bd36a99a)\" d=\"M 38.589063 116.110319 \r\nL 373.389063 116.110319 \r\n\" style=\"fill:none;stroke:#ffffff;stroke-linecap:round;stroke-width:0.8;\"/>\r\n     </g>\r\n     <g id=\"text_13\">\r\n      <!-- 25 -->\r\n      <g style=\"fill:#262626;\" transform=\"translate(20.467188 119.689225)scale(0.1 -0.1)\">\r\n       <use xlink:href=\"#ArialMT-50\"/>\r\n       <use x=\"55.615234\" xlink:href=\"#ArialMT-53\"/>\r\n      </g>\r\n     </g>\r\n    </g>\r\n    <g id=\"ytick_7\">\r\n     <g id=\"line2d_13\">\r\n      <path clip-path=\"url(#p97bd36a99a)\" d=\"M 38.589063 91.457258 \r\nL 373.389063 91.457258 \r\n\" style=\"fill:none;stroke:#ffffff;stroke-linecap:round;stroke-width:0.8;\"/>\r\n     </g>\r\n     <g id=\"text_14\">\r\n      <!-- 30 -->\r\n      <g style=\"fill:#262626;\" transform=\"translate(20.467188 95.036164)scale(0.1 -0.1)\">\r\n       <use xlink:href=\"#ArialMT-51\"/>\r\n       <use x=\"55.615234\" xlink:href=\"#ArialMT-48\"/>\r\n      </g>\r\n     </g>\r\n    </g>\r\n    <g id=\"ytick_8\">\r\n     <g id=\"line2d_14\">\r\n      <path clip-path=\"url(#p97bd36a99a)\" d=\"M 38.589063 66.804196 \r\nL 373.389063 66.804196 \r\n\" style=\"fill:none;stroke:#ffffff;stroke-linecap:round;stroke-width:0.8;\"/>\r\n     </g>\r\n     <g id=\"text_15\">\r\n      <!-- 35 -->\r\n      <g style=\"fill:#262626;\" transform=\"translate(20.467188 70.383103)scale(0.1 -0.1)\">\r\n       <use xlink:href=\"#ArialMT-51\"/>\r\n       <use x=\"55.615234\" xlink:href=\"#ArialMT-53\"/>\r\n      </g>\r\n     </g>\r\n    </g>\r\n    <g id=\"ytick_9\">\r\n     <g id=\"line2d_15\">\r\n      <path clip-path=\"url(#p97bd36a99a)\" d=\"M 38.589063 42.151135 \r\nL 373.389063 42.151135 \r\n\" style=\"fill:none;stroke:#ffffff;stroke-linecap:round;stroke-width:0.8;\"/>\r\n     </g>\r\n     <g id=\"text_16\">\r\n      <!-- 40 -->\r\n      <g style=\"fill:#262626;\" transform=\"translate(20.467188 45.730041)scale(0.1 -0.1)\">\r\n       <use xlink:href=\"#ArialMT-52\"/>\r\n       <use x=\"55.615234\" xlink:href=\"#ArialMT-48\"/>\r\n      </g>\r\n     </g>\r\n    </g>\r\n    <g id=\"text_17\">\r\n     <!-- Number of applicants -->\r\n     <g style=\"fill:#262626;\" transform=\"translate(14.479688 177.898594)rotate(-90)scale(0.1 -0.1)\">\r\n      <defs>\r\n       <path d=\"M 7.625 0 \r\nL 7.625 71.578125 \r\nL 17.328125 71.578125 \r\nL 54.9375 15.375 \r\nL 54.9375 71.578125 \r\nL 64.015625 71.578125 \r\nL 64.015625 0 \r\nL 54.296875 0 \r\nL 16.703125 56.25 \r\nL 16.703125 0 \r\nz\r\n\" id=\"ArialMT-78\"/>\r\n       <path d=\"M 40.578125 0 \r\nL 40.578125 7.625 \r\nQ 34.515625 -1.171875 24.125 -1.171875 \r\nQ 19.53125 -1.171875 15.546875 0.578125 \r\nQ 11.578125 2.34375 9.640625 5 \r\nQ 7.71875 7.671875 6.9375 11.53125 \r\nQ 6.390625 14.109375 6.390625 19.734375 \r\nL 6.390625 51.859375 \r\nL 15.1875 51.859375 \r\nL 15.1875 23.09375 \r\nQ 15.1875 16.21875 15.71875 13.8125 \r\nQ 16.546875 10.359375 19.234375 8.375 \r\nQ 21.921875 6.390625 25.875 6.390625 \r\nQ 29.828125 6.390625 33.296875 8.421875 \r\nQ 36.765625 10.453125 38.203125 13.9375 \r\nQ 39.65625 17.4375 39.65625 24.078125 \r\nL 39.65625 51.859375 \r\nL 48.4375 51.859375 \r\nL 48.4375 0 \r\nz\r\n\" id=\"ArialMT-117\"/>\r\n       <path d=\"M 6.59375 0 \r\nL 6.59375 51.859375 \r\nL 14.453125 51.859375 \r\nL 14.453125 44.578125 \r\nQ 16.890625 48.390625 20.9375 50.703125 \r\nQ 25 53.03125 30.171875 53.03125 \r\nQ 35.9375 53.03125 39.625 50.640625 \r\nQ 43.3125 48.25 44.828125 43.953125 \r\nQ 50.984375 53.03125 60.84375 53.03125 \r\nQ 68.5625 53.03125 72.703125 48.75 \r\nQ 76.859375 44.484375 76.859375 35.59375 \r\nL 76.859375 0 \r\nL 68.109375 0 \r\nL 68.109375 32.671875 \r\nQ 68.109375 37.9375 67.25 40.25 \r\nQ 66.40625 42.578125 64.15625 43.984375 \r\nQ 61.921875 45.40625 58.890625 45.40625 \r\nQ 53.421875 45.40625 49.796875 41.765625 \r\nQ 46.1875 38.140625 46.1875 30.125 \r\nL 46.1875 0 \r\nL 37.40625 0 \r\nL 37.40625 33.6875 \r\nQ 37.40625 39.546875 35.25 42.46875 \r\nQ 33.109375 45.40625 28.21875 45.40625 \r\nQ 24.515625 45.40625 21.359375 43.453125 \r\nQ 18.21875 41.5 16.796875 37.734375 \r\nQ 15.375 33.984375 15.375 26.90625 \r\nL 15.375 0 \r\nz\r\n\" id=\"ArialMT-109\"/>\r\n       <path d=\"M 14.703125 0 \r\nL 6.546875 0 \r\nL 6.546875 71.578125 \r\nL 15.328125 71.578125 \r\nL 15.328125 46.046875 \r\nQ 20.90625 53.03125 29.546875 53.03125 \r\nQ 34.328125 53.03125 38.59375 51.09375 \r\nQ 42.875 49.171875 45.625 45.671875 \r\nQ 48.390625 42.1875 49.953125 37.25 \r\nQ 51.515625 32.328125 51.515625 26.703125 \r\nQ 51.515625 13.375 44.921875 6.09375 \r\nQ 38.328125 -1.171875 29.109375 -1.171875 \r\nQ 19.921875 -1.171875 14.703125 6.5 \r\nz\r\nM 14.59375 26.3125 \r\nQ 14.59375 17 17.140625 12.84375 \r\nQ 21.296875 6.0625 28.375 6.0625 \r\nQ 34.125 6.0625 38.328125 11.0625 \r\nQ 42.53125 16.0625 42.53125 25.984375 \r\nQ 42.53125 36.140625 38.5 40.96875 \r\nQ 34.46875 45.796875 28.765625 45.796875 \r\nQ 23 45.796875 18.796875 40.796875 \r\nQ 14.59375 35.796875 14.59375 26.3125 \r\nz\r\n\" id=\"ArialMT-98\"/>\r\n       <path d=\"M 6.5 0 \r\nL 6.5 51.859375 \r\nL 14.40625 51.859375 \r\nL 14.40625 44 \r\nQ 17.4375 49.515625 20 51.265625 \r\nQ 22.5625 53.03125 25.640625 53.03125 \r\nQ 30.078125 53.03125 34.671875 50.203125 \r\nL 31.640625 42.046875 \r\nQ 28.421875 43.953125 25.203125 43.953125 \r\nQ 22.3125 43.953125 20.015625 42.21875 \r\nQ 17.71875 40.484375 16.75 37.40625 \r\nQ 15.28125 32.71875 15.28125 27.15625 \r\nL 15.28125 0 \r\nz\r\n\" id=\"ArialMT-114\"/>\r\n       <path id=\"ArialMT-32\"/>\r\n       <path d=\"M 3.328125 25.921875 \r\nQ 3.328125 40.328125 11.328125 47.265625 \r\nQ 18.015625 53.03125 27.640625 53.03125 \r\nQ 38.328125 53.03125 45.109375 46.015625 \r\nQ 51.90625 39.015625 51.90625 26.65625 \r\nQ 51.90625 16.65625 48.90625 10.90625 \r\nQ 45.90625 5.171875 40.15625 2 \r\nQ 34.421875 -1.171875 27.640625 -1.171875 \r\nQ 16.75 -1.171875 10.03125 5.8125 \r\nQ 3.328125 12.796875 3.328125 25.921875 \r\nz\r\nM 12.359375 25.921875 \r\nQ 12.359375 15.96875 16.703125 11.015625 \r\nQ 21.046875 6.0625 27.640625 6.0625 \r\nQ 34.1875 6.0625 38.53125 11.03125 \r\nQ 42.875 16.015625 42.875 26.21875 \r\nQ 42.875 35.84375 38.5 40.796875 \r\nQ 34.125 45.75 27.640625 45.75 \r\nQ 21.046875 45.75 16.703125 40.8125 \r\nQ 12.359375 35.890625 12.359375 25.921875 \r\nz\r\n\" id=\"ArialMT-111\"/>\r\n       <path d=\"M 8.6875 0 \r\nL 8.6875 45.015625 \r\nL 0.921875 45.015625 \r\nL 0.921875 51.859375 \r\nL 8.6875 51.859375 \r\nL 8.6875 57.375 \r\nQ 8.6875 62.59375 9.625 65.140625 \r\nQ 10.890625 68.5625 14.078125 70.671875 \r\nQ 17.28125 72.796875 23.046875 72.796875 \r\nQ 26.765625 72.796875 31.25 71.921875 \r\nL 29.9375 64.265625 \r\nQ 27.203125 64.75 24.75 64.75 \r\nQ 20.75 64.75 19.09375 63.03125 \r\nQ 17.4375 61.328125 17.4375 56.640625 \r\nL 17.4375 51.859375 \r\nL 27.546875 51.859375 \r\nL 27.546875 45.015625 \r\nL 17.4375 45.015625 \r\nL 17.4375 0 \r\nz\r\n\" id=\"ArialMT-102\"/>\r\n       <path d=\"M 40.4375 6.390625 \r\nQ 35.546875 2.25 31.03125 0.53125 \r\nQ 26.515625 -1.171875 21.34375 -1.171875 \r\nQ 12.796875 -1.171875 8.203125 3 \r\nQ 3.609375 7.171875 3.609375 13.671875 \r\nQ 3.609375 17.484375 5.34375 20.625 \r\nQ 7.078125 23.78125 9.890625 25.6875 \r\nQ 12.703125 27.59375 16.21875 28.5625 \r\nQ 18.796875 29.25 24.03125 29.890625 \r\nQ 34.671875 31.15625 39.703125 32.90625 \r\nQ 39.75 34.71875 39.75 35.203125 \r\nQ 39.75 40.578125 37.25 42.78125 \r\nQ 33.890625 45.75 27.25 45.75 \r\nQ 21.046875 45.75 18.09375 43.578125 \r\nQ 15.140625 41.40625 13.71875 35.890625 \r\nL 5.125 37.0625 \r\nQ 6.296875 42.578125 8.984375 45.96875 \r\nQ 11.671875 49.359375 16.75 51.1875 \r\nQ 21.828125 53.03125 28.515625 53.03125 \r\nQ 35.15625 53.03125 39.296875 51.46875 \r\nQ 43.453125 49.90625 45.40625 47.53125 \r\nQ 47.359375 45.171875 48.140625 41.546875 \r\nQ 48.578125 39.3125 48.578125 33.453125 \r\nL 48.578125 21.734375 \r\nQ 48.578125 9.46875 49.140625 6.21875 \r\nQ 49.703125 2.984375 51.375 0 \r\nL 42.1875 0 \r\nQ 40.828125 2.734375 40.4375 6.390625 \r\nz\r\nM 39.703125 26.03125 \r\nQ 34.90625 24.078125 25.34375 22.703125 \r\nQ 19.921875 21.921875 17.671875 20.9375 \r\nQ 15.4375 19.96875 14.203125 18.09375 \r\nQ 12.984375 16.21875 12.984375 13.921875 \r\nQ 12.984375 10.40625 15.640625 8.0625 \r\nQ 18.3125 5.71875 23.4375 5.71875 \r\nQ 28.515625 5.71875 32.46875 7.9375 \r\nQ 36.421875 10.15625 38.28125 14.015625 \r\nQ 39.703125 17 39.703125 22.796875 \r\nz\r\n\" id=\"ArialMT-97\"/>\r\n       <path d=\"M 6.59375 -19.875 \r\nL 6.59375 51.859375 \r\nL 14.59375 51.859375 \r\nL 14.59375 45.125 \r\nQ 17.4375 49.078125 21 51.046875 \r\nQ 24.5625 53.03125 29.640625 53.03125 \r\nQ 36.28125 53.03125 41.359375 49.609375 \r\nQ 46.4375 46.1875 49.015625 39.953125 \r\nQ 51.609375 33.734375 51.609375 26.3125 \r\nQ 51.609375 18.359375 48.75 11.984375 \r\nQ 45.90625 5.609375 40.453125 2.21875 \r\nQ 35.015625 -1.171875 29 -1.171875 \r\nQ 24.609375 -1.171875 21.109375 0.6875 \r\nQ 17.625 2.546875 15.375 5.375 \r\nL 15.375 -19.875 \r\nz\r\nM 14.546875 25.640625 \r\nQ 14.546875 15.625 18.59375 10.84375 \r\nQ 22.65625 6.0625 28.421875 6.0625 \r\nQ 34.28125 6.0625 38.453125 11.015625 \r\nQ 42.625 15.96875 42.625 26.375 \r\nQ 42.625 36.28125 38.546875 41.203125 \r\nQ 34.46875 46.140625 28.8125 46.140625 \r\nQ 23.1875 46.140625 18.859375 40.890625 \r\nQ 14.546875 35.640625 14.546875 25.640625 \r\nz\r\n\" id=\"ArialMT-112\"/>\r\n       <path d=\"M 6.390625 0 \r\nL 6.390625 71.578125 \r\nL 15.1875 71.578125 \r\nL 15.1875 0 \r\nz\r\n\" id=\"ArialMT-108\"/>\r\n       <path d=\"M 6.640625 61.46875 \r\nL 6.640625 71.578125 \r\nL 15.4375 71.578125 \r\nL 15.4375 61.46875 \r\nz\r\nM 6.640625 0 \r\nL 6.640625 51.859375 \r\nL 15.4375 51.859375 \r\nL 15.4375 0 \r\nz\r\n\" id=\"ArialMT-105\"/>\r\n       <path d=\"M 40.4375 19 \r\nL 49.078125 17.875 \r\nQ 47.65625 8.9375 41.8125 3.875 \r\nQ 35.984375 -1.171875 27.484375 -1.171875 \r\nQ 16.84375 -1.171875 10.375 5.78125 \r\nQ 3.90625 12.75 3.90625 25.734375 \r\nQ 3.90625 34.125 6.6875 40.421875 \r\nQ 9.46875 46.734375 15.15625 49.875 \r\nQ 20.84375 53.03125 27.546875 53.03125 \r\nQ 35.984375 53.03125 41.359375 48.75 \r\nQ 46.734375 44.484375 48.25 36.625 \r\nL 39.703125 35.296875 \r\nQ 38.484375 40.53125 35.375 43.15625 \r\nQ 32.28125 45.796875 27.875 45.796875 \r\nQ 21.234375 45.796875 17.078125 41.03125 \r\nQ 12.9375 36.28125 12.9375 25.984375 \r\nQ 12.9375 15.53125 16.9375 10.796875 \r\nQ 20.953125 6.0625 27.390625 6.0625 \r\nQ 32.5625 6.0625 36.03125 9.234375 \r\nQ 39.5 12.40625 40.4375 19 \r\nz\r\n\" id=\"ArialMT-99\"/>\r\n       <path d=\"M 6.59375 0 \r\nL 6.59375 51.859375 \r\nL 14.5 51.859375 \r\nL 14.5 44.484375 \r\nQ 20.21875 53.03125 31 53.03125 \r\nQ 35.6875 53.03125 39.625 51.34375 \r\nQ 43.5625 49.65625 45.515625 46.921875 \r\nQ 47.46875 44.1875 48.25 40.4375 \r\nQ 48.734375 37.984375 48.734375 31.890625 \r\nL 48.734375 0 \r\nL 39.9375 0 \r\nL 39.9375 31.546875 \r\nQ 39.9375 36.921875 38.90625 39.578125 \r\nQ 37.890625 42.234375 35.28125 43.8125 \r\nQ 32.671875 45.40625 29.15625 45.40625 \r\nQ 23.53125 45.40625 19.453125 41.84375 \r\nQ 15.375 38.28125 15.375 28.328125 \r\nL 15.375 0 \r\nz\r\n\" id=\"ArialMT-110\"/>\r\n       <path d=\"M 25.78125 7.859375 \r\nL 27.046875 0.09375 \r\nQ 23.34375 -0.6875 20.40625 -0.6875 \r\nQ 15.625 -0.6875 12.984375 0.828125 \r\nQ 10.359375 2.34375 9.28125 4.8125 \r\nQ 8.203125 7.28125 8.203125 15.1875 \r\nL 8.203125 45.015625 \r\nL 1.765625 45.015625 \r\nL 1.765625 51.859375 \r\nL 8.203125 51.859375 \r\nL 8.203125 64.703125 \r\nL 16.9375 69.96875 \r\nL 16.9375 51.859375 \r\nL 25.78125 51.859375 \r\nL 25.78125 45.015625 \r\nL 16.9375 45.015625 \r\nL 16.9375 14.703125 \r\nQ 16.9375 10.9375 17.40625 9.859375 \r\nQ 17.875 8.796875 18.921875 8.15625 \r\nQ 19.96875 7.515625 21.921875 7.515625 \r\nQ 23.390625 7.515625 25.78125 7.859375 \r\nz\r\n\" id=\"ArialMT-116\"/>\r\n       <path d=\"M 3.078125 15.484375 \r\nL 11.765625 16.84375 \r\nQ 12.5 11.625 15.84375 8.84375 \r\nQ 19.1875 6.0625 25.203125 6.0625 \r\nQ 31.25 6.0625 34.171875 8.515625 \r\nQ 37.109375 10.984375 37.109375 14.3125 \r\nQ 37.109375 17.28125 34.515625 19 \r\nQ 32.71875 20.171875 25.53125 21.96875 \r\nQ 15.875 24.421875 12.140625 26.203125 \r\nQ 8.40625 27.984375 6.46875 31.125 \r\nQ 4.546875 34.28125 4.546875 38.09375 \r\nQ 4.546875 41.546875 6.125 44.5 \r\nQ 7.71875 47.46875 10.453125 49.421875 \r\nQ 12.5 50.921875 16.03125 51.96875 \r\nQ 19.578125 53.03125 23.640625 53.03125 \r\nQ 29.734375 53.03125 34.34375 51.265625 \r\nQ 38.96875 49.515625 41.15625 46.5 \r\nQ 43.359375 43.5 44.1875 38.484375 \r\nL 35.59375 37.3125 \r\nQ 35.015625 41.3125 32.203125 43.546875 \r\nQ 29.390625 45.796875 24.265625 45.796875 \r\nQ 18.21875 45.796875 15.625 43.796875 \r\nQ 13.03125 41.796875 13.03125 39.109375 \r\nQ 13.03125 37.40625 14.109375 36.03125 \r\nQ 15.1875 34.625 17.484375 33.6875 \r\nQ 18.796875 33.203125 25.25 31.453125 \r\nQ 34.578125 28.953125 38.25 27.359375 \r\nQ 41.9375 25.78125 44.03125 22.75 \r\nQ 46.140625 19.734375 46.140625 15.234375 \r\nQ 46.140625 10.84375 43.578125 6.953125 \r\nQ 41.015625 3.078125 36.171875 0.953125 \r\nQ 31.34375 -1.171875 25.25 -1.171875 \r\nQ 15.140625 -1.171875 9.84375 3.03125 \r\nQ 4.546875 7.234375 3.078125 15.484375 \r\nz\r\n\" id=\"ArialMT-115\"/>\r\n      </defs>\r\n      <use xlink:href=\"#ArialMT-78\"/>\r\n      <use x=\"72.216797\" xlink:href=\"#ArialMT-117\"/>\r\n      <use x=\"127.832031\" xlink:href=\"#ArialMT-109\"/>\r\n      <use x=\"211.132812\" xlink:href=\"#ArialMT-98\"/>\r\n      <use x=\"266.748047\" xlink:href=\"#ArialMT-101\"/>\r\n      <use x=\"322.363281\" xlink:href=\"#ArialMT-114\"/>\r\n      <use x=\"355.664062\" xlink:href=\"#ArialMT-32\"/>\r\n      <use x=\"383.447266\" xlink:href=\"#ArialMT-111\"/>\r\n      <use x=\"439.0625\" xlink:href=\"#ArialMT-102\"/>\r\n      <use x=\"466.845703\" xlink:href=\"#ArialMT-32\"/>\r\n      <use x=\"494.628906\" xlink:href=\"#ArialMT-97\"/>\r\n      <use x=\"550.244141\" xlink:href=\"#ArialMT-112\"/>\r\n      <use x=\"605.859375\" xlink:href=\"#ArialMT-112\"/>\r\n      <use x=\"661.474609\" xlink:href=\"#ArialMT-108\"/>\r\n      <use x=\"683.691406\" xlink:href=\"#ArialMT-105\"/>\r\n      <use x=\"705.908203\" xlink:href=\"#ArialMT-99\"/>\r\n      <use x=\"755.908203\" xlink:href=\"#ArialMT-97\"/>\r\n      <use x=\"811.523438\" xlink:href=\"#ArialMT-110\"/>\r\n      <use x=\"867.138672\" xlink:href=\"#ArialMT-116\"/>\r\n      <use x=\"894.921875\" xlink:href=\"#ArialMT-115\"/>\r\n     </g>\r\n    </g>\r\n   </g>\r\n   <g id=\"patch_3\">\r\n    <path clip-path=\"url(#p97bd36a99a)\" d=\"M 53.807244 239.375625 \r\nL 61.416335 239.375625 \r\nL 61.416335 209.791952 \r\nL 53.807244 209.791952 \r\nz\r\n\" style=\"fill:#1f77b4;fill-opacity:0.5;stroke:#ffffff;stroke-linejoin:miter;stroke-width:0.760909;\"/>\r\n   </g>\r\n   <g id=\"patch_4\">\r\n    <path clip-path=\"url(#p97bd36a99a)\" d=\"M 61.416335 239.375625 \r\nL 69.025426 239.375625 \r\nL 69.025426 234.445013 \r\nL 61.416335 234.445013 \r\nz\r\n\" style=\"fill:#1f77b4;fill-opacity:0.5;stroke:#ffffff;stroke-linejoin:miter;stroke-width:0.760909;\"/>\r\n   </g>\r\n   <g id=\"patch_5\">\r\n    <path clip-path=\"url(#p97bd36a99a)\" d=\"M 69.025426 239.375625 \r\nL 76.634517 239.375625 \r\nL 76.634517 239.375625 \r\nL 69.025426 239.375625 \r\nz\r\n\" style=\"fill:#1f77b4;fill-opacity:0.5;stroke:#ffffff;stroke-linejoin:miter;stroke-width:0.760909;\"/>\r\n   </g>\r\n   <g id=\"patch_6\">\r\n    <path clip-path=\"url(#p97bd36a99a)\" d=\"M 76.634517 239.375625 \r\nL 84.243608 239.375625 \r\nL 84.243608 239.375625 \r\nL 76.634517 239.375625 \r\nz\r\n\" style=\"fill:#1f77b4;fill-opacity:0.5;stroke:#ffffff;stroke-linejoin:miter;stroke-width:0.760909;\"/>\r\n   </g>\r\n   <g id=\"patch_7\">\r\n    <path clip-path=\"url(#p97bd36a99a)\" d=\"M 84.243608 239.375625 \r\nL 91.852699 239.375625 \r\nL 91.852699 239.375625 \r\nL 84.243608 239.375625 \r\nz\r\n\" style=\"fill:#1f77b4;fill-opacity:0.5;stroke:#ffffff;stroke-linejoin:miter;stroke-width:0.760909;\"/>\r\n   </g>\r\n   <g id=\"patch_8\">\r\n    <path clip-path=\"url(#p97bd36a99a)\" d=\"M 91.852699 239.375625 \r\nL 99.46179 239.375625 \r\nL 99.46179 239.375625 \r\nL 91.852699 239.375625 \r\nz\r\n\" style=\"fill:#1f77b4;fill-opacity:0.5;stroke:#ffffff;stroke-linejoin:miter;stroke-width:0.760909;\"/>\r\n   </g>\r\n   <g id=\"patch_9\">\r\n    <path clip-path=\"url(#p97bd36a99a)\" d=\"M 99.46179 239.375625 \r\nL 107.070881 239.375625 \r\nL 107.070881 239.375625 \r\nL 99.46179 239.375625 \r\nz\r\n\" style=\"fill:#1f77b4;fill-opacity:0.5;stroke:#ffffff;stroke-linejoin:miter;stroke-width:0.760909;\"/>\r\n   </g>\r\n   <g id=\"patch_10\">\r\n    <path clip-path=\"url(#p97bd36a99a)\" d=\"M 107.070881 239.375625 \r\nL 114.679972 239.375625 \r\nL 114.679972 239.375625 \r\nL 107.070881 239.375625 \r\nz\r\n\" style=\"fill:#1f77b4;fill-opacity:0.5;stroke:#ffffff;stroke-linejoin:miter;stroke-width:0.760909;\"/>\r\n   </g>\r\n   <g id=\"patch_11\">\r\n    <path clip-path=\"url(#p97bd36a99a)\" d=\"M 114.679972 239.375625 \r\nL 122.289063 239.375625 \r\nL 122.289063 239.375625 \r\nL 114.679972 239.375625 \r\nz\r\n\" style=\"fill:#1f77b4;fill-opacity:0.5;stroke:#ffffff;stroke-linejoin:miter;stroke-width:0.760909;\"/>\r\n   </g>\r\n   <g id=\"patch_12\">\r\n    <path clip-path=\"url(#p97bd36a99a)\" d=\"M 122.289063 239.375625 \r\nL 129.898153 239.375625 \r\nL 129.898153 239.375625 \r\nL 122.289063 239.375625 \r\nz\r\n\" style=\"fill:#1f77b4;fill-opacity:0.5;stroke:#ffffff;stroke-linejoin:miter;stroke-width:0.760909;\"/>\r\n   </g>\r\n   <g id=\"patch_13\">\r\n    <path clip-path=\"url(#p97bd36a99a)\" d=\"M 129.898153 239.375625 \r\nL 137.507244 239.375625 \r\nL 137.507244 239.375625 \r\nL 129.898153 239.375625 \r\nz\r\n\" style=\"fill:#1f77b4;fill-opacity:0.5;stroke:#ffffff;stroke-linejoin:miter;stroke-width:0.760909;\"/>\r\n   </g>\r\n   <g id=\"patch_14\">\r\n    <path clip-path=\"url(#p97bd36a99a)\" d=\"M 137.507244 239.375625 \r\nL 145.116335 239.375625 \r\nL 145.116335 239.375625 \r\nL 137.507244 239.375625 \r\nz\r\n\" style=\"fill:#1f77b4;fill-opacity:0.5;stroke:#ffffff;stroke-linejoin:miter;stroke-width:0.760909;\"/>\r\n   </g>\r\n   <g id=\"patch_15\">\r\n    <path clip-path=\"url(#p97bd36a99a)\" d=\"M 145.116335 239.375625 \r\nL 152.725426 239.375625 \r\nL 152.725426 239.375625 \r\nL 145.116335 239.375625 \r\nz\r\n\" style=\"fill:#1f77b4;fill-opacity:0.5;stroke:#ffffff;stroke-linejoin:miter;stroke-width:0.760909;\"/>\r\n   </g>\r\n   <g id=\"patch_16\">\r\n    <path clip-path=\"url(#p97bd36a99a)\" d=\"M 152.725426 239.375625 \r\nL 160.334517 239.375625 \r\nL 160.334517 239.375625 \r\nL 152.725426 239.375625 \r\nz\r\n\" style=\"fill:#1f77b4;fill-opacity:0.5;stroke:#ffffff;stroke-linejoin:miter;stroke-width:0.760909;\"/>\r\n   </g>\r\n   <g id=\"patch_17\">\r\n    <path clip-path=\"url(#p97bd36a99a)\" d=\"M 160.334517 239.375625 \r\nL 167.943608 239.375625 \r\nL 167.943608 239.375625 \r\nL 160.334517 239.375625 \r\nz\r\n\" style=\"fill:#1f77b4;fill-opacity:0.5;stroke:#ffffff;stroke-linejoin:miter;stroke-width:0.760909;\"/>\r\n   </g>\r\n   <g id=\"patch_18\">\r\n    <path clip-path=\"url(#p97bd36a99a)\" d=\"M 167.943608 239.375625 \r\nL 175.552699 239.375625 \r\nL 175.552699 229.514401 \r\nL 167.943608 229.514401 \r\nz\r\n\" style=\"fill:#1f77b4;fill-opacity:0.5;stroke:#ffffff;stroke-linejoin:miter;stroke-width:0.760909;\"/>\r\n   </g>\r\n   <g id=\"patch_19\">\r\n    <path clip-path=\"url(#p97bd36a99a)\" d=\"M 175.552699 239.375625 \r\nL 183.16179 239.375625 \r\nL 183.16179 219.653176 \r\nL 175.552699 219.653176 \r\nz\r\n\" style=\"fill:#1f77b4;fill-opacity:0.5;stroke:#ffffff;stroke-linejoin:miter;stroke-width:0.760909;\"/>\r\n   </g>\r\n   <g id=\"patch_20\">\r\n    <path clip-path=\"url(#p97bd36a99a)\" d=\"M 183.16179 239.375625 \r\nL 190.770881 239.375625 \r\nL 190.770881 195.000115 \r\nL 183.16179 195.000115 \r\nz\r\n\" style=\"fill:#1f77b4;fill-opacity:0.5;stroke:#ffffff;stroke-linejoin:miter;stroke-width:0.760909;\"/>\r\n   </g>\r\n   <g id=\"patch_21\">\r\n    <path clip-path=\"url(#p97bd36a99a)\" d=\"M 190.770881 239.375625 \r\nL 198.379972 239.375625 \r\nL 198.379972 81.596033 \r\nL 190.770881 81.596033 \r\nz\r\n\" style=\"fill:#1f77b4;fill-opacity:0.5;stroke:#ffffff;stroke-linejoin:miter;stroke-width:0.760909;\"/>\r\n   </g>\r\n   <g id=\"patch_22\">\r\n    <path clip-path=\"url(#p97bd36a99a)\" d=\"M 198.379972 239.375625 \r\nL 205.989063 239.375625 \r\nL 205.989063 81.596033 \r\nL 198.379972 81.596033 \r\nz\r\n\" style=\"fill:#1f77b4;fill-opacity:0.5;stroke:#ffffff;stroke-linejoin:miter;stroke-width:0.760909;\"/>\r\n   </g>\r\n   <g id=\"patch_23\">\r\n    <path clip-path=\"url(#p97bd36a99a)\" d=\"M 205.989063 239.375625 \r\nL 213.598153 239.375625 \r\nL 213.598153 130.902156 \r\nL 205.989063 130.902156 \r\nz\r\n\" style=\"fill:#1f77b4;fill-opacity:0.5;stroke:#ffffff;stroke-linejoin:miter;stroke-width:0.760909;\"/>\r\n   </g>\r\n   <g id=\"patch_24\">\r\n    <path clip-path=\"url(#p97bd36a99a)\" d=\"M 213.598153 239.375625 \r\nL 221.207244 239.375625 \r\nL 221.207244 32.289911 \r\nL 213.598153 32.289911 \r\nz\r\n\" style=\"fill:#1f77b4;fill-opacity:0.5;stroke:#ffffff;stroke-linejoin:miter;stroke-width:0.760909;\"/>\r\n   </g>\r\n   <g id=\"patch_25\">\r\n    <path clip-path=\"url(#p97bd36a99a)\" d=\"M 221.207244 239.375625 \r\nL 228.816335 239.375625 \r\nL 228.816335 185.13889 \r\nL 221.207244 185.13889 \r\nz\r\n\" style=\"fill:#1f77b4;fill-opacity:0.5;stroke:#ffffff;stroke-linejoin:miter;stroke-width:0.760909;\"/>\r\n   </g>\r\n   <g id=\"patch_26\">\r\n    <path clip-path=\"url(#p97bd36a99a)\" d=\"M 228.816335 239.375625 \r\nL 236.425426 239.375625 \r\nL 236.425426 165.416441 \r\nL 228.816335 165.416441 \r\nz\r\n\" style=\"fill:#1f77b4;fill-opacity:0.5;stroke:#ffffff;stroke-linejoin:miter;stroke-width:0.760909;\"/>\r\n   </g>\r\n   <g id=\"patch_27\">\r\n    <path clip-path=\"url(#p97bd36a99a)\" d=\"M 236.425426 239.375625 \r\nL 244.034517 239.375625 \r\nL 244.034517 160.485829 \r\nL 236.425426 160.485829 \r\nz\r\n\" style=\"fill:#1f77b4;fill-opacity:0.5;stroke:#ffffff;stroke-linejoin:miter;stroke-width:0.760909;\"/>\r\n   </g>\r\n   <g id=\"patch_28\">\r\n    <path clip-path=\"url(#p97bd36a99a)\" d=\"M 244.034517 239.375625 \r\nL 251.643608 239.375625 \r\nL 251.643608 170.347054 \r\nL 244.034517 170.347054 \r\nz\r\n\" style=\"fill:#1f77b4;fill-opacity:0.5;stroke:#ffffff;stroke-linejoin:miter;stroke-width:0.760909;\"/>\r\n   </g>\r\n   <g id=\"patch_29\">\r\n    <path clip-path=\"url(#p97bd36a99a)\" d=\"M 251.643608 239.375625 \r\nL 259.252699 239.375625 \r\nL 259.252699 209.791952 \r\nL 251.643608 209.791952 \r\nz\r\n\" style=\"fill:#1f77b4;fill-opacity:0.5;stroke:#ffffff;stroke-linejoin:miter;stroke-width:0.760909;\"/>\r\n   </g>\r\n   <g id=\"patch_30\">\r\n    <path clip-path=\"url(#p97bd36a99a)\" d=\"M 259.252699 239.375625 \r\nL 266.86179 239.375625 \r\nL 266.86179 204.861339 \r\nL 259.252699 204.861339 \r\nz\r\n\" style=\"fill:#1f77b4;fill-opacity:0.5;stroke:#ffffff;stroke-linejoin:miter;stroke-width:0.760909;\"/>\r\n   </g>\r\n   <g id=\"patch_31\">\r\n    <path clip-path=\"url(#p97bd36a99a)\" d=\"M 266.86179 239.375625 \r\nL 274.470881 239.375625 \r\nL 274.470881 229.514401 \r\nL 266.86179 229.514401 \r\nz\r\n\" style=\"fill:#1f77b4;fill-opacity:0.5;stroke:#ffffff;stroke-linejoin:miter;stroke-width:0.760909;\"/>\r\n   </g>\r\n   <g id=\"patch_32\">\r\n    <path clip-path=\"url(#p97bd36a99a)\" d=\"M 274.470881 239.375625 \r\nL 282.079972 239.375625 \r\nL 282.079972 214.722564 \r\nL 274.470881 214.722564 \r\nz\r\n\" style=\"fill:#1f77b4;fill-opacity:0.5;stroke:#ffffff;stroke-linejoin:miter;stroke-width:0.760909;\"/>\r\n   </g>\r\n   <g id=\"patch_33\">\r\n    <path clip-path=\"url(#p97bd36a99a)\" d=\"M 282.079972 239.375625 \r\nL 289.689063 239.375625 \r\nL 289.689063 219.653176 \r\nL 282.079972 219.653176 \r\nz\r\n\" style=\"fill:#1f77b4;fill-opacity:0.5;stroke:#ffffff;stroke-linejoin:miter;stroke-width:0.760909;\"/>\r\n   </g>\r\n   <g id=\"patch_34\">\r\n    <path clip-path=\"url(#p97bd36a99a)\" d=\"M 289.689063 239.375625 \r\nL 297.298153 239.375625 \r\nL 297.298153 229.514401 \r\nL 289.689063 229.514401 \r\nz\r\n\" style=\"fill:#1f77b4;fill-opacity:0.5;stroke:#ffffff;stroke-linejoin:miter;stroke-width:0.760909;\"/>\r\n   </g>\r\n   <g id=\"patch_35\">\r\n    <path clip-path=\"url(#p97bd36a99a)\" d=\"M 297.298153 239.375625 \r\nL 304.907244 239.375625 \r\nL 304.907244 219.653176 \r\nL 297.298153 219.653176 \r\nz\r\n\" style=\"fill:#1f77b4;fill-opacity:0.5;stroke:#ffffff;stroke-linejoin:miter;stroke-width:0.760909;\"/>\r\n   </g>\r\n   <g id=\"patch_36\">\r\n    <path clip-path=\"url(#p97bd36a99a)\" d=\"M 304.907244 239.375625 \r\nL 312.516335 239.375625 \r\nL 312.516335 239.375625 \r\nL 304.907244 239.375625 \r\nz\r\n\" style=\"fill:#1f77b4;fill-opacity:0.5;stroke:#ffffff;stroke-linejoin:miter;stroke-width:0.760909;\"/>\r\n   </g>\r\n   <g id=\"patch_37\">\r\n    <path clip-path=\"url(#p97bd36a99a)\" d=\"M 312.516335 239.375625 \r\nL 320.125426 239.375625 \r\nL 320.125426 239.375625 \r\nL 312.516335 239.375625 \r\nz\r\n\" style=\"fill:#1f77b4;fill-opacity:0.5;stroke:#ffffff;stroke-linejoin:miter;stroke-width:0.760909;\"/>\r\n   </g>\r\n   <g id=\"patch_38\">\r\n    <path clip-path=\"url(#p97bd36a99a)\" d=\"M 320.125426 239.375625 \r\nL 327.734517 239.375625 \r\nL 327.734517 234.445013 \r\nL 320.125426 234.445013 \r\nz\r\n\" style=\"fill:#1f77b4;fill-opacity:0.5;stroke:#ffffff;stroke-linejoin:miter;stroke-width:0.760909;\"/>\r\n   </g>\r\n   <g id=\"patch_39\">\r\n    <path clip-path=\"url(#p97bd36a99a)\" d=\"M 327.734517 239.375625 \r\nL 335.343608 239.375625 \r\nL 335.343608 224.583788 \r\nL 327.734517 224.583788 \r\nz\r\n\" style=\"fill:#1f77b4;fill-opacity:0.5;stroke:#ffffff;stroke-linejoin:miter;stroke-width:0.760909;\"/>\r\n   </g>\r\n   <g id=\"patch_40\">\r\n    <path clip-path=\"url(#p97bd36a99a)\" d=\"M 335.343608 239.375625 \r\nL 342.952699 239.375625 \r\nL 342.952699 239.375625 \r\nL 335.343608 239.375625 \r\nz\r\n\" style=\"fill:#1f77b4;fill-opacity:0.5;stroke:#ffffff;stroke-linejoin:miter;stroke-width:0.760909;\"/>\r\n   </g>\r\n   <g id=\"patch_41\">\r\n    <path clip-path=\"url(#p97bd36a99a)\" d=\"M 342.952699 239.375625 \r\nL 350.56179 239.375625 \r\nL 350.56179 239.375625 \r\nL 342.952699 239.375625 \r\nz\r\n\" style=\"fill:#1f77b4;fill-opacity:0.5;stroke:#ffffff;stroke-linejoin:miter;stroke-width:0.760909;\"/>\r\n   </g>\r\n   <g id=\"patch_42\">\r\n    <path clip-path=\"url(#p97bd36a99a)\" d=\"M 350.56179 239.375625 \r\nL 358.170881 239.375625 \r\nL 358.170881 229.514401 \r\nL 350.56179 229.514401 \r\nz\r\n\" style=\"fill:#1f77b4;fill-opacity:0.5;stroke:#ffffff;stroke-linejoin:miter;stroke-width:0.760909;\"/>\r\n   </g>\r\n   <g id=\"line2d_16\">\r\n    <path clip-path=\"url(#p97bd36a99a)\" d=\"M 53.807244 232.611146 \r\nL 56.866175 232.359273 \r\nL 59.925106 232.398597 \r\nL 62.984037 232.723557 \r\nL 66.042968 233.294142 \r\nL 70.631365 234.461202 \r\nL 79.808158 236.955461 \r\nL 84.396555 237.900563 \r\nL 88.984951 238.557283 \r\nL 93.573348 238.962434 \r\nL 99.69121 239.232197 \r\nL 108.868003 239.354138 \r\nL 130.28052 239.332029 \r\nL 137.927847 239.148509 \r\nL 142.516244 238.828226 \r\nL 145.575175 238.434421 \r\nL 148.634106 237.812136 \r\nL 151.693037 236.863869 \r\nL 153.222502 236.230692 \r\nL 154.751968 235.469164 \r\nL 156.281433 234.561125 \r\nL 157.810899 233.487564 \r\nL 159.340364 232.228944 \r\nL 160.86983 230.76559 \r\nL 162.399295 229.078143 \r\nL 163.928761 227.14808 \r\nL 165.458227 224.958273 \r\nL 166.987692 222.493596 \r\nL 168.517158 219.741547 \r\nL 170.046623 216.692876 \r\nL 171.576089 213.342211 \r\nL 173.105554 209.688637 \r\nL 176.164485 201.494565 \r\nL 179.223416 192.211073 \r\nL 182.282347 182.035342 \r\nL 186.870744 165.771338 \r\nL 191.45914 149.546743 \r\nL 194.518071 139.555127 \r\nL 196.047537 134.993103 \r\nL 197.577002 130.798251 \r\nL 199.106468 127.023281 \r\nL 200.635933 123.71441 \r\nL 202.165399 120.909952 \r\nL 203.694864 118.639111 \r\nL 205.22433 116.921059 \r\nL 206.753795 115.764344 \r\nL 208.283261 115.166691 \r\nL 209.812726 115.115213 \r\nL 211.342192 115.587028 \r\nL 212.871657 116.550276 \r\nL 214.401123 117.965472 \r\nL 215.930588 119.787136 \r\nL 217.460054 121.965601 \r\nL 218.989519 124.448901 \r\nL 222.04845 130.121753 \r\nL 225.107381 136.411136 \r\nL 237.343105 162.366973 \r\nL 241.931502 171.323655 \r\nL 246.519898 179.704103 \r\nL 251.108295 187.502052 \r\nL 254.167226 192.360259 \r\nL 257.226157 196.920836 \r\nL 260.285088 201.151885 \r\nL 263.344019 205.015769 \r\nL 266.40295 208.475847 \r\nL 269.461881 211.506253 \r\nL 272.520812 214.1025 \r\nL 275.579743 216.289426 \r\nL 278.638674 218.123166 \r\nL 281.697605 219.685485 \r\nL 286.286002 221.727125 \r\nL 296.99226 226.328497 \r\nL 304.639588 229.629837 \r\nL 307.698519 230.775806 \r\nL 310.75745 231.747881 \r\nL 313.816381 232.52315 \r\nL 316.875312 233.105417 \r\nL 321.463708 233.683644 \r\nL 327.58157 234.152285 \r\nL 338.287829 234.963701 \r\nL 358.170881 236.825007 \r\nL 358.170881 236.825007 \r\n\" style=\"fill:none;stroke:#1f77b4;stroke-linecap:round;stroke-width:1.5;\"/>\r\n   </g>\r\n   <g id=\"patch_43\">\r\n    <path d=\"M 38.589063 239.375625 \r\nL 38.589063 21.935625 \r\n\" style=\"fill:none;stroke:#ffffff;stroke-linecap:square;stroke-linejoin:miter;stroke-width:0.8;\"/>\r\n   </g>\r\n   <g id=\"patch_44\">\r\n    <path d=\"M 373.389063 239.375625 \r\nL 373.389063 21.935625 \r\n\" style=\"fill:none;stroke:#ffffff;stroke-linecap:square;stroke-linejoin:miter;stroke-width:0.8;\"/>\r\n   </g>\r\n   <g id=\"patch_45\">\r\n    <path d=\"M 38.589063 239.375625 \r\nL 373.389063 239.375625 \r\n\" style=\"fill:none;stroke:#ffffff;stroke-linecap:square;stroke-linejoin:miter;stroke-width:0.8;\"/>\r\n   </g>\r\n   <g id=\"patch_46\">\r\n    <path d=\"M 38.589063 21.935625 \r\nL 373.389063 21.935625 \r\n\" style=\"fill:none;stroke:#ffffff;stroke-linecap:square;stroke-linejoin:miter;stroke-width:0.8;\"/>\r\n   </g>\r\n   <g id=\"text_18\">\r\n    <!-- Distribution of age frequency on the whole dataset -->\r\n    <g style=\"fill:#262626;\" transform=\"translate(72.580938 15.935625)scale(0.12 -0.12)\">\r\n     <defs>\r\n      <path d=\"M 7.71875 0 \r\nL 7.71875 71.578125 \r\nL 32.375 71.578125 \r\nQ 40.71875 71.578125 45.125 70.5625 \r\nQ 51.265625 69.140625 55.609375 65.4375 \r\nQ 61.28125 60.640625 64.078125 53.1875 \r\nQ 66.890625 45.75 66.890625 36.1875 \r\nQ 66.890625 28.03125 64.984375 21.734375 \r\nQ 63.09375 15.4375 60.109375 11.296875 \r\nQ 57.125 7.171875 53.578125 4.796875 \r\nQ 50.046875 2.4375 45.046875 1.21875 \r\nQ 40.046875 0 33.546875 0 \r\nz\r\nM 17.1875 8.453125 \r\nL 32.46875 8.453125 \r\nQ 39.546875 8.453125 43.578125 9.765625 \r\nQ 47.609375 11.078125 50 13.484375 \r\nQ 53.375 16.84375 55.25 22.53125 \r\nQ 57.125 28.21875 57.125 36.328125 \r\nQ 57.125 47.5625 53.4375 53.59375 \r\nQ 49.75 59.625 44.484375 61.671875 \r\nQ 40.671875 63.140625 32.234375 63.140625 \r\nL 17.1875 63.140625 \r\nz\r\n\" id=\"ArialMT-68\"/>\r\n      <path d=\"M 39.65625 -19.875 \r\nL 39.65625 5.515625 \r\nQ 37.59375 2.640625 33.90625 0.734375 \r\nQ 30.21875 -1.171875 26.078125 -1.171875 \r\nQ 16.84375 -1.171875 10.171875 6.203125 \r\nQ 3.515625 13.578125 3.515625 26.421875 \r\nQ 3.515625 34.234375 6.21875 40.421875 \r\nQ 8.9375 46.625 14.078125 49.828125 \r\nQ 19.234375 53.03125 25.390625 53.03125 \r\nQ 35.015625 53.03125 40.53125 44.921875 \r\nL 40.53125 51.859375 \r\nL 48.4375 51.859375 \r\nL 48.4375 -19.875 \r\nz\r\nM 12.546875 26.078125 \r\nQ 12.546875 16.0625 16.75 11.0625 \r\nQ 20.953125 6.0625 26.8125 6.0625 \r\nQ 32.421875 6.0625 36.46875 10.8125 \r\nQ 40.53125 15.578125 40.53125 25.296875 \r\nQ 40.53125 35.640625 36.25 40.859375 \r\nQ 31.984375 46.09375 26.21875 46.09375 \r\nQ 20.515625 46.09375 16.53125 41.234375 \r\nQ 12.546875 36.375 12.546875 26.078125 \r\nz\r\n\" id=\"ArialMT-113\"/>\r\n      <path d=\"M 6.203125 -19.96875 \r\nL 5.21875 -11.71875 \r\nQ 8.109375 -12.5 10.25 -12.5 \r\nQ 13.1875 -12.5 14.9375 -11.515625 \r\nQ 16.703125 -10.546875 17.828125 -8.796875 \r\nQ 18.65625 -7.46875 20.515625 -2.25 \r\nQ 20.75 -1.515625 21.296875 -0.09375 \r\nL 1.609375 51.859375 \r\nL 11.078125 51.859375 \r\nL 21.875 21.828125 \r\nQ 23.96875 16.109375 25.640625 9.8125 \r\nQ 27.15625 15.875 29.25 21.625 \r\nL 40.328125 51.859375 \r\nL 49.125 51.859375 \r\nL 29.390625 -0.875 \r\nQ 26.21875 -9.421875 24.46875 -12.640625 \r\nQ 22.125 -17 19.09375 -19.015625 \r\nQ 16.0625 -21.046875 11.859375 -21.046875 \r\nQ 9.328125 -21.046875 6.203125 -19.96875 \r\nz\r\n\" id=\"ArialMT-121\"/>\r\n      <path d=\"M 6.59375 0 \r\nL 6.59375 71.578125 \r\nL 15.375 71.578125 \r\nL 15.375 45.90625 \r\nQ 21.53125 53.03125 30.90625 53.03125 \r\nQ 36.671875 53.03125 40.921875 50.75 \r\nQ 45.171875 48.484375 47 44.484375 \r\nQ 48.828125 40.484375 48.828125 32.859375 \r\nL 48.828125 0 \r\nL 40.046875 0 \r\nL 40.046875 32.859375 \r\nQ 40.046875 39.453125 37.1875 42.453125 \r\nQ 34.328125 45.453125 29.109375 45.453125 \r\nQ 25.203125 45.453125 21.75 43.421875 \r\nQ 18.3125 41.40625 16.84375 37.9375 \r\nQ 15.375 34.46875 15.375 28.375 \r\nL 15.375 0 \r\nz\r\n\" id=\"ArialMT-104\"/>\r\n      <path d=\"M 16.15625 0 \r\nL 0.296875 51.859375 \r\nL 9.375 51.859375 \r\nL 17.625 21.921875 \r\nL 20.703125 10.796875 \r\nQ 20.90625 11.625 23.390625 21.484375 \r\nL 31.640625 51.859375 \r\nL 40.671875 51.859375 \r\nL 48.4375 21.78125 \r\nL 51.03125 11.859375 \r\nL 54 21.875 \r\nL 62.890625 51.859375 \r\nL 71.4375 51.859375 \r\nL 55.21875 0 \r\nL 46.09375 0 \r\nL 37.84375 31.0625 \r\nL 35.84375 39.890625 \r\nL 25.34375 0 \r\nz\r\n\" id=\"ArialMT-119\"/>\r\n      <path d=\"M 40.234375 0 \r\nL 40.234375 6.546875 \r\nQ 35.296875 -1.171875 25.734375 -1.171875 \r\nQ 19.53125 -1.171875 14.328125 2.25 \r\nQ 9.125 5.671875 6.265625 11.796875 \r\nQ 3.421875 17.921875 3.421875 25.875 \r\nQ 3.421875 33.640625 6 39.96875 \r\nQ 8.59375 46.296875 13.765625 49.65625 \r\nQ 18.953125 53.03125 25.34375 53.03125 \r\nQ 30.03125 53.03125 33.6875 51.046875 \r\nQ 37.359375 49.078125 39.65625 45.90625 \r\nL 39.65625 71.578125 \r\nL 48.390625 71.578125 \r\nL 48.390625 0 \r\nz\r\nM 12.453125 25.875 \r\nQ 12.453125 15.921875 16.640625 10.984375 \r\nQ 20.84375 6.0625 26.5625 6.0625 \r\nQ 32.328125 6.0625 36.34375 10.765625 \r\nQ 40.375 15.484375 40.375 25.140625 \r\nQ 40.375 35.796875 36.265625 40.765625 \r\nQ 32.171875 45.75 26.171875 45.75 \r\nQ 20.3125 45.75 16.375 40.96875 \r\nQ 12.453125 36.1875 12.453125 25.875 \r\nz\r\n\" id=\"ArialMT-100\"/>\r\n     </defs>\r\n     <use xlink:href=\"#ArialMT-68\"/>\r\n     <use x=\"72.216797\" xlink:href=\"#ArialMT-105\"/>\r\n     <use x=\"94.433594\" xlink:href=\"#ArialMT-115\"/>\r\n     <use x=\"144.433594\" xlink:href=\"#ArialMT-116\"/>\r\n     <use x=\"172.216797\" xlink:href=\"#ArialMT-114\"/>\r\n     <use x=\"205.517578\" xlink:href=\"#ArialMT-105\"/>\r\n     <use x=\"227.734375\" xlink:href=\"#ArialMT-98\"/>\r\n     <use x=\"283.349609\" xlink:href=\"#ArialMT-117\"/>\r\n     <use x=\"338.964844\" xlink:href=\"#ArialMT-116\"/>\r\n     <use x=\"366.748047\" xlink:href=\"#ArialMT-105\"/>\r\n     <use x=\"388.964844\" xlink:href=\"#ArialMT-111\"/>\r\n     <use x=\"444.580078\" xlink:href=\"#ArialMT-110\"/>\r\n     <use x=\"500.195312\" xlink:href=\"#ArialMT-32\"/>\r\n     <use x=\"527.978516\" xlink:href=\"#ArialMT-111\"/>\r\n     <use x=\"583.59375\" xlink:href=\"#ArialMT-102\"/>\r\n     <use x=\"611.376953\" xlink:href=\"#ArialMT-32\"/>\r\n     <use x=\"639.160156\" xlink:href=\"#ArialMT-97\"/>\r\n     <use x=\"694.775391\" xlink:href=\"#ArialMT-103\"/>\r\n     <use x=\"750.390625\" xlink:href=\"#ArialMT-101\"/>\r\n     <use x=\"806.005859\" xlink:href=\"#ArialMT-32\"/>\r\n     <use x=\"833.789062\" xlink:href=\"#ArialMT-102\"/>\r\n     <use x=\"861.572266\" xlink:href=\"#ArialMT-114\"/>\r\n     <use x=\"894.873047\" xlink:href=\"#ArialMT-101\"/>\r\n     <use x=\"950.488281\" xlink:href=\"#ArialMT-113\"/>\r\n     <use x=\"1006.103516\" xlink:href=\"#ArialMT-117\"/>\r\n     <use x=\"1061.71875\" xlink:href=\"#ArialMT-101\"/>\r\n     <use x=\"1117.333984\" xlink:href=\"#ArialMT-110\"/>\r\n     <use x=\"1172.949219\" xlink:href=\"#ArialMT-99\"/>\r\n     <use x=\"1222.949219\" xlink:href=\"#ArialMT-121\"/>\r\n     <use x=\"1272.949219\" xlink:href=\"#ArialMT-32\"/>\r\n     <use x=\"1300.732422\" xlink:href=\"#ArialMT-111\"/>\r\n     <use x=\"1356.347656\" xlink:href=\"#ArialMT-110\"/>\r\n     <use x=\"1411.962891\" xlink:href=\"#ArialMT-32\"/>\r\n     <use x=\"1439.746094\" xlink:href=\"#ArialMT-116\"/>\r\n     <use x=\"1467.529297\" xlink:href=\"#ArialMT-104\"/>\r\n     <use x=\"1523.144531\" xlink:href=\"#ArialMT-101\"/>\r\n     <use x=\"1578.759766\" xlink:href=\"#ArialMT-32\"/>\r\n     <use x=\"1606.542969\" xlink:href=\"#ArialMT-119\"/>\r\n     <use x=\"1678.759766\" xlink:href=\"#ArialMT-104\"/>\r\n     <use x=\"1734.375\" xlink:href=\"#ArialMT-111\"/>\r\n     <use x=\"1789.990234\" xlink:href=\"#ArialMT-108\"/>\r\n     <use x=\"1812.207031\" xlink:href=\"#ArialMT-101\"/>\r\n     <use x=\"1867.822266\" xlink:href=\"#ArialMT-32\"/>\r\n     <use x=\"1895.605469\" xlink:href=\"#ArialMT-100\"/>\r\n     <use x=\"1951.220703\" xlink:href=\"#ArialMT-97\"/>\r\n     <use x=\"2006.835938\" xlink:href=\"#ArialMT-116\"/>\r\n     <use x=\"2034.619141\" xlink:href=\"#ArialMT-97\"/>\r\n     <use x=\"2090.234375\" xlink:href=\"#ArialMT-115\"/>\r\n     <use x=\"2140.234375\" xlink:href=\"#ArialMT-101\"/>\r\n     <use x=\"2195.849609\" xlink:href=\"#ArialMT-116\"/>\r\n    </g>\r\n   </g>\r\n  </g>\r\n </g>\r\n <defs>\r\n  <clipPath id=\"p97bd36a99a\">\r\n   <rect height=\"217.44\" width=\"334.8\" x=\"38.589063\" y=\"21.935625\"/>\r\n  </clipPath>\r\n </defs>\r\n</svg>\r\n"
     },
     "metadata": {}
    },
    {
     "output_type": "display_data",
     "data": {
      "text/plain": [
       "<Figure size 720x720 with 0 Axes>"
      ]
     },
     "metadata": {}
    }
   ],
   "metadata": {}
  },
  {
   "cell_type": "markdown",
   "source": [
    "### 4. Can we say that the average age (24 years old) of the observations can be considered as the average age of the population likely to participate in this bootcamp. Justify your answer"
   ],
   "metadata": {}
  },
  {
   "cell_type": "markdown",
   "source": [
    "### Answer-4 : \r\n",
    "* Yes, the average age of the observation can be considered as a estimation of the population average age. Since the observation are a sample of the population created by a random sampling mathod, the average is applicable to the population"
   ],
   "metadata": {}
  },
  {
   "cell_type": "markdown",
   "source": [
    "### 5. Calculate the average age of participants for each communication channel"
   ],
   "metadata": {}
  },
  {
   "cell_type": "code",
   "execution_count": 159,
   "source": [
    "finalset[[\"age\",\"communication_channel\"]].groupby(\"communication_channel\").mean()"
   ],
   "outputs": [
    {
     "output_type": "execute_result",
     "data": {
      "text/plain": [
       "                               age\n",
       "communication_channel             \n",
       "Ayiti Analytics Website  27.266667\n",
       "Bootcamp Alumni          26.857143\n",
       "ESIH                     23.588235\n",
       "Facebook                 25.842105\n",
       "Friend                   26.969697\n",
       "Instagram                25.200000\n",
       "LinkedIn                 30.642857\n",
       "WhatsApp                 26.828125\n",
       "other                    28.444444"
      ],
      "text/html": [
       "<div>\n",
       "<style scoped>\n",
       "    .dataframe tbody tr th:only-of-type {\n",
       "        vertical-align: middle;\n",
       "    }\n",
       "\n",
       "    .dataframe tbody tr th {\n",
       "        vertical-align: top;\n",
       "    }\n",
       "\n",
       "    .dataframe thead th {\n",
       "        text-align: right;\n",
       "    }\n",
       "</style>\n",
       "<table border=\"1\" class=\"dataframe\">\n",
       "  <thead>\n",
       "    <tr style=\"text-align: right;\">\n",
       "      <th></th>\n",
       "      <th>age</th>\n",
       "    </tr>\n",
       "    <tr>\n",
       "      <th>communication_channel</th>\n",
       "      <th></th>\n",
       "    </tr>\n",
       "  </thead>\n",
       "  <tbody>\n",
       "    <tr>\n",
       "      <th>Ayiti Analytics Website</th>\n",
       "      <td>27.266667</td>\n",
       "    </tr>\n",
       "    <tr>\n",
       "      <th>Bootcamp Alumni</th>\n",
       "      <td>26.857143</td>\n",
       "    </tr>\n",
       "    <tr>\n",
       "      <th>ESIH</th>\n",
       "      <td>23.588235</td>\n",
       "    </tr>\n",
       "    <tr>\n",
       "      <th>Facebook</th>\n",
       "      <td>25.842105</td>\n",
       "    </tr>\n",
       "    <tr>\n",
       "      <th>Friend</th>\n",
       "      <td>26.969697</td>\n",
       "    </tr>\n",
       "    <tr>\n",
       "      <th>Instagram</th>\n",
       "      <td>25.200000</td>\n",
       "    </tr>\n",
       "    <tr>\n",
       "      <th>LinkedIn</th>\n",
       "      <td>30.642857</td>\n",
       "    </tr>\n",
       "    <tr>\n",
       "      <th>WhatsApp</th>\n",
       "      <td>26.828125</td>\n",
       "    </tr>\n",
       "    <tr>\n",
       "      <th>other</th>\n",
       "      <td>28.444444</td>\n",
       "    </tr>\n",
       "  </tbody>\n",
       "</table>\n",
       "</div>"
      ]
     },
     "metadata": {},
     "execution_count": 159
    }
   ],
   "metadata": {}
  },
  {
   "cell_type": "markdown",
   "source": [
    "### 6. Display an age boxplot for each communication channel"
   ],
   "metadata": {}
  },
  {
   "cell_type": "code",
   "execution_count": 160,
   "source": [
    "sns.boxplot(data=finalset,x=\"communication_channel\",y=\"age\")\r\n",
    "plt.title(\"Boxplot of age by Communication channel\")\r\n",
    "plt.xlabel(\"Communication channels\")\r\n",
    "plt.ylabel(\"Age (years)\")\r\n",
    "plt.xticks(rotation=90)\r\n",
    "plt.figure(figsize=(25,25))\r\n",
    "plt.show()"
   ],
   "outputs": [
    {
     "output_type": "display_data",
     "data": {
      "text/plain": [
       "<Figure size 432x288 with 1 Axes>"
      ],
      "image/png": "",
      "image/svg+xml": "<?xml version=\"1.0\" encoding=\"utf-8\" standalone=\"no\"?>\r\n<!DOCTYPE svg PUBLIC \"-//W3C//DTD SVG 1.1//EN\"\r\n  \"http://www.w3.org/Graphics/SVG/1.1/DTD/svg11.dtd\">\r\n<!-- Created with matplotlib (https://matplotlib.org/) -->\r\n<svg height=\"366.405313pt\" version=\"1.1\" viewBox=\"0 0 380.70625 366.405313\" width=\"380.70625pt\" xmlns=\"http://www.w3.org/2000/svg\" xmlns:xlink=\"http://www.w3.org/1999/xlink\">\r\n <metadata>\r\n  <rdf:RDF xmlns:cc=\"http://creativecommons.org/ns#\" xmlns:dc=\"http://purl.org/dc/elements/1.1/\" xmlns:rdf=\"http://www.w3.org/1999/02/22-rdf-syntax-ns#\">\r\n   <cc:Work>\r\n    <dc:type rdf:resource=\"http://purl.org/dc/dcmitype/StillImage\"/>\r\n    <dc:date>2021-07-23T20:03:16.251018</dc:date>\r\n    <dc:format>image/svg+xml</dc:format>\r\n    <dc:creator>\r\n     <cc:Agent>\r\n      <dc:title>Matplotlib v3.3.2, https://matplotlib.org/</dc:title>\r\n     </cc:Agent>\r\n    </dc:creator>\r\n   </cc:Work>\r\n  </rdf:RDF>\r\n </metadata>\r\n <defs>\r\n  <style type=\"text/css\">*{stroke-linecap:butt;stroke-linejoin:round;}</style>\r\n </defs>\r\n <g id=\"figure_1\">\r\n  <g id=\"patch_1\">\r\n   <path d=\"M 0 366.405313 \r\nL 380.70625 366.405313 \r\nL 380.70625 0 \r\nL 0 0 \r\nz\r\n\" style=\"fill:#ffffff;\"/>\r\n  </g>\r\n  <g id=\"axes_1\">\r\n   <g id=\"patch_2\">\r\n    <path d=\"M 38.70625 239.375625 \r\nL 373.50625 239.375625 \r\nL 373.50625 21.935625 \r\nL 38.70625 21.935625 \r\nz\r\n\" style=\"fill:#eaeaf2;\"/>\r\n   </g>\r\n   <g id=\"matplotlib.axis_1\">\r\n    <g id=\"xtick_1\">\r\n     <g id=\"text_1\">\r\n      <!-- Friend -->\r\n      <g style=\"fill:#262626;\" transform=\"translate(59.891406 274.717813)rotate(-90)scale(0.1 -0.1)\">\r\n       <defs>\r\n        <path d=\"M 8.203125 0 \r\nL 8.203125 71.578125 \r\nL 56.5 71.578125 \r\nL 56.5 63.140625 \r\nL 17.671875 63.140625 \r\nL 17.671875 40.96875 \r\nL 51.265625 40.96875 \r\nL 51.265625 32.515625 \r\nL 17.671875 32.515625 \r\nL 17.671875 0 \r\nz\r\n\" id=\"ArialMT-70\"/>\r\n        <path d=\"M 6.5 0 \r\nL 6.5 51.859375 \r\nL 14.40625 51.859375 \r\nL 14.40625 44 \r\nQ 17.4375 49.515625 20 51.265625 \r\nQ 22.5625 53.03125 25.640625 53.03125 \r\nQ 30.078125 53.03125 34.671875 50.203125 \r\nL 31.640625 42.046875 \r\nQ 28.421875 43.953125 25.203125 43.953125 \r\nQ 22.3125 43.953125 20.015625 42.21875 \r\nQ 17.71875 40.484375 16.75 37.40625 \r\nQ 15.28125 32.71875 15.28125 27.15625 \r\nL 15.28125 0 \r\nz\r\n\" id=\"ArialMT-114\"/>\r\n        <path d=\"M 6.640625 61.46875 \r\nL 6.640625 71.578125 \r\nL 15.4375 71.578125 \r\nL 15.4375 61.46875 \r\nz\r\nM 6.640625 0 \r\nL 6.640625 51.859375 \r\nL 15.4375 51.859375 \r\nL 15.4375 0 \r\nz\r\n\" id=\"ArialMT-105\"/>\r\n        <path d=\"M 42.09375 16.703125 \r\nL 51.171875 15.578125 \r\nQ 49.03125 7.625 43.21875 3.21875 \r\nQ 37.40625 -1.171875 28.375 -1.171875 \r\nQ 17 -1.171875 10.328125 5.828125 \r\nQ 3.65625 12.84375 3.65625 25.484375 \r\nQ 3.65625 38.578125 10.390625 45.796875 \r\nQ 17.140625 53.03125 27.875 53.03125 \r\nQ 38.28125 53.03125 44.875 45.953125 \r\nQ 51.46875 38.875 51.46875 26.03125 \r\nQ 51.46875 25.25 51.421875 23.6875 \r\nL 12.75 23.6875 \r\nQ 13.234375 15.140625 17.578125 10.59375 \r\nQ 21.921875 6.0625 28.421875 6.0625 \r\nQ 33.25 6.0625 36.671875 8.59375 \r\nQ 40.09375 11.140625 42.09375 16.703125 \r\nz\r\nM 13.234375 30.90625 \r\nL 42.1875 30.90625 \r\nQ 41.609375 37.453125 38.875 40.71875 \r\nQ 34.671875 45.796875 27.984375 45.796875 \r\nQ 21.921875 45.796875 17.796875 41.75 \r\nQ 13.671875 37.703125 13.234375 30.90625 \r\nz\r\n\" id=\"ArialMT-101\"/>\r\n        <path d=\"M 6.59375 0 \r\nL 6.59375 51.859375 \r\nL 14.5 51.859375 \r\nL 14.5 44.484375 \r\nQ 20.21875 53.03125 31 53.03125 \r\nQ 35.6875 53.03125 39.625 51.34375 \r\nQ 43.5625 49.65625 45.515625 46.921875 \r\nQ 47.46875 44.1875 48.25 40.4375 \r\nQ 48.734375 37.984375 48.734375 31.890625 \r\nL 48.734375 0 \r\nL 39.9375 0 \r\nL 39.9375 31.546875 \r\nQ 39.9375 36.921875 38.90625 39.578125 \r\nQ 37.890625 42.234375 35.28125 43.8125 \r\nQ 32.671875 45.40625 29.15625 45.40625 \r\nQ 23.53125 45.40625 19.453125 41.84375 \r\nQ 15.375 38.28125 15.375 28.328125 \r\nL 15.375 0 \r\nz\r\n\" id=\"ArialMT-110\"/>\r\n        <path d=\"M 40.234375 0 \r\nL 40.234375 6.546875 \r\nQ 35.296875 -1.171875 25.734375 -1.171875 \r\nQ 19.53125 -1.171875 14.328125 2.25 \r\nQ 9.125 5.671875 6.265625 11.796875 \r\nQ 3.421875 17.921875 3.421875 25.875 \r\nQ 3.421875 33.640625 6 39.96875 \r\nQ 8.59375 46.296875 13.765625 49.65625 \r\nQ 18.953125 53.03125 25.34375 53.03125 \r\nQ 30.03125 53.03125 33.6875 51.046875 \r\nQ 37.359375 49.078125 39.65625 45.90625 \r\nL 39.65625 71.578125 \r\nL 48.390625 71.578125 \r\nL 48.390625 0 \r\nz\r\nM 12.453125 25.875 \r\nQ 12.453125 15.921875 16.640625 10.984375 \r\nQ 20.84375 6.0625 26.5625 6.0625 \r\nQ 32.328125 6.0625 36.34375 10.765625 \r\nQ 40.375 15.484375 40.375 25.140625 \r\nQ 40.375 35.796875 36.265625 40.765625 \r\nQ 32.171875 45.75 26.171875 45.75 \r\nQ 20.3125 45.75 16.375 40.96875 \r\nQ 12.453125 36.1875 12.453125 25.875 \r\nz\r\n\" id=\"ArialMT-100\"/>\r\n       </defs>\r\n       <use xlink:href=\"#ArialMT-70\"/>\r\n       <use x=\"61.083984\" xlink:href=\"#ArialMT-114\"/>\r\n       <use x=\"94.384766\" xlink:href=\"#ArialMT-105\"/>\r\n       <use x=\"116.601562\" xlink:href=\"#ArialMT-101\"/>\r\n       <use x=\"172.216797\" xlink:href=\"#ArialMT-110\"/>\r\n       <use x=\"227.832031\" xlink:href=\"#ArialMT-100\"/>\r\n      </g>\r\n     </g>\r\n    </g>\r\n    <g id=\"xtick_2\">\r\n     <g id=\"text_2\">\r\n      <!-- ESIH -->\r\n      <g style=\"fill:#262626;\" transform=\"translate(97.091406 269.71625)rotate(-90)scale(0.1 -0.1)\">\r\n       <defs>\r\n        <path d=\"M 7.90625 0 \r\nL 7.90625 71.578125 \r\nL 59.671875 71.578125 \r\nL 59.671875 63.140625 \r\nL 17.390625 63.140625 \r\nL 17.390625 41.21875 \r\nL 56.984375 41.21875 \r\nL 56.984375 32.8125 \r\nL 17.390625 32.8125 \r\nL 17.390625 8.453125 \r\nL 61.328125 8.453125 \r\nL 61.328125 0 \r\nz\r\n\" id=\"ArialMT-69\"/>\r\n        <path d=\"M 4.5 23 \r\nL 13.421875 23.78125 \r\nQ 14.0625 18.40625 16.375 14.96875 \r\nQ 18.703125 11.53125 23.578125 9.40625 \r\nQ 28.46875 7.28125 34.578125 7.28125 \r\nQ 39.984375 7.28125 44.140625 8.890625 \r\nQ 48.296875 10.5 50.3125 13.296875 \r\nQ 52.34375 16.109375 52.34375 19.4375 \r\nQ 52.34375 22.796875 50.390625 25.3125 \r\nQ 48.4375 27.828125 43.953125 29.546875 \r\nQ 41.0625 30.671875 31.203125 33.03125 \r\nQ 21.34375 35.40625 17.390625 37.5 \r\nQ 12.25 40.1875 9.734375 44.15625 \r\nQ 7.234375 48.140625 7.234375 53.078125 \r\nQ 7.234375 58.5 10.296875 63.203125 \r\nQ 13.375 67.921875 19.28125 70.359375 \r\nQ 25.203125 72.796875 32.421875 72.796875 \r\nQ 40.375 72.796875 46.453125 70.234375 \r\nQ 52.546875 67.671875 55.8125 62.6875 \r\nQ 59.078125 57.71875 59.328125 51.421875 \r\nL 50.25 50.734375 \r\nQ 49.515625 57.515625 45.28125 60.984375 \r\nQ 41.0625 64.453125 32.8125 64.453125 \r\nQ 24.21875 64.453125 20.28125 61.296875 \r\nQ 16.359375 58.15625 16.359375 53.71875 \r\nQ 16.359375 49.859375 19.140625 47.359375 \r\nQ 21.875 44.875 33.421875 42.265625 \r\nQ 44.96875 39.65625 49.265625 37.703125 \r\nQ 55.515625 34.8125 58.484375 30.390625 \r\nQ 61.46875 25.984375 61.46875 20.21875 \r\nQ 61.46875 14.5 58.203125 9.4375 \r\nQ 54.9375 4.390625 48.796875 1.578125 \r\nQ 42.671875 -1.21875 35.015625 -1.21875 \r\nQ 25.296875 -1.21875 18.71875 1.609375 \r\nQ 12.15625 4.4375 8.421875 10.125 \r\nQ 4.6875 15.828125 4.5 23 \r\nz\r\n\" id=\"ArialMT-83\"/>\r\n        <path d=\"M 9.328125 0 \r\nL 9.328125 71.578125 \r\nL 18.796875 71.578125 \r\nL 18.796875 0 \r\nz\r\n\" id=\"ArialMT-73\"/>\r\n        <path d=\"M 8.015625 0 \r\nL 8.015625 71.578125 \r\nL 17.484375 71.578125 \r\nL 17.484375 42.1875 \r\nL 54.6875 42.1875 \r\nL 54.6875 71.578125 \r\nL 64.15625 71.578125 \r\nL 64.15625 0 \r\nL 54.6875 0 \r\nL 54.6875 33.734375 \r\nL 17.484375 33.734375 \r\nL 17.484375 0 \r\nz\r\n\" id=\"ArialMT-72\"/>\r\n       </defs>\r\n       <use xlink:href=\"#ArialMT-69\"/>\r\n       <use x=\"66.699219\" xlink:href=\"#ArialMT-83\"/>\r\n       <use x=\"133.398438\" xlink:href=\"#ArialMT-73\"/>\r\n       <use x=\"161.181641\" xlink:href=\"#ArialMT-72\"/>\r\n      </g>\r\n     </g>\r\n    </g>\r\n    <g id=\"xtick_3\">\r\n     <g id=\"text_3\">\r\n      <!-- WhatsApp -->\r\n      <g style=\"fill:#262626;\" transform=\"translate(134.291406 292.506875)rotate(-90)scale(0.1 -0.1)\">\r\n       <defs>\r\n        <path d=\"M 20.21875 0 \r\nL 1.21875 71.578125 \r\nL 10.9375 71.578125 \r\nL 21.828125 24.65625 \r\nQ 23.578125 17.28125 24.859375 10.015625 \r\nQ 27.59375 21.484375 28.078125 23.25 \r\nL 41.703125 71.578125 \r\nL 53.125 71.578125 \r\nL 63.375 35.359375 \r\nQ 67.234375 21.875 68.953125 10.015625 \r\nQ 70.3125 16.796875 72.515625 25.59375 \r\nL 83.734375 71.578125 \r\nL 93.265625 71.578125 \r\nL 73.640625 0 \r\nL 64.5 0 \r\nL 49.421875 54.546875 \r\nQ 47.515625 61.375 47.171875 62.9375 \r\nQ 46.046875 58.015625 45.0625 54.546875 \r\nL 29.890625 0 \r\nz\r\n\" id=\"ArialMT-87\"/>\r\n        <path d=\"M 6.59375 0 \r\nL 6.59375 71.578125 \r\nL 15.375 71.578125 \r\nL 15.375 45.90625 \r\nQ 21.53125 53.03125 30.90625 53.03125 \r\nQ 36.671875 53.03125 40.921875 50.75 \r\nQ 45.171875 48.484375 47 44.484375 \r\nQ 48.828125 40.484375 48.828125 32.859375 \r\nL 48.828125 0 \r\nL 40.046875 0 \r\nL 40.046875 32.859375 \r\nQ 40.046875 39.453125 37.1875 42.453125 \r\nQ 34.328125 45.453125 29.109375 45.453125 \r\nQ 25.203125 45.453125 21.75 43.421875 \r\nQ 18.3125 41.40625 16.84375 37.9375 \r\nQ 15.375 34.46875 15.375 28.375 \r\nL 15.375 0 \r\nz\r\n\" id=\"ArialMT-104\"/>\r\n        <path d=\"M 40.4375 6.390625 \r\nQ 35.546875 2.25 31.03125 0.53125 \r\nQ 26.515625 -1.171875 21.34375 -1.171875 \r\nQ 12.796875 -1.171875 8.203125 3 \r\nQ 3.609375 7.171875 3.609375 13.671875 \r\nQ 3.609375 17.484375 5.34375 20.625 \r\nQ 7.078125 23.78125 9.890625 25.6875 \r\nQ 12.703125 27.59375 16.21875 28.5625 \r\nQ 18.796875 29.25 24.03125 29.890625 \r\nQ 34.671875 31.15625 39.703125 32.90625 \r\nQ 39.75 34.71875 39.75 35.203125 \r\nQ 39.75 40.578125 37.25 42.78125 \r\nQ 33.890625 45.75 27.25 45.75 \r\nQ 21.046875 45.75 18.09375 43.578125 \r\nQ 15.140625 41.40625 13.71875 35.890625 \r\nL 5.125 37.0625 \r\nQ 6.296875 42.578125 8.984375 45.96875 \r\nQ 11.671875 49.359375 16.75 51.1875 \r\nQ 21.828125 53.03125 28.515625 53.03125 \r\nQ 35.15625 53.03125 39.296875 51.46875 \r\nQ 43.453125 49.90625 45.40625 47.53125 \r\nQ 47.359375 45.171875 48.140625 41.546875 \r\nQ 48.578125 39.3125 48.578125 33.453125 \r\nL 48.578125 21.734375 \r\nQ 48.578125 9.46875 49.140625 6.21875 \r\nQ 49.703125 2.984375 51.375 0 \r\nL 42.1875 0 \r\nQ 40.828125 2.734375 40.4375 6.390625 \r\nz\r\nM 39.703125 26.03125 \r\nQ 34.90625 24.078125 25.34375 22.703125 \r\nQ 19.921875 21.921875 17.671875 20.9375 \r\nQ 15.4375 19.96875 14.203125 18.09375 \r\nQ 12.984375 16.21875 12.984375 13.921875 \r\nQ 12.984375 10.40625 15.640625 8.0625 \r\nQ 18.3125 5.71875 23.4375 5.71875 \r\nQ 28.515625 5.71875 32.46875 7.9375 \r\nQ 36.421875 10.15625 38.28125 14.015625 \r\nQ 39.703125 17 39.703125 22.796875 \r\nz\r\n\" id=\"ArialMT-97\"/>\r\n        <path d=\"M 25.78125 7.859375 \r\nL 27.046875 0.09375 \r\nQ 23.34375 -0.6875 20.40625 -0.6875 \r\nQ 15.625 -0.6875 12.984375 0.828125 \r\nQ 10.359375 2.34375 9.28125 4.8125 \r\nQ 8.203125 7.28125 8.203125 15.1875 \r\nL 8.203125 45.015625 \r\nL 1.765625 45.015625 \r\nL 1.765625 51.859375 \r\nL 8.203125 51.859375 \r\nL 8.203125 64.703125 \r\nL 16.9375 69.96875 \r\nL 16.9375 51.859375 \r\nL 25.78125 51.859375 \r\nL 25.78125 45.015625 \r\nL 16.9375 45.015625 \r\nL 16.9375 14.703125 \r\nQ 16.9375 10.9375 17.40625 9.859375 \r\nQ 17.875 8.796875 18.921875 8.15625 \r\nQ 19.96875 7.515625 21.921875 7.515625 \r\nQ 23.390625 7.515625 25.78125 7.859375 \r\nz\r\n\" id=\"ArialMT-116\"/>\r\n        <path d=\"M 3.078125 15.484375 \r\nL 11.765625 16.84375 \r\nQ 12.5 11.625 15.84375 8.84375 \r\nQ 19.1875 6.0625 25.203125 6.0625 \r\nQ 31.25 6.0625 34.171875 8.515625 \r\nQ 37.109375 10.984375 37.109375 14.3125 \r\nQ 37.109375 17.28125 34.515625 19 \r\nQ 32.71875 20.171875 25.53125 21.96875 \r\nQ 15.875 24.421875 12.140625 26.203125 \r\nQ 8.40625 27.984375 6.46875 31.125 \r\nQ 4.546875 34.28125 4.546875 38.09375 \r\nQ 4.546875 41.546875 6.125 44.5 \r\nQ 7.71875 47.46875 10.453125 49.421875 \r\nQ 12.5 50.921875 16.03125 51.96875 \r\nQ 19.578125 53.03125 23.640625 53.03125 \r\nQ 29.734375 53.03125 34.34375 51.265625 \r\nQ 38.96875 49.515625 41.15625 46.5 \r\nQ 43.359375 43.5 44.1875 38.484375 \r\nL 35.59375 37.3125 \r\nQ 35.015625 41.3125 32.203125 43.546875 \r\nQ 29.390625 45.796875 24.265625 45.796875 \r\nQ 18.21875 45.796875 15.625 43.796875 \r\nQ 13.03125 41.796875 13.03125 39.109375 \r\nQ 13.03125 37.40625 14.109375 36.03125 \r\nQ 15.1875 34.625 17.484375 33.6875 \r\nQ 18.796875 33.203125 25.25 31.453125 \r\nQ 34.578125 28.953125 38.25 27.359375 \r\nQ 41.9375 25.78125 44.03125 22.75 \r\nQ 46.140625 19.734375 46.140625 15.234375 \r\nQ 46.140625 10.84375 43.578125 6.953125 \r\nQ 41.015625 3.078125 36.171875 0.953125 \r\nQ 31.34375 -1.171875 25.25 -1.171875 \r\nQ 15.140625 -1.171875 9.84375 3.03125 \r\nQ 4.546875 7.234375 3.078125 15.484375 \r\nz\r\n\" id=\"ArialMT-115\"/>\r\n        <path d=\"M -0.140625 0 \r\nL 27.34375 71.578125 \r\nL 37.546875 71.578125 \r\nL 66.84375 0 \r\nL 56.0625 0 \r\nL 47.703125 21.6875 \r\nL 17.78125 21.6875 \r\nL 9.90625 0 \r\nz\r\nM 20.515625 29.390625 \r\nL 44.78125 29.390625 \r\nL 37.3125 49.21875 \r\nQ 33.890625 58.25 32.234375 64.0625 \r\nQ 30.859375 57.171875 28.375 50.390625 \r\nz\r\n\" id=\"ArialMT-65\"/>\r\n        <path d=\"M 6.59375 -19.875 \r\nL 6.59375 51.859375 \r\nL 14.59375 51.859375 \r\nL 14.59375 45.125 \r\nQ 17.4375 49.078125 21 51.046875 \r\nQ 24.5625 53.03125 29.640625 53.03125 \r\nQ 36.28125 53.03125 41.359375 49.609375 \r\nQ 46.4375 46.1875 49.015625 39.953125 \r\nQ 51.609375 33.734375 51.609375 26.3125 \r\nQ 51.609375 18.359375 48.75 11.984375 \r\nQ 45.90625 5.609375 40.453125 2.21875 \r\nQ 35.015625 -1.171875 29 -1.171875 \r\nQ 24.609375 -1.171875 21.109375 0.6875 \r\nQ 17.625 2.546875 15.375 5.375 \r\nL 15.375 -19.875 \r\nz\r\nM 14.546875 25.640625 \r\nQ 14.546875 15.625 18.59375 10.84375 \r\nQ 22.65625 6.0625 28.421875 6.0625 \r\nQ 34.28125 6.0625 38.453125 11.015625 \r\nQ 42.625 15.96875 42.625 26.375 \r\nQ 42.625 36.28125 38.546875 41.203125 \r\nQ 34.46875 46.140625 28.8125 46.140625 \r\nQ 23.1875 46.140625 18.859375 40.890625 \r\nQ 14.546875 35.640625 14.546875 25.640625 \r\nz\r\n\" id=\"ArialMT-112\"/>\r\n       </defs>\r\n       <use xlink:href=\"#ArialMT-87\"/>\r\n       <use x=\"94.384766\" xlink:href=\"#ArialMT-104\"/>\r\n       <use x=\"150\" xlink:href=\"#ArialMT-97\"/>\r\n       <use x=\"205.615234\" xlink:href=\"#ArialMT-116\"/>\r\n       <use x=\"233.398438\" xlink:href=\"#ArialMT-115\"/>\r\n       <use x=\"283.398438\" xlink:href=\"#ArialMT-65\"/>\r\n       <use x=\"350.097656\" xlink:href=\"#ArialMT-112\"/>\r\n       <use x=\"405.712891\" xlink:href=\"#ArialMT-112\"/>\r\n      </g>\r\n     </g>\r\n    </g>\r\n    <g id=\"xtick_4\">\r\n     <g id=\"text_4\">\r\n      <!-- Bootcamp Alumni -->\r\n      <g style=\"fill:#262626;\" transform=\"translate(171.491406 324.19125)rotate(-90)scale(0.1 -0.1)\">\r\n       <defs>\r\n        <path d=\"M 7.328125 0 \r\nL 7.328125 71.578125 \r\nL 34.1875 71.578125 \r\nQ 42.390625 71.578125 47.34375 69.40625 \r\nQ 52.296875 67.234375 55.09375 62.71875 \r\nQ 57.90625 58.203125 57.90625 53.265625 \r\nQ 57.90625 48.6875 55.421875 44.625 \r\nQ 52.9375 40.578125 47.90625 38.09375 \r\nQ 54.390625 36.1875 57.875 31.59375 \r\nQ 61.375 27 61.375 20.75 \r\nQ 61.375 15.71875 59.25 11.390625 \r\nQ 57.125 7.078125 54 4.734375 \r\nQ 50.875 2.390625 46.15625 1.1875 \r\nQ 41.453125 0 34.625 0 \r\nz\r\nM 16.796875 41.5 \r\nL 32.28125 41.5 \r\nQ 38.578125 41.5 41.3125 42.328125 \r\nQ 44.921875 43.40625 46.75 45.890625 \r\nQ 48.578125 48.390625 48.578125 52.15625 \r\nQ 48.578125 55.71875 46.875 58.421875 \r\nQ 45.171875 61.140625 41.984375 62.140625 \r\nQ 38.8125 63.140625 31.109375 63.140625 \r\nL 16.796875 63.140625 \r\nz\r\nM 16.796875 8.453125 \r\nL 34.625 8.453125 \r\nQ 39.203125 8.453125 41.0625 8.796875 \r\nQ 44.34375 9.375 46.53125 10.734375 \r\nQ 48.734375 12.109375 50.140625 14.71875 \r\nQ 51.5625 17.328125 51.5625 20.75 \r\nQ 51.5625 24.75 49.515625 27.703125 \r\nQ 47.46875 30.671875 43.828125 31.859375 \r\nQ 40.1875 33.0625 33.34375 33.0625 \r\nL 16.796875 33.0625 \r\nz\r\n\" id=\"ArialMT-66\"/>\r\n        <path d=\"M 3.328125 25.921875 \r\nQ 3.328125 40.328125 11.328125 47.265625 \r\nQ 18.015625 53.03125 27.640625 53.03125 \r\nQ 38.328125 53.03125 45.109375 46.015625 \r\nQ 51.90625 39.015625 51.90625 26.65625 \r\nQ 51.90625 16.65625 48.90625 10.90625 \r\nQ 45.90625 5.171875 40.15625 2 \r\nQ 34.421875 -1.171875 27.640625 -1.171875 \r\nQ 16.75 -1.171875 10.03125 5.8125 \r\nQ 3.328125 12.796875 3.328125 25.921875 \r\nz\r\nM 12.359375 25.921875 \r\nQ 12.359375 15.96875 16.703125 11.015625 \r\nQ 21.046875 6.0625 27.640625 6.0625 \r\nQ 34.1875 6.0625 38.53125 11.03125 \r\nQ 42.875 16.015625 42.875 26.21875 \r\nQ 42.875 35.84375 38.5 40.796875 \r\nQ 34.125 45.75 27.640625 45.75 \r\nQ 21.046875 45.75 16.703125 40.8125 \r\nQ 12.359375 35.890625 12.359375 25.921875 \r\nz\r\n\" id=\"ArialMT-111\"/>\r\n        <path d=\"M 40.4375 19 \r\nL 49.078125 17.875 \r\nQ 47.65625 8.9375 41.8125 3.875 \r\nQ 35.984375 -1.171875 27.484375 -1.171875 \r\nQ 16.84375 -1.171875 10.375 5.78125 \r\nQ 3.90625 12.75 3.90625 25.734375 \r\nQ 3.90625 34.125 6.6875 40.421875 \r\nQ 9.46875 46.734375 15.15625 49.875 \r\nQ 20.84375 53.03125 27.546875 53.03125 \r\nQ 35.984375 53.03125 41.359375 48.75 \r\nQ 46.734375 44.484375 48.25 36.625 \r\nL 39.703125 35.296875 \r\nQ 38.484375 40.53125 35.375 43.15625 \r\nQ 32.28125 45.796875 27.875 45.796875 \r\nQ 21.234375 45.796875 17.078125 41.03125 \r\nQ 12.9375 36.28125 12.9375 25.984375 \r\nQ 12.9375 15.53125 16.9375 10.796875 \r\nQ 20.953125 6.0625 27.390625 6.0625 \r\nQ 32.5625 6.0625 36.03125 9.234375 \r\nQ 39.5 12.40625 40.4375 19 \r\nz\r\n\" id=\"ArialMT-99\"/>\r\n        <path d=\"M 6.59375 0 \r\nL 6.59375 51.859375 \r\nL 14.453125 51.859375 \r\nL 14.453125 44.578125 \r\nQ 16.890625 48.390625 20.9375 50.703125 \r\nQ 25 53.03125 30.171875 53.03125 \r\nQ 35.9375 53.03125 39.625 50.640625 \r\nQ 43.3125 48.25 44.828125 43.953125 \r\nQ 50.984375 53.03125 60.84375 53.03125 \r\nQ 68.5625 53.03125 72.703125 48.75 \r\nQ 76.859375 44.484375 76.859375 35.59375 \r\nL 76.859375 0 \r\nL 68.109375 0 \r\nL 68.109375 32.671875 \r\nQ 68.109375 37.9375 67.25 40.25 \r\nQ 66.40625 42.578125 64.15625 43.984375 \r\nQ 61.921875 45.40625 58.890625 45.40625 \r\nQ 53.421875 45.40625 49.796875 41.765625 \r\nQ 46.1875 38.140625 46.1875 30.125 \r\nL 46.1875 0 \r\nL 37.40625 0 \r\nL 37.40625 33.6875 \r\nQ 37.40625 39.546875 35.25 42.46875 \r\nQ 33.109375 45.40625 28.21875 45.40625 \r\nQ 24.515625 45.40625 21.359375 43.453125 \r\nQ 18.21875 41.5 16.796875 37.734375 \r\nQ 15.375 33.984375 15.375 26.90625 \r\nL 15.375 0 \r\nz\r\n\" id=\"ArialMT-109\"/>\r\n        <path id=\"ArialMT-32\"/>\r\n        <path d=\"M 6.390625 0 \r\nL 6.390625 71.578125 \r\nL 15.1875 71.578125 \r\nL 15.1875 0 \r\nz\r\n\" id=\"ArialMT-108\"/>\r\n        <path d=\"M 40.578125 0 \r\nL 40.578125 7.625 \r\nQ 34.515625 -1.171875 24.125 -1.171875 \r\nQ 19.53125 -1.171875 15.546875 0.578125 \r\nQ 11.578125 2.34375 9.640625 5 \r\nQ 7.71875 7.671875 6.9375 11.53125 \r\nQ 6.390625 14.109375 6.390625 19.734375 \r\nL 6.390625 51.859375 \r\nL 15.1875 51.859375 \r\nL 15.1875 23.09375 \r\nQ 15.1875 16.21875 15.71875 13.8125 \r\nQ 16.546875 10.359375 19.234375 8.375 \r\nQ 21.921875 6.390625 25.875 6.390625 \r\nQ 29.828125 6.390625 33.296875 8.421875 \r\nQ 36.765625 10.453125 38.203125 13.9375 \r\nQ 39.65625 17.4375 39.65625 24.078125 \r\nL 39.65625 51.859375 \r\nL 48.4375 51.859375 \r\nL 48.4375 0 \r\nz\r\n\" id=\"ArialMT-117\"/>\r\n       </defs>\r\n       <use xlink:href=\"#ArialMT-66\"/>\r\n       <use x=\"66.699219\" xlink:href=\"#ArialMT-111\"/>\r\n       <use x=\"122.314453\" xlink:href=\"#ArialMT-111\"/>\r\n       <use x=\"177.929688\" xlink:href=\"#ArialMT-116\"/>\r\n       <use x=\"205.712891\" xlink:href=\"#ArialMT-99\"/>\r\n       <use x=\"255.712891\" xlink:href=\"#ArialMT-97\"/>\r\n       <use x=\"311.328125\" xlink:href=\"#ArialMT-109\"/>\r\n       <use x=\"394.628906\" xlink:href=\"#ArialMT-112\"/>\r\n       <use x=\"450.244141\" xlink:href=\"#ArialMT-32\"/>\r\n       <use x=\"472.527344\" xlink:href=\"#ArialMT-65\"/>\r\n       <use x=\"539.226562\" xlink:href=\"#ArialMT-108\"/>\r\n       <use x=\"561.443359\" xlink:href=\"#ArialMT-117\"/>\r\n       <use x=\"617.058594\" xlink:href=\"#ArialMT-109\"/>\r\n       <use x=\"700.359375\" xlink:href=\"#ArialMT-110\"/>\r\n       <use x=\"755.974609\" xlink:href=\"#ArialMT-105\"/>\r\n      </g>\r\n     </g>\r\n    </g>\r\n    <g id=\"xtick_5\">\r\n     <g id=\"text_5\">\r\n      <!-- Facebook -->\r\n      <g style=\"fill:#262626;\" transform=\"translate(208.691406 290.288125)rotate(-90)scale(0.1 -0.1)\">\r\n       <defs>\r\n        <path d=\"M 14.703125 0 \r\nL 6.546875 0 \r\nL 6.546875 71.578125 \r\nL 15.328125 71.578125 \r\nL 15.328125 46.046875 \r\nQ 20.90625 53.03125 29.546875 53.03125 \r\nQ 34.328125 53.03125 38.59375 51.09375 \r\nQ 42.875 49.171875 45.625 45.671875 \r\nQ 48.390625 42.1875 49.953125 37.25 \r\nQ 51.515625 32.328125 51.515625 26.703125 \r\nQ 51.515625 13.375 44.921875 6.09375 \r\nQ 38.328125 -1.171875 29.109375 -1.171875 \r\nQ 19.921875 -1.171875 14.703125 6.5 \r\nz\r\nM 14.59375 26.3125 \r\nQ 14.59375 17 17.140625 12.84375 \r\nQ 21.296875 6.0625 28.375 6.0625 \r\nQ 34.125 6.0625 38.328125 11.0625 \r\nQ 42.53125 16.0625 42.53125 25.984375 \r\nQ 42.53125 36.140625 38.5 40.96875 \r\nQ 34.46875 45.796875 28.765625 45.796875 \r\nQ 23 45.796875 18.796875 40.796875 \r\nQ 14.59375 35.796875 14.59375 26.3125 \r\nz\r\n\" id=\"ArialMT-98\"/>\r\n        <path d=\"M 6.640625 0 \r\nL 6.640625 71.578125 \r\nL 15.4375 71.578125 \r\nL 15.4375 30.765625 \r\nL 36.234375 51.859375 \r\nL 47.609375 51.859375 \r\nL 27.78125 32.625 \r\nL 49.609375 0 \r\nL 38.765625 0 \r\nL 21.625 26.515625 \r\nL 15.4375 20.5625 \r\nL 15.4375 0 \r\nz\r\n\" id=\"ArialMT-107\"/>\r\n       </defs>\r\n       <use xlink:href=\"#ArialMT-70\"/>\r\n       <use x=\"61.083984\" xlink:href=\"#ArialMT-97\"/>\r\n       <use x=\"116.699219\" xlink:href=\"#ArialMT-99\"/>\r\n       <use x=\"166.699219\" xlink:href=\"#ArialMT-101\"/>\r\n       <use x=\"222.314453\" xlink:href=\"#ArialMT-98\"/>\r\n       <use x=\"277.929688\" xlink:href=\"#ArialMT-111\"/>\r\n       <use x=\"333.544922\" xlink:href=\"#ArialMT-111\"/>\r\n       <use x=\"389.160156\" xlink:href=\"#ArialMT-107\"/>\r\n      </g>\r\n     </g>\r\n    </g>\r\n    <g id=\"xtick_6\">\r\n     <g id=\"text_6\">\r\n      <!-- LinkedIn -->\r\n      <g style=\"fill:#262626;\" transform=\"translate(245.891406 284.180313)rotate(-90)scale(0.1 -0.1)\">\r\n       <defs>\r\n        <path d=\"M 7.328125 0 \r\nL 7.328125 71.578125 \r\nL 16.796875 71.578125 \r\nL 16.796875 8.453125 \r\nL 52.046875 8.453125 \r\nL 52.046875 0 \r\nz\r\n\" id=\"ArialMT-76\"/>\r\n       </defs>\r\n       <use xlink:href=\"#ArialMT-76\"/>\r\n       <use x=\"55.615234\" xlink:href=\"#ArialMT-105\"/>\r\n       <use x=\"77.832031\" xlink:href=\"#ArialMT-110\"/>\r\n       <use x=\"133.447266\" xlink:href=\"#ArialMT-107\"/>\r\n       <use x=\"183.447266\" xlink:href=\"#ArialMT-101\"/>\r\n       <use x=\"239.0625\" xlink:href=\"#ArialMT-100\"/>\r\n       <use x=\"294.677734\" xlink:href=\"#ArialMT-73\"/>\r\n       <use x=\"322.460938\" xlink:href=\"#ArialMT-110\"/>\r\n      </g>\r\n     </g>\r\n    </g>\r\n    <g id=\"xtick_7\">\r\n     <g id=\"text_7\">\r\n      <!-- Ayiti Analytics Website -->\r\n      <g style=\"fill:#262626;\" transform=\"translate(283.032813 346.06)rotate(-90)scale(0.1 -0.1)\">\r\n       <defs>\r\n        <path d=\"M 6.203125 -19.96875 \r\nL 5.21875 -11.71875 \r\nQ 8.109375 -12.5 10.25 -12.5 \r\nQ 13.1875 -12.5 14.9375 -11.515625 \r\nQ 16.703125 -10.546875 17.828125 -8.796875 \r\nQ 18.65625 -7.46875 20.515625 -2.25 \r\nQ 20.75 -1.515625 21.296875 -0.09375 \r\nL 1.609375 51.859375 \r\nL 11.078125 51.859375 \r\nL 21.875 21.828125 \r\nQ 23.96875 16.109375 25.640625 9.8125 \r\nQ 27.15625 15.875 29.25 21.625 \r\nL 40.328125 51.859375 \r\nL 49.125 51.859375 \r\nL 29.390625 -0.875 \r\nQ 26.21875 -9.421875 24.46875 -12.640625 \r\nQ 22.125 -17 19.09375 -19.015625 \r\nQ 16.0625 -21.046875 11.859375 -21.046875 \r\nQ 9.328125 -21.046875 6.203125 -19.96875 \r\nz\r\n\" id=\"ArialMT-121\"/>\r\n       </defs>\r\n       <use xlink:href=\"#ArialMT-65\"/>\r\n       <use x=\"64.949219\" xlink:href=\"#ArialMT-121\"/>\r\n       <use x=\"114.949219\" xlink:href=\"#ArialMT-105\"/>\r\n       <use x=\"137.166016\" xlink:href=\"#ArialMT-116\"/>\r\n       <use x=\"164.949219\" xlink:href=\"#ArialMT-105\"/>\r\n       <use x=\"187.166016\" xlink:href=\"#ArialMT-32\"/>\r\n       <use x=\"209.449219\" xlink:href=\"#ArialMT-65\"/>\r\n       <use x=\"276.148438\" xlink:href=\"#ArialMT-110\"/>\r\n       <use x=\"331.763672\" xlink:href=\"#ArialMT-97\"/>\r\n       <use x=\"387.378906\" xlink:href=\"#ArialMT-108\"/>\r\n       <use x=\"409.595703\" xlink:href=\"#ArialMT-121\"/>\r\n       <use x=\"459.595703\" xlink:href=\"#ArialMT-116\"/>\r\n       <use x=\"487.378906\" xlink:href=\"#ArialMT-105\"/>\r\n       <use x=\"509.595703\" xlink:href=\"#ArialMT-99\"/>\r\n       <use x=\"559.595703\" xlink:href=\"#ArialMT-115\"/>\r\n       <use x=\"609.595703\" xlink:href=\"#ArialMT-32\"/>\r\n       <use x=\"637.378906\" xlink:href=\"#ArialMT-87\"/>\r\n       <use x=\"730.013672\" xlink:href=\"#ArialMT-101\"/>\r\n       <use x=\"785.628906\" xlink:href=\"#ArialMT-98\"/>\r\n       <use x=\"841.244141\" xlink:href=\"#ArialMT-115\"/>\r\n       <use x=\"891.244141\" xlink:href=\"#ArialMT-105\"/>\r\n       <use x=\"913.460938\" xlink:href=\"#ArialMT-116\"/>\r\n       <use x=\"941.244141\" xlink:href=\"#ArialMT-101\"/>\r\n      </g>\r\n     </g>\r\n    </g>\r\n    <g id=\"xtick_8\">\r\n     <g id=\"text_8\">\r\n      <!-- other -->\r\n      <g style=\"fill:#262626;\" transform=\"translate(320.291406 269.16625)rotate(-90)scale(0.1 -0.1)\">\r\n       <use xlink:href=\"#ArialMT-111\"/>\r\n       <use x=\"55.615234\" xlink:href=\"#ArialMT-116\"/>\r\n       <use x=\"83.398438\" xlink:href=\"#ArialMT-104\"/>\r\n       <use x=\"139.013672\" xlink:href=\"#ArialMT-101\"/>\r\n       <use x=\"194.628906\" xlink:href=\"#ArialMT-114\"/>\r\n      </g>\r\n     </g>\r\n    </g>\r\n    <g id=\"xtick_9\">\r\n     <g id=\"text_9\">\r\n      <!-- Instagram -->\r\n      <g style=\"fill:#262626;\" transform=\"translate(357.432813 290.835)rotate(-90)scale(0.1 -0.1)\">\r\n       <defs>\r\n        <path d=\"M 4.984375 -4.296875 \r\nL 13.53125 -5.5625 \r\nQ 14.0625 -9.515625 16.5 -11.328125 \r\nQ 19.78125 -13.765625 25.4375 -13.765625 \r\nQ 31.546875 -13.765625 34.859375 -11.328125 \r\nQ 38.1875 -8.890625 39.359375 -4.5 \r\nQ 40.046875 -1.8125 39.984375 6.78125 \r\nQ 34.234375 0 25.640625 0 \r\nQ 14.9375 0 9.078125 7.71875 \r\nQ 3.21875 15.4375 3.21875 26.21875 \r\nQ 3.21875 33.640625 5.90625 39.90625 \r\nQ 8.59375 46.1875 13.6875 49.609375 \r\nQ 18.796875 53.03125 25.6875 53.03125 \r\nQ 34.859375 53.03125 40.828125 45.609375 \r\nL 40.828125 51.859375 \r\nL 48.921875 51.859375 \r\nL 48.921875 7.03125 \r\nQ 48.921875 -5.078125 46.453125 -10.125 \r\nQ 44 -15.1875 38.640625 -18.109375 \r\nQ 33.296875 -21.046875 25.484375 -21.046875 \r\nQ 16.21875 -21.046875 10.5 -16.875 \r\nQ 4.78125 -12.703125 4.984375 -4.296875 \r\nz\r\nM 12.25 26.859375 \r\nQ 12.25 16.65625 16.296875 11.96875 \r\nQ 20.359375 7.28125 26.46875 7.28125 \r\nQ 32.515625 7.28125 36.609375 11.9375 \r\nQ 40.71875 16.609375 40.71875 26.5625 \r\nQ 40.71875 36.078125 36.5 40.90625 \r\nQ 32.28125 45.75 26.3125 45.75 \r\nQ 20.453125 45.75 16.34375 40.984375 \r\nQ 12.25 36.234375 12.25 26.859375 \r\nz\r\n\" id=\"ArialMT-103\"/>\r\n       </defs>\r\n       <use xlink:href=\"#ArialMT-73\"/>\r\n       <use x=\"27.783203\" xlink:href=\"#ArialMT-110\"/>\r\n       <use x=\"83.398438\" xlink:href=\"#ArialMT-115\"/>\r\n       <use x=\"133.398438\" xlink:href=\"#ArialMT-116\"/>\r\n       <use x=\"161.181641\" xlink:href=\"#ArialMT-97\"/>\r\n       <use x=\"216.796875\" xlink:href=\"#ArialMT-103\"/>\r\n       <use x=\"272.412109\" xlink:href=\"#ArialMT-114\"/>\r\n       <use x=\"305.712891\" xlink:href=\"#ArialMT-97\"/>\r\n       <use x=\"361.328125\" xlink:href=\"#ArialMT-109\"/>\r\n      </g>\r\n     </g>\r\n    </g>\r\n    <g id=\"text_10\">\r\n     <!-- Communication channels -->\r\n     <g style=\"fill:#262626;\" transform=\"translate(149.969531 357.217813)scale(0.1 -0.1)\">\r\n      <defs>\r\n       <path d=\"M 58.796875 25.09375 \r\nL 68.265625 22.703125 \r\nQ 65.28125 11.03125 57.546875 4.90625 \r\nQ 49.8125 -1.21875 38.625 -1.21875 \r\nQ 27.046875 -1.21875 19.796875 3.484375 \r\nQ 12.546875 8.203125 8.765625 17.140625 \r\nQ 4.984375 26.078125 4.984375 36.328125 \r\nQ 4.984375 47.515625 9.25 55.828125 \r\nQ 13.53125 64.15625 21.40625 68.46875 \r\nQ 29.296875 72.796875 38.765625 72.796875 \r\nQ 49.515625 72.796875 56.828125 67.328125 \r\nQ 64.15625 61.859375 67.046875 51.953125 \r\nL 57.71875 49.75 \r\nQ 55.21875 57.5625 50.484375 61.125 \r\nQ 45.75 64.703125 38.578125 64.703125 \r\nQ 30.328125 64.703125 24.78125 60.734375 \r\nQ 19.234375 56.78125 16.984375 50.109375 \r\nQ 14.75 43.453125 14.75 36.375 \r\nQ 14.75 27.25 17.40625 20.4375 \r\nQ 20.0625 13.625 25.671875 10.25 \r\nQ 31.296875 6.890625 37.84375 6.890625 \r\nQ 45.796875 6.890625 51.3125 11.46875 \r\nQ 56.84375 16.0625 58.796875 25.09375 \r\nz\r\n\" id=\"ArialMT-67\"/>\r\n      </defs>\r\n      <use xlink:href=\"#ArialMT-67\"/>\r\n      <use x=\"72.216797\" xlink:href=\"#ArialMT-111\"/>\r\n      <use x=\"127.832031\" xlink:href=\"#ArialMT-109\"/>\r\n      <use x=\"211.132812\" xlink:href=\"#ArialMT-109\"/>\r\n      <use x=\"294.433594\" xlink:href=\"#ArialMT-117\"/>\r\n      <use x=\"350.048828\" xlink:href=\"#ArialMT-110\"/>\r\n      <use x=\"405.664062\" xlink:href=\"#ArialMT-105\"/>\r\n      <use x=\"427.880859\" xlink:href=\"#ArialMT-99\"/>\r\n      <use x=\"477.880859\" xlink:href=\"#ArialMT-97\"/>\r\n      <use x=\"533.496094\" xlink:href=\"#ArialMT-116\"/>\r\n      <use x=\"561.279297\" xlink:href=\"#ArialMT-105\"/>\r\n      <use x=\"583.496094\" xlink:href=\"#ArialMT-111\"/>\r\n      <use x=\"639.111328\" xlink:href=\"#ArialMT-110\"/>\r\n      <use x=\"694.726562\" xlink:href=\"#ArialMT-32\"/>\r\n      <use x=\"722.509766\" xlink:href=\"#ArialMT-99\"/>\r\n      <use x=\"772.509766\" xlink:href=\"#ArialMT-104\"/>\r\n      <use x=\"828.125\" xlink:href=\"#ArialMT-97\"/>\r\n      <use x=\"883.740234\" xlink:href=\"#ArialMT-110\"/>\r\n      <use x=\"939.355469\" xlink:href=\"#ArialMT-110\"/>\r\n      <use x=\"994.970703\" xlink:href=\"#ArialMT-101\"/>\r\n      <use x=\"1050.585938\" xlink:href=\"#ArialMT-108\"/>\r\n      <use x=\"1072.802734\" xlink:href=\"#ArialMT-115\"/>\r\n     </g>\r\n    </g>\r\n   </g>\r\n   <g id=\"matplotlib.axis_2\">\r\n    <g id=\"ytick_1\">\r\n     <g id=\"line2d_1\">\r\n      <path clip-path=\"url(#p4c70006090)\" d=\"M 38.70625 225.616053 \r\nL 373.50625 225.616053 \r\n\" style=\"fill:none;stroke:#ffffff;stroke-linecap:round;stroke-width:0.8;\"/>\r\n     </g>\r\n     <g id=\"text_11\">\r\n      <!-- 0 -->\r\n      <g style=\"fill:#262626;\" transform=\"translate(26.145313 229.194959)scale(0.1 -0.1)\">\r\n       <defs>\r\n        <path d=\"M 4.15625 35.296875 \r\nQ 4.15625 48 6.765625 55.734375 \r\nQ 9.375 63.484375 14.515625 67.671875 \r\nQ 19.671875 71.875 27.484375 71.875 \r\nQ 33.25 71.875 37.59375 69.546875 \r\nQ 41.9375 67.234375 44.765625 62.859375 \r\nQ 47.609375 58.5 49.21875 52.21875 \r\nQ 50.828125 45.953125 50.828125 35.296875 \r\nQ 50.828125 22.703125 48.234375 14.96875 \r\nQ 45.65625 7.234375 40.5 3 \r\nQ 35.359375 -1.21875 27.484375 -1.21875 \r\nQ 17.140625 -1.21875 11.234375 6.203125 \r\nQ 4.15625 15.140625 4.15625 35.296875 \r\nz\r\nM 13.1875 35.296875 \r\nQ 13.1875 17.671875 17.3125 11.828125 \r\nQ 21.4375 6 27.484375 6 \r\nQ 33.546875 6 37.671875 11.859375 \r\nQ 41.796875 17.71875 41.796875 35.296875 \r\nQ 41.796875 52.984375 37.671875 58.78125 \r\nQ 33.546875 64.59375 27.390625 64.59375 \r\nQ 21.34375 64.59375 17.71875 59.46875 \r\nQ 13.1875 52.9375 13.1875 35.296875 \r\nz\r\n\" id=\"ArialMT-48\"/>\r\n       </defs>\r\n       <use xlink:href=\"#ArialMT-48\"/>\r\n      </g>\r\n     </g>\r\n    </g>\r\n    <g id=\"ytick_2\">\r\n     <g id=\"line2d_2\">\r\n      <path clip-path=\"url(#p4c70006090)\" d=\"M 38.70625 186.856695 \r\nL 373.50625 186.856695 \r\n\" style=\"fill:none;stroke:#ffffff;stroke-linecap:round;stroke-width:0.8;\"/>\r\n     </g>\r\n     <g id=\"text_12\">\r\n      <!-- 10 -->\r\n      <g style=\"fill:#262626;\" transform=\"translate(20.584375 190.435601)scale(0.1 -0.1)\">\r\n       <defs>\r\n        <path d=\"M 37.25 0 \r\nL 28.46875 0 \r\nL 28.46875 56 \r\nQ 25.296875 52.984375 20.140625 49.953125 \r\nQ 14.984375 46.921875 10.890625 45.40625 \r\nL 10.890625 53.90625 \r\nQ 18.265625 57.375 23.78125 62.296875 \r\nQ 29.296875 67.234375 31.59375 71.875 \r\nL 37.25 71.875 \r\nz\r\n\" id=\"ArialMT-49\"/>\r\n       </defs>\r\n       <use xlink:href=\"#ArialMT-49\"/>\r\n       <use x=\"55.615234\" xlink:href=\"#ArialMT-48\"/>\r\n      </g>\r\n     </g>\r\n    </g>\r\n    <g id=\"ytick_3\">\r\n     <g id=\"line2d_3\">\r\n      <path clip-path=\"url(#p4c70006090)\" d=\"M 38.70625 148.097336 \r\nL 373.50625 148.097336 \r\n\" style=\"fill:none;stroke:#ffffff;stroke-linecap:round;stroke-width:0.8;\"/>\r\n     </g>\r\n     <g id=\"text_13\">\r\n      <!-- 20 -->\r\n      <g style=\"fill:#262626;\" transform=\"translate(20.584375 151.676242)scale(0.1 -0.1)\">\r\n       <defs>\r\n        <path d=\"M 50.34375 8.453125 \r\nL 50.34375 0 \r\nL 3.03125 0 \r\nQ 2.9375 3.171875 4.046875 6.109375 \r\nQ 5.859375 10.9375 9.828125 15.625 \r\nQ 13.8125 20.3125 21.34375 26.46875 \r\nQ 33.015625 36.03125 37.109375 41.625 \r\nQ 41.21875 47.21875 41.21875 52.203125 \r\nQ 41.21875 57.421875 37.46875 61 \r\nQ 33.734375 64.59375 27.734375 64.59375 \r\nQ 21.390625 64.59375 17.578125 60.78125 \r\nQ 13.765625 56.984375 13.71875 50.25 \r\nL 4.6875 51.171875 \r\nQ 5.609375 61.28125 11.65625 66.578125 \r\nQ 17.71875 71.875 27.9375 71.875 \r\nQ 38.234375 71.875 44.234375 66.15625 \r\nQ 50.25 60.453125 50.25 52 \r\nQ 50.25 47.703125 48.484375 43.546875 \r\nQ 46.734375 39.40625 42.65625 34.8125 \r\nQ 38.578125 30.21875 29.109375 22.21875 \r\nQ 21.1875 15.578125 18.9375 13.203125 \r\nQ 16.703125 10.84375 15.234375 8.453125 \r\nz\r\n\" id=\"ArialMT-50\"/>\r\n       </defs>\r\n       <use xlink:href=\"#ArialMT-50\"/>\r\n       <use x=\"55.615234\" xlink:href=\"#ArialMT-48\"/>\r\n      </g>\r\n     </g>\r\n    </g>\r\n    <g id=\"ytick_4\">\r\n     <g id=\"line2d_4\">\r\n      <path clip-path=\"url(#p4c70006090)\" d=\"M 38.70625 109.337978 \r\nL 373.50625 109.337978 \r\n\" style=\"fill:none;stroke:#ffffff;stroke-linecap:round;stroke-width:0.8;\"/>\r\n     </g>\r\n     <g id=\"text_14\">\r\n      <!-- 30 -->\r\n      <g style=\"fill:#262626;\" transform=\"translate(20.584375 112.916884)scale(0.1 -0.1)\">\r\n       <defs>\r\n        <path d=\"M 4.203125 18.890625 \r\nL 12.984375 20.0625 \r\nQ 14.5 12.59375 18.140625 9.296875 \r\nQ 21.78125 6 27 6 \r\nQ 33.203125 6 37.46875 10.296875 \r\nQ 41.75 14.59375 41.75 20.953125 \r\nQ 41.75 27 37.796875 30.921875 \r\nQ 33.84375 34.859375 27.734375 34.859375 \r\nQ 25.25 34.859375 21.53125 33.890625 \r\nL 22.515625 41.609375 \r\nQ 23.390625 41.5 23.921875 41.5 \r\nQ 29.546875 41.5 34.03125 44.421875 \r\nQ 38.53125 47.359375 38.53125 53.46875 \r\nQ 38.53125 58.296875 35.25 61.46875 \r\nQ 31.984375 64.65625 26.8125 64.65625 \r\nQ 21.6875 64.65625 18.265625 61.421875 \r\nQ 14.84375 58.203125 13.875 51.765625 \r\nL 5.078125 53.328125 \r\nQ 6.6875 62.15625 12.390625 67.015625 \r\nQ 18.109375 71.875 26.609375 71.875 \r\nQ 32.46875 71.875 37.390625 69.359375 \r\nQ 42.328125 66.84375 44.9375 62.5 \r\nQ 47.5625 58.15625 47.5625 53.265625 \r\nQ 47.5625 48.640625 45.0625 44.828125 \r\nQ 42.578125 41.015625 37.703125 38.765625 \r\nQ 44.046875 37.3125 47.5625 32.6875 \r\nQ 51.078125 28.078125 51.078125 21.140625 \r\nQ 51.078125 11.765625 44.234375 5.25 \r\nQ 37.40625 -1.265625 26.953125 -1.265625 \r\nQ 17.53125 -1.265625 11.296875 4.34375 \r\nQ 5.078125 9.96875 4.203125 18.890625 \r\nz\r\n\" id=\"ArialMT-51\"/>\r\n       </defs>\r\n       <use xlink:href=\"#ArialMT-51\"/>\r\n       <use x=\"55.615234\" xlink:href=\"#ArialMT-48\"/>\r\n      </g>\r\n     </g>\r\n    </g>\r\n    <g id=\"ytick_5\">\r\n     <g id=\"line2d_5\">\r\n      <path clip-path=\"url(#p4c70006090)\" d=\"M 38.70625 70.57862 \r\nL 373.50625 70.57862 \r\n\" style=\"fill:none;stroke:#ffffff;stroke-linecap:round;stroke-width:0.8;\"/>\r\n     </g>\r\n     <g id=\"text_15\">\r\n      <!-- 40 -->\r\n      <g style=\"fill:#262626;\" transform=\"translate(20.584375 74.157526)scale(0.1 -0.1)\">\r\n       <defs>\r\n        <path d=\"M 32.328125 0 \r\nL 32.328125 17.140625 \r\nL 1.265625 17.140625 \r\nL 1.265625 25.203125 \r\nL 33.9375 71.578125 \r\nL 41.109375 71.578125 \r\nL 41.109375 25.203125 \r\nL 50.78125 25.203125 \r\nL 50.78125 17.140625 \r\nL 41.109375 17.140625 \r\nL 41.109375 0 \r\nz\r\nM 32.328125 25.203125 \r\nL 32.328125 57.46875 \r\nL 9.90625 25.203125 \r\nz\r\n\" id=\"ArialMT-52\"/>\r\n       </defs>\r\n       <use xlink:href=\"#ArialMT-52\"/>\r\n       <use x=\"55.615234\" xlink:href=\"#ArialMT-48\"/>\r\n      </g>\r\n     </g>\r\n    </g>\r\n    <g id=\"ytick_6\">\r\n     <g id=\"line2d_6\">\r\n      <path clip-path=\"url(#p4c70006090)\" d=\"M 38.70625 31.819261 \r\nL 373.50625 31.819261 \r\n\" style=\"fill:none;stroke:#ffffff;stroke-linecap:round;stroke-width:0.8;\"/>\r\n     </g>\r\n     <g id=\"text_16\">\r\n      <!-- 50 -->\r\n      <g style=\"fill:#262626;\" transform=\"translate(20.584375 35.398168)scale(0.1 -0.1)\">\r\n       <defs>\r\n        <path d=\"M 4.15625 18.75 \r\nL 13.375 19.53125 \r\nQ 14.40625 12.796875 18.140625 9.390625 \r\nQ 21.875 6 27.15625 6 \r\nQ 33.5 6 37.890625 10.78125 \r\nQ 42.28125 15.578125 42.28125 23.484375 \r\nQ 42.28125 31 38.0625 35.34375 \r\nQ 33.84375 39.703125 27 39.703125 \r\nQ 22.75 39.703125 19.328125 37.765625 \r\nQ 15.921875 35.84375 13.96875 32.765625 \r\nL 5.71875 33.84375 \r\nL 12.640625 70.609375 \r\nL 48.25 70.609375 \r\nL 48.25 62.203125 \r\nL 19.671875 62.203125 \r\nL 15.828125 42.96875 \r\nQ 22.265625 47.46875 29.34375 47.46875 \r\nQ 38.71875 47.46875 45.15625 40.96875 \r\nQ 51.609375 34.46875 51.609375 24.265625 \r\nQ 51.609375 14.546875 45.953125 7.46875 \r\nQ 39.0625 -1.21875 27.15625 -1.21875 \r\nQ 17.390625 -1.21875 11.203125 4.25 \r\nQ 5.03125 9.71875 4.15625 18.75 \r\nz\r\n\" id=\"ArialMT-53\"/>\r\n       </defs>\r\n       <use xlink:href=\"#ArialMT-53\"/>\r\n       <use x=\"55.615234\" xlink:href=\"#ArialMT-48\"/>\r\n      </g>\r\n     </g>\r\n    </g>\r\n    <g id=\"text_17\">\r\n     <!-- Age (years) -->\r\n     <g style=\"fill:#262626;\" transform=\"translate(14.479687 156.49625)rotate(-90)scale(0.1 -0.1)\">\r\n      <defs>\r\n       <path d=\"M 23.390625 -21.046875 \r\nQ 16.109375 -11.859375 11.078125 0.4375 \r\nQ 6.0625 12.75 6.0625 25.921875 \r\nQ 6.0625 37.546875 9.8125 48.1875 \r\nQ 14.203125 60.546875 23.390625 72.796875 \r\nL 29.6875 72.796875 \r\nQ 23.78125 62.640625 21.875 58.296875 \r\nQ 18.890625 51.5625 17.1875 44.234375 \r\nQ 15.09375 35.109375 15.09375 25.875 \r\nQ 15.09375 2.390625 29.6875 -21.046875 \r\nz\r\n\" id=\"ArialMT-40\"/>\r\n       <path d=\"M 12.359375 -21.046875 \r\nL 6.0625 -21.046875 \r\nQ 20.65625 2.390625 20.65625 25.875 \r\nQ 20.65625 35.0625 18.5625 44.09375 \r\nQ 16.890625 51.421875 13.921875 58.15625 \r\nQ 12.015625 62.546875 6.0625 72.796875 \r\nL 12.359375 72.796875 \r\nQ 21.53125 60.546875 25.921875 48.1875 \r\nQ 29.6875 37.546875 29.6875 25.921875 \r\nQ 29.6875 12.75 24.625 0.4375 \r\nQ 19.578125 -11.859375 12.359375 -21.046875 \r\nz\r\n\" id=\"ArialMT-41\"/>\r\n      </defs>\r\n      <use xlink:href=\"#ArialMT-65\"/>\r\n      <use x=\"66.699219\" xlink:href=\"#ArialMT-103\"/>\r\n      <use x=\"122.314453\" xlink:href=\"#ArialMT-101\"/>\r\n      <use x=\"177.929688\" xlink:href=\"#ArialMT-32\"/>\r\n      <use x=\"205.712891\" xlink:href=\"#ArialMT-40\"/>\r\n      <use x=\"239.013672\" xlink:href=\"#ArialMT-121\"/>\r\n      <use x=\"289.013672\" xlink:href=\"#ArialMT-101\"/>\r\n      <use x=\"344.628906\" xlink:href=\"#ArialMT-97\"/>\r\n      <use x=\"400.244141\" xlink:href=\"#ArialMT-114\"/>\r\n      <use x=\"433.544922\" xlink:href=\"#ArialMT-115\"/>\r\n      <use x=\"483.544922\" xlink:href=\"#ArialMT-41\"/>\r\n     </g>\r\n    </g>\r\n   </g>\r\n   <g id=\"patch_3\">\r\n    <path clip-path=\"url(#p4c70006090)\" d=\"M 42.42625 132.593593 \r\nL 72.18625 132.593593 \r\nL 72.18625 109.337978 \r\nL 42.42625 109.337978 \r\nL 42.42625 132.593593 \r\nz\r\n\" style=\"fill:#3274a1;stroke:#3d3d3d;stroke-linejoin:miter;stroke-width:1.5;\"/>\r\n   </g>\r\n   <g id=\"patch_4\">\r\n    <path clip-path=\"url(#p4c70006090)\" d=\"M 79.62625 140.345465 \r\nL 109.38625 140.345465 \r\nL 109.38625 120.965785 \r\nL 79.62625 120.965785 \r\nL 79.62625 140.345465 \r\nz\r\n\" style=\"fill:#e1812c;stroke:#3d3d3d;stroke-linejoin:miter;stroke-width:1.5;\"/>\r\n   </g>\r\n   <g id=\"patch_5\">\r\n    <path clip-path=\"url(#p4c70006090)\" d=\"M 116.82625 132.593593 \r\nL 146.58625 132.593593 \r\nL 146.58625 109.337978 \r\nL 116.82625 109.337978 \r\nL 116.82625 132.593593 \r\nz\r\n\" style=\"fill:#3a923a;stroke:#3d3d3d;stroke-linejoin:miter;stroke-width:1.5;\"/>\r\n   </g>\r\n   <g id=\"patch_6\">\r\n    <path clip-path=\"url(#p4c70006090)\" d=\"M 154.02625 130.655625 \r\nL 183.78625 130.655625 \r\nL 183.78625 115.151882 \r\nL 154.02625 115.151882 \r\nL 154.02625 130.655625 \r\nz\r\n\" style=\"fill:#c03d3e;stroke:#3d3d3d;stroke-linejoin:miter;stroke-width:1.5;\"/>\r\n   </g>\r\n   <g id=\"patch_7\">\r\n    <path clip-path=\"url(#p4c70006090)\" d=\"M 191.22625 132.593593 \r\nL 220.98625 132.593593 \r\nL 220.98625 109.337978 \r\nL 191.22625 109.337978 \r\nL 191.22625 132.593593 \r\nz\r\n\" style=\"fill:#9372b2;stroke:#3d3d3d;stroke-linejoin:miter;stroke-width:1.5;\"/>\r\n   </g>\r\n   <g id=\"patch_8\">\r\n    <path clip-path=\"url(#p4c70006090)\" d=\"M 228.42625 124.841721 \r\nL 258.18625 124.841721 \r\nL 258.18625 98.679154 \r\nL 228.42625 98.679154 \r\nL 228.42625 124.841721 \r\nz\r\n\" style=\"fill:#845b53;stroke:#3d3d3d;stroke-linejoin:miter;stroke-width:1.5;\"/>\r\n   </g>\r\n   <g id=\"patch_9\">\r\n    <path clip-path=\"url(#p4c70006090)\" d=\"M 265.62625 134.531561 \r\nL 295.38625 134.531561 \r\nL 295.38625 119.027818 \r\nL 265.62625 119.027818 \r\nL 265.62625 134.531561 \r\nz\r\n\" style=\"fill:#d684bd;stroke:#3d3d3d;stroke-linejoin:miter;stroke-width:1.5;\"/>\r\n   </g>\r\n   <g id=\"patch_10\">\r\n    <path clip-path=\"url(#p4c70006090)\" d=\"M 302.82625 140.345465 \r\nL 332.58625 140.345465 \r\nL 332.58625 89.958299 \r\nL 302.82625 89.958299 \r\nL 302.82625 140.345465 \r\nz\r\n\" style=\"fill:#7f7f7f;stroke:#3d3d3d;stroke-linejoin:miter;stroke-width:1.5;\"/>\r\n   </g>\r\n   <g id=\"patch_11\">\r\n    <path clip-path=\"url(#p4c70006090)\" d=\"M 340.02625 140.345465 \r\nL 369.78625 140.345465 \r\nL 369.78625 128.717657 \r\nL 340.02625 128.717657 \r\nL 340.02625 140.345465 \r\nz\r\n\" style=\"fill:#a9aa35;stroke:#3d3d3d;stroke-linejoin:miter;stroke-width:1.5;\"/>\r\n   </g>\r\n   <g id=\"line2d_7\">\r\n    <path clip-path=\"url(#p4c70006090)\" d=\"M 57.30625 132.593593 \r\nL 57.30625 151.973272 \r\n\" style=\"fill:none;stroke:#3d3d3d;stroke-linecap:round;stroke-width:1.5;\"/>\r\n   </g>\r\n   <g id=\"line2d_8\">\r\n    <path clip-path=\"url(#p4c70006090)\" d=\"M 57.30625 109.337978 \r\nL 57.30625 74.454555 \r\n\" style=\"fill:none;stroke:#3d3d3d;stroke-linecap:round;stroke-width:1.5;\"/>\r\n   </g>\r\n   <g id=\"line2d_9\">\r\n    <path clip-path=\"url(#p4c70006090)\" d=\"M 49.86625 151.973272 \r\nL 64.74625 151.973272 \r\n\" style=\"fill:none;stroke:#3d3d3d;stroke-linecap:round;stroke-width:1.5;\"/>\r\n   </g>\r\n   <g id=\"line2d_10\">\r\n    <path clip-path=\"url(#p4c70006090)\" d=\"M 49.86625 74.454555 \r\nL 64.74625 74.454555 \r\n\" style=\"fill:none;stroke:#3d3d3d;stroke-linecap:round;stroke-width:1.5;\"/>\r\n   </g>\r\n   <g id=\"line2d_11\">\r\n    <defs>\r\n     <path d=\"M 0 3.535534 \r\nL 2.12132 0 \r\nL 0 -3.535534 \r\nL -2.12132 0 \r\nz\r\n\" id=\"m343d3a35d8\" style=\"stroke:#3d3d3d;stroke-linejoin:miter;\"/>\r\n    </defs>\r\n    <g clip-path=\"url(#p4c70006090)\">\r\n     <use style=\"fill:#3d3d3d;stroke:#3d3d3d;stroke-linejoin:miter;\" x=\"57.30625\" xlink:href=\"#m343d3a35d8\" y=\"229.491989\"/>\r\n     <use style=\"fill:#3d3d3d;stroke:#3d3d3d;stroke-linejoin:miter;\" x=\"57.30625\" xlink:href=\"#m343d3a35d8\" y=\"55.074876\"/>\r\n     <use style=\"fill:#3d3d3d;stroke:#3d3d3d;stroke-linejoin:miter;\" x=\"57.30625\" xlink:href=\"#m343d3a35d8\" y=\"51.198941\"/>\r\n    </g>\r\n   </g>\r\n   <g id=\"line2d_12\">\r\n    <path clip-path=\"url(#p4c70006090)\" d=\"M 94.50625 140.345465 \r\nL 94.50625 148.097336 \r\n\" style=\"fill:none;stroke:#3d3d3d;stroke-linecap:round;stroke-width:1.5;\"/>\r\n   </g>\r\n   <g id=\"line2d_13\">\r\n    <path clip-path=\"url(#p4c70006090)\" d=\"M 94.50625 120.965785 \r\nL 94.50625 97.71017 \r\n\" style=\"fill:none;stroke:#3d3d3d;stroke-linecap:round;stroke-width:1.5;\"/>\r\n   </g>\r\n   <g id=\"line2d_14\">\r\n    <path clip-path=\"url(#p4c70006090)\" d=\"M 87.06625 148.097336 \r\nL 101.94625 148.097336 \r\n\" style=\"fill:none;stroke:#3d3d3d;stroke-linecap:round;stroke-width:1.5;\"/>\r\n   </g>\r\n   <g id=\"line2d_15\">\r\n    <path clip-path=\"url(#p4c70006090)\" d=\"M 87.06625 97.71017 \r\nL 101.94625 97.71017 \r\n\" style=\"fill:none;stroke:#3d3d3d;stroke-linecap:round;stroke-width:1.5;\"/>\r\n   </g>\r\n   <g id=\"line2d_16\">\r\n    <g clip-path=\"url(#p4c70006090)\">\r\n     <use style=\"fill:#3d3d3d;stroke:#3d3d3d;stroke-linejoin:miter;\" x=\"94.50625\" xlink:href=\"#m343d3a35d8\" y=\"229.491989\"/>\r\n    </g>\r\n   </g>\r\n   <g id=\"line2d_17\">\r\n    <path clip-path=\"url(#p4c70006090)\" d=\"M 131.70625 132.593593 \r\nL 131.70625 144.2214 \r\n\" style=\"fill:none;stroke:#3d3d3d;stroke-linecap:round;stroke-width:1.5;\"/>\r\n   </g>\r\n   <g id=\"line2d_18\">\r\n    <path clip-path=\"url(#p4c70006090)\" d=\"M 131.70625 109.337978 \r\nL 131.70625 74.454555 \r\n\" style=\"fill:none;stroke:#3d3d3d;stroke-linecap:round;stroke-width:1.5;\"/>\r\n   </g>\r\n   <g id=\"line2d_19\">\r\n    <path clip-path=\"url(#p4c70006090)\" d=\"M 124.26625 144.2214 \r\nL 139.14625 144.2214 \r\n\" style=\"fill:none;stroke:#3d3d3d;stroke-linecap:round;stroke-width:1.5;\"/>\r\n   </g>\r\n   <g id=\"line2d_20\">\r\n    <path clip-path=\"url(#p4c70006090)\" d=\"M 124.26625 74.454555 \r\nL 139.14625 74.454555 \r\n\" style=\"fill:none;stroke:#3d3d3d;stroke-linecap:round;stroke-width:1.5;\"/>\r\n   </g>\r\n   <g id=\"line2d_21\">\r\n    <g clip-path=\"url(#p4c70006090)\">\r\n     <use style=\"fill:#3d3d3d;stroke:#3d3d3d;stroke-linejoin:miter;\" x=\"131.70625\" xlink:href=\"#m343d3a35d8\" y=\"225.616053\"/>\r\n     <use style=\"fill:#3d3d3d;stroke:#3d3d3d;stroke-linejoin:miter;\" x=\"131.70625\" xlink:href=\"#m343d3a35d8\" y=\"225.616053\"/>\r\n     <use style=\"fill:#3d3d3d;stroke:#3d3d3d;stroke-linejoin:miter;\" x=\"131.70625\" xlink:href=\"#m343d3a35d8\" y=\"221.740117\"/>\r\n     <use style=\"fill:#3d3d3d;stroke:#3d3d3d;stroke-linejoin:miter;\" x=\"131.70625\" xlink:href=\"#m343d3a35d8\" y=\"35.695197\"/>\r\n     <use style=\"fill:#3d3d3d;stroke:#3d3d3d;stroke-linejoin:miter;\" x=\"131.70625\" xlink:href=\"#m343d3a35d8\" y=\"51.198941\"/>\r\n     <use style=\"fill:#3d3d3d;stroke:#3d3d3d;stroke-linejoin:miter;\" x=\"131.70625\" xlink:href=\"#m343d3a35d8\" y=\"66.702684\"/>\r\n    </g>\r\n   </g>\r\n   <g id=\"line2d_22\">\r\n    <path clip-path=\"url(#p4c70006090)\" d=\"M 168.90625 130.655625 \r\nL 168.90625 136.469529 \r\n\" style=\"fill:none;stroke:#3d3d3d;stroke-linecap:round;stroke-width:1.5;\"/>\r\n   </g>\r\n   <g id=\"line2d_23\">\r\n    <path clip-path=\"url(#p4c70006090)\" d=\"M 168.90625 115.151882 \r\nL 168.90625 101.586106 \r\n\" style=\"fill:none;stroke:#3d3d3d;stroke-linecap:round;stroke-width:1.5;\"/>\r\n   </g>\r\n   <g id=\"line2d_24\">\r\n    <path clip-path=\"url(#p4c70006090)\" d=\"M 161.46625 136.469529 \r\nL 176.34625 136.469529 \r\n\" style=\"fill:none;stroke:#3d3d3d;stroke-linecap:round;stroke-width:1.5;\"/>\r\n   </g>\r\n   <g id=\"line2d_25\">\r\n    <path clip-path=\"url(#p4c70006090)\" d=\"M 161.46625 101.586106 \r\nL 176.34625 101.586106 \r\n\" style=\"fill:none;stroke:#3d3d3d;stroke-linecap:round;stroke-width:1.5;\"/>\r\n   </g>\r\n   <g id=\"line2d_26\"/>\r\n   <g id=\"line2d_27\">\r\n    <path clip-path=\"url(#p4c70006090)\" d=\"M 206.10625 132.593593 \r\nL 206.10625 144.2214 \r\n\" style=\"fill:none;stroke:#3d3d3d;stroke-linecap:round;stroke-width:1.5;\"/>\r\n   </g>\r\n   <g id=\"line2d_28\">\r\n    <path clip-path=\"url(#p4c70006090)\" d=\"M 206.10625 109.337978 \r\nL 206.10625 93.834235 \r\n\" style=\"fill:none;stroke:#3d3d3d;stroke-linecap:round;stroke-width:1.5;\"/>\r\n   </g>\r\n   <g id=\"line2d_29\">\r\n    <path clip-path=\"url(#p4c70006090)\" d=\"M 198.66625 144.2214 \r\nL 213.54625 144.2214 \r\n\" style=\"fill:none;stroke:#3d3d3d;stroke-linecap:round;stroke-width:1.5;\"/>\r\n   </g>\r\n   <g id=\"line2d_30\">\r\n    <path clip-path=\"url(#p4c70006090)\" d=\"M 198.66625 93.834235 \r\nL 213.54625 93.834235 \r\n\" style=\"fill:none;stroke:#3d3d3d;stroke-linecap:round;stroke-width:1.5;\"/>\r\n   </g>\r\n   <g id=\"line2d_31\">\r\n    <g clip-path=\"url(#p4c70006090)\">\r\n     <use style=\"fill:#3d3d3d;stroke:#3d3d3d;stroke-linejoin:miter;\" x=\"206.10625\" xlink:href=\"#m343d3a35d8\" y=\"229.491989\"/>\r\n     <use style=\"fill:#3d3d3d;stroke:#3d3d3d;stroke-linejoin:miter;\" x=\"206.10625\" xlink:href=\"#m343d3a35d8\" y=\"225.616053\"/>\r\n     <use style=\"fill:#3d3d3d;stroke:#3d3d3d;stroke-linejoin:miter;\" x=\"206.10625\" xlink:href=\"#m343d3a35d8\" y=\"70.57862\"/>\r\n    </g>\r\n   </g>\r\n   <g id=\"line2d_32\">\r\n    <path clip-path=\"url(#p4c70006090)\" d=\"M 243.30625 124.841721 \r\nL 243.30625 140.345465 \r\n\" style=\"fill:none;stroke:#3d3d3d;stroke-linecap:round;stroke-width:1.5;\"/>\r\n   </g>\r\n   <g id=\"line2d_33\">\r\n    <path clip-path=\"url(#p4c70006090)\" d=\"M 243.30625 98.679154 \r\nL 243.30625 70.57862 \r\n\" style=\"fill:none;stroke:#3d3d3d;stroke-linecap:round;stroke-width:1.5;\"/>\r\n   </g>\r\n   <g id=\"line2d_34\">\r\n    <path clip-path=\"url(#p4c70006090)\" d=\"M 235.86625 140.345465 \r\nL 250.74625 140.345465 \r\n\" style=\"fill:none;stroke:#3d3d3d;stroke-linecap:round;stroke-width:1.5;\"/>\r\n   </g>\r\n   <g id=\"line2d_35\">\r\n    <path clip-path=\"url(#p4c70006090)\" d=\"M 235.86625 70.57862 \r\nL 250.74625 70.57862 \r\n\" style=\"fill:none;stroke:#3d3d3d;stroke-linecap:round;stroke-width:1.5;\"/>\r\n   </g>\r\n   <g id=\"line2d_36\">\r\n    <g clip-path=\"url(#p4c70006090)\">\r\n     <use style=\"fill:#3d3d3d;stroke:#3d3d3d;stroke-linejoin:miter;\" x=\"243.30625\" xlink:href=\"#m343d3a35d8\" y=\"47.323005\"/>\r\n    </g>\r\n   </g>\r\n   <g id=\"line2d_37\">\r\n    <path clip-path=\"url(#p4c70006090)\" d=\"M 280.50625 134.531561 \r\nL 280.50625 148.097336 \r\n\" style=\"fill:none;stroke:#3d3d3d;stroke-linecap:round;stroke-width:1.5;\"/>\r\n   </g>\r\n   <g id=\"line2d_38\">\r\n    <path clip-path=\"url(#p4c70006090)\" d=\"M 280.50625 119.027818 \r\nL 280.50625 117.08985 \r\n\" style=\"fill:none;stroke:#3d3d3d;stroke-linecap:round;stroke-width:1.5;\"/>\r\n   </g>\r\n   <g id=\"line2d_39\">\r\n    <path clip-path=\"url(#p4c70006090)\" d=\"M 273.06625 148.097336 \r\nL 287.94625 148.097336 \r\n\" style=\"fill:none;stroke:#3d3d3d;stroke-linecap:round;stroke-width:1.5;\"/>\r\n   </g>\r\n   <g id=\"line2d_40\">\r\n    <path clip-path=\"url(#p4c70006090)\" d=\"M 273.06625 117.08985 \r\nL 287.94625 117.08985 \r\n\" style=\"fill:none;stroke:#3d3d3d;stroke-linecap:round;stroke-width:1.5;\"/>\r\n   </g>\r\n   <g id=\"line2d_41\">\r\n    <g clip-path=\"url(#p4c70006090)\">\r\n     <use style=\"fill:#3d3d3d;stroke:#3d3d3d;stroke-linejoin:miter;\" x=\"280.50625\" xlink:href=\"#m343d3a35d8\" y=\"93.834235\"/>\r\n     <use style=\"fill:#3d3d3d;stroke:#3d3d3d;stroke-linejoin:miter;\" x=\"280.50625\" xlink:href=\"#m343d3a35d8\" y=\"78.330491\"/>\r\n     <use style=\"fill:#3d3d3d;stroke:#3d3d3d;stroke-linejoin:miter;\" x=\"280.50625\" xlink:href=\"#m343d3a35d8\" y=\"70.57862\"/>\r\n    </g>\r\n   </g>\r\n   <g id=\"line2d_42\">\r\n    <path clip-path=\"url(#p4c70006090)\" d=\"M 317.70625 140.345465 \r\nL 317.70625 151.973272 \r\n\" style=\"fill:none;stroke:#3d3d3d;stroke-linecap:round;stroke-width:1.5;\"/>\r\n   </g>\r\n   <g id=\"line2d_43\">\r\n    <path clip-path=\"url(#p4c70006090)\" d=\"M 317.70625 89.958299 \r\nL 317.70625 31.819261 \r\n\" style=\"fill:none;stroke:#3d3d3d;stroke-linecap:round;stroke-width:1.5;\"/>\r\n   </g>\r\n   <g id=\"line2d_44\">\r\n    <path clip-path=\"url(#p4c70006090)\" d=\"M 310.26625 151.973272 \r\nL 325.14625 151.973272 \r\n\" style=\"fill:none;stroke:#3d3d3d;stroke-linecap:round;stroke-width:1.5;\"/>\r\n   </g>\r\n   <g id=\"line2d_45\">\r\n    <path clip-path=\"url(#p4c70006090)\" d=\"M 310.26625 31.819261 \r\nL 325.14625 31.819261 \r\n\" style=\"fill:none;stroke:#3d3d3d;stroke-linecap:round;stroke-width:1.5;\"/>\r\n   </g>\r\n   <g id=\"line2d_46\"/>\r\n   <g id=\"line2d_47\">\r\n    <path clip-path=\"url(#p4c70006090)\" d=\"M 354.90625 140.345465 \r\nL 354.90625 144.2214 \r\n\" style=\"fill:none;stroke:#3d3d3d;stroke-linecap:round;stroke-width:1.5;\"/>\r\n   </g>\r\n   <g id=\"line2d_48\">\r\n    <path clip-path=\"url(#p4c70006090)\" d=\"M 354.90625 128.717657 \r\nL 354.90625 128.717657 \r\n\" style=\"fill:none;stroke:#3d3d3d;stroke-linecap:round;stroke-width:1.5;\"/>\r\n   </g>\r\n   <g id=\"line2d_49\">\r\n    <path clip-path=\"url(#p4c70006090)\" d=\"M 347.46625 144.2214 \r\nL 362.34625 144.2214 \r\n\" style=\"fill:none;stroke:#3d3d3d;stroke-linecap:round;stroke-width:1.5;\"/>\r\n   </g>\r\n   <g id=\"line2d_50\">\r\n    <path clip-path=\"url(#p4c70006090)\" d=\"M 347.46625 128.717657 \r\nL 362.34625 128.717657 \r\n\" style=\"fill:none;stroke:#3d3d3d;stroke-linecap:round;stroke-width:1.5;\"/>\r\n   </g>\r\n   <g id=\"line2d_51\">\r\n    <g clip-path=\"url(#p4c70006090)\">\r\n     <use style=\"fill:#3d3d3d;stroke:#3d3d3d;stroke-linejoin:miter;\" x=\"354.90625\" xlink:href=\"#m343d3a35d8\" y=\"93.834235\"/>\r\n    </g>\r\n   </g>\r\n   <g id=\"line2d_52\">\r\n    <path clip-path=\"url(#p4c70006090)\" d=\"M 42.42625 124.841721 \r\nL 72.18625 124.841721 \r\n\" style=\"fill:none;stroke:#3d3d3d;stroke-linecap:round;stroke-width:1.5;\"/>\r\n   </g>\r\n   <g id=\"line2d_53\">\r\n    <path clip-path=\"url(#p4c70006090)\" d=\"M 79.62625 132.593593 \r\nL 109.38625 132.593593 \r\n\" style=\"fill:none;stroke:#3d3d3d;stroke-linecap:round;stroke-width:1.5;\"/>\r\n   </g>\r\n   <g id=\"line2d_54\">\r\n    <path clip-path=\"url(#p4c70006090)\" d=\"M 116.82625 124.841721 \r\nL 146.58625 124.841721 \r\n\" style=\"fill:none;stroke:#3d3d3d;stroke-linecap:round;stroke-width:1.5;\"/>\r\n   </g>\r\n   <g id=\"line2d_55\">\r\n    <path clip-path=\"url(#p4c70006090)\" d=\"M 154.02625 124.841721 \r\nL 183.78625 124.841721 \r\n\" style=\"fill:none;stroke:#3d3d3d;stroke-linecap:round;stroke-width:1.5;\"/>\r\n   </g>\r\n   <g id=\"line2d_56\">\r\n    <path clip-path=\"url(#p4c70006090)\" d=\"M 191.22625 124.841721 \r\nL 220.98625 124.841721 \r\n\" style=\"fill:none;stroke:#3d3d3d;stroke-linecap:round;stroke-width:1.5;\"/>\r\n   </g>\r\n   <g id=\"line2d_57\">\r\n    <path clip-path=\"url(#p4c70006090)\" d=\"M 228.42625 111.275946 \r\nL 258.18625 111.275946 \r\n\" style=\"fill:none;stroke:#3d3d3d;stroke-linecap:round;stroke-width:1.5;\"/>\r\n   </g>\r\n   <g id=\"line2d_58\">\r\n    <path clip-path=\"url(#p4c70006090)\" d=\"M 265.62625 124.841721 \r\nL 295.38625 124.841721 \r\n\" style=\"fill:none;stroke:#3d3d3d;stroke-linecap:round;stroke-width:1.5;\"/>\r\n   </g>\r\n   <g id=\"line2d_59\">\r\n    <path clip-path=\"url(#p4c70006090)\" d=\"M 302.82625 132.593593 \r\nL 332.58625 132.593593 \r\n\" style=\"fill:none;stroke:#3d3d3d;stroke-linecap:round;stroke-width:1.5;\"/>\r\n   </g>\r\n   <g id=\"line2d_60\">\r\n    <path clip-path=\"url(#p4c70006090)\" d=\"M 340.02625 132.593593 \r\nL 369.78625 132.593593 \r\n\" style=\"fill:none;stroke:#3d3d3d;stroke-linecap:round;stroke-width:1.5;\"/>\r\n   </g>\r\n   <g id=\"patch_12\">\r\n    <path d=\"M 38.70625 239.375625 \r\nL 38.70625 21.935625 \r\n\" style=\"fill:none;stroke:#ffffff;stroke-linecap:square;stroke-linejoin:miter;stroke-width:0.8;\"/>\r\n   </g>\r\n   <g id=\"patch_13\">\r\n    <path d=\"M 373.50625 239.375625 \r\nL 373.50625 21.935625 \r\n\" style=\"fill:none;stroke:#ffffff;stroke-linecap:square;stroke-linejoin:miter;stroke-width:0.8;\"/>\r\n   </g>\r\n   <g id=\"patch_14\">\r\n    <path d=\"M 38.70625 239.375625 \r\nL 373.50625 239.375625 \r\n\" style=\"fill:none;stroke:#ffffff;stroke-linecap:square;stroke-linejoin:miter;stroke-width:0.8;\"/>\r\n   </g>\r\n   <g id=\"patch_15\">\r\n    <path d=\"M 38.70625 21.935625 \r\nL 373.50625 21.935625 \r\n\" style=\"fill:none;stroke:#ffffff;stroke-linecap:square;stroke-linejoin:miter;stroke-width:0.8;\"/>\r\n   </g>\r\n   <g id=\"text_18\">\r\n    <!-- Boxplot of age by Communication channel -->\r\n    <g style=\"fill:#262626;\" transform=\"translate(93.713125 15.935625)scale(0.12 -0.12)\">\r\n     <defs>\r\n      <path d=\"M 0.734375 0 \r\nL 19.671875 26.953125 \r\nL 2.15625 51.859375 \r\nL 13.140625 51.859375 \r\nL 21.09375 39.703125 \r\nQ 23.34375 36.234375 24.703125 33.890625 \r\nQ 26.859375 37.109375 28.65625 39.59375 \r\nL 37.40625 51.859375 \r\nL 47.90625 51.859375 \r\nL 29.984375 27.4375 \r\nL 49.265625 0 \r\nL 38.484375 0 \r\nL 27.828125 16.109375 \r\nL 25 20.453125 \r\nL 11.375 0 \r\nz\r\n\" id=\"ArialMT-120\"/>\r\n      <path d=\"M 8.6875 0 \r\nL 8.6875 45.015625 \r\nL 0.921875 45.015625 \r\nL 0.921875 51.859375 \r\nL 8.6875 51.859375 \r\nL 8.6875 57.375 \r\nQ 8.6875 62.59375 9.625 65.140625 \r\nQ 10.890625 68.5625 14.078125 70.671875 \r\nQ 17.28125 72.796875 23.046875 72.796875 \r\nQ 26.765625 72.796875 31.25 71.921875 \r\nL 29.9375 64.265625 \r\nQ 27.203125 64.75 24.75 64.75 \r\nQ 20.75 64.75 19.09375 63.03125 \r\nQ 17.4375 61.328125 17.4375 56.640625 \r\nL 17.4375 51.859375 \r\nL 27.546875 51.859375 \r\nL 27.546875 45.015625 \r\nL 17.4375 45.015625 \r\nL 17.4375 0 \r\nz\r\n\" id=\"ArialMT-102\"/>\r\n     </defs>\r\n     <use xlink:href=\"#ArialMT-66\"/>\r\n     <use x=\"66.699219\" xlink:href=\"#ArialMT-111\"/>\r\n     <use x=\"122.314453\" xlink:href=\"#ArialMT-120\"/>\r\n     <use x=\"172.314453\" xlink:href=\"#ArialMT-112\"/>\r\n     <use x=\"227.929688\" xlink:href=\"#ArialMT-108\"/>\r\n     <use x=\"250.146484\" xlink:href=\"#ArialMT-111\"/>\r\n     <use x=\"305.761719\" xlink:href=\"#ArialMT-116\"/>\r\n     <use x=\"333.544922\" xlink:href=\"#ArialMT-32\"/>\r\n     <use x=\"361.328125\" xlink:href=\"#ArialMT-111\"/>\r\n     <use x=\"416.943359\" xlink:href=\"#ArialMT-102\"/>\r\n     <use x=\"444.726562\" xlink:href=\"#ArialMT-32\"/>\r\n     <use x=\"472.509766\" xlink:href=\"#ArialMT-97\"/>\r\n     <use x=\"528.125\" xlink:href=\"#ArialMT-103\"/>\r\n     <use x=\"583.740234\" xlink:href=\"#ArialMT-101\"/>\r\n     <use x=\"639.355469\" xlink:href=\"#ArialMT-32\"/>\r\n     <use x=\"667.138672\" xlink:href=\"#ArialMT-98\"/>\r\n     <use x=\"722.753906\" xlink:href=\"#ArialMT-121\"/>\r\n     <use x=\"772.753906\" xlink:href=\"#ArialMT-32\"/>\r\n     <use x=\"800.537109\" xlink:href=\"#ArialMT-67\"/>\r\n     <use x=\"872.753906\" xlink:href=\"#ArialMT-111\"/>\r\n     <use x=\"928.369141\" xlink:href=\"#ArialMT-109\"/>\r\n     <use x=\"1011.669922\" xlink:href=\"#ArialMT-109\"/>\r\n     <use x=\"1094.970703\" xlink:href=\"#ArialMT-117\"/>\r\n     <use x=\"1150.585938\" xlink:href=\"#ArialMT-110\"/>\r\n     <use x=\"1206.201172\" xlink:href=\"#ArialMT-105\"/>\r\n     <use x=\"1228.417969\" xlink:href=\"#ArialMT-99\"/>\r\n     <use x=\"1278.417969\" xlink:href=\"#ArialMT-97\"/>\r\n     <use x=\"1334.033203\" xlink:href=\"#ArialMT-116\"/>\r\n     <use x=\"1361.816406\" xlink:href=\"#ArialMT-105\"/>\r\n     <use x=\"1384.033203\" xlink:href=\"#ArialMT-111\"/>\r\n     <use x=\"1439.648438\" xlink:href=\"#ArialMT-110\"/>\r\n     <use x=\"1495.263672\" xlink:href=\"#ArialMT-32\"/>\r\n     <use x=\"1523.046875\" xlink:href=\"#ArialMT-99\"/>\r\n     <use x=\"1573.046875\" xlink:href=\"#ArialMT-104\"/>\r\n     <use x=\"1628.662109\" xlink:href=\"#ArialMT-97\"/>\r\n     <use x=\"1684.277344\" xlink:href=\"#ArialMT-110\"/>\r\n     <use x=\"1739.892578\" xlink:href=\"#ArialMT-110\"/>\r\n     <use x=\"1795.507812\" xlink:href=\"#ArialMT-101\"/>\r\n     <use x=\"1851.123047\" xlink:href=\"#ArialMT-108\"/>\r\n    </g>\r\n   </g>\r\n  </g>\r\n </g>\r\n <defs>\r\n  <clipPath id=\"p4c70006090\">\r\n   <rect height=\"217.44\" width=\"334.8\" x=\"38.70625\" y=\"21.935625\"/>\r\n  </clipPath>\r\n </defs>\r\n</svg>\r\n"
     },
     "metadata": {}
    },
    {
     "output_type": "display_data",
     "data": {
      "text/plain": [
       "<Figure size 1800x1800 with 0 Axes>"
      ]
     },
     "metadata": {}
    }
   ],
   "metadata": {}
  },
  {
   "cell_type": "markdown",
   "source": [
    "### 7 .Is there a significant age difference between these groups"
   ],
   "metadata": {}
  },
  {
   "cell_type": "code",
   "execution_count": 161,
   "source": [
    "friend=finalset[finalset.communication_channel==\"Friend\"][[\"age\"]]\r\n",
    "ESIH=finalset[finalset.communication_channel==\"ESIH\"][[\"age\"]]\r\n",
    "Whatsapp=finalset[finalset.communication_channel==\"WhatsApp\"][[\"age\"]]\r\n",
    "bootcamp=finalset[finalset.communication_channel==\"Bootcamp Alumni\"][[\"age\"]]\r\n",
    "Linked=finalset[finalset.communication_channel==\"LinkedIn\"][[\"age\"]]\r\n",
    "Ayiti=finalset[finalset.communication_channel==\"Ayiti Analytics Website\"][[\"age\"]]\r\n",
    "inta=finalset[finalset.communication_channel==\"Instagram\"][[\"age\"]]\r\n",
    "other=finalset[finalset.communication_channel==\"other\"][[\"age\"]]"
   ],
   "outputs": [],
   "metadata": {}
  },
  {
   "cell_type": "code",
   "execution_count": 162,
   "source": [
    "stat.f_oneway(friend,ESIH,Whatsapp,bootcamp,Linked,Ayiti,inta,other)"
   ],
   "outputs": [
    {
     "output_type": "execute_result",
     "data": {
      "text/plain": [
       "F_onewayResult(statistic=array([1.20110272]), pvalue=array([0.30384838]))"
      ]
     },
     "metadata": {},
     "execution_count": 162
    }
   ],
   "metadata": {}
  },
  {
   "cell_type": "code",
   "execution_count": 196,
   "source": [
    "stat.kruskal(friend,ESIH,Whatsapp,bootcamp,Linked,Ayiti,inta,other)"
   ],
   "outputs": [
    {
     "output_type": "execute_result",
     "data": {
      "text/plain": [
       "KruskalResult(statistic=10.603115885478474, pvalue=0.1568922138615949)"
      ]
     },
     "metadata": {},
     "execution_count": 196
    }
   ],
   "metadata": {}
  },
  {
   "cell_type": "markdown",
   "source": [
    "### Answer-7 : \r\n",
    "* Their is no statistical difference of age between the different communication channels (pvalue=0.30384838)"
   ],
   "metadata": {}
  },
  {
   "cell_type": "markdown",
   "source": [
    "### 8.Plan a BA strategy for each communication channel regarding the age group"
   ],
   "metadata": {}
  },
  {
   "cell_type": "markdown",
   "source": [
    "### Answer-8 : \r\n",
    "* Considering that the difference in the mean age is not statisticaly significant, neither of the communication channels allow us to select participant from a specific age group.\r\n",
    "So their is no need to prioritize a communication channel over the other in th selection process."
   ],
   "metadata": {}
  },
  {
   "cell_type": "markdown",
   "source": [
    "### 9.According to the observations what is the probability of being in each channel of communication knowing your are a woman"
   ],
   "metadata": {}
  },
  {
   "cell_type": "code",
   "execution_count": 165,
   "source": [
    "chasex=finalset[[\"communication_channel\",\"gender\"]].value_counts().to_frame()"
   ],
   "outputs": [],
   "metadata": {}
  },
  {
   "cell_type": "code",
   "execution_count": 166,
   "source": [
    "chasex.reset_index(inplace=True)"
   ],
   "outputs": [],
   "metadata": {}
  },
  {
   "cell_type": "code",
   "execution_count": 167,
   "source": [
    "chasex=pd.pivot_table(data=chasex,index=\"communication_channel\",values=0,columns=\"gender\")"
   ],
   "outputs": [],
   "metadata": {}
  },
  {
   "cell_type": "code",
   "execution_count": 168,
   "source": [
    "chasex[\"comm/male_prob\"]= (chasex.male/(chasex.male.sum()))*100\r\n",
    "chasex[\"comm/female_prob\"]= (chasex.female/(chasex.female.sum()))*100"
   ],
   "outputs": [],
   "metadata": {}
  },
  {
   "cell_type": "code",
   "execution_count": 169,
   "source": [
    "chasex"
   ],
   "outputs": [
    {
     "output_type": "execute_result",
     "data": {
      "text/plain": [
       "gender                   female  male  comm/male_prob  comm/female_prob\n",
       "communication_channel                                                  \n",
       "Ayiti Analytics Website       4    11        5.555556          9.090909\n",
       "Bootcamp Alumni               8     6        3.030303         18.181818\n",
       "ESIH                          5    12        6.060606         11.363636\n",
       "Facebook                      4    34       17.171717          9.090909\n",
       "Friend                       10    56       28.282828         22.727273\n",
       "Instagram                     1     4        2.020202          2.272727\n",
       "LinkedIn                      1    13        6.565657          2.272727\n",
       "WhatsApp                      9    55       27.777778         20.454545\n",
       "other                         2     7        3.535354          4.545455"
      ],
      "text/html": [
       "<div>\n",
       "<style scoped>\n",
       "    .dataframe tbody tr th:only-of-type {\n",
       "        vertical-align: middle;\n",
       "    }\n",
       "\n",
       "    .dataframe tbody tr th {\n",
       "        vertical-align: top;\n",
       "    }\n",
       "\n",
       "    .dataframe thead th {\n",
       "        text-align: right;\n",
       "    }\n",
       "</style>\n",
       "<table border=\"1\" class=\"dataframe\">\n",
       "  <thead>\n",
       "    <tr style=\"text-align: right;\">\n",
       "      <th>gender</th>\n",
       "      <th>female</th>\n",
       "      <th>male</th>\n",
       "      <th>comm/male_prob</th>\n",
       "      <th>comm/female_prob</th>\n",
       "    </tr>\n",
       "    <tr>\n",
       "      <th>communication_channel</th>\n",
       "      <th></th>\n",
       "      <th></th>\n",
       "      <th></th>\n",
       "      <th></th>\n",
       "    </tr>\n",
       "  </thead>\n",
       "  <tbody>\n",
       "    <tr>\n",
       "      <th>Ayiti Analytics Website</th>\n",
       "      <td>4</td>\n",
       "      <td>11</td>\n",
       "      <td>5.555556</td>\n",
       "      <td>9.090909</td>\n",
       "    </tr>\n",
       "    <tr>\n",
       "      <th>Bootcamp Alumni</th>\n",
       "      <td>8</td>\n",
       "      <td>6</td>\n",
       "      <td>3.030303</td>\n",
       "      <td>18.181818</td>\n",
       "    </tr>\n",
       "    <tr>\n",
       "      <th>ESIH</th>\n",
       "      <td>5</td>\n",
       "      <td>12</td>\n",
       "      <td>6.060606</td>\n",
       "      <td>11.363636</td>\n",
       "    </tr>\n",
       "    <tr>\n",
       "      <th>Facebook</th>\n",
       "      <td>4</td>\n",
       "      <td>34</td>\n",
       "      <td>17.171717</td>\n",
       "      <td>9.090909</td>\n",
       "    </tr>\n",
       "    <tr>\n",
       "      <th>Friend</th>\n",
       "      <td>10</td>\n",
       "      <td>56</td>\n",
       "      <td>28.282828</td>\n",
       "      <td>22.727273</td>\n",
       "    </tr>\n",
       "    <tr>\n",
       "      <th>Instagram</th>\n",
       "      <td>1</td>\n",
       "      <td>4</td>\n",
       "      <td>2.020202</td>\n",
       "      <td>2.272727</td>\n",
       "    </tr>\n",
       "    <tr>\n",
       "      <th>LinkedIn</th>\n",
       "      <td>1</td>\n",
       "      <td>13</td>\n",
       "      <td>6.565657</td>\n",
       "      <td>2.272727</td>\n",
       "    </tr>\n",
       "    <tr>\n",
       "      <th>WhatsApp</th>\n",
       "      <td>9</td>\n",
       "      <td>55</td>\n",
       "      <td>27.777778</td>\n",
       "      <td>20.454545</td>\n",
       "    </tr>\n",
       "    <tr>\n",
       "      <th>other</th>\n",
       "      <td>2</td>\n",
       "      <td>7</td>\n",
       "      <td>3.535354</td>\n",
       "      <td>4.545455</td>\n",
       "    </tr>\n",
       "  </tbody>\n",
       "</table>\n",
       "</div>"
      ]
     },
     "metadata": {},
     "execution_count": 169
    }
   ],
   "metadata": {}
  },
  {
   "cell_type": "markdown",
   "source": [
    "### Answer-9 : A woman has a probability of 9.09% to in Ayiti analytics channel, 18.18% to be in the Bootcamp channel, 11.36% to be in the ESIH channel, 9.09% to be in the facebook channel, 22.72% to be in the friend channel, 2.27% to be in the instagram channel, 2.27% to be in the linkedin channel, 20.45% to be in the whatsapp channel and 4.54.2% to be in the other channel."
   ],
   "metadata": {}
  },
  {
   "cell_type": "markdown",
   "source": [
    "### 10.According to the observations what is the probability of being in each channel of communication knowing your are a man"
   ],
   "metadata": {}
  },
  {
   "cell_type": "markdown",
   "source": [
    "### Answer-10 : A man has a probability of 5.55% to in Ayiti analytics channel, 3.03% to be in the Bootcamp channel, 6.06% to be in the ESIH channel, 17.17% to be in the facebook channel, 28.28% to be in the friend channel, 2.02% to be in the instagram channel, 6.56% to be in the linkedin channel, 27.77% to be in the whatsapp channel and 3.53% to be in the other channel."
   ],
   "metadata": {}
  },
  {
   "cell_type": "markdown",
   "source": [
    "### 11. Deduce the probability of being a woman knowing each communication channel"
   ],
   "metadata": {}
  },
  {
   "cell_type": "code",
   "execution_count": 170,
   "source": [
    "gen=finalset.gender.value_counts().to_frame()\r\n",
    "gen[\"prob\"]=gen.gender/gen.gender.sum()\r\n",
    "gen"
   ],
   "outputs": [
    {
     "output_type": "execute_result",
     "data": {
      "text/plain": [
       "        gender      prob\n",
       "male       198  0.818182\n",
       "female      44  0.181818"
      ],
      "text/html": [
       "<div>\n",
       "<style scoped>\n",
       "    .dataframe tbody tr th:only-of-type {\n",
       "        vertical-align: middle;\n",
       "    }\n",
       "\n",
       "    .dataframe tbody tr th {\n",
       "        vertical-align: top;\n",
       "    }\n",
       "\n",
       "    .dataframe thead th {\n",
       "        text-align: right;\n",
       "    }\n",
       "</style>\n",
       "<table border=\"1\" class=\"dataframe\">\n",
       "  <thead>\n",
       "    <tr style=\"text-align: right;\">\n",
       "      <th></th>\n",
       "      <th>gender</th>\n",
       "      <th>prob</th>\n",
       "    </tr>\n",
       "  </thead>\n",
       "  <tbody>\n",
       "    <tr>\n",
       "      <th>male</th>\n",
       "      <td>198</td>\n",
       "      <td>0.818182</td>\n",
       "    </tr>\n",
       "    <tr>\n",
       "      <th>female</th>\n",
       "      <td>44</td>\n",
       "      <td>0.181818</td>\n",
       "    </tr>\n",
       "  </tbody>\n",
       "</table>\n",
       "</div>"
      ]
     },
     "metadata": {},
     "execution_count": 170
    }
   ],
   "metadata": {}
  },
  {
   "cell_type": "code",
   "execution_count": 171,
   "source": [
    "chasex.reset_index()"
   ],
   "outputs": [
    {
     "output_type": "execute_result",
     "data": {
      "text/plain": [
       "gender    communication_channel  female  male  comm/male_prob  \\\n",
       "0       Ayiti Analytics Website       4    11        5.555556   \n",
       "1               Bootcamp Alumni       8     6        3.030303   \n",
       "2                          ESIH       5    12        6.060606   \n",
       "3                      Facebook       4    34       17.171717   \n",
       "4                        Friend      10    56       28.282828   \n",
       "5                     Instagram       1     4        2.020202   \n",
       "6                      LinkedIn       1    13        6.565657   \n",
       "7                      WhatsApp       9    55       27.777778   \n",
       "8                         other       2     7        3.535354   \n",
       "\n",
       "gender  comm/female_prob  \n",
       "0               9.090909  \n",
       "1              18.181818  \n",
       "2              11.363636  \n",
       "3               9.090909  \n",
       "4              22.727273  \n",
       "5               2.272727  \n",
       "6               2.272727  \n",
       "7              20.454545  \n",
       "8               4.545455  "
      ],
      "text/html": [
       "<div>\n",
       "<style scoped>\n",
       "    .dataframe tbody tr th:only-of-type {\n",
       "        vertical-align: middle;\n",
       "    }\n",
       "\n",
       "    .dataframe tbody tr th {\n",
       "        vertical-align: top;\n",
       "    }\n",
       "\n",
       "    .dataframe thead th {\n",
       "        text-align: right;\n",
       "    }\n",
       "</style>\n",
       "<table border=\"1\" class=\"dataframe\">\n",
       "  <thead>\n",
       "    <tr style=\"text-align: right;\">\n",
       "      <th>gender</th>\n",
       "      <th>communication_channel</th>\n",
       "      <th>female</th>\n",
       "      <th>male</th>\n",
       "      <th>comm/male_prob</th>\n",
       "      <th>comm/female_prob</th>\n",
       "    </tr>\n",
       "  </thead>\n",
       "  <tbody>\n",
       "    <tr>\n",
       "      <th>0</th>\n",
       "      <td>Ayiti Analytics Website</td>\n",
       "      <td>4</td>\n",
       "      <td>11</td>\n",
       "      <td>5.555556</td>\n",
       "      <td>9.090909</td>\n",
       "    </tr>\n",
       "    <tr>\n",
       "      <th>1</th>\n",
       "      <td>Bootcamp Alumni</td>\n",
       "      <td>8</td>\n",
       "      <td>6</td>\n",
       "      <td>3.030303</td>\n",
       "      <td>18.181818</td>\n",
       "    </tr>\n",
       "    <tr>\n",
       "      <th>2</th>\n",
       "      <td>ESIH</td>\n",
       "      <td>5</td>\n",
       "      <td>12</td>\n",
       "      <td>6.060606</td>\n",
       "      <td>11.363636</td>\n",
       "    </tr>\n",
       "    <tr>\n",
       "      <th>3</th>\n",
       "      <td>Facebook</td>\n",
       "      <td>4</td>\n",
       "      <td>34</td>\n",
       "      <td>17.171717</td>\n",
       "      <td>9.090909</td>\n",
       "    </tr>\n",
       "    <tr>\n",
       "      <th>4</th>\n",
       "      <td>Friend</td>\n",
       "      <td>10</td>\n",
       "      <td>56</td>\n",
       "      <td>28.282828</td>\n",
       "      <td>22.727273</td>\n",
       "    </tr>\n",
       "    <tr>\n",
       "      <th>5</th>\n",
       "      <td>Instagram</td>\n",
       "      <td>1</td>\n",
       "      <td>4</td>\n",
       "      <td>2.020202</td>\n",
       "      <td>2.272727</td>\n",
       "    </tr>\n",
       "    <tr>\n",
       "      <th>6</th>\n",
       "      <td>LinkedIn</td>\n",
       "      <td>1</td>\n",
       "      <td>13</td>\n",
       "      <td>6.565657</td>\n",
       "      <td>2.272727</td>\n",
       "    </tr>\n",
       "    <tr>\n",
       "      <th>7</th>\n",
       "      <td>WhatsApp</td>\n",
       "      <td>9</td>\n",
       "      <td>55</td>\n",
       "      <td>27.777778</td>\n",
       "      <td>20.454545</td>\n",
       "    </tr>\n",
       "    <tr>\n",
       "      <th>8</th>\n",
       "      <td>other</td>\n",
       "      <td>2</td>\n",
       "      <td>7</td>\n",
       "      <td>3.535354</td>\n",
       "      <td>4.545455</td>\n",
       "    </tr>\n",
       "  </tbody>\n",
       "</table>\n",
       "</div>"
      ]
     },
     "metadata": {},
     "execution_count": 171
    }
   ],
   "metadata": {}
  },
  {
   "cell_type": "code",
   "execution_count": 172,
   "source": [
    "cha=finalset.communication_channel.value_counts().to_frame()\r\n",
    "cha[\"comm_prob\"]=cha.communication_channel/cha.communication_channel.sum()\r\n",
    "cha.reset_index(inplace=True)\r\n",
    "cha.rename(columns={\"index\":\"communication_channel\",\"communication_channel\":\"count\"},inplace=True)"
   ],
   "outputs": [],
   "metadata": {}
  },
  {
   "cell_type": "code",
   "execution_count": 173,
   "source": [
    "chasex=pd.merge(chasex,cha,how=\"left\",on=\"communication_channel\")\r\n",
    "chasex"
   ],
   "outputs": [
    {
     "output_type": "execute_result",
     "data": {
      "text/plain": [
       "     communication_channel  female  male  comm/male_prob  comm/female_prob  \\\n",
       "0  Ayiti Analytics Website       4    11        5.555556          9.090909   \n",
       "1          Bootcamp Alumni       8     6        3.030303         18.181818   \n",
       "2                     ESIH       5    12        6.060606         11.363636   \n",
       "3                 Facebook       4    34       17.171717          9.090909   \n",
       "4                   Friend      10    56       28.282828         22.727273   \n",
       "5                Instagram       1     4        2.020202          2.272727   \n",
       "6                 LinkedIn       1    13        6.565657          2.272727   \n",
       "7                 WhatsApp       9    55       27.777778         20.454545   \n",
       "8                    other       2     7        3.535354          4.545455   \n",
       "\n",
       "   count  comm_prob  \n",
       "0     15   0.061983  \n",
       "1     14   0.057851  \n",
       "2     17   0.070248  \n",
       "3     38   0.157025  \n",
       "4     66   0.272727  \n",
       "5      5   0.020661  \n",
       "6     14   0.057851  \n",
       "7     64   0.264463  \n",
       "8      9   0.037190  "
      ],
      "text/html": [
       "<div>\n",
       "<style scoped>\n",
       "    .dataframe tbody tr th:only-of-type {\n",
       "        vertical-align: middle;\n",
       "    }\n",
       "\n",
       "    .dataframe tbody tr th {\n",
       "        vertical-align: top;\n",
       "    }\n",
       "\n",
       "    .dataframe thead th {\n",
       "        text-align: right;\n",
       "    }\n",
       "</style>\n",
       "<table border=\"1\" class=\"dataframe\">\n",
       "  <thead>\n",
       "    <tr style=\"text-align: right;\">\n",
       "      <th></th>\n",
       "      <th>communication_channel</th>\n",
       "      <th>female</th>\n",
       "      <th>male</th>\n",
       "      <th>comm/male_prob</th>\n",
       "      <th>comm/female_prob</th>\n",
       "      <th>count</th>\n",
       "      <th>comm_prob</th>\n",
       "    </tr>\n",
       "  </thead>\n",
       "  <tbody>\n",
       "    <tr>\n",
       "      <th>0</th>\n",
       "      <td>Ayiti Analytics Website</td>\n",
       "      <td>4</td>\n",
       "      <td>11</td>\n",
       "      <td>5.555556</td>\n",
       "      <td>9.090909</td>\n",
       "      <td>15</td>\n",
       "      <td>0.061983</td>\n",
       "    </tr>\n",
       "    <tr>\n",
       "      <th>1</th>\n",
       "      <td>Bootcamp Alumni</td>\n",
       "      <td>8</td>\n",
       "      <td>6</td>\n",
       "      <td>3.030303</td>\n",
       "      <td>18.181818</td>\n",
       "      <td>14</td>\n",
       "      <td>0.057851</td>\n",
       "    </tr>\n",
       "    <tr>\n",
       "      <th>2</th>\n",
       "      <td>ESIH</td>\n",
       "      <td>5</td>\n",
       "      <td>12</td>\n",
       "      <td>6.060606</td>\n",
       "      <td>11.363636</td>\n",
       "      <td>17</td>\n",
       "      <td>0.070248</td>\n",
       "    </tr>\n",
       "    <tr>\n",
       "      <th>3</th>\n",
       "      <td>Facebook</td>\n",
       "      <td>4</td>\n",
       "      <td>34</td>\n",
       "      <td>17.171717</td>\n",
       "      <td>9.090909</td>\n",
       "      <td>38</td>\n",
       "      <td>0.157025</td>\n",
       "    </tr>\n",
       "    <tr>\n",
       "      <th>4</th>\n",
       "      <td>Friend</td>\n",
       "      <td>10</td>\n",
       "      <td>56</td>\n",
       "      <td>28.282828</td>\n",
       "      <td>22.727273</td>\n",
       "      <td>66</td>\n",
       "      <td>0.272727</td>\n",
       "    </tr>\n",
       "    <tr>\n",
       "      <th>5</th>\n",
       "      <td>Instagram</td>\n",
       "      <td>1</td>\n",
       "      <td>4</td>\n",
       "      <td>2.020202</td>\n",
       "      <td>2.272727</td>\n",
       "      <td>5</td>\n",
       "      <td>0.020661</td>\n",
       "    </tr>\n",
       "    <tr>\n",
       "      <th>6</th>\n",
       "      <td>LinkedIn</td>\n",
       "      <td>1</td>\n",
       "      <td>13</td>\n",
       "      <td>6.565657</td>\n",
       "      <td>2.272727</td>\n",
       "      <td>14</td>\n",
       "      <td>0.057851</td>\n",
       "    </tr>\n",
       "    <tr>\n",
       "      <th>7</th>\n",
       "      <td>WhatsApp</td>\n",
       "      <td>9</td>\n",
       "      <td>55</td>\n",
       "      <td>27.777778</td>\n",
       "      <td>20.454545</td>\n",
       "      <td>64</td>\n",
       "      <td>0.264463</td>\n",
       "    </tr>\n",
       "    <tr>\n",
       "      <th>8</th>\n",
       "      <td>other</td>\n",
       "      <td>2</td>\n",
       "      <td>7</td>\n",
       "      <td>3.535354</td>\n",
       "      <td>4.545455</td>\n",
       "      <td>9</td>\n",
       "      <td>0.037190</td>\n",
       "    </tr>\n",
       "  </tbody>\n",
       "</table>\n",
       "</div>"
      ]
     },
     "metadata": {},
     "execution_count": 173
    }
   ],
   "metadata": {}
  },
  {
   "cell_type": "code",
   "execution_count": 174,
   "source": [
    "chasex[\"male/comm_prob\"]=(chasex[\"comm/male_prob\"]*gen.iloc[0,1])/chasex[\"comm_prob\"]\r\n",
    "chasex[\"female/comm_prob\"]=(chasex[\"comm/female_prob\"]*gen.iloc[1,1])/chasex[\"comm_prob\"]\r\n",
    "chasex"
   ],
   "outputs": [
    {
     "output_type": "execute_result",
     "data": {
      "text/plain": [
       "     communication_channel  female  male  comm/male_prob  comm/female_prob  \\\n",
       "0  Ayiti Analytics Website       4    11        5.555556          9.090909   \n",
       "1          Bootcamp Alumni       8     6        3.030303         18.181818   \n",
       "2                     ESIH       5    12        6.060606         11.363636   \n",
       "3                 Facebook       4    34       17.171717          9.090909   \n",
       "4                   Friend      10    56       28.282828         22.727273   \n",
       "5                Instagram       1     4        2.020202          2.272727   \n",
       "6                 LinkedIn       1    13        6.565657          2.272727   \n",
       "7                 WhatsApp       9    55       27.777778         20.454545   \n",
       "8                    other       2     7        3.535354          4.545455   \n",
       "\n",
       "   count  comm_prob  male/comm_prob  female/comm_prob  \n",
       "0     15   0.061983       73.333333         26.666667  \n",
       "1     14   0.057851       42.857143         57.142857  \n",
       "2     17   0.070248       70.588235         29.411765  \n",
       "3     38   0.157025       89.473684         10.526316  \n",
       "4     66   0.272727       84.848485         15.151515  \n",
       "5      5   0.020661       80.000000         20.000000  \n",
       "6     14   0.057851       92.857143          7.142857  \n",
       "7     64   0.264463       85.937500         14.062500  \n",
       "8      9   0.037190       77.777778         22.222222  "
      ],
      "text/html": [
       "<div>\n",
       "<style scoped>\n",
       "    .dataframe tbody tr th:only-of-type {\n",
       "        vertical-align: middle;\n",
       "    }\n",
       "\n",
       "    .dataframe tbody tr th {\n",
       "        vertical-align: top;\n",
       "    }\n",
       "\n",
       "    .dataframe thead th {\n",
       "        text-align: right;\n",
       "    }\n",
       "</style>\n",
       "<table border=\"1\" class=\"dataframe\">\n",
       "  <thead>\n",
       "    <tr style=\"text-align: right;\">\n",
       "      <th></th>\n",
       "      <th>communication_channel</th>\n",
       "      <th>female</th>\n",
       "      <th>male</th>\n",
       "      <th>comm/male_prob</th>\n",
       "      <th>comm/female_prob</th>\n",
       "      <th>count</th>\n",
       "      <th>comm_prob</th>\n",
       "      <th>male/comm_prob</th>\n",
       "      <th>female/comm_prob</th>\n",
       "    </tr>\n",
       "  </thead>\n",
       "  <tbody>\n",
       "    <tr>\n",
       "      <th>0</th>\n",
       "      <td>Ayiti Analytics Website</td>\n",
       "      <td>4</td>\n",
       "      <td>11</td>\n",
       "      <td>5.555556</td>\n",
       "      <td>9.090909</td>\n",
       "      <td>15</td>\n",
       "      <td>0.061983</td>\n",
       "      <td>73.333333</td>\n",
       "      <td>26.666667</td>\n",
       "    </tr>\n",
       "    <tr>\n",
       "      <th>1</th>\n",
       "      <td>Bootcamp Alumni</td>\n",
       "      <td>8</td>\n",
       "      <td>6</td>\n",
       "      <td>3.030303</td>\n",
       "      <td>18.181818</td>\n",
       "      <td>14</td>\n",
       "      <td>0.057851</td>\n",
       "      <td>42.857143</td>\n",
       "      <td>57.142857</td>\n",
       "    </tr>\n",
       "    <tr>\n",
       "      <th>2</th>\n",
       "      <td>ESIH</td>\n",
       "      <td>5</td>\n",
       "      <td>12</td>\n",
       "      <td>6.060606</td>\n",
       "      <td>11.363636</td>\n",
       "      <td>17</td>\n",
       "      <td>0.070248</td>\n",
       "      <td>70.588235</td>\n",
       "      <td>29.411765</td>\n",
       "    </tr>\n",
       "    <tr>\n",
       "      <th>3</th>\n",
       "      <td>Facebook</td>\n",
       "      <td>4</td>\n",
       "      <td>34</td>\n",
       "      <td>17.171717</td>\n",
       "      <td>9.090909</td>\n",
       "      <td>38</td>\n",
       "      <td>0.157025</td>\n",
       "      <td>89.473684</td>\n",
       "      <td>10.526316</td>\n",
       "    </tr>\n",
       "    <tr>\n",
       "      <th>4</th>\n",
       "      <td>Friend</td>\n",
       "      <td>10</td>\n",
       "      <td>56</td>\n",
       "      <td>28.282828</td>\n",
       "      <td>22.727273</td>\n",
       "      <td>66</td>\n",
       "      <td>0.272727</td>\n",
       "      <td>84.848485</td>\n",
       "      <td>15.151515</td>\n",
       "    </tr>\n",
       "    <tr>\n",
       "      <th>5</th>\n",
       "      <td>Instagram</td>\n",
       "      <td>1</td>\n",
       "      <td>4</td>\n",
       "      <td>2.020202</td>\n",
       "      <td>2.272727</td>\n",
       "      <td>5</td>\n",
       "      <td>0.020661</td>\n",
       "      <td>80.000000</td>\n",
       "      <td>20.000000</td>\n",
       "    </tr>\n",
       "    <tr>\n",
       "      <th>6</th>\n",
       "      <td>LinkedIn</td>\n",
       "      <td>1</td>\n",
       "      <td>13</td>\n",
       "      <td>6.565657</td>\n",
       "      <td>2.272727</td>\n",
       "      <td>14</td>\n",
       "      <td>0.057851</td>\n",
       "      <td>92.857143</td>\n",
       "      <td>7.142857</td>\n",
       "    </tr>\n",
       "    <tr>\n",
       "      <th>7</th>\n",
       "      <td>WhatsApp</td>\n",
       "      <td>9</td>\n",
       "      <td>55</td>\n",
       "      <td>27.777778</td>\n",
       "      <td>20.454545</td>\n",
       "      <td>64</td>\n",
       "      <td>0.264463</td>\n",
       "      <td>85.937500</td>\n",
       "      <td>14.062500</td>\n",
       "    </tr>\n",
       "    <tr>\n",
       "      <th>8</th>\n",
       "      <td>other</td>\n",
       "      <td>2</td>\n",
       "      <td>7</td>\n",
       "      <td>3.535354</td>\n",
       "      <td>4.545455</td>\n",
       "      <td>9</td>\n",
       "      <td>0.037190</td>\n",
       "      <td>77.777778</td>\n",
       "      <td>22.222222</td>\n",
       "    </tr>\n",
       "  </tbody>\n",
       "</table>\n",
       "</div>"
      ]
     },
     "metadata": {},
     "execution_count": 174
    }
   ],
   "metadata": {}
  },
  {
   "cell_type": "markdown",
   "source": [
    "### Answer-11 :\r\n",
    "* Their is a probability 26.66% of being a woman selected throught the Ayiti analytics channel\r\n",
    "* Their is a probability 57.14% of being a woman selected throught the bootcamp alumni  channel\r\n",
    "* Their is a probability 29.41% of being a woman selected throught the ESIH  channel\r\n",
    "* Their is a probability 10.52% of being a woman selected throught the facebook  channel\r\n",
    "* Their is a probability 15.15% of being a woman selected throught the friend  channel\r\n",
    "* Their is a probability 20% of being a woman selected throught the Instagram  channel\r\n",
    "* Their is a probability 7.14% of being a woman selected throught the Linkedin  channel\r\n",
    "* Their is a probability 14.06% of being a woman selected throught the WhasApp  channel\r\n",
    "* Their is a probability 22.22% of being a woman selected throught a other  channel\r\n",
    " "
   ],
   "metadata": {}
  },
  {
   "cell_type": "markdown",
   "source": [
    "### 13. Deduce the probability of being a woman knowing each communication channel"
   ],
   "metadata": {}
  },
  {
   "cell_type": "code",
   "execution_count": 175,
   "source": [
    "# here your codes"
   ],
   "outputs": [],
   "metadata": {}
  },
  {
   "cell_type": "markdown",
   "source": [
    "### 14. Deduce the probability of being a man knowing each communication channel"
   ],
   "metadata": {}
  },
  {
   "cell_type": "markdown",
   "source": [
    "### Answer-11 :  \r\n",
    "* Their is a probability 73.33% of being a man selected throught the Ayiti analytics channel\r\n",
    "* Their is a probability 42.85% of being a man selected throught the bootcamp alumni  channel\r\n",
    "* Their is a probability 70.58% of being a man selected throught the ESIH  channel\r\n",
    "* Their is a probability 89.47% of being a man selected throught the facebook  channel\r\n",
    "* Their is a probability 84.84% of being a man selected throught the friend  channel\r\n",
    "* Their is a probability 80% of being a man selected throught the Instagram  channel\r\n",
    "* Their is a probability 92.85% of being a man selected throught the Linkedin  channel\r\n",
    "* Their is a probability 85.93% of being a man selected throught the WhasApp  channel\r\n",
    "* Their is a probability 77.77% of being a man selected throught a other  channel\r\n",
    " "
   ],
   "metadata": {}
  },
  {
   "cell_type": "markdown",
   "source": [
    "### 15 Display a plot to see Gender vs Communication Channels .Is there any dependency between communication channels and gender?"
   ],
   "metadata": {}
  },
  {
   "cell_type": "code",
   "execution_count": 176,
   "source": [
    "chasex=chasex.reset_index()"
   ],
   "outputs": [],
   "metadata": {}
  },
  {
   "cell_type": "code",
   "execution_count": 177,
   "source": [
    "fig,ax=plt.subplots(1,2)\r\n",
    "ax[0].bar(data=chasex,x=\"communication_channel\",height=\"female\")\r\n",
    "ax[1].bar(data=chasex,x=\"communication_channel\",height=\"male\")\r\n",
    "ax[0].set_title(\"Females\")\r\n",
    "ax[1].set_title(\"Males\")\r\n",
    "plt.figure(figsize=(40,40))\r\n",
    "fig.suptitle(\"Barplot of the communication channel by sex\")\r\n",
    "ax[0].set_xticklabels([\"Ayiti Analytics Website\",\"Bootcamp Alumni\",\"ESIH\",\"Facebook\",\"Friend\",\"Instagram\",\"LinkedIn\",\"WhatsApp\",\"other\"],rotation=90)\r\n",
    "ax[1].set_xticklabels([\"Ayiti Analytics Website\",\"Bootcamp Alumni\",\"ESIH\",\"Facebook\",\"Friend\",\"Instagram\",\"LinkedIn\",\"WhatsApp\",\"other\"],rotation=90)\r\n",
    "plt.show()"
   ],
   "outputs": [
    {
     "output_type": "stream",
     "name": "stderr",
     "text": [
      "<ipython-input-177-a366bf873d89>:8: UserWarning: FixedFormatter should only be used together with FixedLocator\n",
      "  ax[0].set_xticklabels([\"Ayiti Analytics Website\",\"Bootcamp Alumni\",\"ESIH\",\"Facebook\",\"Friend\",\"Instagram\",\"LinkedIn\",\"WhatsApp\",\"other\"],rotation=90)\n",
      "<ipython-input-177-a366bf873d89>:9: UserWarning: FixedFormatter should only be used together with FixedLocator\n",
      "  ax[1].set_xticklabels([\"Ayiti Analytics Website\",\"Bootcamp Alumni\",\"ESIH\",\"Facebook\",\"Friend\",\"Instagram\",\"LinkedIn\",\"WhatsApp\",\"other\"],rotation=90)\n"
     ]
    },
    {
     "output_type": "display_data",
     "data": {
      "text/plain": [
       "<Figure size 432x288 with 2 Axes>"
      ],
      "image/png": "",
      "image/svg+xml": "<?xml version=\"1.0\" encoding=\"utf-8\" standalone=\"no\"?>\r\n<!DOCTYPE svg PUBLIC \"-//W3C//DTD SVG 1.1//EN\"\r\n  \"http://www.w3.org/Graphics/SVG/1.1/DTD/svg11.dtd\">\r\n<!-- Created with matplotlib (https://matplotlib.org/) -->\r\n<svg height=\"367.324375pt\" version=\"1.1\" viewBox=\"0 0 367.321875 367.324375\" width=\"367.321875pt\" xmlns=\"http://www.w3.org/2000/svg\" xmlns:xlink=\"http://www.w3.org/1999/xlink\">\r\n <metadata>\r\n  <rdf:RDF xmlns:cc=\"http://creativecommons.org/ns#\" xmlns:dc=\"http://purl.org/dc/elements/1.1/\" xmlns:rdf=\"http://www.w3.org/1999/02/22-rdf-syntax-ns#\">\r\n   <cc:Work>\r\n    <dc:type rdf:resource=\"http://purl.org/dc/dcmitype/StillImage\"/>\r\n    <dc:date>2021-07-23T20:03:17.636878</dc:date>\r\n    <dc:format>image/svg+xml</dc:format>\r\n    <dc:creator>\r\n     <cc:Agent>\r\n      <dc:title>Matplotlib v3.3.2, https://matplotlib.org/</dc:title>\r\n     </cc:Agent>\r\n    </dc:creator>\r\n   </cc:Work>\r\n  </rdf:RDF>\r\n </metadata>\r\n <defs>\r\n  <style type=\"text/css\">*{stroke-linecap:butt;stroke-linejoin:round;}</style>\r\n </defs>\r\n <g id=\"figure_1\">\r\n  <g id=\"patch_1\">\r\n   <path d=\"M 0 367.324375 \r\nL 367.321875 367.324375 \r\nL 367.321875 0 \r\nL 0 0 \r\nz\r\n\" style=\"fill:#ffffff;\"/>\r\n  </g>\r\n  <g id=\"axes_1\">\r\n   <g id=\"patch_2\">\r\n    <path d=\"M 25.321875 253.44 \r\nL 177.503693 253.44 \r\nL 177.503693 36 \r\nL 25.321875 36 \r\nz\r\n\" style=\"fill:#eaeaf2;\"/>\r\n   </g>\r\n   <g id=\"matplotlib.axis_1\">\r\n    <g id=\"xtick_1\">\r\n     <g id=\"line2d_1\">\r\n      <path clip-path=\"url(#pbe7ef04fac)\" d=\"M 38.527735 253.44 \r\nL 38.527735 36 \r\n\" style=\"fill:none;stroke:#ffffff;stroke-linecap:round;stroke-width:0.8;\"/>\r\n     </g>\r\n     <g id=\"text_1\">\r\n      <!-- Ayiti Analytics Website -->\r\n      <g style=\"fill:#262626;\" transform=\"translate(41.054298 360.124375)rotate(-90)scale(0.1 -0.1)\">\r\n       <defs>\r\n        <path d=\"M -0.140625 0 \r\nL 27.34375 71.578125 \r\nL 37.546875 71.578125 \r\nL 66.84375 0 \r\nL 56.0625 0 \r\nL 47.703125 21.6875 \r\nL 17.78125 21.6875 \r\nL 9.90625 0 \r\nz\r\nM 20.515625 29.390625 \r\nL 44.78125 29.390625 \r\nL 37.3125 49.21875 \r\nQ 33.890625 58.25 32.234375 64.0625 \r\nQ 30.859375 57.171875 28.375 50.390625 \r\nz\r\n\" id=\"ArialMT-65\"/>\r\n        <path d=\"M 6.203125 -19.96875 \r\nL 5.21875 -11.71875 \r\nQ 8.109375 -12.5 10.25 -12.5 \r\nQ 13.1875 -12.5 14.9375 -11.515625 \r\nQ 16.703125 -10.546875 17.828125 -8.796875 \r\nQ 18.65625 -7.46875 20.515625 -2.25 \r\nQ 20.75 -1.515625 21.296875 -0.09375 \r\nL 1.609375 51.859375 \r\nL 11.078125 51.859375 \r\nL 21.875 21.828125 \r\nQ 23.96875 16.109375 25.640625 9.8125 \r\nQ 27.15625 15.875 29.25 21.625 \r\nL 40.328125 51.859375 \r\nL 49.125 51.859375 \r\nL 29.390625 -0.875 \r\nQ 26.21875 -9.421875 24.46875 -12.640625 \r\nQ 22.125 -17 19.09375 -19.015625 \r\nQ 16.0625 -21.046875 11.859375 -21.046875 \r\nQ 9.328125 -21.046875 6.203125 -19.96875 \r\nz\r\n\" id=\"ArialMT-121\"/>\r\n        <path d=\"M 6.640625 61.46875 \r\nL 6.640625 71.578125 \r\nL 15.4375 71.578125 \r\nL 15.4375 61.46875 \r\nz\r\nM 6.640625 0 \r\nL 6.640625 51.859375 \r\nL 15.4375 51.859375 \r\nL 15.4375 0 \r\nz\r\n\" id=\"ArialMT-105\"/>\r\n        <path d=\"M 25.78125 7.859375 \r\nL 27.046875 0.09375 \r\nQ 23.34375 -0.6875 20.40625 -0.6875 \r\nQ 15.625 -0.6875 12.984375 0.828125 \r\nQ 10.359375 2.34375 9.28125 4.8125 \r\nQ 8.203125 7.28125 8.203125 15.1875 \r\nL 8.203125 45.015625 \r\nL 1.765625 45.015625 \r\nL 1.765625 51.859375 \r\nL 8.203125 51.859375 \r\nL 8.203125 64.703125 \r\nL 16.9375 69.96875 \r\nL 16.9375 51.859375 \r\nL 25.78125 51.859375 \r\nL 25.78125 45.015625 \r\nL 16.9375 45.015625 \r\nL 16.9375 14.703125 \r\nQ 16.9375 10.9375 17.40625 9.859375 \r\nQ 17.875 8.796875 18.921875 8.15625 \r\nQ 19.96875 7.515625 21.921875 7.515625 \r\nQ 23.390625 7.515625 25.78125 7.859375 \r\nz\r\n\" id=\"ArialMT-116\"/>\r\n        <path id=\"ArialMT-32\"/>\r\n        <path d=\"M 6.59375 0 \r\nL 6.59375 51.859375 \r\nL 14.5 51.859375 \r\nL 14.5 44.484375 \r\nQ 20.21875 53.03125 31 53.03125 \r\nQ 35.6875 53.03125 39.625 51.34375 \r\nQ 43.5625 49.65625 45.515625 46.921875 \r\nQ 47.46875 44.1875 48.25 40.4375 \r\nQ 48.734375 37.984375 48.734375 31.890625 \r\nL 48.734375 0 \r\nL 39.9375 0 \r\nL 39.9375 31.546875 \r\nQ 39.9375 36.921875 38.90625 39.578125 \r\nQ 37.890625 42.234375 35.28125 43.8125 \r\nQ 32.671875 45.40625 29.15625 45.40625 \r\nQ 23.53125 45.40625 19.453125 41.84375 \r\nQ 15.375 38.28125 15.375 28.328125 \r\nL 15.375 0 \r\nz\r\n\" id=\"ArialMT-110\"/>\r\n        <path d=\"M 40.4375 6.390625 \r\nQ 35.546875 2.25 31.03125 0.53125 \r\nQ 26.515625 -1.171875 21.34375 -1.171875 \r\nQ 12.796875 -1.171875 8.203125 3 \r\nQ 3.609375 7.171875 3.609375 13.671875 \r\nQ 3.609375 17.484375 5.34375 20.625 \r\nQ 7.078125 23.78125 9.890625 25.6875 \r\nQ 12.703125 27.59375 16.21875 28.5625 \r\nQ 18.796875 29.25 24.03125 29.890625 \r\nQ 34.671875 31.15625 39.703125 32.90625 \r\nQ 39.75 34.71875 39.75 35.203125 \r\nQ 39.75 40.578125 37.25 42.78125 \r\nQ 33.890625 45.75 27.25 45.75 \r\nQ 21.046875 45.75 18.09375 43.578125 \r\nQ 15.140625 41.40625 13.71875 35.890625 \r\nL 5.125 37.0625 \r\nQ 6.296875 42.578125 8.984375 45.96875 \r\nQ 11.671875 49.359375 16.75 51.1875 \r\nQ 21.828125 53.03125 28.515625 53.03125 \r\nQ 35.15625 53.03125 39.296875 51.46875 \r\nQ 43.453125 49.90625 45.40625 47.53125 \r\nQ 47.359375 45.171875 48.140625 41.546875 \r\nQ 48.578125 39.3125 48.578125 33.453125 \r\nL 48.578125 21.734375 \r\nQ 48.578125 9.46875 49.140625 6.21875 \r\nQ 49.703125 2.984375 51.375 0 \r\nL 42.1875 0 \r\nQ 40.828125 2.734375 40.4375 6.390625 \r\nz\r\nM 39.703125 26.03125 \r\nQ 34.90625 24.078125 25.34375 22.703125 \r\nQ 19.921875 21.921875 17.671875 20.9375 \r\nQ 15.4375 19.96875 14.203125 18.09375 \r\nQ 12.984375 16.21875 12.984375 13.921875 \r\nQ 12.984375 10.40625 15.640625 8.0625 \r\nQ 18.3125 5.71875 23.4375 5.71875 \r\nQ 28.515625 5.71875 32.46875 7.9375 \r\nQ 36.421875 10.15625 38.28125 14.015625 \r\nQ 39.703125 17 39.703125 22.796875 \r\nz\r\n\" id=\"ArialMT-97\"/>\r\n        <path d=\"M 6.390625 0 \r\nL 6.390625 71.578125 \r\nL 15.1875 71.578125 \r\nL 15.1875 0 \r\nz\r\n\" id=\"ArialMT-108\"/>\r\n        <path d=\"M 40.4375 19 \r\nL 49.078125 17.875 \r\nQ 47.65625 8.9375 41.8125 3.875 \r\nQ 35.984375 -1.171875 27.484375 -1.171875 \r\nQ 16.84375 -1.171875 10.375 5.78125 \r\nQ 3.90625 12.75 3.90625 25.734375 \r\nQ 3.90625 34.125 6.6875 40.421875 \r\nQ 9.46875 46.734375 15.15625 49.875 \r\nQ 20.84375 53.03125 27.546875 53.03125 \r\nQ 35.984375 53.03125 41.359375 48.75 \r\nQ 46.734375 44.484375 48.25 36.625 \r\nL 39.703125 35.296875 \r\nQ 38.484375 40.53125 35.375 43.15625 \r\nQ 32.28125 45.796875 27.875 45.796875 \r\nQ 21.234375 45.796875 17.078125 41.03125 \r\nQ 12.9375 36.28125 12.9375 25.984375 \r\nQ 12.9375 15.53125 16.9375 10.796875 \r\nQ 20.953125 6.0625 27.390625 6.0625 \r\nQ 32.5625 6.0625 36.03125 9.234375 \r\nQ 39.5 12.40625 40.4375 19 \r\nz\r\n\" id=\"ArialMT-99\"/>\r\n        <path d=\"M 3.078125 15.484375 \r\nL 11.765625 16.84375 \r\nQ 12.5 11.625 15.84375 8.84375 \r\nQ 19.1875 6.0625 25.203125 6.0625 \r\nQ 31.25 6.0625 34.171875 8.515625 \r\nQ 37.109375 10.984375 37.109375 14.3125 \r\nQ 37.109375 17.28125 34.515625 19 \r\nQ 32.71875 20.171875 25.53125 21.96875 \r\nQ 15.875 24.421875 12.140625 26.203125 \r\nQ 8.40625 27.984375 6.46875 31.125 \r\nQ 4.546875 34.28125 4.546875 38.09375 \r\nQ 4.546875 41.546875 6.125 44.5 \r\nQ 7.71875 47.46875 10.453125 49.421875 \r\nQ 12.5 50.921875 16.03125 51.96875 \r\nQ 19.578125 53.03125 23.640625 53.03125 \r\nQ 29.734375 53.03125 34.34375 51.265625 \r\nQ 38.96875 49.515625 41.15625 46.5 \r\nQ 43.359375 43.5 44.1875 38.484375 \r\nL 35.59375 37.3125 \r\nQ 35.015625 41.3125 32.203125 43.546875 \r\nQ 29.390625 45.796875 24.265625 45.796875 \r\nQ 18.21875 45.796875 15.625 43.796875 \r\nQ 13.03125 41.796875 13.03125 39.109375 \r\nQ 13.03125 37.40625 14.109375 36.03125 \r\nQ 15.1875 34.625 17.484375 33.6875 \r\nQ 18.796875 33.203125 25.25 31.453125 \r\nQ 34.578125 28.953125 38.25 27.359375 \r\nQ 41.9375 25.78125 44.03125 22.75 \r\nQ 46.140625 19.734375 46.140625 15.234375 \r\nQ 46.140625 10.84375 43.578125 6.953125 \r\nQ 41.015625 3.078125 36.171875 0.953125 \r\nQ 31.34375 -1.171875 25.25 -1.171875 \r\nQ 15.140625 -1.171875 9.84375 3.03125 \r\nQ 4.546875 7.234375 3.078125 15.484375 \r\nz\r\n\" id=\"ArialMT-115\"/>\r\n        <path d=\"M 20.21875 0 \r\nL 1.21875 71.578125 \r\nL 10.9375 71.578125 \r\nL 21.828125 24.65625 \r\nQ 23.578125 17.28125 24.859375 10.015625 \r\nQ 27.59375 21.484375 28.078125 23.25 \r\nL 41.703125 71.578125 \r\nL 53.125 71.578125 \r\nL 63.375 35.359375 \r\nQ 67.234375 21.875 68.953125 10.015625 \r\nQ 70.3125 16.796875 72.515625 25.59375 \r\nL 83.734375 71.578125 \r\nL 93.265625 71.578125 \r\nL 73.640625 0 \r\nL 64.5 0 \r\nL 49.421875 54.546875 \r\nQ 47.515625 61.375 47.171875 62.9375 \r\nQ 46.046875 58.015625 45.0625 54.546875 \r\nL 29.890625 0 \r\nz\r\n\" id=\"ArialMT-87\"/>\r\n        <path d=\"M 42.09375 16.703125 \r\nL 51.171875 15.578125 \r\nQ 49.03125 7.625 43.21875 3.21875 \r\nQ 37.40625 -1.171875 28.375 -1.171875 \r\nQ 17 -1.171875 10.328125 5.828125 \r\nQ 3.65625 12.84375 3.65625 25.484375 \r\nQ 3.65625 38.578125 10.390625 45.796875 \r\nQ 17.140625 53.03125 27.875 53.03125 \r\nQ 38.28125 53.03125 44.875 45.953125 \r\nQ 51.46875 38.875 51.46875 26.03125 \r\nQ 51.46875 25.25 51.421875 23.6875 \r\nL 12.75 23.6875 \r\nQ 13.234375 15.140625 17.578125 10.59375 \r\nQ 21.921875 6.0625 28.421875 6.0625 \r\nQ 33.25 6.0625 36.671875 8.59375 \r\nQ 40.09375 11.140625 42.09375 16.703125 \r\nz\r\nM 13.234375 30.90625 \r\nL 42.1875 30.90625 \r\nQ 41.609375 37.453125 38.875 40.71875 \r\nQ 34.671875 45.796875 27.984375 45.796875 \r\nQ 21.921875 45.796875 17.796875 41.75 \r\nQ 13.671875 37.703125 13.234375 30.90625 \r\nz\r\n\" id=\"ArialMT-101\"/>\r\n        <path d=\"M 14.703125 0 \r\nL 6.546875 0 \r\nL 6.546875 71.578125 \r\nL 15.328125 71.578125 \r\nL 15.328125 46.046875 \r\nQ 20.90625 53.03125 29.546875 53.03125 \r\nQ 34.328125 53.03125 38.59375 51.09375 \r\nQ 42.875 49.171875 45.625 45.671875 \r\nQ 48.390625 42.1875 49.953125 37.25 \r\nQ 51.515625 32.328125 51.515625 26.703125 \r\nQ 51.515625 13.375 44.921875 6.09375 \r\nQ 38.328125 -1.171875 29.109375 -1.171875 \r\nQ 19.921875 -1.171875 14.703125 6.5 \r\nz\r\nM 14.59375 26.3125 \r\nQ 14.59375 17 17.140625 12.84375 \r\nQ 21.296875 6.0625 28.375 6.0625 \r\nQ 34.125 6.0625 38.328125 11.0625 \r\nQ 42.53125 16.0625 42.53125 25.984375 \r\nQ 42.53125 36.140625 38.5 40.96875 \r\nQ 34.46875 45.796875 28.765625 45.796875 \r\nQ 23 45.796875 18.796875 40.796875 \r\nQ 14.59375 35.796875 14.59375 26.3125 \r\nz\r\n\" id=\"ArialMT-98\"/>\r\n       </defs>\r\n       <use xlink:href=\"#ArialMT-65\"/>\r\n       <use x=\"64.949219\" xlink:href=\"#ArialMT-121\"/>\r\n       <use x=\"114.949219\" xlink:href=\"#ArialMT-105\"/>\r\n       <use x=\"137.166016\" xlink:href=\"#ArialMT-116\"/>\r\n       <use x=\"164.949219\" xlink:href=\"#ArialMT-105\"/>\r\n       <use x=\"187.166016\" xlink:href=\"#ArialMT-32\"/>\r\n       <use x=\"209.449219\" xlink:href=\"#ArialMT-65\"/>\r\n       <use x=\"276.148438\" xlink:href=\"#ArialMT-110\"/>\r\n       <use x=\"331.763672\" xlink:href=\"#ArialMT-97\"/>\r\n       <use x=\"387.378906\" xlink:href=\"#ArialMT-108\"/>\r\n       <use x=\"409.595703\" xlink:href=\"#ArialMT-121\"/>\r\n       <use x=\"459.595703\" xlink:href=\"#ArialMT-116\"/>\r\n       <use x=\"487.378906\" xlink:href=\"#ArialMT-105\"/>\r\n       <use x=\"509.595703\" xlink:href=\"#ArialMT-99\"/>\r\n       <use x=\"559.595703\" xlink:href=\"#ArialMT-115\"/>\r\n       <use x=\"609.595703\" xlink:href=\"#ArialMT-32\"/>\r\n       <use x=\"637.378906\" xlink:href=\"#ArialMT-87\"/>\r\n       <use x=\"730.013672\" xlink:href=\"#ArialMT-101\"/>\r\n       <use x=\"785.628906\" xlink:href=\"#ArialMT-98\"/>\r\n       <use x=\"841.244141\" xlink:href=\"#ArialMT-115\"/>\r\n       <use x=\"891.244141\" xlink:href=\"#ArialMT-105\"/>\r\n       <use x=\"913.460938\" xlink:href=\"#ArialMT-116\"/>\r\n       <use x=\"941.244141\" xlink:href=\"#ArialMT-101\"/>\r\n      </g>\r\n     </g>\r\n    </g>\r\n    <g id=\"xtick_2\">\r\n     <g id=\"line2d_2\">\r\n      <path clip-path=\"url(#pbe7ef04fac)\" d=\"M 54.248997 253.44 \r\nL 54.248997 36 \r\n\" style=\"fill:none;stroke:#ffffff;stroke-linecap:round;stroke-width:0.8;\"/>\r\n     </g>\r\n     <g id=\"text_2\">\r\n      <!-- Bootcamp Alumni -->\r\n      <g style=\"fill:#262626;\" transform=\"translate(56.834154 338.255625)rotate(-90)scale(0.1 -0.1)\">\r\n       <defs>\r\n        <path d=\"M 7.328125 0 \r\nL 7.328125 71.578125 \r\nL 34.1875 71.578125 \r\nQ 42.390625 71.578125 47.34375 69.40625 \r\nQ 52.296875 67.234375 55.09375 62.71875 \r\nQ 57.90625 58.203125 57.90625 53.265625 \r\nQ 57.90625 48.6875 55.421875 44.625 \r\nQ 52.9375 40.578125 47.90625 38.09375 \r\nQ 54.390625 36.1875 57.875 31.59375 \r\nQ 61.375 27 61.375 20.75 \r\nQ 61.375 15.71875 59.25 11.390625 \r\nQ 57.125 7.078125 54 4.734375 \r\nQ 50.875 2.390625 46.15625 1.1875 \r\nQ 41.453125 0 34.625 0 \r\nz\r\nM 16.796875 41.5 \r\nL 32.28125 41.5 \r\nQ 38.578125 41.5 41.3125 42.328125 \r\nQ 44.921875 43.40625 46.75 45.890625 \r\nQ 48.578125 48.390625 48.578125 52.15625 \r\nQ 48.578125 55.71875 46.875 58.421875 \r\nQ 45.171875 61.140625 41.984375 62.140625 \r\nQ 38.8125 63.140625 31.109375 63.140625 \r\nL 16.796875 63.140625 \r\nz\r\nM 16.796875 8.453125 \r\nL 34.625 8.453125 \r\nQ 39.203125 8.453125 41.0625 8.796875 \r\nQ 44.34375 9.375 46.53125 10.734375 \r\nQ 48.734375 12.109375 50.140625 14.71875 \r\nQ 51.5625 17.328125 51.5625 20.75 \r\nQ 51.5625 24.75 49.515625 27.703125 \r\nQ 47.46875 30.671875 43.828125 31.859375 \r\nQ 40.1875 33.0625 33.34375 33.0625 \r\nL 16.796875 33.0625 \r\nz\r\n\" id=\"ArialMT-66\"/>\r\n        <path d=\"M 3.328125 25.921875 \r\nQ 3.328125 40.328125 11.328125 47.265625 \r\nQ 18.015625 53.03125 27.640625 53.03125 \r\nQ 38.328125 53.03125 45.109375 46.015625 \r\nQ 51.90625 39.015625 51.90625 26.65625 \r\nQ 51.90625 16.65625 48.90625 10.90625 \r\nQ 45.90625 5.171875 40.15625 2 \r\nQ 34.421875 -1.171875 27.640625 -1.171875 \r\nQ 16.75 -1.171875 10.03125 5.8125 \r\nQ 3.328125 12.796875 3.328125 25.921875 \r\nz\r\nM 12.359375 25.921875 \r\nQ 12.359375 15.96875 16.703125 11.015625 \r\nQ 21.046875 6.0625 27.640625 6.0625 \r\nQ 34.1875 6.0625 38.53125 11.03125 \r\nQ 42.875 16.015625 42.875 26.21875 \r\nQ 42.875 35.84375 38.5 40.796875 \r\nQ 34.125 45.75 27.640625 45.75 \r\nQ 21.046875 45.75 16.703125 40.8125 \r\nQ 12.359375 35.890625 12.359375 25.921875 \r\nz\r\n\" id=\"ArialMT-111\"/>\r\n        <path d=\"M 6.59375 0 \r\nL 6.59375 51.859375 \r\nL 14.453125 51.859375 \r\nL 14.453125 44.578125 \r\nQ 16.890625 48.390625 20.9375 50.703125 \r\nQ 25 53.03125 30.171875 53.03125 \r\nQ 35.9375 53.03125 39.625 50.640625 \r\nQ 43.3125 48.25 44.828125 43.953125 \r\nQ 50.984375 53.03125 60.84375 53.03125 \r\nQ 68.5625 53.03125 72.703125 48.75 \r\nQ 76.859375 44.484375 76.859375 35.59375 \r\nL 76.859375 0 \r\nL 68.109375 0 \r\nL 68.109375 32.671875 \r\nQ 68.109375 37.9375 67.25 40.25 \r\nQ 66.40625 42.578125 64.15625 43.984375 \r\nQ 61.921875 45.40625 58.890625 45.40625 \r\nQ 53.421875 45.40625 49.796875 41.765625 \r\nQ 46.1875 38.140625 46.1875 30.125 \r\nL 46.1875 0 \r\nL 37.40625 0 \r\nL 37.40625 33.6875 \r\nQ 37.40625 39.546875 35.25 42.46875 \r\nQ 33.109375 45.40625 28.21875 45.40625 \r\nQ 24.515625 45.40625 21.359375 43.453125 \r\nQ 18.21875 41.5 16.796875 37.734375 \r\nQ 15.375 33.984375 15.375 26.90625 \r\nL 15.375 0 \r\nz\r\n\" id=\"ArialMT-109\"/>\r\n        <path d=\"M 6.59375 -19.875 \r\nL 6.59375 51.859375 \r\nL 14.59375 51.859375 \r\nL 14.59375 45.125 \r\nQ 17.4375 49.078125 21 51.046875 \r\nQ 24.5625 53.03125 29.640625 53.03125 \r\nQ 36.28125 53.03125 41.359375 49.609375 \r\nQ 46.4375 46.1875 49.015625 39.953125 \r\nQ 51.609375 33.734375 51.609375 26.3125 \r\nQ 51.609375 18.359375 48.75 11.984375 \r\nQ 45.90625 5.609375 40.453125 2.21875 \r\nQ 35.015625 -1.171875 29 -1.171875 \r\nQ 24.609375 -1.171875 21.109375 0.6875 \r\nQ 17.625 2.546875 15.375 5.375 \r\nL 15.375 -19.875 \r\nz\r\nM 14.546875 25.640625 \r\nQ 14.546875 15.625 18.59375 10.84375 \r\nQ 22.65625 6.0625 28.421875 6.0625 \r\nQ 34.28125 6.0625 38.453125 11.015625 \r\nQ 42.625 15.96875 42.625 26.375 \r\nQ 42.625 36.28125 38.546875 41.203125 \r\nQ 34.46875 46.140625 28.8125 46.140625 \r\nQ 23.1875 46.140625 18.859375 40.890625 \r\nQ 14.546875 35.640625 14.546875 25.640625 \r\nz\r\n\" id=\"ArialMT-112\"/>\r\n        <path d=\"M 40.578125 0 \r\nL 40.578125 7.625 \r\nQ 34.515625 -1.171875 24.125 -1.171875 \r\nQ 19.53125 -1.171875 15.546875 0.578125 \r\nQ 11.578125 2.34375 9.640625 5 \r\nQ 7.71875 7.671875 6.9375 11.53125 \r\nQ 6.390625 14.109375 6.390625 19.734375 \r\nL 6.390625 51.859375 \r\nL 15.1875 51.859375 \r\nL 15.1875 23.09375 \r\nQ 15.1875 16.21875 15.71875 13.8125 \r\nQ 16.546875 10.359375 19.234375 8.375 \r\nQ 21.921875 6.390625 25.875 6.390625 \r\nQ 29.828125 6.390625 33.296875 8.421875 \r\nQ 36.765625 10.453125 38.203125 13.9375 \r\nQ 39.65625 17.4375 39.65625 24.078125 \r\nL 39.65625 51.859375 \r\nL 48.4375 51.859375 \r\nL 48.4375 0 \r\nz\r\n\" id=\"ArialMT-117\"/>\r\n       </defs>\r\n       <use xlink:href=\"#ArialMT-66\"/>\r\n       <use x=\"66.699219\" xlink:href=\"#ArialMT-111\"/>\r\n       <use x=\"122.314453\" xlink:href=\"#ArialMT-111\"/>\r\n       <use x=\"177.929688\" xlink:href=\"#ArialMT-116\"/>\r\n       <use x=\"205.712891\" xlink:href=\"#ArialMT-99\"/>\r\n       <use x=\"255.712891\" xlink:href=\"#ArialMT-97\"/>\r\n       <use x=\"311.328125\" xlink:href=\"#ArialMT-109\"/>\r\n       <use x=\"394.628906\" xlink:href=\"#ArialMT-112\"/>\r\n       <use x=\"450.244141\" xlink:href=\"#ArialMT-32\"/>\r\n       <use x=\"472.527344\" xlink:href=\"#ArialMT-65\"/>\r\n       <use x=\"539.226562\" xlink:href=\"#ArialMT-108\"/>\r\n       <use x=\"561.443359\" xlink:href=\"#ArialMT-117\"/>\r\n       <use x=\"617.058594\" xlink:href=\"#ArialMT-109\"/>\r\n       <use x=\"700.359375\" xlink:href=\"#ArialMT-110\"/>\r\n       <use x=\"755.974609\" xlink:href=\"#ArialMT-105\"/>\r\n      </g>\r\n     </g>\r\n    </g>\r\n    <g id=\"xtick_3\">\r\n     <g id=\"line2d_3\">\r\n      <path clip-path=\"url(#pbe7ef04fac)\" d=\"M 69.97026 253.44 \r\nL 69.97026 36 \r\n\" style=\"fill:none;stroke:#ffffff;stroke-linecap:round;stroke-width:0.8;\"/>\r\n     </g>\r\n     <g id=\"text_3\">\r\n      <!-- ESIH -->\r\n      <g style=\"fill:#262626;\" transform=\"translate(72.555416 283.780625)rotate(-90)scale(0.1 -0.1)\">\r\n       <defs>\r\n        <path d=\"M 7.90625 0 \r\nL 7.90625 71.578125 \r\nL 59.671875 71.578125 \r\nL 59.671875 63.140625 \r\nL 17.390625 63.140625 \r\nL 17.390625 41.21875 \r\nL 56.984375 41.21875 \r\nL 56.984375 32.8125 \r\nL 17.390625 32.8125 \r\nL 17.390625 8.453125 \r\nL 61.328125 8.453125 \r\nL 61.328125 0 \r\nz\r\n\" id=\"ArialMT-69\"/>\r\n        <path d=\"M 4.5 23 \r\nL 13.421875 23.78125 \r\nQ 14.0625 18.40625 16.375 14.96875 \r\nQ 18.703125 11.53125 23.578125 9.40625 \r\nQ 28.46875 7.28125 34.578125 7.28125 \r\nQ 39.984375 7.28125 44.140625 8.890625 \r\nQ 48.296875 10.5 50.3125 13.296875 \r\nQ 52.34375 16.109375 52.34375 19.4375 \r\nQ 52.34375 22.796875 50.390625 25.3125 \r\nQ 48.4375 27.828125 43.953125 29.546875 \r\nQ 41.0625 30.671875 31.203125 33.03125 \r\nQ 21.34375 35.40625 17.390625 37.5 \r\nQ 12.25 40.1875 9.734375 44.15625 \r\nQ 7.234375 48.140625 7.234375 53.078125 \r\nQ 7.234375 58.5 10.296875 63.203125 \r\nQ 13.375 67.921875 19.28125 70.359375 \r\nQ 25.203125 72.796875 32.421875 72.796875 \r\nQ 40.375 72.796875 46.453125 70.234375 \r\nQ 52.546875 67.671875 55.8125 62.6875 \r\nQ 59.078125 57.71875 59.328125 51.421875 \r\nL 50.25 50.734375 \r\nQ 49.515625 57.515625 45.28125 60.984375 \r\nQ 41.0625 64.453125 32.8125 64.453125 \r\nQ 24.21875 64.453125 20.28125 61.296875 \r\nQ 16.359375 58.15625 16.359375 53.71875 \r\nQ 16.359375 49.859375 19.140625 47.359375 \r\nQ 21.875 44.875 33.421875 42.265625 \r\nQ 44.96875 39.65625 49.265625 37.703125 \r\nQ 55.515625 34.8125 58.484375 30.390625 \r\nQ 61.46875 25.984375 61.46875 20.21875 \r\nQ 61.46875 14.5 58.203125 9.4375 \r\nQ 54.9375 4.390625 48.796875 1.578125 \r\nQ 42.671875 -1.21875 35.015625 -1.21875 \r\nQ 25.296875 -1.21875 18.71875 1.609375 \r\nQ 12.15625 4.4375 8.421875 10.125 \r\nQ 4.6875 15.828125 4.5 23 \r\nz\r\n\" id=\"ArialMT-83\"/>\r\n        <path d=\"M 9.328125 0 \r\nL 9.328125 71.578125 \r\nL 18.796875 71.578125 \r\nL 18.796875 0 \r\nz\r\n\" id=\"ArialMT-73\"/>\r\n        <path d=\"M 8.015625 0 \r\nL 8.015625 71.578125 \r\nL 17.484375 71.578125 \r\nL 17.484375 42.1875 \r\nL 54.6875 42.1875 \r\nL 54.6875 71.578125 \r\nL 64.15625 71.578125 \r\nL 64.15625 0 \r\nL 54.6875 0 \r\nL 54.6875 33.734375 \r\nL 17.484375 33.734375 \r\nL 17.484375 0 \r\nz\r\n\" id=\"ArialMT-72\"/>\r\n       </defs>\r\n       <use xlink:href=\"#ArialMT-69\"/>\r\n       <use x=\"66.699219\" xlink:href=\"#ArialMT-83\"/>\r\n       <use x=\"133.398438\" xlink:href=\"#ArialMT-73\"/>\r\n       <use x=\"161.181641\" xlink:href=\"#ArialMT-72\"/>\r\n      </g>\r\n     </g>\r\n    </g>\r\n    <g id=\"xtick_4\">\r\n     <g id=\"line2d_4\">\r\n      <path clip-path=\"url(#pbe7ef04fac)\" d=\"M 85.691522 253.44 \r\nL 85.691522 36 \r\n\" style=\"fill:none;stroke:#ffffff;stroke-linecap:round;stroke-width:0.8;\"/>\r\n     </g>\r\n     <g id=\"text_4\">\r\n      <!-- Facebook -->\r\n      <g style=\"fill:#262626;\" transform=\"translate(88.276678 304.3525)rotate(-90)scale(0.1 -0.1)\">\r\n       <defs>\r\n        <path d=\"M 8.203125 0 \r\nL 8.203125 71.578125 \r\nL 56.5 71.578125 \r\nL 56.5 63.140625 \r\nL 17.671875 63.140625 \r\nL 17.671875 40.96875 \r\nL 51.265625 40.96875 \r\nL 51.265625 32.515625 \r\nL 17.671875 32.515625 \r\nL 17.671875 0 \r\nz\r\n\" id=\"ArialMT-70\"/>\r\n        <path d=\"M 6.640625 0 \r\nL 6.640625 71.578125 \r\nL 15.4375 71.578125 \r\nL 15.4375 30.765625 \r\nL 36.234375 51.859375 \r\nL 47.609375 51.859375 \r\nL 27.78125 32.625 \r\nL 49.609375 0 \r\nL 38.765625 0 \r\nL 21.625 26.515625 \r\nL 15.4375 20.5625 \r\nL 15.4375 0 \r\nz\r\n\" id=\"ArialMT-107\"/>\r\n       </defs>\r\n       <use xlink:href=\"#ArialMT-70\"/>\r\n       <use x=\"61.083984\" xlink:href=\"#ArialMT-97\"/>\r\n       <use x=\"116.699219\" xlink:href=\"#ArialMT-99\"/>\r\n       <use x=\"166.699219\" xlink:href=\"#ArialMT-101\"/>\r\n       <use x=\"222.314453\" xlink:href=\"#ArialMT-98\"/>\r\n       <use x=\"277.929688\" xlink:href=\"#ArialMT-111\"/>\r\n       <use x=\"333.544922\" xlink:href=\"#ArialMT-111\"/>\r\n       <use x=\"389.160156\" xlink:href=\"#ArialMT-107\"/>\r\n      </g>\r\n     </g>\r\n    </g>\r\n    <g id=\"xtick_5\">\r\n     <g id=\"line2d_5\">\r\n      <path clip-path=\"url(#pbe7ef04fac)\" d=\"M 101.412784 253.44 \r\nL 101.412784 36 \r\n\" style=\"fill:none;stroke:#ffffff;stroke-linecap:round;stroke-width:0.8;\"/>\r\n     </g>\r\n     <g id=\"text_5\">\r\n      <!-- Friend -->\r\n      <g style=\"fill:#262626;\" transform=\"translate(103.99794 288.782187)rotate(-90)scale(0.1 -0.1)\">\r\n       <defs>\r\n        <path d=\"M 6.5 0 \r\nL 6.5 51.859375 \r\nL 14.40625 51.859375 \r\nL 14.40625 44 \r\nQ 17.4375 49.515625 20 51.265625 \r\nQ 22.5625 53.03125 25.640625 53.03125 \r\nQ 30.078125 53.03125 34.671875 50.203125 \r\nL 31.640625 42.046875 \r\nQ 28.421875 43.953125 25.203125 43.953125 \r\nQ 22.3125 43.953125 20.015625 42.21875 \r\nQ 17.71875 40.484375 16.75 37.40625 \r\nQ 15.28125 32.71875 15.28125 27.15625 \r\nL 15.28125 0 \r\nz\r\n\" id=\"ArialMT-114\"/>\r\n        <path d=\"M 40.234375 0 \r\nL 40.234375 6.546875 \r\nQ 35.296875 -1.171875 25.734375 -1.171875 \r\nQ 19.53125 -1.171875 14.328125 2.25 \r\nQ 9.125 5.671875 6.265625 11.796875 \r\nQ 3.421875 17.921875 3.421875 25.875 \r\nQ 3.421875 33.640625 6 39.96875 \r\nQ 8.59375 46.296875 13.765625 49.65625 \r\nQ 18.953125 53.03125 25.34375 53.03125 \r\nQ 30.03125 53.03125 33.6875 51.046875 \r\nQ 37.359375 49.078125 39.65625 45.90625 \r\nL 39.65625 71.578125 \r\nL 48.390625 71.578125 \r\nL 48.390625 0 \r\nz\r\nM 12.453125 25.875 \r\nQ 12.453125 15.921875 16.640625 10.984375 \r\nQ 20.84375 6.0625 26.5625 6.0625 \r\nQ 32.328125 6.0625 36.34375 10.765625 \r\nQ 40.375 15.484375 40.375 25.140625 \r\nQ 40.375 35.796875 36.265625 40.765625 \r\nQ 32.171875 45.75 26.171875 45.75 \r\nQ 20.3125 45.75 16.375 40.96875 \r\nQ 12.453125 36.1875 12.453125 25.875 \r\nz\r\n\" id=\"ArialMT-100\"/>\r\n       </defs>\r\n       <use xlink:href=\"#ArialMT-70\"/>\r\n       <use x=\"61.083984\" xlink:href=\"#ArialMT-114\"/>\r\n       <use x=\"94.384766\" xlink:href=\"#ArialMT-105\"/>\r\n       <use x=\"116.601562\" xlink:href=\"#ArialMT-101\"/>\r\n       <use x=\"172.216797\" xlink:href=\"#ArialMT-110\"/>\r\n       <use x=\"227.832031\" xlink:href=\"#ArialMT-100\"/>\r\n      </g>\r\n     </g>\r\n    </g>\r\n    <g id=\"xtick_6\">\r\n     <g id=\"line2d_6\">\r\n      <path clip-path=\"url(#pbe7ef04fac)\" d=\"M 117.134046 253.44 \r\nL 117.134046 36 \r\n\" style=\"fill:none;stroke:#ffffff;stroke-linecap:round;stroke-width:0.8;\"/>\r\n     </g>\r\n     <g id=\"text_6\">\r\n      <!-- Instagram -->\r\n      <g style=\"fill:#262626;\" transform=\"translate(119.660609 304.899375)rotate(-90)scale(0.1 -0.1)\">\r\n       <defs>\r\n        <path d=\"M 4.984375 -4.296875 \r\nL 13.53125 -5.5625 \r\nQ 14.0625 -9.515625 16.5 -11.328125 \r\nQ 19.78125 -13.765625 25.4375 -13.765625 \r\nQ 31.546875 -13.765625 34.859375 -11.328125 \r\nQ 38.1875 -8.890625 39.359375 -4.5 \r\nQ 40.046875 -1.8125 39.984375 6.78125 \r\nQ 34.234375 0 25.640625 0 \r\nQ 14.9375 0 9.078125 7.71875 \r\nQ 3.21875 15.4375 3.21875 26.21875 \r\nQ 3.21875 33.640625 5.90625 39.90625 \r\nQ 8.59375 46.1875 13.6875 49.609375 \r\nQ 18.796875 53.03125 25.6875 53.03125 \r\nQ 34.859375 53.03125 40.828125 45.609375 \r\nL 40.828125 51.859375 \r\nL 48.921875 51.859375 \r\nL 48.921875 7.03125 \r\nQ 48.921875 -5.078125 46.453125 -10.125 \r\nQ 44 -15.1875 38.640625 -18.109375 \r\nQ 33.296875 -21.046875 25.484375 -21.046875 \r\nQ 16.21875 -21.046875 10.5 -16.875 \r\nQ 4.78125 -12.703125 4.984375 -4.296875 \r\nz\r\nM 12.25 26.859375 \r\nQ 12.25 16.65625 16.296875 11.96875 \r\nQ 20.359375 7.28125 26.46875 7.28125 \r\nQ 32.515625 7.28125 36.609375 11.9375 \r\nQ 40.71875 16.609375 40.71875 26.5625 \r\nQ 40.71875 36.078125 36.5 40.90625 \r\nQ 32.28125 45.75 26.3125 45.75 \r\nQ 20.453125 45.75 16.34375 40.984375 \r\nQ 12.25 36.234375 12.25 26.859375 \r\nz\r\n\" id=\"ArialMT-103\"/>\r\n       </defs>\r\n       <use xlink:href=\"#ArialMT-73\"/>\r\n       <use x=\"27.783203\" xlink:href=\"#ArialMT-110\"/>\r\n       <use x=\"83.398438\" xlink:href=\"#ArialMT-115\"/>\r\n       <use x=\"133.398438\" xlink:href=\"#ArialMT-116\"/>\r\n       <use x=\"161.181641\" xlink:href=\"#ArialMT-97\"/>\r\n       <use x=\"216.796875\" xlink:href=\"#ArialMT-103\"/>\r\n       <use x=\"272.412109\" xlink:href=\"#ArialMT-114\"/>\r\n       <use x=\"305.712891\" xlink:href=\"#ArialMT-97\"/>\r\n       <use x=\"361.328125\" xlink:href=\"#ArialMT-109\"/>\r\n      </g>\r\n     </g>\r\n    </g>\r\n    <g id=\"xtick_7\">\r\n     <g id=\"line2d_7\">\r\n      <path clip-path=\"url(#pbe7ef04fac)\" d=\"M 132.855309 253.44 \r\nL 132.855309 36 \r\n\" style=\"fill:none;stroke:#ffffff;stroke-linecap:round;stroke-width:0.8;\"/>\r\n     </g>\r\n     <g id=\"text_7\">\r\n      <!-- LinkedIn -->\r\n      <g style=\"fill:#262626;\" transform=\"translate(135.440465 298.244687)rotate(-90)scale(0.1 -0.1)\">\r\n       <defs>\r\n        <path d=\"M 7.328125 0 \r\nL 7.328125 71.578125 \r\nL 16.796875 71.578125 \r\nL 16.796875 8.453125 \r\nL 52.046875 8.453125 \r\nL 52.046875 0 \r\nz\r\n\" id=\"ArialMT-76\"/>\r\n       </defs>\r\n       <use xlink:href=\"#ArialMT-76\"/>\r\n       <use x=\"55.615234\" xlink:href=\"#ArialMT-105\"/>\r\n       <use x=\"77.832031\" xlink:href=\"#ArialMT-110\"/>\r\n       <use x=\"133.447266\" xlink:href=\"#ArialMT-107\"/>\r\n       <use x=\"183.447266\" xlink:href=\"#ArialMT-101\"/>\r\n       <use x=\"239.0625\" xlink:href=\"#ArialMT-100\"/>\r\n       <use x=\"294.677734\" xlink:href=\"#ArialMT-73\"/>\r\n       <use x=\"322.460938\" xlink:href=\"#ArialMT-110\"/>\r\n      </g>\r\n     </g>\r\n    </g>\r\n    <g id=\"xtick_8\">\r\n     <g id=\"line2d_8\">\r\n      <path clip-path=\"url(#pbe7ef04fac)\" d=\"M 148.576571 253.44 \r\nL 148.576571 36 \r\n\" style=\"fill:none;stroke:#ffffff;stroke-linecap:round;stroke-width:0.8;\"/>\r\n     </g>\r\n     <g id=\"text_8\">\r\n      <!-- WhatsApp -->\r\n      <g style=\"fill:#262626;\" transform=\"translate(151.161727 306.57125)rotate(-90)scale(0.1 -0.1)\">\r\n       <defs>\r\n        <path d=\"M 6.59375 0 \r\nL 6.59375 71.578125 \r\nL 15.375 71.578125 \r\nL 15.375 45.90625 \r\nQ 21.53125 53.03125 30.90625 53.03125 \r\nQ 36.671875 53.03125 40.921875 50.75 \r\nQ 45.171875 48.484375 47 44.484375 \r\nQ 48.828125 40.484375 48.828125 32.859375 \r\nL 48.828125 0 \r\nL 40.046875 0 \r\nL 40.046875 32.859375 \r\nQ 40.046875 39.453125 37.1875 42.453125 \r\nQ 34.328125 45.453125 29.109375 45.453125 \r\nQ 25.203125 45.453125 21.75 43.421875 \r\nQ 18.3125 41.40625 16.84375 37.9375 \r\nQ 15.375 34.46875 15.375 28.375 \r\nL 15.375 0 \r\nz\r\n\" id=\"ArialMT-104\"/>\r\n       </defs>\r\n       <use xlink:href=\"#ArialMT-87\"/>\r\n       <use x=\"94.384766\" xlink:href=\"#ArialMT-104\"/>\r\n       <use x=\"150\" xlink:href=\"#ArialMT-97\"/>\r\n       <use x=\"205.615234\" xlink:href=\"#ArialMT-116\"/>\r\n       <use x=\"233.398438\" xlink:href=\"#ArialMT-115\"/>\r\n       <use x=\"283.398438\" xlink:href=\"#ArialMT-65\"/>\r\n       <use x=\"350.097656\" xlink:href=\"#ArialMT-112\"/>\r\n       <use x=\"405.712891\" xlink:href=\"#ArialMT-112\"/>\r\n      </g>\r\n     </g>\r\n    </g>\r\n    <g id=\"xtick_9\">\r\n     <g id=\"line2d_9\">\r\n      <path clip-path=\"url(#pbe7ef04fac)\" d=\"M 164.297833 253.44 \r\nL 164.297833 36 \r\n\" style=\"fill:none;stroke:#ffffff;stroke-linecap:round;stroke-width:0.8;\"/>\r\n     </g>\r\n     <g id=\"text_9\">\r\n      <!-- other -->\r\n      <g style=\"fill:#262626;\" transform=\"translate(166.882989 283.230625)rotate(-90)scale(0.1 -0.1)\">\r\n       <use xlink:href=\"#ArialMT-111\"/>\r\n       <use x=\"55.615234\" xlink:href=\"#ArialMT-116\"/>\r\n       <use x=\"83.398438\" xlink:href=\"#ArialMT-104\"/>\r\n       <use x=\"139.013672\" xlink:href=\"#ArialMT-101\"/>\r\n       <use x=\"194.628906\" xlink:href=\"#ArialMT-114\"/>\r\n      </g>\r\n     </g>\r\n    </g>\r\n   </g>\r\n   <g id=\"matplotlib.axis_2\">\r\n    <g id=\"ytick_1\">\r\n     <g id=\"line2d_10\">\r\n      <path clip-path=\"url(#pbe7ef04fac)\" d=\"M 25.321875 253.44 \r\nL 177.503693 253.44 \r\n\" style=\"fill:none;stroke:#ffffff;stroke-linecap:round;stroke-width:0.8;\"/>\r\n     </g>\r\n     <g id=\"text_10\">\r\n      <!-- 0 -->\r\n      <g style=\"fill:#262626;\" transform=\"translate(12.760938 257.018906)scale(0.1 -0.1)\">\r\n       <defs>\r\n        <path d=\"M 4.15625 35.296875 \r\nQ 4.15625 48 6.765625 55.734375 \r\nQ 9.375 63.484375 14.515625 67.671875 \r\nQ 19.671875 71.875 27.484375 71.875 \r\nQ 33.25 71.875 37.59375 69.546875 \r\nQ 41.9375 67.234375 44.765625 62.859375 \r\nQ 47.609375 58.5 49.21875 52.21875 \r\nQ 50.828125 45.953125 50.828125 35.296875 \r\nQ 50.828125 22.703125 48.234375 14.96875 \r\nQ 45.65625 7.234375 40.5 3 \r\nQ 35.359375 -1.21875 27.484375 -1.21875 \r\nQ 17.140625 -1.21875 11.234375 6.203125 \r\nQ 4.15625 15.140625 4.15625 35.296875 \r\nz\r\nM 13.1875 35.296875 \r\nQ 13.1875 17.671875 17.3125 11.828125 \r\nQ 21.4375 6 27.484375 6 \r\nQ 33.546875 6 37.671875 11.859375 \r\nQ 41.796875 17.71875 41.796875 35.296875 \r\nQ 41.796875 52.984375 37.671875 58.78125 \r\nQ 33.546875 64.59375 27.390625 64.59375 \r\nQ 21.34375 64.59375 17.71875 59.46875 \r\nQ 13.1875 52.9375 13.1875 35.296875 \r\nz\r\n\" id=\"ArialMT-48\"/>\r\n       </defs>\r\n       <use xlink:href=\"#ArialMT-48\"/>\r\n      </g>\r\n     </g>\r\n    </g>\r\n    <g id=\"ytick_2\">\r\n     <g id=\"line2d_11\">\r\n      <path clip-path=\"url(#pbe7ef04fac)\" d=\"M 25.321875 212.022857 \r\nL 177.503693 212.022857 \r\n\" style=\"fill:none;stroke:#ffffff;stroke-linecap:round;stroke-width:0.8;\"/>\r\n     </g>\r\n     <g id=\"text_11\">\r\n      <!-- 2 -->\r\n      <g style=\"fill:#262626;\" transform=\"translate(12.760938 215.601763)scale(0.1 -0.1)\">\r\n       <defs>\r\n        <path d=\"M 50.34375 8.453125 \r\nL 50.34375 0 \r\nL 3.03125 0 \r\nQ 2.9375 3.171875 4.046875 6.109375 \r\nQ 5.859375 10.9375 9.828125 15.625 \r\nQ 13.8125 20.3125 21.34375 26.46875 \r\nQ 33.015625 36.03125 37.109375 41.625 \r\nQ 41.21875 47.21875 41.21875 52.203125 \r\nQ 41.21875 57.421875 37.46875 61 \r\nQ 33.734375 64.59375 27.734375 64.59375 \r\nQ 21.390625 64.59375 17.578125 60.78125 \r\nQ 13.765625 56.984375 13.71875 50.25 \r\nL 4.6875 51.171875 \r\nQ 5.609375 61.28125 11.65625 66.578125 \r\nQ 17.71875 71.875 27.9375 71.875 \r\nQ 38.234375 71.875 44.234375 66.15625 \r\nQ 50.25 60.453125 50.25 52 \r\nQ 50.25 47.703125 48.484375 43.546875 \r\nQ 46.734375 39.40625 42.65625 34.8125 \r\nQ 38.578125 30.21875 29.109375 22.21875 \r\nQ 21.1875 15.578125 18.9375 13.203125 \r\nQ 16.703125 10.84375 15.234375 8.453125 \r\nz\r\n\" id=\"ArialMT-50\"/>\r\n       </defs>\r\n       <use xlink:href=\"#ArialMT-50\"/>\r\n      </g>\r\n     </g>\r\n    </g>\r\n    <g id=\"ytick_3\">\r\n     <g id=\"line2d_12\">\r\n      <path clip-path=\"url(#pbe7ef04fac)\" d=\"M 25.321875 170.605714 \r\nL 177.503693 170.605714 \r\n\" style=\"fill:none;stroke:#ffffff;stroke-linecap:round;stroke-width:0.8;\"/>\r\n     </g>\r\n     <g id=\"text_12\">\r\n      <!-- 4 -->\r\n      <g style=\"fill:#262626;\" transform=\"translate(12.760938 174.184621)scale(0.1 -0.1)\">\r\n       <defs>\r\n        <path d=\"M 32.328125 0 \r\nL 32.328125 17.140625 \r\nL 1.265625 17.140625 \r\nL 1.265625 25.203125 \r\nL 33.9375 71.578125 \r\nL 41.109375 71.578125 \r\nL 41.109375 25.203125 \r\nL 50.78125 25.203125 \r\nL 50.78125 17.140625 \r\nL 41.109375 17.140625 \r\nL 41.109375 0 \r\nz\r\nM 32.328125 25.203125 \r\nL 32.328125 57.46875 \r\nL 9.90625 25.203125 \r\nz\r\n\" id=\"ArialMT-52\"/>\r\n       </defs>\r\n       <use xlink:href=\"#ArialMT-52\"/>\r\n      </g>\r\n     </g>\r\n    </g>\r\n    <g id=\"ytick_4\">\r\n     <g id=\"line2d_13\">\r\n      <path clip-path=\"url(#pbe7ef04fac)\" d=\"M 25.321875 129.188571 \r\nL 177.503693 129.188571 \r\n\" style=\"fill:none;stroke:#ffffff;stroke-linecap:round;stroke-width:0.8;\"/>\r\n     </g>\r\n     <g id=\"text_13\">\r\n      <!-- 6 -->\r\n      <g style=\"fill:#262626;\" transform=\"translate(12.760938 132.767478)scale(0.1 -0.1)\">\r\n       <defs>\r\n        <path d=\"M 49.75 54.046875 \r\nL 41.015625 53.375 \r\nQ 39.84375 58.546875 37.703125 60.890625 \r\nQ 34.125 64.65625 28.90625 64.65625 \r\nQ 24.703125 64.65625 21.53125 62.3125 \r\nQ 17.390625 59.28125 14.984375 53.46875 \r\nQ 12.59375 47.65625 12.5 36.921875 \r\nQ 15.671875 41.75 20.265625 44.09375 \r\nQ 24.859375 46.4375 29.890625 46.4375 \r\nQ 38.671875 46.4375 44.84375 39.96875 \r\nQ 51.03125 33.5 51.03125 23.25 \r\nQ 51.03125 16.5 48.125 10.71875 \r\nQ 45.21875 4.9375 40.140625 1.859375 \r\nQ 35.0625 -1.21875 28.609375 -1.21875 \r\nQ 17.625 -1.21875 10.6875 6.859375 \r\nQ 3.765625 14.9375 3.765625 33.5 \r\nQ 3.765625 54.25 11.421875 63.671875 \r\nQ 18.109375 71.875 29.4375 71.875 \r\nQ 37.890625 71.875 43.28125 67.140625 \r\nQ 48.6875 62.40625 49.75 54.046875 \r\nz\r\nM 13.875 23.1875 \r\nQ 13.875 18.65625 15.796875 14.5 \r\nQ 17.71875 10.359375 21.1875 8.171875 \r\nQ 24.65625 6 28.46875 6 \r\nQ 34.03125 6 38.03125 10.484375 \r\nQ 42.046875 14.984375 42.046875 22.703125 \r\nQ 42.046875 30.125 38.078125 34.390625 \r\nQ 34.125 38.671875 28.125 38.671875 \r\nQ 22.171875 38.671875 18.015625 34.390625 \r\nQ 13.875 30.125 13.875 23.1875 \r\nz\r\n\" id=\"ArialMT-54\"/>\r\n       </defs>\r\n       <use xlink:href=\"#ArialMT-54\"/>\r\n      </g>\r\n     </g>\r\n    </g>\r\n    <g id=\"ytick_5\">\r\n     <g id=\"line2d_14\">\r\n      <path clip-path=\"url(#pbe7ef04fac)\" d=\"M 25.321875 87.771429 \r\nL 177.503693 87.771429 \r\n\" style=\"fill:none;stroke:#ffffff;stroke-linecap:round;stroke-width:0.8;\"/>\r\n     </g>\r\n     <g id=\"text_14\">\r\n      <!-- 8 -->\r\n      <g style=\"fill:#262626;\" transform=\"translate(12.760938 91.350335)scale(0.1 -0.1)\">\r\n       <defs>\r\n        <path d=\"M 17.671875 38.8125 \r\nQ 12.203125 40.828125 9.5625 44.53125 \r\nQ 6.9375 48.25 6.9375 53.421875 \r\nQ 6.9375 61.234375 12.546875 66.546875 \r\nQ 18.171875 71.875 27.484375 71.875 \r\nQ 36.859375 71.875 42.578125 66.421875 \r\nQ 48.296875 60.984375 48.296875 53.171875 \r\nQ 48.296875 48.1875 45.671875 44.5 \r\nQ 43.0625 40.828125 37.75 38.8125 \r\nQ 44.34375 36.671875 47.78125 31.875 \r\nQ 51.21875 27.09375 51.21875 20.453125 \r\nQ 51.21875 11.28125 44.71875 5.03125 \r\nQ 38.234375 -1.21875 27.640625 -1.21875 \r\nQ 17.046875 -1.21875 10.546875 5.046875 \r\nQ 4.046875 11.328125 4.046875 20.703125 \r\nQ 4.046875 27.6875 7.59375 32.390625 \r\nQ 11.140625 37.109375 17.671875 38.8125 \r\nz\r\nM 15.921875 53.71875 \r\nQ 15.921875 48.640625 19.1875 45.40625 \r\nQ 22.46875 42.1875 27.6875 42.1875 \r\nQ 32.765625 42.1875 36.015625 45.375 \r\nQ 39.265625 48.578125 39.265625 53.21875 \r\nQ 39.265625 58.0625 35.90625 61.359375 \r\nQ 32.5625 64.65625 27.59375 64.65625 \r\nQ 22.5625 64.65625 19.234375 61.421875 \r\nQ 15.921875 58.203125 15.921875 53.71875 \r\nz\r\nM 13.09375 20.65625 \r\nQ 13.09375 16.890625 14.875 13.375 \r\nQ 16.65625 9.859375 20.171875 7.921875 \r\nQ 23.6875 6 27.734375 6 \r\nQ 34.03125 6 38.125 10.046875 \r\nQ 42.234375 14.109375 42.234375 20.359375 \r\nQ 42.234375 26.703125 38.015625 30.859375 \r\nQ 33.796875 35.015625 27.4375 35.015625 \r\nQ 21.234375 35.015625 17.15625 30.90625 \r\nQ 13.09375 26.8125 13.09375 20.65625 \r\nz\r\n\" id=\"ArialMT-56\"/>\r\n       </defs>\r\n       <use xlink:href=\"#ArialMT-56\"/>\r\n      </g>\r\n     </g>\r\n    </g>\r\n    <g id=\"ytick_6\">\r\n     <g id=\"line2d_15\">\r\n      <path clip-path=\"url(#pbe7ef04fac)\" d=\"M 25.321875 46.354286 \r\nL 177.503693 46.354286 \r\n\" style=\"fill:none;stroke:#ffffff;stroke-linecap:round;stroke-width:0.8;\"/>\r\n     </g>\r\n     <g id=\"text_15\">\r\n      <!-- 10 -->\r\n      <g style=\"fill:#262626;\" transform=\"translate(7.2 49.933192)scale(0.1 -0.1)\">\r\n       <defs>\r\n        <path d=\"M 37.25 0 \r\nL 28.46875 0 \r\nL 28.46875 56 \r\nQ 25.296875 52.984375 20.140625 49.953125 \r\nQ 14.984375 46.921875 10.890625 45.40625 \r\nL 10.890625 53.90625 \r\nQ 18.265625 57.375 23.78125 62.296875 \r\nQ 29.296875 67.234375 31.59375 71.875 \r\nL 37.25 71.875 \r\nz\r\n\" id=\"ArialMT-49\"/>\r\n       </defs>\r\n       <use xlink:href=\"#ArialMT-49\"/>\r\n       <use x=\"55.615234\" xlink:href=\"#ArialMT-48\"/>\r\n      </g>\r\n     </g>\r\n    </g>\r\n   </g>\r\n   <g id=\"patch_3\">\r\n    <path clip-path=\"url(#pbe7ef04fac)\" d=\"M 32.23923 253.44 \r\nL 44.81624 253.44 \r\nL 44.81624 170.605714 \r\nL 32.23923 170.605714 \r\nz\r\n\" style=\"fill:#1f77b4;stroke:#ffffff;stroke-linejoin:miter;\"/>\r\n   </g>\r\n   <g id=\"patch_4\">\r\n    <path clip-path=\"url(#pbe7ef04fac)\" d=\"M 47.960493 253.44 \r\nL 60.537502 253.44 \r\nL 60.537502 87.771429 \r\nL 47.960493 87.771429 \r\nz\r\n\" style=\"fill:#1f77b4;stroke:#ffffff;stroke-linejoin:miter;\"/>\r\n   </g>\r\n   <g id=\"patch_5\">\r\n    <path clip-path=\"url(#pbe7ef04fac)\" d=\"M 63.681755 253.44 \r\nL 76.258765 253.44 \r\nL 76.258765 149.897143 \r\nL 63.681755 149.897143 \r\nz\r\n\" style=\"fill:#1f77b4;stroke:#ffffff;stroke-linejoin:miter;\"/>\r\n   </g>\r\n   <g id=\"patch_6\">\r\n    <path clip-path=\"url(#pbe7ef04fac)\" d=\"M 79.403017 253.44 \r\nL 91.980027 253.44 \r\nL 91.980027 170.605714 \r\nL 79.403017 170.605714 \r\nz\r\n\" style=\"fill:#1f77b4;stroke:#ffffff;stroke-linejoin:miter;\"/>\r\n   </g>\r\n   <g id=\"patch_7\">\r\n    <path clip-path=\"url(#pbe7ef04fac)\" d=\"M 95.124279 253.44 \r\nL 107.701289 253.44 \r\nL 107.701289 46.354286 \r\nL 95.124279 46.354286 \r\nz\r\n\" style=\"fill:#1f77b4;stroke:#ffffff;stroke-linejoin:miter;\"/>\r\n   </g>\r\n   <g id=\"patch_8\">\r\n    <path clip-path=\"url(#pbe7ef04fac)\" d=\"M 110.845541 253.44 \r\nL 123.422551 253.44 \r\nL 123.422551 232.731429 \r\nL 110.845541 232.731429 \r\nz\r\n\" style=\"fill:#1f77b4;stroke:#ffffff;stroke-linejoin:miter;\"/>\r\n   </g>\r\n   <g id=\"patch_9\">\r\n    <path clip-path=\"url(#pbe7ef04fac)\" d=\"M 126.566804 253.44 \r\nL 139.143813 253.44 \r\nL 139.143813 232.731429 \r\nL 126.566804 232.731429 \r\nz\r\n\" style=\"fill:#1f77b4;stroke:#ffffff;stroke-linejoin:miter;\"/>\r\n   </g>\r\n   <g id=\"patch_10\">\r\n    <path clip-path=\"url(#pbe7ef04fac)\" d=\"M 142.288066 253.44 \r\nL 154.865076 253.44 \r\nL 154.865076 67.062857 \r\nL 142.288066 67.062857 \r\nz\r\n\" style=\"fill:#1f77b4;stroke:#ffffff;stroke-linejoin:miter;\"/>\r\n   </g>\r\n   <g id=\"patch_11\">\r\n    <path clip-path=\"url(#pbe7ef04fac)\" d=\"M 158.009328 253.44 \r\nL 170.586338 253.44 \r\nL 170.586338 212.022857 \r\nL 158.009328 212.022857 \r\nz\r\n\" style=\"fill:#1f77b4;stroke:#ffffff;stroke-linejoin:miter;\"/>\r\n   </g>\r\n   <g id=\"patch_12\">\r\n    <path d=\"M 25.321875 253.44 \r\nL 25.321875 36 \r\n\" style=\"fill:none;stroke:#ffffff;stroke-linecap:square;stroke-linejoin:miter;stroke-width:0.8;\"/>\r\n   </g>\r\n   <g id=\"patch_13\">\r\n    <path d=\"M 177.503693 253.44 \r\nL 177.503693 36 \r\n\" style=\"fill:none;stroke:#ffffff;stroke-linecap:square;stroke-linejoin:miter;stroke-width:0.8;\"/>\r\n   </g>\r\n   <g id=\"patch_14\">\r\n    <path d=\"M 25.321875 253.44 \r\nL 177.503693 253.44 \r\n\" style=\"fill:none;stroke:#ffffff;stroke-linecap:square;stroke-linejoin:miter;stroke-width:0.8;\"/>\r\n   </g>\r\n   <g id=\"patch_15\">\r\n    <path d=\"M 25.321875 36 \r\nL 177.503693 36 \r\n\" style=\"fill:none;stroke:#ffffff;stroke-linecap:square;stroke-linejoin:miter;stroke-width:0.8;\"/>\r\n   </g>\r\n   <g id=\"text_16\">\r\n    <!-- Females -->\r\n    <g style=\"fill:#262626;\" transform=\"translate(78.407472 30)scale(0.12 -0.12)\">\r\n     <use xlink:href=\"#ArialMT-70\"/>\r\n     <use x=\"61.083984\" xlink:href=\"#ArialMT-101\"/>\r\n     <use x=\"116.699219\" xlink:href=\"#ArialMT-109\"/>\r\n     <use x=\"200\" xlink:href=\"#ArialMT-97\"/>\r\n     <use x=\"255.615234\" xlink:href=\"#ArialMT-108\"/>\r\n     <use x=\"277.832031\" xlink:href=\"#ArialMT-101\"/>\r\n     <use x=\"333.447266\" xlink:href=\"#ArialMT-115\"/>\r\n    </g>\r\n   </g>\r\n  </g>\r\n  <g id=\"axes_2\">\r\n   <g id=\"patch_16\">\r\n    <path d=\"M 207.940057 253.44 \r\nL 360.121875 253.44 \r\nL 360.121875 36 \r\nL 207.940057 36 \r\nz\r\n\" style=\"fill:#eaeaf2;\"/>\r\n   </g>\r\n   <g id=\"matplotlib.axis_3\">\r\n    <g id=\"xtick_10\">\r\n     <g id=\"line2d_16\">\r\n      <path clip-path=\"url(#p68cd863f14)\" d=\"M 221.145917 253.44 \r\nL 221.145917 36 \r\n\" style=\"fill:none;stroke:#ffffff;stroke-linecap:round;stroke-width:0.8;\"/>\r\n     </g>\r\n     <g id=\"text_17\">\r\n      <!-- Ayiti Analytics Website -->\r\n      <g style=\"fill:#262626;\" transform=\"translate(223.67248 360.124375)rotate(-90)scale(0.1 -0.1)\">\r\n       <use xlink:href=\"#ArialMT-65\"/>\r\n       <use x=\"64.949219\" xlink:href=\"#ArialMT-121\"/>\r\n       <use x=\"114.949219\" xlink:href=\"#ArialMT-105\"/>\r\n       <use x=\"137.166016\" xlink:href=\"#ArialMT-116\"/>\r\n       <use x=\"164.949219\" xlink:href=\"#ArialMT-105\"/>\r\n       <use x=\"187.166016\" xlink:href=\"#ArialMT-32\"/>\r\n       <use x=\"209.449219\" xlink:href=\"#ArialMT-65\"/>\r\n       <use x=\"276.148438\" xlink:href=\"#ArialMT-110\"/>\r\n       <use x=\"331.763672\" xlink:href=\"#ArialMT-97\"/>\r\n       <use x=\"387.378906\" xlink:href=\"#ArialMT-108\"/>\r\n       <use x=\"409.595703\" xlink:href=\"#ArialMT-121\"/>\r\n       <use x=\"459.595703\" xlink:href=\"#ArialMT-116\"/>\r\n       <use x=\"487.378906\" xlink:href=\"#ArialMT-105\"/>\r\n       <use x=\"509.595703\" xlink:href=\"#ArialMT-99\"/>\r\n       <use x=\"559.595703\" xlink:href=\"#ArialMT-115\"/>\r\n       <use x=\"609.595703\" xlink:href=\"#ArialMT-32\"/>\r\n       <use x=\"637.378906\" xlink:href=\"#ArialMT-87\"/>\r\n       <use x=\"730.013672\" xlink:href=\"#ArialMT-101\"/>\r\n       <use x=\"785.628906\" xlink:href=\"#ArialMT-98\"/>\r\n       <use x=\"841.244141\" xlink:href=\"#ArialMT-115\"/>\r\n       <use x=\"891.244141\" xlink:href=\"#ArialMT-105\"/>\r\n       <use x=\"913.460938\" xlink:href=\"#ArialMT-116\"/>\r\n       <use x=\"941.244141\" xlink:href=\"#ArialMT-101\"/>\r\n      </g>\r\n     </g>\r\n    </g>\r\n    <g id=\"xtick_11\">\r\n     <g id=\"line2d_17\">\r\n      <path clip-path=\"url(#p68cd863f14)\" d=\"M 236.867179 253.44 \r\nL 236.867179 36 \r\n\" style=\"fill:none;stroke:#ffffff;stroke-linecap:round;stroke-width:0.8;\"/>\r\n     </g>\r\n     <g id=\"text_18\">\r\n      <!-- Bootcamp Alumni -->\r\n      <g style=\"fill:#262626;\" transform=\"translate(239.452336 338.255625)rotate(-90)scale(0.1 -0.1)\">\r\n       <use xlink:href=\"#ArialMT-66\"/>\r\n       <use x=\"66.699219\" xlink:href=\"#ArialMT-111\"/>\r\n       <use x=\"122.314453\" xlink:href=\"#ArialMT-111\"/>\r\n       <use x=\"177.929688\" xlink:href=\"#ArialMT-116\"/>\r\n       <use x=\"205.712891\" xlink:href=\"#ArialMT-99\"/>\r\n       <use x=\"255.712891\" xlink:href=\"#ArialMT-97\"/>\r\n       <use x=\"311.328125\" xlink:href=\"#ArialMT-109\"/>\r\n       <use x=\"394.628906\" xlink:href=\"#ArialMT-112\"/>\r\n       <use x=\"450.244141\" xlink:href=\"#ArialMT-32\"/>\r\n       <use x=\"472.527344\" xlink:href=\"#ArialMT-65\"/>\r\n       <use x=\"539.226562\" xlink:href=\"#ArialMT-108\"/>\r\n       <use x=\"561.443359\" xlink:href=\"#ArialMT-117\"/>\r\n       <use x=\"617.058594\" xlink:href=\"#ArialMT-109\"/>\r\n       <use x=\"700.359375\" xlink:href=\"#ArialMT-110\"/>\r\n       <use x=\"755.974609\" xlink:href=\"#ArialMT-105\"/>\r\n      </g>\r\n     </g>\r\n    </g>\r\n    <g id=\"xtick_12\">\r\n     <g id=\"line2d_18\">\r\n      <path clip-path=\"url(#p68cd863f14)\" d=\"M 252.588441 253.44 \r\nL 252.588441 36 \r\n\" style=\"fill:none;stroke:#ffffff;stroke-linecap:round;stroke-width:0.8;\"/>\r\n     </g>\r\n     <g id=\"text_19\">\r\n      <!-- ESIH -->\r\n      <g style=\"fill:#262626;\" transform=\"translate(255.173598 283.780625)rotate(-90)scale(0.1 -0.1)\">\r\n       <use xlink:href=\"#ArialMT-69\"/>\r\n       <use x=\"66.699219\" xlink:href=\"#ArialMT-83\"/>\r\n       <use x=\"133.398438\" xlink:href=\"#ArialMT-73\"/>\r\n       <use x=\"161.181641\" xlink:href=\"#ArialMT-72\"/>\r\n      </g>\r\n     </g>\r\n    </g>\r\n    <g id=\"xtick_13\">\r\n     <g id=\"line2d_19\">\r\n      <path clip-path=\"url(#p68cd863f14)\" d=\"M 268.309704 253.44 \r\nL 268.309704 36 \r\n\" style=\"fill:none;stroke:#ffffff;stroke-linecap:round;stroke-width:0.8;\"/>\r\n     </g>\r\n     <g id=\"text_20\">\r\n      <!-- Facebook -->\r\n      <g style=\"fill:#262626;\" transform=\"translate(270.89486 304.3525)rotate(-90)scale(0.1 -0.1)\">\r\n       <use xlink:href=\"#ArialMT-70\"/>\r\n       <use x=\"61.083984\" xlink:href=\"#ArialMT-97\"/>\r\n       <use x=\"116.699219\" xlink:href=\"#ArialMT-99\"/>\r\n       <use x=\"166.699219\" xlink:href=\"#ArialMT-101\"/>\r\n       <use x=\"222.314453\" xlink:href=\"#ArialMT-98\"/>\r\n       <use x=\"277.929688\" xlink:href=\"#ArialMT-111\"/>\r\n       <use x=\"333.544922\" xlink:href=\"#ArialMT-111\"/>\r\n       <use x=\"389.160156\" xlink:href=\"#ArialMT-107\"/>\r\n      </g>\r\n     </g>\r\n    </g>\r\n    <g id=\"xtick_14\">\r\n     <g id=\"line2d_20\">\r\n      <path clip-path=\"url(#p68cd863f14)\" d=\"M 284.030966 253.44 \r\nL 284.030966 36 \r\n\" style=\"fill:none;stroke:#ffffff;stroke-linecap:round;stroke-width:0.8;\"/>\r\n     </g>\r\n     <g id=\"text_21\">\r\n      <!-- Friend -->\r\n      <g style=\"fill:#262626;\" transform=\"translate(286.616122 288.782187)rotate(-90)scale(0.1 -0.1)\">\r\n       <use xlink:href=\"#ArialMT-70\"/>\r\n       <use x=\"61.083984\" xlink:href=\"#ArialMT-114\"/>\r\n       <use x=\"94.384766\" xlink:href=\"#ArialMT-105\"/>\r\n       <use x=\"116.601562\" xlink:href=\"#ArialMT-101\"/>\r\n       <use x=\"172.216797\" xlink:href=\"#ArialMT-110\"/>\r\n       <use x=\"227.832031\" xlink:href=\"#ArialMT-100\"/>\r\n      </g>\r\n     </g>\r\n    </g>\r\n    <g id=\"xtick_15\">\r\n     <g id=\"line2d_21\">\r\n      <path clip-path=\"url(#p68cd863f14)\" d=\"M 299.752228 253.44 \r\nL 299.752228 36 \r\n\" style=\"fill:none;stroke:#ffffff;stroke-linecap:round;stroke-width:0.8;\"/>\r\n     </g>\r\n     <g id=\"text_22\">\r\n      <!-- Instagram -->\r\n      <g style=\"fill:#262626;\" transform=\"translate(302.278791 304.899375)rotate(-90)scale(0.1 -0.1)\">\r\n       <use xlink:href=\"#ArialMT-73\"/>\r\n       <use x=\"27.783203\" xlink:href=\"#ArialMT-110\"/>\r\n       <use x=\"83.398438\" xlink:href=\"#ArialMT-115\"/>\r\n       <use x=\"133.398438\" xlink:href=\"#ArialMT-116\"/>\r\n       <use x=\"161.181641\" xlink:href=\"#ArialMT-97\"/>\r\n       <use x=\"216.796875\" xlink:href=\"#ArialMT-103\"/>\r\n       <use x=\"272.412109\" xlink:href=\"#ArialMT-114\"/>\r\n       <use x=\"305.712891\" xlink:href=\"#ArialMT-97\"/>\r\n       <use x=\"361.328125\" xlink:href=\"#ArialMT-109\"/>\r\n      </g>\r\n     </g>\r\n    </g>\r\n    <g id=\"xtick_16\">\r\n     <g id=\"line2d_22\">\r\n      <path clip-path=\"url(#p68cd863f14)\" d=\"M 315.47349 253.44 \r\nL 315.47349 36 \r\n\" style=\"fill:none;stroke:#ffffff;stroke-linecap:round;stroke-width:0.8;\"/>\r\n     </g>\r\n     <g id=\"text_23\">\r\n      <!-- LinkedIn -->\r\n      <g style=\"fill:#262626;\" transform=\"translate(318.058647 298.244687)rotate(-90)scale(0.1 -0.1)\">\r\n       <use xlink:href=\"#ArialMT-76\"/>\r\n       <use x=\"55.615234\" xlink:href=\"#ArialMT-105\"/>\r\n       <use x=\"77.832031\" xlink:href=\"#ArialMT-110\"/>\r\n       <use x=\"133.447266\" xlink:href=\"#ArialMT-107\"/>\r\n       <use x=\"183.447266\" xlink:href=\"#ArialMT-101\"/>\r\n       <use x=\"239.0625\" xlink:href=\"#ArialMT-100\"/>\r\n       <use x=\"294.677734\" xlink:href=\"#ArialMT-73\"/>\r\n       <use x=\"322.460938\" xlink:href=\"#ArialMT-110\"/>\r\n      </g>\r\n     </g>\r\n    </g>\r\n    <g id=\"xtick_17\">\r\n     <g id=\"line2d_23\">\r\n      <path clip-path=\"url(#p68cd863f14)\" d=\"M 331.194753 253.44 \r\nL 331.194753 36 \r\n\" style=\"fill:none;stroke:#ffffff;stroke-linecap:round;stroke-width:0.8;\"/>\r\n     </g>\r\n     <g id=\"text_24\">\r\n      <!-- WhatsApp -->\r\n      <g style=\"fill:#262626;\" transform=\"translate(333.779909 306.57125)rotate(-90)scale(0.1 -0.1)\">\r\n       <use xlink:href=\"#ArialMT-87\"/>\r\n       <use x=\"94.384766\" xlink:href=\"#ArialMT-104\"/>\r\n       <use x=\"150\" xlink:href=\"#ArialMT-97\"/>\r\n       <use x=\"205.615234\" xlink:href=\"#ArialMT-116\"/>\r\n       <use x=\"233.398438\" xlink:href=\"#ArialMT-115\"/>\r\n       <use x=\"283.398438\" xlink:href=\"#ArialMT-65\"/>\r\n       <use x=\"350.097656\" xlink:href=\"#ArialMT-112\"/>\r\n       <use x=\"405.712891\" xlink:href=\"#ArialMT-112\"/>\r\n      </g>\r\n     </g>\r\n    </g>\r\n    <g id=\"xtick_18\">\r\n     <g id=\"line2d_24\">\r\n      <path clip-path=\"url(#p68cd863f14)\" d=\"M 346.916015 253.44 \r\nL 346.916015 36 \r\n\" style=\"fill:none;stroke:#ffffff;stroke-linecap:round;stroke-width:0.8;\"/>\r\n     </g>\r\n     <g id=\"text_25\">\r\n      <!-- other -->\r\n      <g style=\"fill:#262626;\" transform=\"translate(349.501171 283.230625)rotate(-90)scale(0.1 -0.1)\">\r\n       <use xlink:href=\"#ArialMT-111\"/>\r\n       <use x=\"55.615234\" xlink:href=\"#ArialMT-116\"/>\r\n       <use x=\"83.398438\" xlink:href=\"#ArialMT-104\"/>\r\n       <use x=\"139.013672\" xlink:href=\"#ArialMT-101\"/>\r\n       <use x=\"194.628906\" xlink:href=\"#ArialMT-114\"/>\r\n      </g>\r\n     </g>\r\n    </g>\r\n   </g>\r\n   <g id=\"matplotlib.axis_4\">\r\n    <g id=\"ytick_7\">\r\n     <g id=\"line2d_25\">\r\n      <path clip-path=\"url(#p68cd863f14)\" d=\"M 207.940057 253.44 \r\nL 360.121875 253.44 \r\n\" style=\"fill:none;stroke:#ffffff;stroke-linecap:round;stroke-width:0.8;\"/>\r\n     </g>\r\n     <g id=\"text_26\">\r\n      <!-- 0 -->\r\n      <g style=\"fill:#262626;\" transform=\"translate(195.379119 257.018906)scale(0.1 -0.1)\">\r\n       <use xlink:href=\"#ArialMT-48\"/>\r\n      </g>\r\n     </g>\r\n    </g>\r\n    <g id=\"ytick_8\">\r\n     <g id=\"line2d_26\">\r\n      <path clip-path=\"url(#p68cd863f14)\" d=\"M 207.940057 216.460408 \r\nL 360.121875 216.460408 \r\n\" style=\"fill:none;stroke:#ffffff;stroke-linecap:round;stroke-width:0.8;\"/>\r\n     </g>\r\n     <g id=\"text_27\">\r\n      <!-- 10 -->\r\n      <g style=\"fill:#262626;\" transform=\"translate(189.818182 220.039314)scale(0.1 -0.1)\">\r\n       <use xlink:href=\"#ArialMT-49\"/>\r\n       <use x=\"55.615234\" xlink:href=\"#ArialMT-48\"/>\r\n      </g>\r\n     </g>\r\n    </g>\r\n    <g id=\"ytick_9\">\r\n     <g id=\"line2d_27\">\r\n      <path clip-path=\"url(#p68cd863f14)\" d=\"M 207.940057 179.480816 \r\nL 360.121875 179.480816 \r\n\" style=\"fill:none;stroke:#ffffff;stroke-linecap:round;stroke-width:0.8;\"/>\r\n     </g>\r\n     <g id=\"text_28\">\r\n      <!-- 20 -->\r\n      <g style=\"fill:#262626;\" transform=\"translate(189.818182 183.059723)scale(0.1 -0.1)\">\r\n       <use xlink:href=\"#ArialMT-50\"/>\r\n       <use x=\"55.615234\" xlink:href=\"#ArialMT-48\"/>\r\n      </g>\r\n     </g>\r\n    </g>\r\n    <g id=\"ytick_10\">\r\n     <g id=\"line2d_28\">\r\n      <path clip-path=\"url(#p68cd863f14)\" d=\"M 207.940057 142.501224 \r\nL 360.121875 142.501224 \r\n\" style=\"fill:none;stroke:#ffffff;stroke-linecap:round;stroke-width:0.8;\"/>\r\n     </g>\r\n     <g id=\"text_29\">\r\n      <!-- 30 -->\r\n      <g style=\"fill:#262626;\" transform=\"translate(189.818182 146.080131)scale(0.1 -0.1)\">\r\n       <defs>\r\n        <path d=\"M 4.203125 18.890625 \r\nL 12.984375 20.0625 \r\nQ 14.5 12.59375 18.140625 9.296875 \r\nQ 21.78125 6 27 6 \r\nQ 33.203125 6 37.46875 10.296875 \r\nQ 41.75 14.59375 41.75 20.953125 \r\nQ 41.75 27 37.796875 30.921875 \r\nQ 33.84375 34.859375 27.734375 34.859375 \r\nQ 25.25 34.859375 21.53125 33.890625 \r\nL 22.515625 41.609375 \r\nQ 23.390625 41.5 23.921875 41.5 \r\nQ 29.546875 41.5 34.03125 44.421875 \r\nQ 38.53125 47.359375 38.53125 53.46875 \r\nQ 38.53125 58.296875 35.25 61.46875 \r\nQ 31.984375 64.65625 26.8125 64.65625 \r\nQ 21.6875 64.65625 18.265625 61.421875 \r\nQ 14.84375 58.203125 13.875 51.765625 \r\nL 5.078125 53.328125 \r\nQ 6.6875 62.15625 12.390625 67.015625 \r\nQ 18.109375 71.875 26.609375 71.875 \r\nQ 32.46875 71.875 37.390625 69.359375 \r\nQ 42.328125 66.84375 44.9375 62.5 \r\nQ 47.5625 58.15625 47.5625 53.265625 \r\nQ 47.5625 48.640625 45.0625 44.828125 \r\nQ 42.578125 41.015625 37.703125 38.765625 \r\nQ 44.046875 37.3125 47.5625 32.6875 \r\nQ 51.078125 28.078125 51.078125 21.140625 \r\nQ 51.078125 11.765625 44.234375 5.25 \r\nQ 37.40625 -1.265625 26.953125 -1.265625 \r\nQ 17.53125 -1.265625 11.296875 4.34375 \r\nQ 5.078125 9.96875 4.203125 18.890625 \r\nz\r\n\" id=\"ArialMT-51\"/>\r\n       </defs>\r\n       <use xlink:href=\"#ArialMT-51\"/>\r\n       <use x=\"55.615234\" xlink:href=\"#ArialMT-48\"/>\r\n      </g>\r\n     </g>\r\n    </g>\r\n    <g id=\"ytick_11\">\r\n     <g id=\"line2d_29\">\r\n      <path clip-path=\"url(#p68cd863f14)\" d=\"M 207.940057 105.521633 \r\nL 360.121875 105.521633 \r\n\" style=\"fill:none;stroke:#ffffff;stroke-linecap:round;stroke-width:0.8;\"/>\r\n     </g>\r\n     <g id=\"text_30\">\r\n      <!-- 40 -->\r\n      <g style=\"fill:#262626;\" transform=\"translate(189.818182 109.100539)scale(0.1 -0.1)\">\r\n       <use xlink:href=\"#ArialMT-52\"/>\r\n       <use x=\"55.615234\" xlink:href=\"#ArialMT-48\"/>\r\n      </g>\r\n     </g>\r\n    </g>\r\n    <g id=\"ytick_12\">\r\n     <g id=\"line2d_30\">\r\n      <path clip-path=\"url(#p68cd863f14)\" d=\"M 207.940057 68.542041 \r\nL 360.121875 68.542041 \r\n\" style=\"fill:none;stroke:#ffffff;stroke-linecap:round;stroke-width:0.8;\"/>\r\n     </g>\r\n     <g id=\"text_31\">\r\n      <!-- 50 -->\r\n      <g style=\"fill:#262626;\" transform=\"translate(189.818182 72.120947)scale(0.1 -0.1)\">\r\n       <defs>\r\n        <path d=\"M 4.15625 18.75 \r\nL 13.375 19.53125 \r\nQ 14.40625 12.796875 18.140625 9.390625 \r\nQ 21.875 6 27.15625 6 \r\nQ 33.5 6 37.890625 10.78125 \r\nQ 42.28125 15.578125 42.28125 23.484375 \r\nQ 42.28125 31 38.0625 35.34375 \r\nQ 33.84375 39.703125 27 39.703125 \r\nQ 22.75 39.703125 19.328125 37.765625 \r\nQ 15.921875 35.84375 13.96875 32.765625 \r\nL 5.71875 33.84375 \r\nL 12.640625 70.609375 \r\nL 48.25 70.609375 \r\nL 48.25 62.203125 \r\nL 19.671875 62.203125 \r\nL 15.828125 42.96875 \r\nQ 22.265625 47.46875 29.34375 47.46875 \r\nQ 38.71875 47.46875 45.15625 40.96875 \r\nQ 51.609375 34.46875 51.609375 24.265625 \r\nQ 51.609375 14.546875 45.953125 7.46875 \r\nQ 39.0625 -1.21875 27.15625 -1.21875 \r\nQ 17.390625 -1.21875 11.203125 4.25 \r\nQ 5.03125 9.71875 4.15625 18.75 \r\nz\r\n\" id=\"ArialMT-53\"/>\r\n       </defs>\r\n       <use xlink:href=\"#ArialMT-53\"/>\r\n       <use x=\"55.615234\" xlink:href=\"#ArialMT-48\"/>\r\n      </g>\r\n     </g>\r\n    </g>\r\n   </g>\r\n   <g id=\"patch_17\">\r\n    <path clip-path=\"url(#p68cd863f14)\" d=\"M 214.857412 253.44 \r\nL 227.434422 253.44 \r\nL 227.434422 212.762449 \r\nL 214.857412 212.762449 \r\nz\r\n\" style=\"fill:#1f77b4;stroke:#ffffff;stroke-linejoin:miter;\"/>\r\n   </g>\r\n   <g id=\"patch_18\">\r\n    <path clip-path=\"url(#p68cd863f14)\" d=\"M 230.578674 253.44 \r\nL 243.155684 253.44 \r\nL 243.155684 231.252245 \r\nL 230.578674 231.252245 \r\nz\r\n\" style=\"fill:#1f77b4;stroke:#ffffff;stroke-linejoin:miter;\"/>\r\n   </g>\r\n   <g id=\"patch_19\">\r\n    <path clip-path=\"url(#p68cd863f14)\" d=\"M 246.299937 253.44 \r\nL 258.876946 253.44 \r\nL 258.876946 209.06449 \r\nL 246.299937 209.06449 \r\nz\r\n\" style=\"fill:#1f77b4;stroke:#ffffff;stroke-linejoin:miter;\"/>\r\n   </g>\r\n   <g id=\"patch_20\">\r\n    <path clip-path=\"url(#p68cd863f14)\" d=\"M 262.021199 253.44 \r\nL 274.598209 253.44 \r\nL 274.598209 127.709388 \r\nL 262.021199 127.709388 \r\nz\r\n\" style=\"fill:#1f77b4;stroke:#ffffff;stroke-linejoin:miter;\"/>\r\n   </g>\r\n   <g id=\"patch_21\">\r\n    <path clip-path=\"url(#p68cd863f14)\" d=\"M 277.742461 253.44 \r\nL 290.319471 253.44 \r\nL 290.319471 46.354286 \r\nL 277.742461 46.354286 \r\nz\r\n\" style=\"fill:#1f77b4;stroke:#ffffff;stroke-linejoin:miter;\"/>\r\n   </g>\r\n   <g id=\"patch_22\">\r\n    <path clip-path=\"url(#p68cd863f14)\" d=\"M 293.463723 253.44 \r\nL 306.040733 253.44 \r\nL 306.040733 238.648163 \r\nL 293.463723 238.648163 \r\nz\r\n\" style=\"fill:#1f77b4;stroke:#ffffff;stroke-linejoin:miter;\"/>\r\n   </g>\r\n   <g id=\"patch_23\">\r\n    <path clip-path=\"url(#p68cd863f14)\" d=\"M 309.184985 253.44 \r\nL 321.761995 253.44 \r\nL 321.761995 205.366531 \r\nL 309.184985 205.366531 \r\nz\r\n\" style=\"fill:#1f77b4;stroke:#ffffff;stroke-linejoin:miter;\"/>\r\n   </g>\r\n   <g id=\"patch_24\">\r\n    <path clip-path=\"url(#p68cd863f14)\" d=\"M 324.906248 253.44 \r\nL 337.483257 253.44 \r\nL 337.483257 50.052245 \r\nL 324.906248 50.052245 \r\nz\r\n\" style=\"fill:#1f77b4;stroke:#ffffff;stroke-linejoin:miter;\"/>\r\n   </g>\r\n   <g id=\"patch_25\">\r\n    <path clip-path=\"url(#p68cd863f14)\" d=\"M 340.62751 253.44 \r\nL 353.20452 253.44 \r\nL 353.20452 227.554286 \r\nL 340.62751 227.554286 \r\nz\r\n\" style=\"fill:#1f77b4;stroke:#ffffff;stroke-linejoin:miter;\"/>\r\n   </g>\r\n   <g id=\"patch_26\">\r\n    <path d=\"M 207.940057 253.44 \r\nL 207.940057 36 \r\n\" style=\"fill:none;stroke:#ffffff;stroke-linecap:square;stroke-linejoin:miter;stroke-width:0.8;\"/>\r\n   </g>\r\n   <g id=\"patch_27\">\r\n    <path d=\"M 360.121875 253.44 \r\nL 360.121875 36 \r\n\" style=\"fill:none;stroke:#ffffff;stroke-linecap:square;stroke-linejoin:miter;stroke-width:0.8;\"/>\r\n   </g>\r\n   <g id=\"patch_28\">\r\n    <path d=\"M 207.940057 253.44 \r\nL 360.121875 253.44 \r\n\" style=\"fill:none;stroke:#ffffff;stroke-linecap:square;stroke-linejoin:miter;stroke-width:0.8;\"/>\r\n   </g>\r\n   <g id=\"patch_29\">\r\n    <path d=\"M 207.940057 36 \r\nL 360.121875 36 \r\n\" style=\"fill:none;stroke:#ffffff;stroke-linecap:square;stroke-linejoin:miter;stroke-width:0.8;\"/>\r\n   </g>\r\n   <g id=\"text_32\">\r\n    <!-- Males -->\r\n    <g style=\"fill:#262626;\" transform=\"translate(268.026903 30)scale(0.12 -0.12)\">\r\n     <defs>\r\n      <path d=\"M 7.421875 0 \r\nL 7.421875 71.578125 \r\nL 21.6875 71.578125 \r\nL 38.625 20.90625 \r\nQ 40.96875 13.8125 42.046875 10.296875 \r\nQ 43.265625 14.203125 45.84375 21.78125 \r\nL 62.984375 71.578125 \r\nL 75.734375 71.578125 \r\nL 75.734375 0 \r\nL 66.609375 0 \r\nL 66.609375 59.90625 \r\nL 45.796875 0 \r\nL 37.25 0 \r\nL 16.546875 60.9375 \r\nL 16.546875 0 \r\nz\r\n\" id=\"ArialMT-77\"/>\r\n     </defs>\r\n     <use xlink:href=\"#ArialMT-77\"/>\r\n     <use x=\"83.300781\" xlink:href=\"#ArialMT-97\"/>\r\n     <use x=\"138.916016\" xlink:href=\"#ArialMT-108\"/>\r\n     <use x=\"161.132812\" xlink:href=\"#ArialMT-101\"/>\r\n     <use x=\"216.748047\" xlink:href=\"#ArialMT-115\"/>\r\n    </g>\r\n   </g>\r\n  </g>\r\n  <g id=\"text_33\">\r\n   <!-- Barplot of the communication channel by sex -->\r\n   <g style=\"fill:#262626;\" transform=\"translate(67.930313 15.935625)scale(0.12 -0.12)\">\r\n    <defs>\r\n     <path d=\"M 8.6875 0 \r\nL 8.6875 45.015625 \r\nL 0.921875 45.015625 \r\nL 0.921875 51.859375 \r\nL 8.6875 51.859375 \r\nL 8.6875 57.375 \r\nQ 8.6875 62.59375 9.625 65.140625 \r\nQ 10.890625 68.5625 14.078125 70.671875 \r\nQ 17.28125 72.796875 23.046875 72.796875 \r\nQ 26.765625 72.796875 31.25 71.921875 \r\nL 29.9375 64.265625 \r\nQ 27.203125 64.75 24.75 64.75 \r\nQ 20.75 64.75 19.09375 63.03125 \r\nQ 17.4375 61.328125 17.4375 56.640625 \r\nL 17.4375 51.859375 \r\nL 27.546875 51.859375 \r\nL 27.546875 45.015625 \r\nL 17.4375 45.015625 \r\nL 17.4375 0 \r\nz\r\n\" id=\"ArialMT-102\"/>\r\n     <path d=\"M 0.734375 0 \r\nL 19.671875 26.953125 \r\nL 2.15625 51.859375 \r\nL 13.140625 51.859375 \r\nL 21.09375 39.703125 \r\nQ 23.34375 36.234375 24.703125 33.890625 \r\nQ 26.859375 37.109375 28.65625 39.59375 \r\nL 37.40625 51.859375 \r\nL 47.90625 51.859375 \r\nL 29.984375 27.4375 \r\nL 49.265625 0 \r\nL 38.484375 0 \r\nL 27.828125 16.109375 \r\nL 25 20.453125 \r\nL 11.375 0 \r\nz\r\n\" id=\"ArialMT-120\"/>\r\n    </defs>\r\n    <use xlink:href=\"#ArialMT-66\"/>\r\n    <use x=\"66.699219\" xlink:href=\"#ArialMT-97\"/>\r\n    <use x=\"122.314453\" xlink:href=\"#ArialMT-114\"/>\r\n    <use x=\"155.615234\" xlink:href=\"#ArialMT-112\"/>\r\n    <use x=\"211.230469\" xlink:href=\"#ArialMT-108\"/>\r\n    <use x=\"233.447266\" xlink:href=\"#ArialMT-111\"/>\r\n    <use x=\"289.0625\" xlink:href=\"#ArialMT-116\"/>\r\n    <use x=\"316.845703\" xlink:href=\"#ArialMT-32\"/>\r\n    <use x=\"344.628906\" xlink:href=\"#ArialMT-111\"/>\r\n    <use x=\"400.244141\" xlink:href=\"#ArialMT-102\"/>\r\n    <use x=\"428.027344\" xlink:href=\"#ArialMT-32\"/>\r\n    <use x=\"455.810547\" xlink:href=\"#ArialMT-116\"/>\r\n    <use x=\"483.59375\" xlink:href=\"#ArialMT-104\"/>\r\n    <use x=\"539.208984\" xlink:href=\"#ArialMT-101\"/>\r\n    <use x=\"594.824219\" xlink:href=\"#ArialMT-32\"/>\r\n    <use x=\"622.607422\" xlink:href=\"#ArialMT-99\"/>\r\n    <use x=\"672.607422\" xlink:href=\"#ArialMT-111\"/>\r\n    <use x=\"728.222656\" xlink:href=\"#ArialMT-109\"/>\r\n    <use x=\"811.523438\" xlink:href=\"#ArialMT-109\"/>\r\n    <use x=\"894.824219\" xlink:href=\"#ArialMT-117\"/>\r\n    <use x=\"950.439453\" xlink:href=\"#ArialMT-110\"/>\r\n    <use x=\"1006.054688\" xlink:href=\"#ArialMT-105\"/>\r\n    <use x=\"1028.271484\" xlink:href=\"#ArialMT-99\"/>\r\n    <use x=\"1078.271484\" xlink:href=\"#ArialMT-97\"/>\r\n    <use x=\"1133.886719\" xlink:href=\"#ArialMT-116\"/>\r\n    <use x=\"1161.669922\" xlink:href=\"#ArialMT-105\"/>\r\n    <use x=\"1183.886719\" xlink:href=\"#ArialMT-111\"/>\r\n    <use x=\"1239.501953\" xlink:href=\"#ArialMT-110\"/>\r\n    <use x=\"1295.117188\" xlink:href=\"#ArialMT-32\"/>\r\n    <use x=\"1322.900391\" xlink:href=\"#ArialMT-99\"/>\r\n    <use x=\"1372.900391\" xlink:href=\"#ArialMT-104\"/>\r\n    <use x=\"1428.515625\" xlink:href=\"#ArialMT-97\"/>\r\n    <use x=\"1484.130859\" xlink:href=\"#ArialMT-110\"/>\r\n    <use x=\"1539.746094\" xlink:href=\"#ArialMT-110\"/>\r\n    <use x=\"1595.361328\" xlink:href=\"#ArialMT-101\"/>\r\n    <use x=\"1650.976562\" xlink:href=\"#ArialMT-108\"/>\r\n    <use x=\"1673.193359\" xlink:href=\"#ArialMT-32\"/>\r\n    <use x=\"1700.976562\" xlink:href=\"#ArialMT-98\"/>\r\n    <use x=\"1756.591797\" xlink:href=\"#ArialMT-121\"/>\r\n    <use x=\"1806.591797\" xlink:href=\"#ArialMT-32\"/>\r\n    <use x=\"1834.375\" xlink:href=\"#ArialMT-115\"/>\r\n    <use x=\"1884.375\" xlink:href=\"#ArialMT-101\"/>\r\n    <use x=\"1939.990234\" xlink:href=\"#ArialMT-120\"/>\r\n   </g>\r\n  </g>\r\n </g>\r\n <defs>\r\n  <clipPath id=\"pbe7ef04fac\">\r\n   <rect height=\"217.44\" width=\"152.181818\" x=\"25.321875\" y=\"36\"/>\r\n  </clipPath>\r\n  <clipPath id=\"p68cd863f14\">\r\n   <rect height=\"217.44\" width=\"152.181818\" x=\"207.940057\" y=\"36\"/>\r\n  </clipPath>\r\n </defs>\r\n</svg>\r\n"
     },
     "metadata": {}
    },
    {
     "output_type": "display_data",
     "data": {
      "text/plain": [
       "<Figure size 2880x2880 with 0 Axes>"
      ]
     },
     "metadata": {}
    }
   ],
   "metadata": {}
  },
  {
   "cell_type": "code",
   "execution_count": 178,
   "source": [
    "value=np.array([chasex.female.values,chasex.male.values])\r\n",
    "stat.chi2_contingency(value)[0:3]"
   ],
   "outputs": [
    {
     "output_type": "execute_result",
     "data": {
      "text/plain": [
       "(20.344036775285165, 0.009109933364814957, 8)"
      ]
     },
     "metadata": {},
     "execution_count": 178
    }
   ],
   "metadata": {}
  },
  {
   "cell_type": "markdown",
   "source": [
    "### Answer-15 : Considering that the p-value is 0.009109933364814957, we can reject the null hypothesis,so the gender and the communication channel are dependent of each other."
   ],
   "metadata": {}
  },
  {
   "cell_type": "markdown",
   "source": [
    "### 16 Use the same method to display plot and know if is there any dependency between communication channels and Bootcamp Insterest?"
   ],
   "metadata": {}
  },
  {
   "cell_type": "code",
   "execution_count": 179,
   "source": [
    "genboot=pd.crosstab(finalset.bootcamp_interest,finalset.gender)\r\n",
    "genboot.reset_index(inplace=True)"
   ],
   "outputs": [],
   "metadata": {}
  },
  {
   "cell_type": "code",
   "execution_count": 180,
   "source": [
    "fig,ax=plt.subplots(1,2)\r\n",
    "ax[0].bar(data=genboot,x=\"bootcamp_interest\",height=\"female\")\r\n",
    "ax[1].bar(data=genboot,x=\"bootcamp_interest\",height=\"male\")\r\n",
    "ax[0].set_title(\"Females\")\r\n",
    "ax[1].set_title(\"Males\")\r\n",
    "plt.figure(figsize=(40,40))\r\n",
    "fig.suptitle(\"Barplot of the bootcamp_interest  by gender\")\r\n",
    "ax[0].set_xticklabels([\"Finding a job/internship\",\"Improving my data analysis skills\",\"Mentorship\",\"Switching careers\",\"Training to start my own company\",\"other\",\"unknown\"],rotation=90)\r\n",
    "ax[1].set_xticklabels([\"Finding a job/internship\",\"Improving my data analysis skills\",\"Mentorship\",\"Switching careers\",\"Training to start my own company\",\"other\",\"unknown\"],rotation=90)\r\n",
    "plt.show()"
   ],
   "outputs": [
    {
     "output_type": "stream",
     "name": "stderr",
     "text": [
      "<ipython-input-180-118988d3b45f>:8: UserWarning: FixedFormatter should only be used together with FixedLocator\n",
      "  ax[0].set_xticklabels([\"Finding a job/internship\",\"Improving my data analysis skills\",\"Mentorship\",\"Switching careers\",\"Training to start my own company\",\"other\",\"unknown\"],rotation=90)\n",
      "<ipython-input-180-118988d3b45f>:9: UserWarning: FixedFormatter should only be used together with FixedLocator\n",
      "  ax[1].set_xticklabels([\"Finding a job/internship\",\"Improving my data analysis skills\",\"Mentorship\",\"Switching careers\",\"Training to start my own company\",\"other\",\"unknown\"],rotation=90)\n"
     ]
    },
    {
     "output_type": "display_data",
     "data": {
      "text/plain": [
       "<Figure size 432x288 with 2 Axes>"
      ],
      "image/png": "",
      "image/svg+xml": "<?xml version=\"1.0\" encoding=\"utf-8\" standalone=\"no\"?>\r\n<!DOCTYPE svg PUBLIC \"-//W3C//DTD SVG 1.1//EN\"\r\n  \"http://www.w3.org/Graphics/SVG/1.1/DTD/svg11.dtd\">\r\n<!-- Created with matplotlib (https://matplotlib.org/) -->\r\n<svg height=\"417.313437pt\" version=\"1.1\" viewBox=\"0 0 367.321875 417.313437\" width=\"367.321875pt\" xmlns=\"http://www.w3.org/2000/svg\" xmlns:xlink=\"http://www.w3.org/1999/xlink\">\r\n <metadata>\r\n  <rdf:RDF xmlns:cc=\"http://creativecommons.org/ns#\" xmlns:dc=\"http://purl.org/dc/elements/1.1/\" xmlns:rdf=\"http://www.w3.org/1999/02/22-rdf-syntax-ns#\">\r\n   <cc:Work>\r\n    <dc:type rdf:resource=\"http://purl.org/dc/dcmitype/StillImage\"/>\r\n    <dc:date>2021-07-23T20:03:18.658278</dc:date>\r\n    <dc:format>image/svg+xml</dc:format>\r\n    <dc:creator>\r\n     <cc:Agent>\r\n      <dc:title>Matplotlib v3.3.2, https://matplotlib.org/</dc:title>\r\n     </cc:Agent>\r\n    </dc:creator>\r\n   </cc:Work>\r\n  </rdf:RDF>\r\n </metadata>\r\n <defs>\r\n  <style type=\"text/css\">*{stroke-linecap:butt;stroke-linejoin:round;}</style>\r\n </defs>\r\n <g id=\"figure_1\">\r\n  <g id=\"patch_1\">\r\n   <path d=\"M 0 417.313437 \r\nL 367.321875 417.313437 \r\nL 367.321875 0 \r\nL 0 0 \r\nz\r\n\" style=\"fill:#ffffff;\"/>\r\n  </g>\r\n  <g id=\"axes_1\">\r\n   <g id=\"patch_2\">\r\n    <path d=\"M 25.321875 253.44 \r\nL 177.503693 253.44 \r\nL 177.503693 36 \r\nL 25.321875 36 \r\nz\r\n\" style=\"fill:#eaeaf2;\"/>\r\n   </g>\r\n   <g id=\"matplotlib.axis_1\">\r\n    <g id=\"xtick_1\">\r\n     <g id=\"line2d_1\">\r\n      <path clip-path=\"url(#p4b86ed4482)\" d=\"M 40.377296 253.44 \r\nL 40.377296 36 \r\n\" style=\"fill:none;stroke:#ffffff;stroke-linecap:round;stroke-width:0.8;\"/>\r\n     </g>\r\n     <g id=\"text_1\">\r\n      <!-- Finding a job/internship -->\r\n      <g style=\"fill:#262626;\" transform=\"translate(42.964796 363.830625)rotate(-90)scale(0.1 -0.1)\">\r\n       <defs>\r\n        <path d=\"M 8.203125 0 \r\nL 8.203125 71.578125 \r\nL 56.5 71.578125 \r\nL 56.5 63.140625 \r\nL 17.671875 63.140625 \r\nL 17.671875 40.96875 \r\nL 51.265625 40.96875 \r\nL 51.265625 32.515625 \r\nL 17.671875 32.515625 \r\nL 17.671875 0 \r\nz\r\n\" id=\"ArialMT-70\"/>\r\n        <path d=\"M 6.640625 61.46875 \r\nL 6.640625 71.578125 \r\nL 15.4375 71.578125 \r\nL 15.4375 61.46875 \r\nz\r\nM 6.640625 0 \r\nL 6.640625 51.859375 \r\nL 15.4375 51.859375 \r\nL 15.4375 0 \r\nz\r\n\" id=\"ArialMT-105\"/>\r\n        <path d=\"M 6.59375 0 \r\nL 6.59375 51.859375 \r\nL 14.5 51.859375 \r\nL 14.5 44.484375 \r\nQ 20.21875 53.03125 31 53.03125 \r\nQ 35.6875 53.03125 39.625 51.34375 \r\nQ 43.5625 49.65625 45.515625 46.921875 \r\nQ 47.46875 44.1875 48.25 40.4375 \r\nQ 48.734375 37.984375 48.734375 31.890625 \r\nL 48.734375 0 \r\nL 39.9375 0 \r\nL 39.9375 31.546875 \r\nQ 39.9375 36.921875 38.90625 39.578125 \r\nQ 37.890625 42.234375 35.28125 43.8125 \r\nQ 32.671875 45.40625 29.15625 45.40625 \r\nQ 23.53125 45.40625 19.453125 41.84375 \r\nQ 15.375 38.28125 15.375 28.328125 \r\nL 15.375 0 \r\nz\r\n\" id=\"ArialMT-110\"/>\r\n        <path d=\"M 40.234375 0 \r\nL 40.234375 6.546875 \r\nQ 35.296875 -1.171875 25.734375 -1.171875 \r\nQ 19.53125 -1.171875 14.328125 2.25 \r\nQ 9.125 5.671875 6.265625 11.796875 \r\nQ 3.421875 17.921875 3.421875 25.875 \r\nQ 3.421875 33.640625 6 39.96875 \r\nQ 8.59375 46.296875 13.765625 49.65625 \r\nQ 18.953125 53.03125 25.34375 53.03125 \r\nQ 30.03125 53.03125 33.6875 51.046875 \r\nQ 37.359375 49.078125 39.65625 45.90625 \r\nL 39.65625 71.578125 \r\nL 48.390625 71.578125 \r\nL 48.390625 0 \r\nz\r\nM 12.453125 25.875 \r\nQ 12.453125 15.921875 16.640625 10.984375 \r\nQ 20.84375 6.0625 26.5625 6.0625 \r\nQ 32.328125 6.0625 36.34375 10.765625 \r\nQ 40.375 15.484375 40.375 25.140625 \r\nQ 40.375 35.796875 36.265625 40.765625 \r\nQ 32.171875 45.75 26.171875 45.75 \r\nQ 20.3125 45.75 16.375 40.96875 \r\nQ 12.453125 36.1875 12.453125 25.875 \r\nz\r\n\" id=\"ArialMT-100\"/>\r\n        <path d=\"M 4.984375 -4.296875 \r\nL 13.53125 -5.5625 \r\nQ 14.0625 -9.515625 16.5 -11.328125 \r\nQ 19.78125 -13.765625 25.4375 -13.765625 \r\nQ 31.546875 -13.765625 34.859375 -11.328125 \r\nQ 38.1875 -8.890625 39.359375 -4.5 \r\nQ 40.046875 -1.8125 39.984375 6.78125 \r\nQ 34.234375 0 25.640625 0 \r\nQ 14.9375 0 9.078125 7.71875 \r\nQ 3.21875 15.4375 3.21875 26.21875 \r\nQ 3.21875 33.640625 5.90625 39.90625 \r\nQ 8.59375 46.1875 13.6875 49.609375 \r\nQ 18.796875 53.03125 25.6875 53.03125 \r\nQ 34.859375 53.03125 40.828125 45.609375 \r\nL 40.828125 51.859375 \r\nL 48.921875 51.859375 \r\nL 48.921875 7.03125 \r\nQ 48.921875 -5.078125 46.453125 -10.125 \r\nQ 44 -15.1875 38.640625 -18.109375 \r\nQ 33.296875 -21.046875 25.484375 -21.046875 \r\nQ 16.21875 -21.046875 10.5 -16.875 \r\nQ 4.78125 -12.703125 4.984375 -4.296875 \r\nz\r\nM 12.25 26.859375 \r\nQ 12.25 16.65625 16.296875 11.96875 \r\nQ 20.359375 7.28125 26.46875 7.28125 \r\nQ 32.515625 7.28125 36.609375 11.9375 \r\nQ 40.71875 16.609375 40.71875 26.5625 \r\nQ 40.71875 36.078125 36.5 40.90625 \r\nQ 32.28125 45.75 26.3125 45.75 \r\nQ 20.453125 45.75 16.34375 40.984375 \r\nQ 12.25 36.234375 12.25 26.859375 \r\nz\r\n\" id=\"ArialMT-103\"/>\r\n        <path id=\"ArialMT-32\"/>\r\n        <path d=\"M 40.4375 6.390625 \r\nQ 35.546875 2.25 31.03125 0.53125 \r\nQ 26.515625 -1.171875 21.34375 -1.171875 \r\nQ 12.796875 -1.171875 8.203125 3 \r\nQ 3.609375 7.171875 3.609375 13.671875 \r\nQ 3.609375 17.484375 5.34375 20.625 \r\nQ 7.078125 23.78125 9.890625 25.6875 \r\nQ 12.703125 27.59375 16.21875 28.5625 \r\nQ 18.796875 29.25 24.03125 29.890625 \r\nQ 34.671875 31.15625 39.703125 32.90625 \r\nQ 39.75 34.71875 39.75 35.203125 \r\nQ 39.75 40.578125 37.25 42.78125 \r\nQ 33.890625 45.75 27.25 45.75 \r\nQ 21.046875 45.75 18.09375 43.578125 \r\nQ 15.140625 41.40625 13.71875 35.890625 \r\nL 5.125 37.0625 \r\nQ 6.296875 42.578125 8.984375 45.96875 \r\nQ 11.671875 49.359375 16.75 51.1875 \r\nQ 21.828125 53.03125 28.515625 53.03125 \r\nQ 35.15625 53.03125 39.296875 51.46875 \r\nQ 43.453125 49.90625 45.40625 47.53125 \r\nQ 47.359375 45.171875 48.140625 41.546875 \r\nQ 48.578125 39.3125 48.578125 33.453125 \r\nL 48.578125 21.734375 \r\nQ 48.578125 9.46875 49.140625 6.21875 \r\nQ 49.703125 2.984375 51.375 0 \r\nL 42.1875 0 \r\nQ 40.828125 2.734375 40.4375 6.390625 \r\nz\r\nM 39.703125 26.03125 \r\nQ 34.90625 24.078125 25.34375 22.703125 \r\nQ 19.921875 21.921875 17.671875 20.9375 \r\nQ 15.4375 19.96875 14.203125 18.09375 \r\nQ 12.984375 16.21875 12.984375 13.921875 \r\nQ 12.984375 10.40625 15.640625 8.0625 \r\nQ 18.3125 5.71875 23.4375 5.71875 \r\nQ 28.515625 5.71875 32.46875 7.9375 \r\nQ 36.421875 10.15625 38.28125 14.015625 \r\nQ 39.703125 17 39.703125 22.796875 \r\nz\r\n\" id=\"ArialMT-97\"/>\r\n        <path d=\"M 6.546875 61.375 \r\nL 6.546875 71.578125 \r\nL 15.328125 71.578125 \r\nL 15.328125 61.375 \r\nz\r\nM -4.59375 -20.125 \r\nL -2.9375 -12.640625 \r\nQ -0.296875 -13.328125 1.21875 -13.328125 \r\nQ 3.90625 -13.328125 5.21875 -11.546875 \r\nQ 6.546875 -9.765625 6.546875 -2.640625 \r\nL 6.546875 51.859375 \r\nL 15.328125 51.859375 \r\nL 15.328125 -2.828125 \r\nQ 15.328125 -12.40625 12.84375 -16.15625 \r\nQ 9.671875 -21.046875 2.296875 -21.046875 \r\nQ -1.265625 -21.046875 -4.59375 -20.125 \r\nz\r\n\" id=\"ArialMT-106\"/>\r\n        <path d=\"M 3.328125 25.921875 \r\nQ 3.328125 40.328125 11.328125 47.265625 \r\nQ 18.015625 53.03125 27.640625 53.03125 \r\nQ 38.328125 53.03125 45.109375 46.015625 \r\nQ 51.90625 39.015625 51.90625 26.65625 \r\nQ 51.90625 16.65625 48.90625 10.90625 \r\nQ 45.90625 5.171875 40.15625 2 \r\nQ 34.421875 -1.171875 27.640625 -1.171875 \r\nQ 16.75 -1.171875 10.03125 5.8125 \r\nQ 3.328125 12.796875 3.328125 25.921875 \r\nz\r\nM 12.359375 25.921875 \r\nQ 12.359375 15.96875 16.703125 11.015625 \r\nQ 21.046875 6.0625 27.640625 6.0625 \r\nQ 34.1875 6.0625 38.53125 11.03125 \r\nQ 42.875 16.015625 42.875 26.21875 \r\nQ 42.875 35.84375 38.5 40.796875 \r\nQ 34.125 45.75 27.640625 45.75 \r\nQ 21.046875 45.75 16.703125 40.8125 \r\nQ 12.359375 35.890625 12.359375 25.921875 \r\nz\r\n\" id=\"ArialMT-111\"/>\r\n        <path d=\"M 14.703125 0 \r\nL 6.546875 0 \r\nL 6.546875 71.578125 \r\nL 15.328125 71.578125 \r\nL 15.328125 46.046875 \r\nQ 20.90625 53.03125 29.546875 53.03125 \r\nQ 34.328125 53.03125 38.59375 51.09375 \r\nQ 42.875 49.171875 45.625 45.671875 \r\nQ 48.390625 42.1875 49.953125 37.25 \r\nQ 51.515625 32.328125 51.515625 26.703125 \r\nQ 51.515625 13.375 44.921875 6.09375 \r\nQ 38.328125 -1.171875 29.109375 -1.171875 \r\nQ 19.921875 -1.171875 14.703125 6.5 \r\nz\r\nM 14.59375 26.3125 \r\nQ 14.59375 17 17.140625 12.84375 \r\nQ 21.296875 6.0625 28.375 6.0625 \r\nQ 34.125 6.0625 38.328125 11.0625 \r\nQ 42.53125 16.0625 42.53125 25.984375 \r\nQ 42.53125 36.140625 38.5 40.96875 \r\nQ 34.46875 45.796875 28.765625 45.796875 \r\nQ 23 45.796875 18.796875 40.796875 \r\nQ 14.59375 35.796875 14.59375 26.3125 \r\nz\r\n\" id=\"ArialMT-98\"/>\r\n        <path d=\"M 0 -1.21875 \r\nL 20.75 72.796875 \r\nL 27.78125 72.796875 \r\nL 7.078125 -1.21875 \r\nz\r\n\" id=\"ArialMT-47\"/>\r\n        <path d=\"M 25.78125 7.859375 \r\nL 27.046875 0.09375 \r\nQ 23.34375 -0.6875 20.40625 -0.6875 \r\nQ 15.625 -0.6875 12.984375 0.828125 \r\nQ 10.359375 2.34375 9.28125 4.8125 \r\nQ 8.203125 7.28125 8.203125 15.1875 \r\nL 8.203125 45.015625 \r\nL 1.765625 45.015625 \r\nL 1.765625 51.859375 \r\nL 8.203125 51.859375 \r\nL 8.203125 64.703125 \r\nL 16.9375 69.96875 \r\nL 16.9375 51.859375 \r\nL 25.78125 51.859375 \r\nL 25.78125 45.015625 \r\nL 16.9375 45.015625 \r\nL 16.9375 14.703125 \r\nQ 16.9375 10.9375 17.40625 9.859375 \r\nQ 17.875 8.796875 18.921875 8.15625 \r\nQ 19.96875 7.515625 21.921875 7.515625 \r\nQ 23.390625 7.515625 25.78125 7.859375 \r\nz\r\n\" id=\"ArialMT-116\"/>\r\n        <path d=\"M 42.09375 16.703125 \r\nL 51.171875 15.578125 \r\nQ 49.03125 7.625 43.21875 3.21875 \r\nQ 37.40625 -1.171875 28.375 -1.171875 \r\nQ 17 -1.171875 10.328125 5.828125 \r\nQ 3.65625 12.84375 3.65625 25.484375 \r\nQ 3.65625 38.578125 10.390625 45.796875 \r\nQ 17.140625 53.03125 27.875 53.03125 \r\nQ 38.28125 53.03125 44.875 45.953125 \r\nQ 51.46875 38.875 51.46875 26.03125 \r\nQ 51.46875 25.25 51.421875 23.6875 \r\nL 12.75 23.6875 \r\nQ 13.234375 15.140625 17.578125 10.59375 \r\nQ 21.921875 6.0625 28.421875 6.0625 \r\nQ 33.25 6.0625 36.671875 8.59375 \r\nQ 40.09375 11.140625 42.09375 16.703125 \r\nz\r\nM 13.234375 30.90625 \r\nL 42.1875 30.90625 \r\nQ 41.609375 37.453125 38.875 40.71875 \r\nQ 34.671875 45.796875 27.984375 45.796875 \r\nQ 21.921875 45.796875 17.796875 41.75 \r\nQ 13.671875 37.703125 13.234375 30.90625 \r\nz\r\n\" id=\"ArialMT-101\"/>\r\n        <path d=\"M 6.5 0 \r\nL 6.5 51.859375 \r\nL 14.40625 51.859375 \r\nL 14.40625 44 \r\nQ 17.4375 49.515625 20 51.265625 \r\nQ 22.5625 53.03125 25.640625 53.03125 \r\nQ 30.078125 53.03125 34.671875 50.203125 \r\nL 31.640625 42.046875 \r\nQ 28.421875 43.953125 25.203125 43.953125 \r\nQ 22.3125 43.953125 20.015625 42.21875 \r\nQ 17.71875 40.484375 16.75 37.40625 \r\nQ 15.28125 32.71875 15.28125 27.15625 \r\nL 15.28125 0 \r\nz\r\n\" id=\"ArialMT-114\"/>\r\n        <path d=\"M 3.078125 15.484375 \r\nL 11.765625 16.84375 \r\nQ 12.5 11.625 15.84375 8.84375 \r\nQ 19.1875 6.0625 25.203125 6.0625 \r\nQ 31.25 6.0625 34.171875 8.515625 \r\nQ 37.109375 10.984375 37.109375 14.3125 \r\nQ 37.109375 17.28125 34.515625 19 \r\nQ 32.71875 20.171875 25.53125 21.96875 \r\nQ 15.875 24.421875 12.140625 26.203125 \r\nQ 8.40625 27.984375 6.46875 31.125 \r\nQ 4.546875 34.28125 4.546875 38.09375 \r\nQ 4.546875 41.546875 6.125 44.5 \r\nQ 7.71875 47.46875 10.453125 49.421875 \r\nQ 12.5 50.921875 16.03125 51.96875 \r\nQ 19.578125 53.03125 23.640625 53.03125 \r\nQ 29.734375 53.03125 34.34375 51.265625 \r\nQ 38.96875 49.515625 41.15625 46.5 \r\nQ 43.359375 43.5 44.1875 38.484375 \r\nL 35.59375 37.3125 \r\nQ 35.015625 41.3125 32.203125 43.546875 \r\nQ 29.390625 45.796875 24.265625 45.796875 \r\nQ 18.21875 45.796875 15.625 43.796875 \r\nQ 13.03125 41.796875 13.03125 39.109375 \r\nQ 13.03125 37.40625 14.109375 36.03125 \r\nQ 15.1875 34.625 17.484375 33.6875 \r\nQ 18.796875 33.203125 25.25 31.453125 \r\nQ 34.578125 28.953125 38.25 27.359375 \r\nQ 41.9375 25.78125 44.03125 22.75 \r\nQ 46.140625 19.734375 46.140625 15.234375 \r\nQ 46.140625 10.84375 43.578125 6.953125 \r\nQ 41.015625 3.078125 36.171875 0.953125 \r\nQ 31.34375 -1.171875 25.25 -1.171875 \r\nQ 15.140625 -1.171875 9.84375 3.03125 \r\nQ 4.546875 7.234375 3.078125 15.484375 \r\nz\r\n\" id=\"ArialMT-115\"/>\r\n        <path d=\"M 6.59375 0 \r\nL 6.59375 71.578125 \r\nL 15.375 71.578125 \r\nL 15.375 45.90625 \r\nQ 21.53125 53.03125 30.90625 53.03125 \r\nQ 36.671875 53.03125 40.921875 50.75 \r\nQ 45.171875 48.484375 47 44.484375 \r\nQ 48.828125 40.484375 48.828125 32.859375 \r\nL 48.828125 0 \r\nL 40.046875 0 \r\nL 40.046875 32.859375 \r\nQ 40.046875 39.453125 37.1875 42.453125 \r\nQ 34.328125 45.453125 29.109375 45.453125 \r\nQ 25.203125 45.453125 21.75 43.421875 \r\nQ 18.3125 41.40625 16.84375 37.9375 \r\nQ 15.375 34.46875 15.375 28.375 \r\nL 15.375 0 \r\nz\r\n\" id=\"ArialMT-104\"/>\r\n        <path d=\"M 6.59375 -19.875 \r\nL 6.59375 51.859375 \r\nL 14.59375 51.859375 \r\nL 14.59375 45.125 \r\nQ 17.4375 49.078125 21 51.046875 \r\nQ 24.5625 53.03125 29.640625 53.03125 \r\nQ 36.28125 53.03125 41.359375 49.609375 \r\nQ 46.4375 46.1875 49.015625 39.953125 \r\nQ 51.609375 33.734375 51.609375 26.3125 \r\nQ 51.609375 18.359375 48.75 11.984375 \r\nQ 45.90625 5.609375 40.453125 2.21875 \r\nQ 35.015625 -1.171875 29 -1.171875 \r\nQ 24.609375 -1.171875 21.109375 0.6875 \r\nQ 17.625 2.546875 15.375 5.375 \r\nL 15.375 -19.875 \r\nz\r\nM 14.546875 25.640625 \r\nQ 14.546875 15.625 18.59375 10.84375 \r\nQ 22.65625 6.0625 28.421875 6.0625 \r\nQ 34.28125 6.0625 38.453125 11.015625 \r\nQ 42.625 15.96875 42.625 26.375 \r\nQ 42.625 36.28125 38.546875 41.203125 \r\nQ 34.46875 46.140625 28.8125 46.140625 \r\nQ 23.1875 46.140625 18.859375 40.890625 \r\nQ 14.546875 35.640625 14.546875 25.640625 \r\nz\r\n\" id=\"ArialMT-112\"/>\r\n       </defs>\r\n       <use xlink:href=\"#ArialMT-70\"/>\r\n       <use x=\"61.083984\" xlink:href=\"#ArialMT-105\"/>\r\n       <use x=\"83.300781\" xlink:href=\"#ArialMT-110\"/>\r\n       <use x=\"138.916016\" xlink:href=\"#ArialMT-100\"/>\r\n       <use x=\"194.53125\" xlink:href=\"#ArialMT-105\"/>\r\n       <use x=\"216.748047\" xlink:href=\"#ArialMT-110\"/>\r\n       <use x=\"272.363281\" xlink:href=\"#ArialMT-103\"/>\r\n       <use x=\"327.978516\" xlink:href=\"#ArialMT-32\"/>\r\n       <use x=\"355.761719\" xlink:href=\"#ArialMT-97\"/>\r\n       <use x=\"411.376953\" xlink:href=\"#ArialMT-32\"/>\r\n       <use x=\"439.160156\" xlink:href=\"#ArialMT-106\"/>\r\n       <use x=\"461.376953\" xlink:href=\"#ArialMT-111\"/>\r\n       <use x=\"516.992188\" xlink:href=\"#ArialMT-98\"/>\r\n       <use x=\"572.607422\" xlink:href=\"#ArialMT-47\"/>\r\n       <use x=\"600.390625\" xlink:href=\"#ArialMT-105\"/>\r\n       <use x=\"622.607422\" xlink:href=\"#ArialMT-110\"/>\r\n       <use x=\"678.222656\" xlink:href=\"#ArialMT-116\"/>\r\n       <use x=\"706.005859\" xlink:href=\"#ArialMT-101\"/>\r\n       <use x=\"761.621094\" xlink:href=\"#ArialMT-114\"/>\r\n       <use x=\"794.921875\" xlink:href=\"#ArialMT-110\"/>\r\n       <use x=\"850.537109\" xlink:href=\"#ArialMT-115\"/>\r\n       <use x=\"900.537109\" xlink:href=\"#ArialMT-104\"/>\r\n       <use x=\"956.152344\" xlink:href=\"#ArialMT-105\"/>\r\n       <use x=\"978.369141\" xlink:href=\"#ArialMT-112\"/>\r\n      </g>\r\n     </g>\r\n    </g>\r\n    <g id=\"xtick_2\">\r\n     <g id=\"line2d_2\">\r\n      <path clip-path=\"url(#p4b86ed4482)\" d=\"M 60.722458 253.44 \r\nL 60.722458 36 \r\n\" style=\"fill:none;stroke:#ffffff;stroke-linecap:round;stroke-width:0.8;\"/>\r\n     </g>\r\n     <g id=\"text_2\">\r\n      <!-- Improving my data analysis skills -->\r\n      <g style=\"fill:#262626;\" transform=\"translate(63.249021 406.038437)rotate(-90)scale(0.1 -0.1)\">\r\n       <defs>\r\n        <path d=\"M 9.328125 0 \r\nL 9.328125 71.578125 \r\nL 18.796875 71.578125 \r\nL 18.796875 0 \r\nz\r\n\" id=\"ArialMT-73\"/>\r\n        <path d=\"M 6.59375 0 \r\nL 6.59375 51.859375 \r\nL 14.453125 51.859375 \r\nL 14.453125 44.578125 \r\nQ 16.890625 48.390625 20.9375 50.703125 \r\nQ 25 53.03125 30.171875 53.03125 \r\nQ 35.9375 53.03125 39.625 50.640625 \r\nQ 43.3125 48.25 44.828125 43.953125 \r\nQ 50.984375 53.03125 60.84375 53.03125 \r\nQ 68.5625 53.03125 72.703125 48.75 \r\nQ 76.859375 44.484375 76.859375 35.59375 \r\nL 76.859375 0 \r\nL 68.109375 0 \r\nL 68.109375 32.671875 \r\nQ 68.109375 37.9375 67.25 40.25 \r\nQ 66.40625 42.578125 64.15625 43.984375 \r\nQ 61.921875 45.40625 58.890625 45.40625 \r\nQ 53.421875 45.40625 49.796875 41.765625 \r\nQ 46.1875 38.140625 46.1875 30.125 \r\nL 46.1875 0 \r\nL 37.40625 0 \r\nL 37.40625 33.6875 \r\nQ 37.40625 39.546875 35.25 42.46875 \r\nQ 33.109375 45.40625 28.21875 45.40625 \r\nQ 24.515625 45.40625 21.359375 43.453125 \r\nQ 18.21875 41.5 16.796875 37.734375 \r\nQ 15.375 33.984375 15.375 26.90625 \r\nL 15.375 0 \r\nz\r\n\" id=\"ArialMT-109\"/>\r\n        <path d=\"M 21 0 \r\nL 1.265625 51.859375 \r\nL 10.546875 51.859375 \r\nL 21.6875 20.796875 \r\nQ 23.484375 15.765625 25 10.359375 \r\nQ 26.171875 14.453125 28.265625 20.21875 \r\nL 39.796875 51.859375 \r\nL 48.828125 51.859375 \r\nL 29.203125 0 \r\nz\r\n\" id=\"ArialMT-118\"/>\r\n        <path d=\"M 6.203125 -19.96875 \r\nL 5.21875 -11.71875 \r\nQ 8.109375 -12.5 10.25 -12.5 \r\nQ 13.1875 -12.5 14.9375 -11.515625 \r\nQ 16.703125 -10.546875 17.828125 -8.796875 \r\nQ 18.65625 -7.46875 20.515625 -2.25 \r\nQ 20.75 -1.515625 21.296875 -0.09375 \r\nL 1.609375 51.859375 \r\nL 11.078125 51.859375 \r\nL 21.875 21.828125 \r\nQ 23.96875 16.109375 25.640625 9.8125 \r\nQ 27.15625 15.875 29.25 21.625 \r\nL 40.328125 51.859375 \r\nL 49.125 51.859375 \r\nL 29.390625 -0.875 \r\nQ 26.21875 -9.421875 24.46875 -12.640625 \r\nQ 22.125 -17 19.09375 -19.015625 \r\nQ 16.0625 -21.046875 11.859375 -21.046875 \r\nQ 9.328125 -21.046875 6.203125 -19.96875 \r\nz\r\n\" id=\"ArialMT-121\"/>\r\n        <path d=\"M 6.390625 0 \r\nL 6.390625 71.578125 \r\nL 15.1875 71.578125 \r\nL 15.1875 0 \r\nz\r\n\" id=\"ArialMT-108\"/>\r\n        <path d=\"M 6.640625 0 \r\nL 6.640625 71.578125 \r\nL 15.4375 71.578125 \r\nL 15.4375 30.765625 \r\nL 36.234375 51.859375 \r\nL 47.609375 51.859375 \r\nL 27.78125 32.625 \r\nL 49.609375 0 \r\nL 38.765625 0 \r\nL 21.625 26.515625 \r\nL 15.4375 20.5625 \r\nL 15.4375 0 \r\nz\r\n\" id=\"ArialMT-107\"/>\r\n       </defs>\r\n       <use xlink:href=\"#ArialMT-73\"/>\r\n       <use x=\"27.783203\" xlink:href=\"#ArialMT-109\"/>\r\n       <use x=\"111.083984\" xlink:href=\"#ArialMT-112\"/>\r\n       <use x=\"166.699219\" xlink:href=\"#ArialMT-114\"/>\r\n       <use x=\"200\" xlink:href=\"#ArialMT-111\"/>\r\n       <use x=\"255.615234\" xlink:href=\"#ArialMT-118\"/>\r\n       <use x=\"305.615234\" xlink:href=\"#ArialMT-105\"/>\r\n       <use x=\"327.832031\" xlink:href=\"#ArialMT-110\"/>\r\n       <use x=\"383.447266\" xlink:href=\"#ArialMT-103\"/>\r\n       <use x=\"439.0625\" xlink:href=\"#ArialMT-32\"/>\r\n       <use x=\"466.845703\" xlink:href=\"#ArialMT-109\"/>\r\n       <use x=\"550.146484\" xlink:href=\"#ArialMT-121\"/>\r\n       <use x=\"600.146484\" xlink:href=\"#ArialMT-32\"/>\r\n       <use x=\"627.929688\" xlink:href=\"#ArialMT-100\"/>\r\n       <use x=\"683.544922\" xlink:href=\"#ArialMT-97\"/>\r\n       <use x=\"739.160156\" xlink:href=\"#ArialMT-116\"/>\r\n       <use x=\"766.943359\" xlink:href=\"#ArialMT-97\"/>\r\n       <use x=\"822.558594\" xlink:href=\"#ArialMT-32\"/>\r\n       <use x=\"850.341797\" xlink:href=\"#ArialMT-97\"/>\r\n       <use x=\"905.957031\" xlink:href=\"#ArialMT-110\"/>\r\n       <use x=\"961.572266\" xlink:href=\"#ArialMT-97\"/>\r\n       <use x=\"1017.1875\" xlink:href=\"#ArialMT-108\"/>\r\n       <use x=\"1039.404297\" xlink:href=\"#ArialMT-121\"/>\r\n       <use x=\"1089.404297\" xlink:href=\"#ArialMT-115\"/>\r\n       <use x=\"1139.404297\" xlink:href=\"#ArialMT-105\"/>\r\n       <use x=\"1161.621094\" xlink:href=\"#ArialMT-115\"/>\r\n       <use x=\"1211.621094\" xlink:href=\"#ArialMT-32\"/>\r\n       <use x=\"1239.404297\" xlink:href=\"#ArialMT-115\"/>\r\n       <use x=\"1289.404297\" xlink:href=\"#ArialMT-107\"/>\r\n       <use x=\"1339.404297\" xlink:href=\"#ArialMT-105\"/>\r\n       <use x=\"1361.621094\" xlink:href=\"#ArialMT-108\"/>\r\n       <use x=\"1383.837891\" xlink:href=\"#ArialMT-108\"/>\r\n       <use x=\"1406.054688\" xlink:href=\"#ArialMT-115\"/>\r\n      </g>\r\n     </g>\r\n    </g>\r\n    <g id=\"xtick_3\">\r\n     <g id=\"line2d_3\">\r\n      <path clip-path=\"url(#p4b86ed4482)\" d=\"M 81.067621 253.44 \r\nL 81.067621 36 \r\n\" style=\"fill:none;stroke:#ffffff;stroke-linecap:round;stroke-width:0.8;\"/>\r\n     </g>\r\n     <g id=\"text_3\">\r\n      <!-- Mentorship -->\r\n      <g style=\"fill:#262626;\" transform=\"translate(83.652777 309.904062)rotate(-90)scale(0.1 -0.1)\">\r\n       <defs>\r\n        <path d=\"M 7.421875 0 \r\nL 7.421875 71.578125 \r\nL 21.6875 71.578125 \r\nL 38.625 20.90625 \r\nQ 40.96875 13.8125 42.046875 10.296875 \r\nQ 43.265625 14.203125 45.84375 21.78125 \r\nL 62.984375 71.578125 \r\nL 75.734375 71.578125 \r\nL 75.734375 0 \r\nL 66.609375 0 \r\nL 66.609375 59.90625 \r\nL 45.796875 0 \r\nL 37.25 0 \r\nL 16.546875 60.9375 \r\nL 16.546875 0 \r\nz\r\n\" id=\"ArialMT-77\"/>\r\n       </defs>\r\n       <use xlink:href=\"#ArialMT-77\"/>\r\n       <use x=\"83.300781\" xlink:href=\"#ArialMT-101\"/>\r\n       <use x=\"138.916016\" xlink:href=\"#ArialMT-110\"/>\r\n       <use x=\"194.53125\" xlink:href=\"#ArialMT-116\"/>\r\n       <use x=\"222.314453\" xlink:href=\"#ArialMT-111\"/>\r\n       <use x=\"277.929688\" xlink:href=\"#ArialMT-114\"/>\r\n       <use x=\"311.230469\" xlink:href=\"#ArialMT-115\"/>\r\n       <use x=\"361.230469\" xlink:href=\"#ArialMT-104\"/>\r\n       <use x=\"416.845703\" xlink:href=\"#ArialMT-105\"/>\r\n       <use x=\"439.0625\" xlink:href=\"#ArialMT-112\"/>\r\n      </g>\r\n     </g>\r\n    </g>\r\n    <g id=\"xtick_4\">\r\n     <g id=\"line2d_4\">\r\n      <path clip-path=\"url(#p4b86ed4482)\" d=\"M 101.412784 253.44 \r\nL 101.412784 36 \r\n\" style=\"fill:none;stroke:#ffffff;stroke-linecap:round;stroke-width:0.8;\"/>\r\n     </g>\r\n     <g id=\"text_4\">\r\n      <!-- Switching careers -->\r\n      <g style=\"fill:#262626;\" transform=\"translate(104.000284 339.357187)rotate(-90)scale(0.1 -0.1)\">\r\n       <defs>\r\n        <path d=\"M 4.5 23 \r\nL 13.421875 23.78125 \r\nQ 14.0625 18.40625 16.375 14.96875 \r\nQ 18.703125 11.53125 23.578125 9.40625 \r\nQ 28.46875 7.28125 34.578125 7.28125 \r\nQ 39.984375 7.28125 44.140625 8.890625 \r\nQ 48.296875 10.5 50.3125 13.296875 \r\nQ 52.34375 16.109375 52.34375 19.4375 \r\nQ 52.34375 22.796875 50.390625 25.3125 \r\nQ 48.4375 27.828125 43.953125 29.546875 \r\nQ 41.0625 30.671875 31.203125 33.03125 \r\nQ 21.34375 35.40625 17.390625 37.5 \r\nQ 12.25 40.1875 9.734375 44.15625 \r\nQ 7.234375 48.140625 7.234375 53.078125 \r\nQ 7.234375 58.5 10.296875 63.203125 \r\nQ 13.375 67.921875 19.28125 70.359375 \r\nQ 25.203125 72.796875 32.421875 72.796875 \r\nQ 40.375 72.796875 46.453125 70.234375 \r\nQ 52.546875 67.671875 55.8125 62.6875 \r\nQ 59.078125 57.71875 59.328125 51.421875 \r\nL 50.25 50.734375 \r\nQ 49.515625 57.515625 45.28125 60.984375 \r\nQ 41.0625 64.453125 32.8125 64.453125 \r\nQ 24.21875 64.453125 20.28125 61.296875 \r\nQ 16.359375 58.15625 16.359375 53.71875 \r\nQ 16.359375 49.859375 19.140625 47.359375 \r\nQ 21.875 44.875 33.421875 42.265625 \r\nQ 44.96875 39.65625 49.265625 37.703125 \r\nQ 55.515625 34.8125 58.484375 30.390625 \r\nQ 61.46875 25.984375 61.46875 20.21875 \r\nQ 61.46875 14.5 58.203125 9.4375 \r\nQ 54.9375 4.390625 48.796875 1.578125 \r\nQ 42.671875 -1.21875 35.015625 -1.21875 \r\nQ 25.296875 -1.21875 18.71875 1.609375 \r\nQ 12.15625 4.4375 8.421875 10.125 \r\nQ 4.6875 15.828125 4.5 23 \r\nz\r\n\" id=\"ArialMT-83\"/>\r\n        <path d=\"M 16.15625 0 \r\nL 0.296875 51.859375 \r\nL 9.375 51.859375 \r\nL 17.625 21.921875 \r\nL 20.703125 10.796875 \r\nQ 20.90625 11.625 23.390625 21.484375 \r\nL 31.640625 51.859375 \r\nL 40.671875 51.859375 \r\nL 48.4375 21.78125 \r\nL 51.03125 11.859375 \r\nL 54 21.875 \r\nL 62.890625 51.859375 \r\nL 71.4375 51.859375 \r\nL 55.21875 0 \r\nL 46.09375 0 \r\nL 37.84375 31.0625 \r\nL 35.84375 39.890625 \r\nL 25.34375 0 \r\nz\r\n\" id=\"ArialMT-119\"/>\r\n        <path d=\"M 40.4375 19 \r\nL 49.078125 17.875 \r\nQ 47.65625 8.9375 41.8125 3.875 \r\nQ 35.984375 -1.171875 27.484375 -1.171875 \r\nQ 16.84375 -1.171875 10.375 5.78125 \r\nQ 3.90625 12.75 3.90625 25.734375 \r\nQ 3.90625 34.125 6.6875 40.421875 \r\nQ 9.46875 46.734375 15.15625 49.875 \r\nQ 20.84375 53.03125 27.546875 53.03125 \r\nQ 35.984375 53.03125 41.359375 48.75 \r\nQ 46.734375 44.484375 48.25 36.625 \r\nL 39.703125 35.296875 \r\nQ 38.484375 40.53125 35.375 43.15625 \r\nQ 32.28125 45.796875 27.875 45.796875 \r\nQ 21.234375 45.796875 17.078125 41.03125 \r\nQ 12.9375 36.28125 12.9375 25.984375 \r\nQ 12.9375 15.53125 16.9375 10.796875 \r\nQ 20.953125 6.0625 27.390625 6.0625 \r\nQ 32.5625 6.0625 36.03125 9.234375 \r\nQ 39.5 12.40625 40.4375 19 \r\nz\r\n\" id=\"ArialMT-99\"/>\r\n       </defs>\r\n       <use xlink:href=\"#ArialMT-83\"/>\r\n       <use x=\"66.699219\" xlink:href=\"#ArialMT-119\"/>\r\n       <use x=\"138.916016\" xlink:href=\"#ArialMT-105\"/>\r\n       <use x=\"161.132812\" xlink:href=\"#ArialMT-116\"/>\r\n       <use x=\"188.916016\" xlink:href=\"#ArialMT-99\"/>\r\n       <use x=\"238.916016\" xlink:href=\"#ArialMT-104\"/>\r\n       <use x=\"294.53125\" xlink:href=\"#ArialMT-105\"/>\r\n       <use x=\"316.748047\" xlink:href=\"#ArialMT-110\"/>\r\n       <use x=\"372.363281\" xlink:href=\"#ArialMT-103\"/>\r\n       <use x=\"427.978516\" xlink:href=\"#ArialMT-32\"/>\r\n       <use x=\"455.761719\" xlink:href=\"#ArialMT-99\"/>\r\n       <use x=\"505.761719\" xlink:href=\"#ArialMT-97\"/>\r\n       <use x=\"561.376953\" xlink:href=\"#ArialMT-114\"/>\r\n       <use x=\"594.677734\" xlink:href=\"#ArialMT-101\"/>\r\n       <use x=\"650.292969\" xlink:href=\"#ArialMT-101\"/>\r\n       <use x=\"705.908203\" xlink:href=\"#ArialMT-114\"/>\r\n       <use x=\"739.208984\" xlink:href=\"#ArialMT-115\"/>\r\n      </g>\r\n     </g>\r\n    </g>\r\n    <g id=\"xtick_5\">\r\n     <g id=\"line2d_5\">\r\n      <path clip-path=\"url(#p4b86ed4482)\" d=\"M 121.757947 253.44 \r\nL 121.757947 36 \r\n\" style=\"fill:none;stroke:#ffffff;stroke-linecap:round;stroke-width:0.8;\"/>\r\n     </g>\r\n     <g id=\"text_5\">\r\n      <!-- Training to start my own company -->\r\n      <g style=\"fill:#262626;\" transform=\"translate(124.284509 410.113437)rotate(-90)scale(0.1 -0.1)\">\r\n       <defs>\r\n        <path d=\"M 25.921875 0 \r\nL 25.921875 63.140625 \r\nL 2.34375 63.140625 \r\nL 2.34375 71.578125 \r\nL 59.078125 71.578125 \r\nL 59.078125 63.140625 \r\nL 35.40625 63.140625 \r\nL 35.40625 0 \r\nz\r\n\" id=\"ArialMT-84\"/>\r\n       </defs>\r\n       <use xlink:href=\"#ArialMT-84\"/>\r\n       <use x=\"57.333984\" xlink:href=\"#ArialMT-114\"/>\r\n       <use x=\"90.634766\" xlink:href=\"#ArialMT-97\"/>\r\n       <use x=\"146.25\" xlink:href=\"#ArialMT-105\"/>\r\n       <use x=\"168.466797\" xlink:href=\"#ArialMT-110\"/>\r\n       <use x=\"224.082031\" xlink:href=\"#ArialMT-105\"/>\r\n       <use x=\"246.298828\" xlink:href=\"#ArialMT-110\"/>\r\n       <use x=\"301.914062\" xlink:href=\"#ArialMT-103\"/>\r\n       <use x=\"357.529297\" xlink:href=\"#ArialMT-32\"/>\r\n       <use x=\"385.3125\" xlink:href=\"#ArialMT-116\"/>\r\n       <use x=\"413.095703\" xlink:href=\"#ArialMT-111\"/>\r\n       <use x=\"468.710938\" xlink:href=\"#ArialMT-32\"/>\r\n       <use x=\"496.494141\" xlink:href=\"#ArialMT-115\"/>\r\n       <use x=\"546.494141\" xlink:href=\"#ArialMT-116\"/>\r\n       <use x=\"574.277344\" xlink:href=\"#ArialMT-97\"/>\r\n       <use x=\"629.892578\" xlink:href=\"#ArialMT-114\"/>\r\n       <use x=\"663.193359\" xlink:href=\"#ArialMT-116\"/>\r\n       <use x=\"690.976562\" xlink:href=\"#ArialMT-32\"/>\r\n       <use x=\"718.759766\" xlink:href=\"#ArialMT-109\"/>\r\n       <use x=\"802.060547\" xlink:href=\"#ArialMT-121\"/>\r\n       <use x=\"852.060547\" xlink:href=\"#ArialMT-32\"/>\r\n       <use x=\"879.84375\" xlink:href=\"#ArialMT-111\"/>\r\n       <use x=\"935.458984\" xlink:href=\"#ArialMT-119\"/>\r\n       <use x=\"1007.675781\" xlink:href=\"#ArialMT-110\"/>\r\n       <use x=\"1063.291016\" xlink:href=\"#ArialMT-32\"/>\r\n       <use x=\"1091.074219\" xlink:href=\"#ArialMT-99\"/>\r\n       <use x=\"1141.074219\" xlink:href=\"#ArialMT-111\"/>\r\n       <use x=\"1196.689453\" xlink:href=\"#ArialMT-109\"/>\r\n       <use x=\"1279.990234\" xlink:href=\"#ArialMT-112\"/>\r\n       <use x=\"1335.605469\" xlink:href=\"#ArialMT-97\"/>\r\n       <use x=\"1391.220703\" xlink:href=\"#ArialMT-110\"/>\r\n       <use x=\"1446.835938\" xlink:href=\"#ArialMT-121\"/>\r\n      </g>\r\n     </g>\r\n    </g>\r\n    <g id=\"xtick_6\">\r\n     <g id=\"line2d_6\">\r\n      <path clip-path=\"url(#p4b86ed4482)\" d=\"M 142.10311 253.44 \r\nL 142.10311 36 \r\n\" style=\"fill:none;stroke:#ffffff;stroke-linecap:round;stroke-width:0.8;\"/>\r\n     </g>\r\n     <g id=\"text_6\">\r\n      <!-- other -->\r\n      <g style=\"fill:#262626;\" transform=\"translate(144.688266 283.230625)rotate(-90)scale(0.1 -0.1)\">\r\n       <use xlink:href=\"#ArialMT-111\"/>\r\n       <use x=\"55.615234\" xlink:href=\"#ArialMT-116\"/>\r\n       <use x=\"83.398438\" xlink:href=\"#ArialMT-104\"/>\r\n       <use x=\"139.013672\" xlink:href=\"#ArialMT-101\"/>\r\n       <use x=\"194.628906\" xlink:href=\"#ArialMT-114\"/>\r\n      </g>\r\n     </g>\r\n    </g>\r\n    <g id=\"xtick_7\">\r\n     <g id=\"line2d_7\">\r\n      <path clip-path=\"url(#p4b86ed4482)\" d=\"M 162.448273 253.44 \r\nL 162.448273 36 \r\n\" style=\"fill:none;stroke:#ffffff;stroke-linecap:round;stroke-width:0.8;\"/>\r\n     </g>\r\n     <g id=\"text_7\">\r\n      <!-- unknown -->\r\n      <g style=\"fill:#262626;\" transform=\"translate(165.033429 300.466562)rotate(-90)scale(0.1 -0.1)\">\r\n       <defs>\r\n        <path d=\"M 40.578125 0 \r\nL 40.578125 7.625 \r\nQ 34.515625 -1.171875 24.125 -1.171875 \r\nQ 19.53125 -1.171875 15.546875 0.578125 \r\nQ 11.578125 2.34375 9.640625 5 \r\nQ 7.71875 7.671875 6.9375 11.53125 \r\nQ 6.390625 14.109375 6.390625 19.734375 \r\nL 6.390625 51.859375 \r\nL 15.1875 51.859375 \r\nL 15.1875 23.09375 \r\nQ 15.1875 16.21875 15.71875 13.8125 \r\nQ 16.546875 10.359375 19.234375 8.375 \r\nQ 21.921875 6.390625 25.875 6.390625 \r\nQ 29.828125 6.390625 33.296875 8.421875 \r\nQ 36.765625 10.453125 38.203125 13.9375 \r\nQ 39.65625 17.4375 39.65625 24.078125 \r\nL 39.65625 51.859375 \r\nL 48.4375 51.859375 \r\nL 48.4375 0 \r\nz\r\n\" id=\"ArialMT-117\"/>\r\n       </defs>\r\n       <use xlink:href=\"#ArialMT-117\"/>\r\n       <use x=\"55.615234\" xlink:href=\"#ArialMT-110\"/>\r\n       <use x=\"111.230469\" xlink:href=\"#ArialMT-107\"/>\r\n       <use x=\"161.230469\" xlink:href=\"#ArialMT-110\"/>\r\n       <use x=\"216.845703\" xlink:href=\"#ArialMT-111\"/>\r\n       <use x=\"272.460938\" xlink:href=\"#ArialMT-119\"/>\r\n       <use x=\"344.677734\" xlink:href=\"#ArialMT-110\"/>\r\n      </g>\r\n     </g>\r\n    </g>\r\n   </g>\r\n   <g id=\"matplotlib.axis_2\">\r\n    <g id=\"ytick_1\">\r\n     <g id=\"line2d_8\">\r\n      <path clip-path=\"url(#p4b86ed4482)\" d=\"M 25.321875 253.44 \r\nL 177.503693 253.44 \r\n\" style=\"fill:none;stroke:#ffffff;stroke-linecap:round;stroke-width:0.8;\"/>\r\n     </g>\r\n     <g id=\"text_8\">\r\n      <!-- 0 -->\r\n      <g style=\"fill:#262626;\" transform=\"translate(12.760938 257.018906)scale(0.1 -0.1)\">\r\n       <defs>\r\n        <path d=\"M 4.15625 35.296875 \r\nQ 4.15625 48 6.765625 55.734375 \r\nQ 9.375 63.484375 14.515625 67.671875 \r\nQ 19.671875 71.875 27.484375 71.875 \r\nQ 33.25 71.875 37.59375 69.546875 \r\nQ 41.9375 67.234375 44.765625 62.859375 \r\nQ 47.609375 58.5 49.21875 52.21875 \r\nQ 50.828125 45.953125 50.828125 35.296875 \r\nQ 50.828125 22.703125 48.234375 14.96875 \r\nQ 45.65625 7.234375 40.5 3 \r\nQ 35.359375 -1.21875 27.484375 -1.21875 \r\nQ 17.140625 -1.21875 11.234375 6.203125 \r\nQ 4.15625 15.140625 4.15625 35.296875 \r\nz\r\nM 13.1875 35.296875 \r\nQ 13.1875 17.671875 17.3125 11.828125 \r\nQ 21.4375 6 27.484375 6 \r\nQ 33.546875 6 37.671875 11.859375 \r\nQ 41.796875 17.71875 41.796875 35.296875 \r\nQ 41.796875 52.984375 37.671875 58.78125 \r\nQ 33.546875 64.59375 27.390625 64.59375 \r\nQ 21.34375 64.59375 17.71875 59.46875 \r\nQ 13.1875 52.9375 13.1875 35.296875 \r\nz\r\n\" id=\"ArialMT-48\"/>\r\n       </defs>\r\n       <use xlink:href=\"#ArialMT-48\"/>\r\n      </g>\r\n     </g>\r\n    </g>\r\n    <g id=\"ytick_2\">\r\n     <g id=\"line2d_9\">\r\n      <path clip-path=\"url(#p4b86ed4482)\" d=\"M 25.321875 208.421366 \r\nL 177.503693 208.421366 \r\n\" style=\"fill:none;stroke:#ffffff;stroke-linecap:round;stroke-width:0.8;\"/>\r\n     </g>\r\n     <g id=\"text_9\">\r\n      <!-- 5 -->\r\n      <g style=\"fill:#262626;\" transform=\"translate(12.760938 212.000273)scale(0.1 -0.1)\">\r\n       <defs>\r\n        <path d=\"M 4.15625 18.75 \r\nL 13.375 19.53125 \r\nQ 14.40625 12.796875 18.140625 9.390625 \r\nQ 21.875 6 27.15625 6 \r\nQ 33.5 6 37.890625 10.78125 \r\nQ 42.28125 15.578125 42.28125 23.484375 \r\nQ 42.28125 31 38.0625 35.34375 \r\nQ 33.84375 39.703125 27 39.703125 \r\nQ 22.75 39.703125 19.328125 37.765625 \r\nQ 15.921875 35.84375 13.96875 32.765625 \r\nL 5.71875 33.84375 \r\nL 12.640625 70.609375 \r\nL 48.25 70.609375 \r\nL 48.25 62.203125 \r\nL 19.671875 62.203125 \r\nL 15.828125 42.96875 \r\nQ 22.265625 47.46875 29.34375 47.46875 \r\nQ 38.71875 47.46875 45.15625 40.96875 \r\nQ 51.609375 34.46875 51.609375 24.265625 \r\nQ 51.609375 14.546875 45.953125 7.46875 \r\nQ 39.0625 -1.21875 27.15625 -1.21875 \r\nQ 17.390625 -1.21875 11.203125 4.25 \r\nQ 5.03125 9.71875 4.15625 18.75 \r\nz\r\n\" id=\"ArialMT-53\"/>\r\n       </defs>\r\n       <use xlink:href=\"#ArialMT-53\"/>\r\n      </g>\r\n     </g>\r\n    </g>\r\n    <g id=\"ytick_3\">\r\n     <g id=\"line2d_10\">\r\n      <path clip-path=\"url(#p4b86ed4482)\" d=\"M 25.321875 163.402733 \r\nL 177.503693 163.402733 \r\n\" style=\"fill:none;stroke:#ffffff;stroke-linecap:round;stroke-width:0.8;\"/>\r\n     </g>\r\n     <g id=\"text_10\">\r\n      <!-- 10 -->\r\n      <g style=\"fill:#262626;\" transform=\"translate(7.2 166.981639)scale(0.1 -0.1)\">\r\n       <defs>\r\n        <path d=\"M 37.25 0 \r\nL 28.46875 0 \r\nL 28.46875 56 \r\nQ 25.296875 52.984375 20.140625 49.953125 \r\nQ 14.984375 46.921875 10.890625 45.40625 \r\nL 10.890625 53.90625 \r\nQ 18.265625 57.375 23.78125 62.296875 \r\nQ 29.296875 67.234375 31.59375 71.875 \r\nL 37.25 71.875 \r\nz\r\n\" id=\"ArialMT-49\"/>\r\n       </defs>\r\n       <use xlink:href=\"#ArialMT-49\"/>\r\n       <use x=\"55.615234\" xlink:href=\"#ArialMT-48\"/>\r\n      </g>\r\n     </g>\r\n    </g>\r\n    <g id=\"ytick_4\">\r\n     <g id=\"line2d_11\">\r\n      <path clip-path=\"url(#p4b86ed4482)\" d=\"M 25.321875 118.384099 \r\nL 177.503693 118.384099 \r\n\" style=\"fill:none;stroke:#ffffff;stroke-linecap:round;stroke-width:0.8;\"/>\r\n     </g>\r\n     <g id=\"text_11\">\r\n      <!-- 15 -->\r\n      <g style=\"fill:#262626;\" transform=\"translate(7.2 121.963006)scale(0.1 -0.1)\">\r\n       <use xlink:href=\"#ArialMT-49\"/>\r\n       <use x=\"55.615234\" xlink:href=\"#ArialMT-53\"/>\r\n      </g>\r\n     </g>\r\n    </g>\r\n    <g id=\"ytick_5\">\r\n     <g id=\"line2d_12\">\r\n      <path clip-path=\"url(#p4b86ed4482)\" d=\"M 25.321875 73.365466 \r\nL 177.503693 73.365466 \r\n\" style=\"fill:none;stroke:#ffffff;stroke-linecap:round;stroke-width:0.8;\"/>\r\n     </g>\r\n     <g id=\"text_12\">\r\n      <!-- 20 -->\r\n      <g style=\"fill:#262626;\" transform=\"translate(7.2 76.944372)scale(0.1 -0.1)\">\r\n       <defs>\r\n        <path d=\"M 50.34375 8.453125 \r\nL 50.34375 0 \r\nL 3.03125 0 \r\nQ 2.9375 3.171875 4.046875 6.109375 \r\nQ 5.859375 10.9375 9.828125 15.625 \r\nQ 13.8125 20.3125 21.34375 26.46875 \r\nQ 33.015625 36.03125 37.109375 41.625 \r\nQ 41.21875 47.21875 41.21875 52.203125 \r\nQ 41.21875 57.421875 37.46875 61 \r\nQ 33.734375 64.59375 27.734375 64.59375 \r\nQ 21.390625 64.59375 17.578125 60.78125 \r\nQ 13.765625 56.984375 13.71875 50.25 \r\nL 4.6875 51.171875 \r\nQ 5.609375 61.28125 11.65625 66.578125 \r\nQ 17.71875 71.875 27.9375 71.875 \r\nQ 38.234375 71.875 44.234375 66.15625 \r\nQ 50.25 60.453125 50.25 52 \r\nQ 50.25 47.703125 48.484375 43.546875 \r\nQ 46.734375 39.40625 42.65625 34.8125 \r\nQ 38.578125 30.21875 29.109375 22.21875 \r\nQ 21.1875 15.578125 18.9375 13.203125 \r\nQ 16.703125 10.84375 15.234375 8.453125 \r\nz\r\n\" id=\"ArialMT-50\"/>\r\n       </defs>\r\n       <use xlink:href=\"#ArialMT-50\"/>\r\n       <use x=\"55.615234\" xlink:href=\"#ArialMT-48\"/>\r\n      </g>\r\n     </g>\r\n    </g>\r\n   </g>\r\n   <g id=\"patch_3\">\r\n    <path clip-path=\"url(#p4b86ed4482)\" d=\"M 32.23923 253.44 \r\nL 48.515361 253.44 \r\nL 48.515361 172.40646 \r\nL 32.23923 172.40646 \r\nz\r\n\" style=\"fill:#1f77b4;stroke:#ffffff;stroke-linejoin:miter;\"/>\r\n   </g>\r\n   <g id=\"patch_4\">\r\n    <path clip-path=\"url(#p4b86ed4482)\" d=\"M 52.584393 253.44 \r\nL 68.860524 253.44 \r\nL 68.860524 46.354286 \r\nL 52.584393 46.354286 \r\nz\r\n\" style=\"fill:#1f77b4;stroke:#ffffff;stroke-linejoin:miter;\"/>\r\n   </g>\r\n   <g id=\"patch_5\">\r\n    <path clip-path=\"url(#p4b86ed4482)\" d=\"M 72.929556 253.44 \r\nL 89.205686 253.44 \r\nL 89.205686 226.42882 \r\nL 72.929556 226.42882 \r\nz\r\n\" style=\"fill:#1f77b4;stroke:#ffffff;stroke-linejoin:miter;\"/>\r\n   </g>\r\n   <g id=\"patch_6\">\r\n    <path clip-path=\"url(#p4b86ed4482)\" d=\"M 93.274719 253.44 \r\nL 109.550849 253.44 \r\nL 109.550849 226.42882 \r\nL 93.274719 226.42882 \r\nz\r\n\" style=\"fill:#1f77b4;stroke:#ffffff;stroke-linejoin:miter;\"/>\r\n   </g>\r\n   <g id=\"patch_7\">\r\n    <path clip-path=\"url(#p4b86ed4482)\" d=\"M 113.619882 253.44 \r\nL 129.896012 253.44 \r\nL 129.896012 199.41764 \r\nL 113.619882 199.41764 \r\nz\r\n\" style=\"fill:#1f77b4;stroke:#ffffff;stroke-linejoin:miter;\"/>\r\n   </g>\r\n   <g id=\"patch_8\">\r\n    <path clip-path=\"url(#p4b86ed4482)\" d=\"M 133.965045 253.44 \r\nL 150.241175 253.44 \r\nL 150.241175 253.44 \r\nL 133.965045 253.44 \r\nz\r\n\" style=\"fill:#1f77b4;stroke:#ffffff;stroke-linejoin:miter;\"/>\r\n   </g>\r\n   <g id=\"patch_9\">\r\n    <path clip-path=\"url(#p4b86ed4482)\" d=\"M 154.310208 253.44 \r\nL 170.586338 253.44 \r\nL 170.586338 253.44 \r\nL 154.310208 253.44 \r\nz\r\n\" style=\"fill:#1f77b4;stroke:#ffffff;stroke-linejoin:miter;\"/>\r\n   </g>\r\n   <g id=\"patch_10\">\r\n    <path d=\"M 25.321875 253.44 \r\nL 25.321875 36 \r\n\" style=\"fill:none;stroke:#ffffff;stroke-linecap:square;stroke-linejoin:miter;stroke-width:0.8;\"/>\r\n   </g>\r\n   <g id=\"patch_11\">\r\n    <path d=\"M 177.503693 253.44 \r\nL 177.503693 36 \r\n\" style=\"fill:none;stroke:#ffffff;stroke-linecap:square;stroke-linejoin:miter;stroke-width:0.8;\"/>\r\n   </g>\r\n   <g id=\"patch_12\">\r\n    <path d=\"M 25.321875 253.44 \r\nL 177.503693 253.44 \r\n\" style=\"fill:none;stroke:#ffffff;stroke-linecap:square;stroke-linejoin:miter;stroke-width:0.8;\"/>\r\n   </g>\r\n   <g id=\"patch_13\">\r\n    <path d=\"M 25.321875 36 \r\nL 177.503693 36 \r\n\" style=\"fill:none;stroke:#ffffff;stroke-linecap:square;stroke-linejoin:miter;stroke-width:0.8;\"/>\r\n   </g>\r\n   <g id=\"text_13\">\r\n    <!-- Females -->\r\n    <g style=\"fill:#262626;\" transform=\"translate(78.407472 30)scale(0.12 -0.12)\">\r\n     <use xlink:href=\"#ArialMT-70\"/>\r\n     <use x=\"61.083984\" xlink:href=\"#ArialMT-101\"/>\r\n     <use x=\"116.699219\" xlink:href=\"#ArialMT-109\"/>\r\n     <use x=\"200\" xlink:href=\"#ArialMT-97\"/>\r\n     <use x=\"255.615234\" xlink:href=\"#ArialMT-108\"/>\r\n     <use x=\"277.832031\" xlink:href=\"#ArialMT-101\"/>\r\n     <use x=\"333.447266\" xlink:href=\"#ArialMT-115\"/>\r\n    </g>\r\n   </g>\r\n  </g>\r\n  <g id=\"axes_2\">\r\n   <g id=\"patch_14\">\r\n    <path d=\"M 207.940057 253.44 \r\nL 360.121875 253.44 \r\nL 360.121875 36 \r\nL 207.940057 36 \r\nz\r\n\" style=\"fill:#eaeaf2;\"/>\r\n   </g>\r\n   <g id=\"matplotlib.axis_3\">\r\n    <g id=\"xtick_8\">\r\n     <g id=\"line2d_13\">\r\n      <path clip-path=\"url(#pf70cc0225b)\" d=\"M 222.995477 253.44 \r\nL 222.995477 36 \r\n\" style=\"fill:none;stroke:#ffffff;stroke-linecap:round;stroke-width:0.8;\"/>\r\n     </g>\r\n     <g id=\"text_14\">\r\n      <!-- Finding a job/internship -->\r\n      <g style=\"fill:#262626;\" transform=\"translate(225.582977 363.830625)rotate(-90)scale(0.1 -0.1)\">\r\n       <use xlink:href=\"#ArialMT-70\"/>\r\n       <use x=\"61.083984\" xlink:href=\"#ArialMT-105\"/>\r\n       <use x=\"83.300781\" xlink:href=\"#ArialMT-110\"/>\r\n       <use x=\"138.916016\" xlink:href=\"#ArialMT-100\"/>\r\n       <use x=\"194.53125\" xlink:href=\"#ArialMT-105\"/>\r\n       <use x=\"216.748047\" xlink:href=\"#ArialMT-110\"/>\r\n       <use x=\"272.363281\" xlink:href=\"#ArialMT-103\"/>\r\n       <use x=\"327.978516\" xlink:href=\"#ArialMT-32\"/>\r\n       <use x=\"355.761719\" xlink:href=\"#ArialMT-97\"/>\r\n       <use x=\"411.376953\" xlink:href=\"#ArialMT-32\"/>\r\n       <use x=\"439.160156\" xlink:href=\"#ArialMT-106\"/>\r\n       <use x=\"461.376953\" xlink:href=\"#ArialMT-111\"/>\r\n       <use x=\"516.992188\" xlink:href=\"#ArialMT-98\"/>\r\n       <use x=\"572.607422\" xlink:href=\"#ArialMT-47\"/>\r\n       <use x=\"600.390625\" xlink:href=\"#ArialMT-105\"/>\r\n       <use x=\"622.607422\" xlink:href=\"#ArialMT-110\"/>\r\n       <use x=\"678.222656\" xlink:href=\"#ArialMT-116\"/>\r\n       <use x=\"706.005859\" xlink:href=\"#ArialMT-101\"/>\r\n       <use x=\"761.621094\" xlink:href=\"#ArialMT-114\"/>\r\n       <use x=\"794.921875\" xlink:href=\"#ArialMT-110\"/>\r\n       <use x=\"850.537109\" xlink:href=\"#ArialMT-115\"/>\r\n       <use x=\"900.537109\" xlink:href=\"#ArialMT-104\"/>\r\n       <use x=\"956.152344\" xlink:href=\"#ArialMT-105\"/>\r\n       <use x=\"978.369141\" xlink:href=\"#ArialMT-112\"/>\r\n      </g>\r\n     </g>\r\n    </g>\r\n    <g id=\"xtick_9\">\r\n     <g id=\"line2d_14\">\r\n      <path clip-path=\"url(#pf70cc0225b)\" d=\"M 243.34064 253.44 \r\nL 243.34064 36 \r\n\" style=\"fill:none;stroke:#ffffff;stroke-linecap:round;stroke-width:0.8;\"/>\r\n     </g>\r\n     <g id=\"text_15\">\r\n      <!-- Improving my data analysis skills -->\r\n      <g style=\"fill:#262626;\" transform=\"translate(245.867203 406.038437)rotate(-90)scale(0.1 -0.1)\">\r\n       <use xlink:href=\"#ArialMT-73\"/>\r\n       <use x=\"27.783203\" xlink:href=\"#ArialMT-109\"/>\r\n       <use x=\"111.083984\" xlink:href=\"#ArialMT-112\"/>\r\n       <use x=\"166.699219\" xlink:href=\"#ArialMT-114\"/>\r\n       <use x=\"200\" xlink:href=\"#ArialMT-111\"/>\r\n       <use x=\"255.615234\" xlink:href=\"#ArialMT-118\"/>\r\n       <use x=\"305.615234\" xlink:href=\"#ArialMT-105\"/>\r\n       <use x=\"327.832031\" xlink:href=\"#ArialMT-110\"/>\r\n       <use x=\"383.447266\" xlink:href=\"#ArialMT-103\"/>\r\n       <use x=\"439.0625\" xlink:href=\"#ArialMT-32\"/>\r\n       <use x=\"466.845703\" xlink:href=\"#ArialMT-109\"/>\r\n       <use x=\"550.146484\" xlink:href=\"#ArialMT-121\"/>\r\n       <use x=\"600.146484\" xlink:href=\"#ArialMT-32\"/>\r\n       <use x=\"627.929688\" xlink:href=\"#ArialMT-100\"/>\r\n       <use x=\"683.544922\" xlink:href=\"#ArialMT-97\"/>\r\n       <use x=\"739.160156\" xlink:href=\"#ArialMT-116\"/>\r\n       <use x=\"766.943359\" xlink:href=\"#ArialMT-97\"/>\r\n       <use x=\"822.558594\" xlink:href=\"#ArialMT-32\"/>\r\n       <use x=\"850.341797\" xlink:href=\"#ArialMT-97\"/>\r\n       <use x=\"905.957031\" xlink:href=\"#ArialMT-110\"/>\r\n       <use x=\"961.572266\" xlink:href=\"#ArialMT-97\"/>\r\n       <use x=\"1017.1875\" xlink:href=\"#ArialMT-108\"/>\r\n       <use x=\"1039.404297\" xlink:href=\"#ArialMT-121\"/>\r\n       <use x=\"1089.404297\" xlink:href=\"#ArialMT-115\"/>\r\n       <use x=\"1139.404297\" xlink:href=\"#ArialMT-105\"/>\r\n       <use x=\"1161.621094\" xlink:href=\"#ArialMT-115\"/>\r\n       <use x=\"1211.621094\" xlink:href=\"#ArialMT-32\"/>\r\n       <use x=\"1239.404297\" xlink:href=\"#ArialMT-115\"/>\r\n       <use x=\"1289.404297\" xlink:href=\"#ArialMT-107\"/>\r\n       <use x=\"1339.404297\" xlink:href=\"#ArialMT-105\"/>\r\n       <use x=\"1361.621094\" xlink:href=\"#ArialMT-108\"/>\r\n       <use x=\"1383.837891\" xlink:href=\"#ArialMT-108\"/>\r\n       <use x=\"1406.054688\" xlink:href=\"#ArialMT-115\"/>\r\n      </g>\r\n     </g>\r\n    </g>\r\n    <g id=\"xtick_10\">\r\n     <g id=\"line2d_15\">\r\n      <path clip-path=\"url(#pf70cc0225b)\" d=\"M 263.685803 253.44 \r\nL 263.685803 36 \r\n\" style=\"fill:none;stroke:#ffffff;stroke-linecap:round;stroke-width:0.8;\"/>\r\n     </g>\r\n     <g id=\"text_16\">\r\n      <!-- Mentorship -->\r\n      <g style=\"fill:#262626;\" transform=\"translate(266.270959 309.904062)rotate(-90)scale(0.1 -0.1)\">\r\n       <use xlink:href=\"#ArialMT-77\"/>\r\n       <use x=\"83.300781\" xlink:href=\"#ArialMT-101\"/>\r\n       <use x=\"138.916016\" xlink:href=\"#ArialMT-110\"/>\r\n       <use x=\"194.53125\" xlink:href=\"#ArialMT-116\"/>\r\n       <use x=\"222.314453\" xlink:href=\"#ArialMT-111\"/>\r\n       <use x=\"277.929688\" xlink:href=\"#ArialMT-114\"/>\r\n       <use x=\"311.230469\" xlink:href=\"#ArialMT-115\"/>\r\n       <use x=\"361.230469\" xlink:href=\"#ArialMT-104\"/>\r\n       <use x=\"416.845703\" xlink:href=\"#ArialMT-105\"/>\r\n       <use x=\"439.0625\" xlink:href=\"#ArialMT-112\"/>\r\n      </g>\r\n     </g>\r\n    </g>\r\n    <g id=\"xtick_11\">\r\n     <g id=\"line2d_16\">\r\n      <path clip-path=\"url(#pf70cc0225b)\" d=\"M 284.030966 253.44 \r\nL 284.030966 36 \r\n\" style=\"fill:none;stroke:#ffffff;stroke-linecap:round;stroke-width:0.8;\"/>\r\n     </g>\r\n     <g id=\"text_17\">\r\n      <!-- Switching careers -->\r\n      <g style=\"fill:#262626;\" transform=\"translate(286.618466 339.357187)rotate(-90)scale(0.1 -0.1)\">\r\n       <use xlink:href=\"#ArialMT-83\"/>\r\n       <use x=\"66.699219\" xlink:href=\"#ArialMT-119\"/>\r\n       <use x=\"138.916016\" xlink:href=\"#ArialMT-105\"/>\r\n       <use x=\"161.132812\" xlink:href=\"#ArialMT-116\"/>\r\n       <use x=\"188.916016\" xlink:href=\"#ArialMT-99\"/>\r\n       <use x=\"238.916016\" xlink:href=\"#ArialMT-104\"/>\r\n       <use x=\"294.53125\" xlink:href=\"#ArialMT-105\"/>\r\n       <use x=\"316.748047\" xlink:href=\"#ArialMT-110\"/>\r\n       <use x=\"372.363281\" xlink:href=\"#ArialMT-103\"/>\r\n       <use x=\"427.978516\" xlink:href=\"#ArialMT-32\"/>\r\n       <use x=\"455.761719\" xlink:href=\"#ArialMT-99\"/>\r\n       <use x=\"505.761719\" xlink:href=\"#ArialMT-97\"/>\r\n       <use x=\"561.376953\" xlink:href=\"#ArialMT-114\"/>\r\n       <use x=\"594.677734\" xlink:href=\"#ArialMT-101\"/>\r\n       <use x=\"650.292969\" xlink:href=\"#ArialMT-101\"/>\r\n       <use x=\"705.908203\" xlink:href=\"#ArialMT-114\"/>\r\n       <use x=\"739.208984\" xlink:href=\"#ArialMT-115\"/>\r\n      </g>\r\n     </g>\r\n    </g>\r\n    <g id=\"xtick_12\">\r\n     <g id=\"line2d_17\">\r\n      <path clip-path=\"url(#pf70cc0225b)\" d=\"M 304.376129 253.44 \r\nL 304.376129 36 \r\n\" style=\"fill:none;stroke:#ffffff;stroke-linecap:round;stroke-width:0.8;\"/>\r\n     </g>\r\n     <g id=\"text_18\">\r\n      <!-- Training to start my own company -->\r\n      <g style=\"fill:#262626;\" transform=\"translate(306.902691 410.113437)rotate(-90)scale(0.1 -0.1)\">\r\n       <use xlink:href=\"#ArialMT-84\"/>\r\n       <use x=\"57.333984\" xlink:href=\"#ArialMT-114\"/>\r\n       <use x=\"90.634766\" xlink:href=\"#ArialMT-97\"/>\r\n       <use x=\"146.25\" xlink:href=\"#ArialMT-105\"/>\r\n       <use x=\"168.466797\" xlink:href=\"#ArialMT-110\"/>\r\n       <use x=\"224.082031\" xlink:href=\"#ArialMT-105\"/>\r\n       <use x=\"246.298828\" xlink:href=\"#ArialMT-110\"/>\r\n       <use x=\"301.914062\" xlink:href=\"#ArialMT-103\"/>\r\n       <use x=\"357.529297\" xlink:href=\"#ArialMT-32\"/>\r\n       <use x=\"385.3125\" xlink:href=\"#ArialMT-116\"/>\r\n       <use x=\"413.095703\" xlink:href=\"#ArialMT-111\"/>\r\n       <use x=\"468.710938\" xlink:href=\"#ArialMT-32\"/>\r\n       <use x=\"496.494141\" xlink:href=\"#ArialMT-115\"/>\r\n       <use x=\"546.494141\" xlink:href=\"#ArialMT-116\"/>\r\n       <use x=\"574.277344\" xlink:href=\"#ArialMT-97\"/>\r\n       <use x=\"629.892578\" xlink:href=\"#ArialMT-114\"/>\r\n       <use x=\"663.193359\" xlink:href=\"#ArialMT-116\"/>\r\n       <use x=\"690.976562\" xlink:href=\"#ArialMT-32\"/>\r\n       <use x=\"718.759766\" xlink:href=\"#ArialMT-109\"/>\r\n       <use x=\"802.060547\" xlink:href=\"#ArialMT-121\"/>\r\n       <use x=\"852.060547\" xlink:href=\"#ArialMT-32\"/>\r\n       <use x=\"879.84375\" xlink:href=\"#ArialMT-111\"/>\r\n       <use x=\"935.458984\" xlink:href=\"#ArialMT-119\"/>\r\n       <use x=\"1007.675781\" xlink:href=\"#ArialMT-110\"/>\r\n       <use x=\"1063.291016\" xlink:href=\"#ArialMT-32\"/>\r\n       <use x=\"1091.074219\" xlink:href=\"#ArialMT-99\"/>\r\n       <use x=\"1141.074219\" xlink:href=\"#ArialMT-111\"/>\r\n       <use x=\"1196.689453\" xlink:href=\"#ArialMT-109\"/>\r\n       <use x=\"1279.990234\" xlink:href=\"#ArialMT-112\"/>\r\n       <use x=\"1335.605469\" xlink:href=\"#ArialMT-97\"/>\r\n       <use x=\"1391.220703\" xlink:href=\"#ArialMT-110\"/>\r\n       <use x=\"1446.835938\" xlink:href=\"#ArialMT-121\"/>\r\n      </g>\r\n     </g>\r\n    </g>\r\n    <g id=\"xtick_13\">\r\n     <g id=\"line2d_18\">\r\n      <path clip-path=\"url(#pf70cc0225b)\" d=\"M 324.721292 253.44 \r\nL 324.721292 36 \r\n\" style=\"fill:none;stroke:#ffffff;stroke-linecap:round;stroke-width:0.8;\"/>\r\n     </g>\r\n     <g id=\"text_19\">\r\n      <!-- other -->\r\n      <g style=\"fill:#262626;\" transform=\"translate(327.306448 283.230625)rotate(-90)scale(0.1 -0.1)\">\r\n       <use xlink:href=\"#ArialMT-111\"/>\r\n       <use x=\"55.615234\" xlink:href=\"#ArialMT-116\"/>\r\n       <use x=\"83.398438\" xlink:href=\"#ArialMT-104\"/>\r\n       <use x=\"139.013672\" xlink:href=\"#ArialMT-101\"/>\r\n       <use x=\"194.628906\" xlink:href=\"#ArialMT-114\"/>\r\n      </g>\r\n     </g>\r\n    </g>\r\n    <g id=\"xtick_14\">\r\n     <g id=\"line2d_19\">\r\n      <path clip-path=\"url(#pf70cc0225b)\" d=\"M 345.066454 253.44 \r\nL 345.066454 36 \r\n\" style=\"fill:none;stroke:#ffffff;stroke-linecap:round;stroke-width:0.8;\"/>\r\n     </g>\r\n     <g id=\"text_20\">\r\n      <!-- unknown -->\r\n      <g style=\"fill:#262626;\" transform=\"translate(347.651611 300.466562)rotate(-90)scale(0.1 -0.1)\">\r\n       <use xlink:href=\"#ArialMT-117\"/>\r\n       <use x=\"55.615234\" xlink:href=\"#ArialMT-110\"/>\r\n       <use x=\"111.230469\" xlink:href=\"#ArialMT-107\"/>\r\n       <use x=\"161.230469\" xlink:href=\"#ArialMT-110\"/>\r\n       <use x=\"216.845703\" xlink:href=\"#ArialMT-111\"/>\r\n       <use x=\"272.460938\" xlink:href=\"#ArialMT-119\"/>\r\n       <use x=\"344.677734\" xlink:href=\"#ArialMT-110\"/>\r\n      </g>\r\n     </g>\r\n    </g>\r\n   </g>\r\n   <g id=\"matplotlib.axis_4\">\r\n    <g id=\"ytick_6\">\r\n     <g id=\"line2d_20\">\r\n      <path clip-path=\"url(#pf70cc0225b)\" d=\"M 207.940057 253.44 \r\nL 360.121875 253.44 \r\n\" style=\"fill:none;stroke:#ffffff;stroke-linecap:round;stroke-width:0.8;\"/>\r\n     </g>\r\n     <g id=\"text_21\">\r\n      <!-- 0 -->\r\n      <g style=\"fill:#262626;\" transform=\"translate(195.379119 257.018906)scale(0.1 -0.1)\">\r\n       <use xlink:href=\"#ArialMT-48\"/>\r\n      </g>\r\n     </g>\r\n    </g>\r\n    <g id=\"ytick_7\">\r\n     <g id=\"line2d_21\">\r\n      <path clip-path=\"url(#pf70cc0225b)\" d=\"M 207.940057 213.995102 \r\nL 360.121875 213.995102 \r\n\" style=\"fill:none;stroke:#ffffff;stroke-linecap:round;stroke-width:0.8;\"/>\r\n     </g>\r\n     <g id=\"text_22\">\r\n      <!-- 20 -->\r\n      <g style=\"fill:#262626;\" transform=\"translate(189.818182 217.574008)scale(0.1 -0.1)\">\r\n       <use xlink:href=\"#ArialMT-50\"/>\r\n       <use x=\"55.615234\" xlink:href=\"#ArialMT-48\"/>\r\n      </g>\r\n     </g>\r\n    </g>\r\n    <g id=\"ytick_8\">\r\n     <g id=\"line2d_22\">\r\n      <path clip-path=\"url(#pf70cc0225b)\" d=\"M 207.940057 174.550204 \r\nL 360.121875 174.550204 \r\n\" style=\"fill:none;stroke:#ffffff;stroke-linecap:round;stroke-width:0.8;\"/>\r\n     </g>\r\n     <g id=\"text_23\">\r\n      <!-- 40 -->\r\n      <g style=\"fill:#262626;\" transform=\"translate(189.818182 178.12911)scale(0.1 -0.1)\">\r\n       <defs>\r\n        <path d=\"M 32.328125 0 \r\nL 32.328125 17.140625 \r\nL 1.265625 17.140625 \r\nL 1.265625 25.203125 \r\nL 33.9375 71.578125 \r\nL 41.109375 71.578125 \r\nL 41.109375 25.203125 \r\nL 50.78125 25.203125 \r\nL 50.78125 17.140625 \r\nL 41.109375 17.140625 \r\nL 41.109375 0 \r\nz\r\nM 32.328125 25.203125 \r\nL 32.328125 57.46875 \r\nL 9.90625 25.203125 \r\nz\r\n\" id=\"ArialMT-52\"/>\r\n       </defs>\r\n       <use xlink:href=\"#ArialMT-52\"/>\r\n       <use x=\"55.615234\" xlink:href=\"#ArialMT-48\"/>\r\n      </g>\r\n     </g>\r\n    </g>\r\n    <g id=\"ytick_9\">\r\n     <g id=\"line2d_23\">\r\n      <path clip-path=\"url(#pf70cc0225b)\" d=\"M 207.940057 135.105306 \r\nL 360.121875 135.105306 \r\n\" style=\"fill:none;stroke:#ffffff;stroke-linecap:round;stroke-width:0.8;\"/>\r\n     </g>\r\n     <g id=\"text_24\">\r\n      <!-- 60 -->\r\n      <g style=\"fill:#262626;\" transform=\"translate(189.818182 138.684212)scale(0.1 -0.1)\">\r\n       <defs>\r\n        <path d=\"M 49.75 54.046875 \r\nL 41.015625 53.375 \r\nQ 39.84375 58.546875 37.703125 60.890625 \r\nQ 34.125 64.65625 28.90625 64.65625 \r\nQ 24.703125 64.65625 21.53125 62.3125 \r\nQ 17.390625 59.28125 14.984375 53.46875 \r\nQ 12.59375 47.65625 12.5 36.921875 \r\nQ 15.671875 41.75 20.265625 44.09375 \r\nQ 24.859375 46.4375 29.890625 46.4375 \r\nQ 38.671875 46.4375 44.84375 39.96875 \r\nQ 51.03125 33.5 51.03125 23.25 \r\nQ 51.03125 16.5 48.125 10.71875 \r\nQ 45.21875 4.9375 40.140625 1.859375 \r\nQ 35.0625 -1.21875 28.609375 -1.21875 \r\nQ 17.625 -1.21875 10.6875 6.859375 \r\nQ 3.765625 14.9375 3.765625 33.5 \r\nQ 3.765625 54.25 11.421875 63.671875 \r\nQ 18.109375 71.875 29.4375 71.875 \r\nQ 37.890625 71.875 43.28125 67.140625 \r\nQ 48.6875 62.40625 49.75 54.046875 \r\nz\r\nM 13.875 23.1875 \r\nQ 13.875 18.65625 15.796875 14.5 \r\nQ 17.71875 10.359375 21.1875 8.171875 \r\nQ 24.65625 6 28.46875 6 \r\nQ 34.03125 6 38.03125 10.484375 \r\nQ 42.046875 14.984375 42.046875 22.703125 \r\nQ 42.046875 30.125 38.078125 34.390625 \r\nQ 34.125 38.671875 28.125 38.671875 \r\nQ 22.171875 38.671875 18.015625 34.390625 \r\nQ 13.875 30.125 13.875 23.1875 \r\nz\r\n\" id=\"ArialMT-54\"/>\r\n       </defs>\r\n       <use xlink:href=\"#ArialMT-54\"/>\r\n       <use x=\"55.615234\" xlink:href=\"#ArialMT-48\"/>\r\n      </g>\r\n     </g>\r\n    </g>\r\n    <g id=\"ytick_10\">\r\n     <g id=\"line2d_24\">\r\n      <path clip-path=\"url(#pf70cc0225b)\" d=\"M 207.940057 95.660408 \r\nL 360.121875 95.660408 \r\n\" style=\"fill:none;stroke:#ffffff;stroke-linecap:round;stroke-width:0.8;\"/>\r\n     </g>\r\n     <g id=\"text_25\">\r\n      <!-- 80 -->\r\n      <g style=\"fill:#262626;\" transform=\"translate(189.818182 99.239314)scale(0.1 -0.1)\">\r\n       <defs>\r\n        <path d=\"M 17.671875 38.8125 \r\nQ 12.203125 40.828125 9.5625 44.53125 \r\nQ 6.9375 48.25 6.9375 53.421875 \r\nQ 6.9375 61.234375 12.546875 66.546875 \r\nQ 18.171875 71.875 27.484375 71.875 \r\nQ 36.859375 71.875 42.578125 66.421875 \r\nQ 48.296875 60.984375 48.296875 53.171875 \r\nQ 48.296875 48.1875 45.671875 44.5 \r\nQ 43.0625 40.828125 37.75 38.8125 \r\nQ 44.34375 36.671875 47.78125 31.875 \r\nQ 51.21875 27.09375 51.21875 20.453125 \r\nQ 51.21875 11.28125 44.71875 5.03125 \r\nQ 38.234375 -1.21875 27.640625 -1.21875 \r\nQ 17.046875 -1.21875 10.546875 5.046875 \r\nQ 4.046875 11.328125 4.046875 20.703125 \r\nQ 4.046875 27.6875 7.59375 32.390625 \r\nQ 11.140625 37.109375 17.671875 38.8125 \r\nz\r\nM 15.921875 53.71875 \r\nQ 15.921875 48.640625 19.1875 45.40625 \r\nQ 22.46875 42.1875 27.6875 42.1875 \r\nQ 32.765625 42.1875 36.015625 45.375 \r\nQ 39.265625 48.578125 39.265625 53.21875 \r\nQ 39.265625 58.0625 35.90625 61.359375 \r\nQ 32.5625 64.65625 27.59375 64.65625 \r\nQ 22.5625 64.65625 19.234375 61.421875 \r\nQ 15.921875 58.203125 15.921875 53.71875 \r\nz\r\nM 13.09375 20.65625 \r\nQ 13.09375 16.890625 14.875 13.375 \r\nQ 16.65625 9.859375 20.171875 7.921875 \r\nQ 23.6875 6 27.734375 6 \r\nQ 34.03125 6 38.125 10.046875 \r\nQ 42.234375 14.109375 42.234375 20.359375 \r\nQ 42.234375 26.703125 38.015625 30.859375 \r\nQ 33.796875 35.015625 27.4375 35.015625 \r\nQ 21.234375 35.015625 17.15625 30.90625 \r\nQ 13.09375 26.8125 13.09375 20.65625 \r\nz\r\n\" id=\"ArialMT-56\"/>\r\n       </defs>\r\n       <use xlink:href=\"#ArialMT-56\"/>\r\n       <use x=\"55.615234\" xlink:href=\"#ArialMT-48\"/>\r\n      </g>\r\n     </g>\r\n    </g>\r\n    <g id=\"ytick_11\">\r\n     <g id=\"line2d_25\">\r\n      <path clip-path=\"url(#pf70cc0225b)\" d=\"M 207.940057 56.21551 \r\nL 360.121875 56.21551 \r\n\" style=\"fill:none;stroke:#ffffff;stroke-linecap:round;stroke-width:0.8;\"/>\r\n     </g>\r\n     <g id=\"text_26\">\r\n      <!-- 100 -->\r\n      <g style=\"fill:#262626;\" transform=\"translate(184.257244 59.794416)scale(0.1 -0.1)\">\r\n       <use xlink:href=\"#ArialMT-49\"/>\r\n       <use x=\"55.615234\" xlink:href=\"#ArialMT-48\"/>\r\n       <use x=\"111.230469\" xlink:href=\"#ArialMT-48\"/>\r\n      </g>\r\n     </g>\r\n    </g>\r\n   </g>\r\n   <g id=\"patch_15\">\r\n    <path clip-path=\"url(#pf70cc0225b)\" d=\"M 214.857412 253.44 \r\nL 231.133542 253.44 \r\nL 231.133542 188.355918 \r\nL 214.857412 188.355918 \r\nz\r\n\" style=\"fill:#1f77b4;stroke:#ffffff;stroke-linejoin:miter;\"/>\r\n   </g>\r\n   <g id=\"patch_16\">\r\n    <path clip-path=\"url(#pf70cc0225b)\" d=\"M 235.202575 253.44 \r\nL 251.478705 253.44 \r\nL 251.478705 46.354286 \r\nL 235.202575 46.354286 \r\nz\r\n\" style=\"fill:#1f77b4;stroke:#ffffff;stroke-linejoin:miter;\"/>\r\n   </g>\r\n   <g id=\"patch_17\">\r\n    <path clip-path=\"url(#pf70cc0225b)\" d=\"M 255.547738 253.44 \r\nL 271.823868 253.44 \r\nL 271.823868 235.689796 \r\nL 255.547738 235.689796 \r\nz\r\n\" style=\"fill:#1f77b4;stroke:#ffffff;stroke-linejoin:miter;\"/>\r\n   </g>\r\n   <g id=\"patch_18\">\r\n    <path clip-path=\"url(#pf70cc0225b)\" d=\"M 275.892901 253.44 \r\nL 292.169031 253.44 \r\nL 292.169031 219.911837 \r\nL 275.892901 219.911837 \r\nz\r\n\" style=\"fill:#1f77b4;stroke:#ffffff;stroke-linejoin:miter;\"/>\r\n   </g>\r\n   <g id=\"patch_19\">\r\n    <path clip-path=\"url(#pf70cc0225b)\" d=\"M 296.238064 253.44 \r\nL 312.514194 253.44 \r\nL 312.514194 192.300408 \r\nL 296.238064 192.300408 \r\nz\r\n\" style=\"fill:#1f77b4;stroke:#ffffff;stroke-linejoin:miter;\"/>\r\n   </g>\r\n   <g id=\"patch_20\">\r\n    <path clip-path=\"url(#pf70cc0225b)\" d=\"M 316.583226 253.44 \r\nL 332.859357 253.44 \r\nL 332.859357 249.49551 \r\nL 316.583226 249.49551 \r\nz\r\n\" style=\"fill:#1f77b4;stroke:#ffffff;stroke-linejoin:miter;\"/>\r\n   </g>\r\n   <g id=\"patch_21\">\r\n    <path clip-path=\"url(#pf70cc0225b)\" d=\"M 336.928389 253.44 \r\nL 353.20452 253.44 \r\nL 353.20452 251.467755 \r\nL 336.928389 251.467755 \r\nz\r\n\" style=\"fill:#1f77b4;stroke:#ffffff;stroke-linejoin:miter;\"/>\r\n   </g>\r\n   <g id=\"patch_22\">\r\n    <path d=\"M 207.940057 253.44 \r\nL 207.940057 36 \r\n\" style=\"fill:none;stroke:#ffffff;stroke-linecap:square;stroke-linejoin:miter;stroke-width:0.8;\"/>\r\n   </g>\r\n   <g id=\"patch_23\">\r\n    <path d=\"M 360.121875 253.44 \r\nL 360.121875 36 \r\n\" style=\"fill:none;stroke:#ffffff;stroke-linecap:square;stroke-linejoin:miter;stroke-width:0.8;\"/>\r\n   </g>\r\n   <g id=\"patch_24\">\r\n    <path d=\"M 207.940057 253.44 \r\nL 360.121875 253.44 \r\n\" style=\"fill:none;stroke:#ffffff;stroke-linecap:square;stroke-linejoin:miter;stroke-width:0.8;\"/>\r\n   </g>\r\n   <g id=\"patch_25\">\r\n    <path d=\"M 207.940057 36 \r\nL 360.121875 36 \r\n\" style=\"fill:none;stroke:#ffffff;stroke-linecap:square;stroke-linejoin:miter;stroke-width:0.8;\"/>\r\n   </g>\r\n   <g id=\"text_27\">\r\n    <!-- Males -->\r\n    <g style=\"fill:#262626;\" transform=\"translate(268.026903 30)scale(0.12 -0.12)\">\r\n     <use xlink:href=\"#ArialMT-77\"/>\r\n     <use x=\"83.300781\" xlink:href=\"#ArialMT-97\"/>\r\n     <use x=\"138.916016\" xlink:href=\"#ArialMT-108\"/>\r\n     <use x=\"161.132812\" xlink:href=\"#ArialMT-101\"/>\r\n     <use x=\"216.748047\" xlink:href=\"#ArialMT-115\"/>\r\n    </g>\r\n   </g>\r\n  </g>\r\n  <g id=\"text_28\">\r\n   <!-- Barplot of the bootcamp_interest  by gender -->\r\n   <g style=\"fill:#262626;\" transform=\"translate(70.591875 15.935625)scale(0.12 -0.12)\">\r\n    <defs>\r\n     <path d=\"M 7.328125 0 \r\nL 7.328125 71.578125 \r\nL 34.1875 71.578125 \r\nQ 42.390625 71.578125 47.34375 69.40625 \r\nQ 52.296875 67.234375 55.09375 62.71875 \r\nQ 57.90625 58.203125 57.90625 53.265625 \r\nQ 57.90625 48.6875 55.421875 44.625 \r\nQ 52.9375 40.578125 47.90625 38.09375 \r\nQ 54.390625 36.1875 57.875 31.59375 \r\nQ 61.375 27 61.375 20.75 \r\nQ 61.375 15.71875 59.25 11.390625 \r\nQ 57.125 7.078125 54 4.734375 \r\nQ 50.875 2.390625 46.15625 1.1875 \r\nQ 41.453125 0 34.625 0 \r\nz\r\nM 16.796875 41.5 \r\nL 32.28125 41.5 \r\nQ 38.578125 41.5 41.3125 42.328125 \r\nQ 44.921875 43.40625 46.75 45.890625 \r\nQ 48.578125 48.390625 48.578125 52.15625 \r\nQ 48.578125 55.71875 46.875 58.421875 \r\nQ 45.171875 61.140625 41.984375 62.140625 \r\nQ 38.8125 63.140625 31.109375 63.140625 \r\nL 16.796875 63.140625 \r\nz\r\nM 16.796875 8.453125 \r\nL 34.625 8.453125 \r\nQ 39.203125 8.453125 41.0625 8.796875 \r\nQ 44.34375 9.375 46.53125 10.734375 \r\nQ 48.734375 12.109375 50.140625 14.71875 \r\nQ 51.5625 17.328125 51.5625 20.75 \r\nQ 51.5625 24.75 49.515625 27.703125 \r\nQ 47.46875 30.671875 43.828125 31.859375 \r\nQ 40.1875 33.0625 33.34375 33.0625 \r\nL 16.796875 33.0625 \r\nz\r\n\" id=\"ArialMT-66\"/>\r\n     <path d=\"M 8.6875 0 \r\nL 8.6875 45.015625 \r\nL 0.921875 45.015625 \r\nL 0.921875 51.859375 \r\nL 8.6875 51.859375 \r\nL 8.6875 57.375 \r\nQ 8.6875 62.59375 9.625 65.140625 \r\nQ 10.890625 68.5625 14.078125 70.671875 \r\nQ 17.28125 72.796875 23.046875 72.796875 \r\nQ 26.765625 72.796875 31.25 71.921875 \r\nL 29.9375 64.265625 \r\nQ 27.203125 64.75 24.75 64.75 \r\nQ 20.75 64.75 19.09375 63.03125 \r\nQ 17.4375 61.328125 17.4375 56.640625 \r\nL 17.4375 51.859375 \r\nL 27.546875 51.859375 \r\nL 27.546875 45.015625 \r\nL 17.4375 45.015625 \r\nL 17.4375 0 \r\nz\r\n\" id=\"ArialMT-102\"/>\r\n     <path d=\"M -1.515625 -19.875 \r\nL -1.515625 -13.53125 \r\nL 56.734375 -13.53125 \r\nL 56.734375 -19.875 \r\nz\r\n\" id=\"ArialMT-95\"/>\r\n    </defs>\r\n    <use xlink:href=\"#ArialMT-66\"/>\r\n    <use x=\"66.699219\" xlink:href=\"#ArialMT-97\"/>\r\n    <use x=\"122.314453\" xlink:href=\"#ArialMT-114\"/>\r\n    <use x=\"155.615234\" xlink:href=\"#ArialMT-112\"/>\r\n    <use x=\"211.230469\" xlink:href=\"#ArialMT-108\"/>\r\n    <use x=\"233.447266\" xlink:href=\"#ArialMT-111\"/>\r\n    <use x=\"289.0625\" xlink:href=\"#ArialMT-116\"/>\r\n    <use x=\"316.845703\" xlink:href=\"#ArialMT-32\"/>\r\n    <use x=\"344.628906\" xlink:href=\"#ArialMT-111\"/>\r\n    <use x=\"400.244141\" xlink:href=\"#ArialMT-102\"/>\r\n    <use x=\"428.027344\" xlink:href=\"#ArialMT-32\"/>\r\n    <use x=\"455.810547\" xlink:href=\"#ArialMT-116\"/>\r\n    <use x=\"483.59375\" xlink:href=\"#ArialMT-104\"/>\r\n    <use x=\"539.208984\" xlink:href=\"#ArialMT-101\"/>\r\n    <use x=\"594.824219\" xlink:href=\"#ArialMT-32\"/>\r\n    <use x=\"622.607422\" xlink:href=\"#ArialMT-98\"/>\r\n    <use x=\"678.222656\" xlink:href=\"#ArialMT-111\"/>\r\n    <use x=\"733.837891\" xlink:href=\"#ArialMT-111\"/>\r\n    <use x=\"789.453125\" xlink:href=\"#ArialMT-116\"/>\r\n    <use x=\"817.236328\" xlink:href=\"#ArialMT-99\"/>\r\n    <use x=\"867.236328\" xlink:href=\"#ArialMT-97\"/>\r\n    <use x=\"922.851562\" xlink:href=\"#ArialMT-109\"/>\r\n    <use x=\"1006.152344\" xlink:href=\"#ArialMT-112\"/>\r\n    <use x=\"1061.767578\" xlink:href=\"#ArialMT-95\"/>\r\n    <use x=\"1117.382812\" xlink:href=\"#ArialMT-105\"/>\r\n    <use x=\"1139.599609\" xlink:href=\"#ArialMT-110\"/>\r\n    <use x=\"1195.214844\" xlink:href=\"#ArialMT-116\"/>\r\n    <use x=\"1222.998047\" xlink:href=\"#ArialMT-101\"/>\r\n    <use x=\"1278.613281\" xlink:href=\"#ArialMT-114\"/>\r\n    <use x=\"1311.914062\" xlink:href=\"#ArialMT-101\"/>\r\n    <use x=\"1367.529297\" xlink:href=\"#ArialMT-115\"/>\r\n    <use x=\"1417.529297\" xlink:href=\"#ArialMT-116\"/>\r\n    <use x=\"1445.3125\" xlink:href=\"#ArialMT-32\"/>\r\n    <use x=\"1473.095703\" xlink:href=\"#ArialMT-32\"/>\r\n    <use x=\"1500.878906\" xlink:href=\"#ArialMT-98\"/>\r\n    <use x=\"1556.494141\" xlink:href=\"#ArialMT-121\"/>\r\n    <use x=\"1606.494141\" xlink:href=\"#ArialMT-32\"/>\r\n    <use x=\"1634.277344\" xlink:href=\"#ArialMT-103\"/>\r\n    <use x=\"1689.892578\" xlink:href=\"#ArialMT-101\"/>\r\n    <use x=\"1745.507812\" xlink:href=\"#ArialMT-110\"/>\r\n    <use x=\"1801.123047\" xlink:href=\"#ArialMT-100\"/>\r\n    <use x=\"1856.738281\" xlink:href=\"#ArialMT-101\"/>\r\n    <use x=\"1912.353516\" xlink:href=\"#ArialMT-114\"/>\r\n   </g>\r\n  </g>\r\n </g>\r\n <defs>\r\n  <clipPath id=\"p4b86ed4482\">\r\n   <rect height=\"217.44\" width=\"152.181818\" x=\"25.321875\" y=\"36\"/>\r\n  </clipPath>\r\n  <clipPath id=\"pf70cc0225b\">\r\n   <rect height=\"217.44\" width=\"152.181818\" x=\"207.940057\" y=\"36\"/>\r\n  </clipPath>\r\n </defs>\r\n</svg>\r\n"
     },
     "metadata": {}
    },
    {
     "output_type": "display_data",
     "data": {
      "text/plain": [
       "<Figure size 2880x2880 with 0 Axes>"
      ]
     },
     "metadata": {}
    }
   ],
   "metadata": {}
  },
  {
   "cell_type": "code",
   "execution_count": 181,
   "source": [
    "value=np.array([genboot.female.values,genboot.male.values])\r\n",
    "stat.chi2_contingency(value)[0:3]"
   ],
   "outputs": [
    {
     "output_type": "execute_result",
     "data": {
      "text/plain": [
       "(1.5753991714929216, 0.9543296676146303, 6)"
      ]
     },
     "metadata": {},
     "execution_count": 181
    }
   ],
   "metadata": {}
  },
  {
   "cell_type": "markdown",
   "source": [
    "### Answer-16 : Considering that the p-value is 0.9543296676146303, we cannot reject the null hypothesis,so the gender and the bootcamp_interest are independent of each other."
   ],
   "metadata": {}
  },
  {
   "cell_type": "markdown",
   "source": [
    "### 17.Plan a BA  strategy for each communication channel regarding the gender "
   ],
   "metadata": {}
  },
  {
   "cell_type": "markdown",
   "source": [
    "### Answer-17 : \r\n",
    "* As the gender and communication channel are correlated we can increase our chance of having participant of a specific gender by prioritizing one channel over the other.\r\n",
    "* We are more likely to select a female by prioritizing those channel: \"Friend\",\"whatsapp\",\"Bootcamp Alumni\"\r\n",
    "* We are more likely to select a male by prioritizing those channel: \"Friend\",\"whatsapp\",\"Facebook\"\r\n",
    "* As we can see the male and female most used communication channel diverge by one channel, therefore prioritizing facebook or Bootcamp alumni will influence tho poll of participant toward man or woman.\r\n"
   ],
   "metadata": {}
  },
  {
   "cell_type": "markdown",
   "source": [
    "### 18.Plan a BA  strategy for each Bootcamp Insterest regarding the gender"
   ],
   "metadata": {}
  },
  {
   "cell_type": "markdown",
   "source": [
    "### Answer-18 : \r\n",
    "* As the gender and bootcamp interest aren't correlated we can't increase our chance of having participant of a specific gender by prioritizing one interest  over the other."
   ],
   "metadata": {}
  },
  {
   "cell_type": "markdown",
   "source": [
    "### 19. Calculate \r\n",
    "    * P(Bootcamp Insterest,Communication channels,Gender/Payed=yes)\r\n",
    "    * P(Bootcamp Insterest,Communication channels,Gender/Payed=no)"
   ],
   "metadata": {}
  },
  {
   "cell_type": "code",
   "execution_count": 184,
   "source": [
    "genpay=pd.crosstab(finalset.gender,finalset.payed)\r\n",
    "genpay[\"gender/Yes_prob\"]=(genpay.Yes/genpay.Yes.sum())*100\r\n",
    "genpay[\"gender/No_prob\"]=(genpay.No/genpay.No.sum())*100\r\n",
    "genpay"
   ],
   "outputs": [
    {
     "output_type": "execute_result",
     "data": {
      "text/plain": [
       "payed    No  Yes  gender/Yes_prob  gender/No_prob\n",
       "gender                                           \n",
       "female   39    5        35.714286       17.105263\n",
       "male    189    9        64.285714       82.894737"
      ],
      "text/html": [
       "<div>\n",
       "<style scoped>\n",
       "    .dataframe tbody tr th:only-of-type {\n",
       "        vertical-align: middle;\n",
       "    }\n",
       "\n",
       "    .dataframe tbody tr th {\n",
       "        vertical-align: top;\n",
       "    }\n",
       "\n",
       "    .dataframe thead th {\n",
       "        text-align: right;\n",
       "    }\n",
       "</style>\n",
       "<table border=\"1\" class=\"dataframe\">\n",
       "  <thead>\n",
       "    <tr style=\"text-align: right;\">\n",
       "      <th>payed</th>\n",
       "      <th>No</th>\n",
       "      <th>Yes</th>\n",
       "      <th>gender/Yes_prob</th>\n",
       "      <th>gender/No_prob</th>\n",
       "    </tr>\n",
       "    <tr>\n",
       "      <th>gender</th>\n",
       "      <th></th>\n",
       "      <th></th>\n",
       "      <th></th>\n",
       "      <th></th>\n",
       "    </tr>\n",
       "  </thead>\n",
       "  <tbody>\n",
       "    <tr>\n",
       "      <th>female</th>\n",
       "      <td>39</td>\n",
       "      <td>5</td>\n",
       "      <td>35.714286</td>\n",
       "      <td>17.105263</td>\n",
       "    </tr>\n",
       "    <tr>\n",
       "      <th>male</th>\n",
       "      <td>189</td>\n",
       "      <td>9</td>\n",
       "      <td>64.285714</td>\n",
       "      <td>82.894737</td>\n",
       "    </tr>\n",
       "  </tbody>\n",
       "</table>\n",
       "</div>"
      ]
     },
     "metadata": {},
     "execution_count": 184
    }
   ],
   "metadata": {}
  },
  {
   "cell_type": "markdown",
   "source": [
    "### Answer-19 : \r\n",
    "* Their is a probability 35.71% of being a female knowing you have payed\r\n",
    "* Their is a probability 64.28% of being a male knowing you have payed\r\n",
    "* Their is a probability 82.89% of being a male knowing you haven't payed\r\n",
    "* Their is a probability 17.10% of being a female knowing you haven't payed\r\n",
    "\r\n"
   ],
   "metadata": {}
  },
  {
   "cell_type": "code",
   "execution_count": 185,
   "source": [
    "compay=pd.crosstab(finalset.communication_channel,finalset.payed)\r\n",
    "compay[\"com/Yes_prob\"]=(compay.Yes/compay.Yes.sum())*100\r\n",
    "compay[\"com/No_prob\"]=(compay.No/compay.No.sum())*100\r\n",
    "compay"
   ],
   "outputs": [
    {
     "output_type": "execute_result",
     "data": {
      "text/plain": [
       "payed                    No  Yes  com/Yes_prob  com/No_prob\n",
       "communication_channel                                      \n",
       "Ayiti Analytics Website  15    0      0.000000     6.578947\n",
       "Bootcamp Alumni          13    1      7.142857     5.701754\n",
       "ESIH                     17    0      0.000000     7.456140\n",
       "Facebook                 36    2     14.285714    15.789474\n",
       "Friend                   61    5     35.714286    26.754386\n",
       "Instagram                 4    1      7.142857     1.754386\n",
       "LinkedIn                 14    0      0.000000     6.140351\n",
       "WhatsApp                 60    4     28.571429    26.315789\n",
       "other                     8    1      7.142857     3.508772"
      ],
      "text/html": [
       "<div>\n",
       "<style scoped>\n",
       "    .dataframe tbody tr th:only-of-type {\n",
       "        vertical-align: middle;\n",
       "    }\n",
       "\n",
       "    .dataframe tbody tr th {\n",
       "        vertical-align: top;\n",
       "    }\n",
       "\n",
       "    .dataframe thead th {\n",
       "        text-align: right;\n",
       "    }\n",
       "</style>\n",
       "<table border=\"1\" class=\"dataframe\">\n",
       "  <thead>\n",
       "    <tr style=\"text-align: right;\">\n",
       "      <th>payed</th>\n",
       "      <th>No</th>\n",
       "      <th>Yes</th>\n",
       "      <th>com/Yes_prob</th>\n",
       "      <th>com/No_prob</th>\n",
       "    </tr>\n",
       "    <tr>\n",
       "      <th>communication_channel</th>\n",
       "      <th></th>\n",
       "      <th></th>\n",
       "      <th></th>\n",
       "      <th></th>\n",
       "    </tr>\n",
       "  </thead>\n",
       "  <tbody>\n",
       "    <tr>\n",
       "      <th>Ayiti Analytics Website</th>\n",
       "      <td>15</td>\n",
       "      <td>0</td>\n",
       "      <td>0.000000</td>\n",
       "      <td>6.578947</td>\n",
       "    </tr>\n",
       "    <tr>\n",
       "      <th>Bootcamp Alumni</th>\n",
       "      <td>13</td>\n",
       "      <td>1</td>\n",
       "      <td>7.142857</td>\n",
       "      <td>5.701754</td>\n",
       "    </tr>\n",
       "    <tr>\n",
       "      <th>ESIH</th>\n",
       "      <td>17</td>\n",
       "      <td>0</td>\n",
       "      <td>0.000000</td>\n",
       "      <td>7.456140</td>\n",
       "    </tr>\n",
       "    <tr>\n",
       "      <th>Facebook</th>\n",
       "      <td>36</td>\n",
       "      <td>2</td>\n",
       "      <td>14.285714</td>\n",
       "      <td>15.789474</td>\n",
       "    </tr>\n",
       "    <tr>\n",
       "      <th>Friend</th>\n",
       "      <td>61</td>\n",
       "      <td>5</td>\n",
       "      <td>35.714286</td>\n",
       "      <td>26.754386</td>\n",
       "    </tr>\n",
       "    <tr>\n",
       "      <th>Instagram</th>\n",
       "      <td>4</td>\n",
       "      <td>1</td>\n",
       "      <td>7.142857</td>\n",
       "      <td>1.754386</td>\n",
       "    </tr>\n",
       "    <tr>\n",
       "      <th>LinkedIn</th>\n",
       "      <td>14</td>\n",
       "      <td>0</td>\n",
       "      <td>0.000000</td>\n",
       "      <td>6.140351</td>\n",
       "    </tr>\n",
       "    <tr>\n",
       "      <th>WhatsApp</th>\n",
       "      <td>60</td>\n",
       "      <td>4</td>\n",
       "      <td>28.571429</td>\n",
       "      <td>26.315789</td>\n",
       "    </tr>\n",
       "    <tr>\n",
       "      <th>other</th>\n",
       "      <td>8</td>\n",
       "      <td>1</td>\n",
       "      <td>7.142857</td>\n",
       "      <td>3.508772</td>\n",
       "    </tr>\n",
       "  </tbody>\n",
       "</table>\n",
       "</div>"
      ]
     },
     "metadata": {},
     "execution_count": 185
    }
   ],
   "metadata": {}
  },
  {
   "cell_type": "markdown",
   "source": [
    "### Answer-19 : \r\n",
    "* Their is a probability 0.00% of using the Ayiti Analytics Website channel knowing you have payed\r\n",
    "* Their is a probability 7.14% of using the Bootcamp Alumni channel knowing you have payed\r\n",
    "* Their is a probability 0.00% of using the ESIH channel knowing you have payed\r\n",
    "* Their is a probability 14.28% of using the Facebook channel knowing you have payed\r\n",
    "* Their is a probability 35.71% of using the Friend channel knowing you have payed\r\n",
    "* Their is a probability 7.14% of using the Instagram knowing you have payed\r\n",
    "* Their is a probability 0.00% of using the LinkedIn knowing you have payed\r\n",
    "* Their is a probability 28.57% of using the WhatsApp knowing you have payed\r\n",
    "* Their is a probability 7.14% of using the other knowing you have payed\r\n"
   ],
   "metadata": {}
  },
  {
   "cell_type": "markdown",
   "source": [
    "### Answer-19 : \r\n",
    "* Their is a probability 6.57% of using the Ayiti Analytics Website channel knowing you haven't payed\r\n",
    "* Their is a probability 5.70% of using the Bootcamp Alumni channel knowing you haven't payed\r\n",
    "* Their is a probability 7.45% of using the ESIH channel knowing you haven't payed\r\n",
    "* Their is a probability 15.78% of using the Facebook channel knowing you haven't payed\r\n",
    "* Their is a probability 26.75% of using the Friend channel knowing you haven't payed\r\n",
    "* Their is a probability 1.75% of using the Instagram knowing you haven't payed\r\n",
    "* Their is a probability 6.14% of using the LinkedIn knowing you haven't payed\r\n",
    "* Their is a probability 26.31% of using the WhatsApp knowing you haven't payed\r\n",
    "* Their is a probability 3.50% of using the other knowing you haven't payed\r\n"
   ],
   "metadata": {}
  },
  {
   "cell_type": "code",
   "execution_count": 186,
   "source": [
    "boopay=pd.crosstab(finalset.bootcamp_interest,finalset.payed)\r\n",
    "boopay[\"boo/Yes_prob\"]=(boopay.Yes/boopay.Yes.sum())*100\r\n",
    "boopay[\"boo/No_prob\"]=(boopay.No/boopay.No.sum())*100\r\n",
    "boopay"
   ],
   "outputs": [
    {
     "output_type": "execute_result",
     "data": {
      "text/plain": [
       "payed                               No  Yes  boo/Yes_prob  boo/No_prob\n",
       "bootcamp_interest                                                     \n",
       "Finding a job/internship            39    3     21.428571    17.105263\n",
       "Improving my data analysis skills  118   10     71.428571    51.754386\n",
       "Mentorship                          12    0      0.000000     5.263158\n",
       "Switching careers                   20    0      0.000000     8.771930\n",
       "Training to start my own company    36    1      7.142857    15.789474\n",
       "other                                2    0      0.000000     0.877193\n",
       "unknown                              1    0      0.000000     0.438596"
      ],
      "text/html": [
       "<div>\n",
       "<style scoped>\n",
       "    .dataframe tbody tr th:only-of-type {\n",
       "        vertical-align: middle;\n",
       "    }\n",
       "\n",
       "    .dataframe tbody tr th {\n",
       "        vertical-align: top;\n",
       "    }\n",
       "\n",
       "    .dataframe thead th {\n",
       "        text-align: right;\n",
       "    }\n",
       "</style>\n",
       "<table border=\"1\" class=\"dataframe\">\n",
       "  <thead>\n",
       "    <tr style=\"text-align: right;\">\n",
       "      <th>payed</th>\n",
       "      <th>No</th>\n",
       "      <th>Yes</th>\n",
       "      <th>boo/Yes_prob</th>\n",
       "      <th>boo/No_prob</th>\n",
       "    </tr>\n",
       "    <tr>\n",
       "      <th>bootcamp_interest</th>\n",
       "      <th></th>\n",
       "      <th></th>\n",
       "      <th></th>\n",
       "      <th></th>\n",
       "    </tr>\n",
       "  </thead>\n",
       "  <tbody>\n",
       "    <tr>\n",
       "      <th>Finding a job/internship</th>\n",
       "      <td>39</td>\n",
       "      <td>3</td>\n",
       "      <td>21.428571</td>\n",
       "      <td>17.105263</td>\n",
       "    </tr>\n",
       "    <tr>\n",
       "      <th>Improving my data analysis skills</th>\n",
       "      <td>118</td>\n",
       "      <td>10</td>\n",
       "      <td>71.428571</td>\n",
       "      <td>51.754386</td>\n",
       "    </tr>\n",
       "    <tr>\n",
       "      <th>Mentorship</th>\n",
       "      <td>12</td>\n",
       "      <td>0</td>\n",
       "      <td>0.000000</td>\n",
       "      <td>5.263158</td>\n",
       "    </tr>\n",
       "    <tr>\n",
       "      <th>Switching careers</th>\n",
       "      <td>20</td>\n",
       "      <td>0</td>\n",
       "      <td>0.000000</td>\n",
       "      <td>8.771930</td>\n",
       "    </tr>\n",
       "    <tr>\n",
       "      <th>Training to start my own company</th>\n",
       "      <td>36</td>\n",
       "      <td>1</td>\n",
       "      <td>7.142857</td>\n",
       "      <td>15.789474</td>\n",
       "    </tr>\n",
       "    <tr>\n",
       "      <th>other</th>\n",
       "      <td>2</td>\n",
       "      <td>0</td>\n",
       "      <td>0.000000</td>\n",
       "      <td>0.877193</td>\n",
       "    </tr>\n",
       "    <tr>\n",
       "      <th>unknown</th>\n",
       "      <td>1</td>\n",
       "      <td>0</td>\n",
       "      <td>0.000000</td>\n",
       "      <td>0.438596</td>\n",
       "    </tr>\n",
       "  </tbody>\n",
       "</table>\n",
       "</div>"
      ]
     },
     "metadata": {},
     "execution_count": 186
    }
   ],
   "metadata": {}
  },
  {
   "cell_type": "markdown",
   "source": [
    "### Answer-19 : \r\n",
    "* Their is a probability 21.42% of being interested by Finding a job/internship knowing you have payed\r\n",
    "* Their is a probability 71.42% of being interested by Improving my data analysis skills knowing you have payed\r\n",
    "* Their is a probability 0.00% of being interested by Mentorship  knowing you have payed\r\n",
    "* Their is a probability 0.00% of being interested by Switching careers knowing you have payed\r\n",
    "* Their is a probability 7.14% of being interested by Training to start my own company knowing you have payed\r\n",
    "* Their is a probability 0.00% of being interested by other resons knowing you have payed\r\n",
    "* Their is a probability 0.00% of not knowing the reasons knowing you have payed\r\n",
    "\r\n"
   ],
   "metadata": {}
  },
  {
   "cell_type": "markdown",
   "source": [
    "### Answer-19 : \r\n",
    "* Their is a probability 17.10% of being interested by Finding a job/internship knowing you haven't payed\r\n",
    "* Their is a probability 51.75% of being interested by Improving my data analysis skills knowing you haven't payed\r\n",
    "* Their is a probability 5.26% of being interested by Mentorship  knowing you haven't payed\r\n",
    "* Their is a probability 8.77% of being interested by Switching careers knowing you haven't payed\r\n",
    "* Their is a probability 15.78% of being interested by Training to start my own company knowing you haven't payed\r\n",
    "* Their is a probability 0.87% of being interested by other resons knowing you haven't payed\r\n",
    "* Their is a probability 0.43% of not knowing the reasons knowing you haven't payed\r\n",
    "\r\n"
   ],
   "metadata": {}
  },
  {
   "cell_type": "markdown",
   "source": [
    "### 20 reduce \r\n",
    "* P(Payed=\"yes\"/Bootcamp Insterest=\"Increase Skill\",Communication channels=\"Friend\",Gender=\"male\")\r\n",
    "* P(Payed=\"no\"/Bootcamp Insterest=\"Increase Skill\",Communication channels=\"Friend\",Gender=\"male\")"
   ],
   "metadata": {}
  },
  {
   "cell_type": "markdown",
   "source": [
    "* P(Payed=\"yes/no\"/Gender=\"male\")"
   ],
   "metadata": {}
  },
  {
   "cell_type": "code",
   "execution_count": 187,
   "source": [
    "gen.prob=gen.prob*100\r\n",
    "gen"
   ],
   "outputs": [
    {
     "output_type": "execute_result",
     "data": {
      "text/plain": [
       "        gender       prob\n",
       "male       198  81.818182\n",
       "female      44  18.181818"
      ],
      "text/html": [
       "<div>\n",
       "<style scoped>\n",
       "    .dataframe tbody tr th:only-of-type {\n",
       "        vertical-align: middle;\n",
       "    }\n",
       "\n",
       "    .dataframe tbody tr th {\n",
       "        vertical-align: top;\n",
       "    }\n",
       "\n",
       "    .dataframe thead th {\n",
       "        text-align: right;\n",
       "    }\n",
       "</style>\n",
       "<table border=\"1\" class=\"dataframe\">\n",
       "  <thead>\n",
       "    <tr style=\"text-align: right;\">\n",
       "      <th></th>\n",
       "      <th>gender</th>\n",
       "      <th>prob</th>\n",
       "    </tr>\n",
       "  </thead>\n",
       "  <tbody>\n",
       "    <tr>\n",
       "      <th>male</th>\n",
       "      <td>198</td>\n",
       "      <td>81.818182</td>\n",
       "    </tr>\n",
       "    <tr>\n",
       "      <th>female</th>\n",
       "      <td>44</td>\n",
       "      <td>18.181818</td>\n",
       "    </tr>\n",
       "  </tbody>\n",
       "</table>\n",
       "</div>"
      ]
     },
     "metadata": {},
     "execution_count": 187
    }
   ],
   "metadata": {}
  },
  {
   "cell_type": "code",
   "execution_count": 188,
   "source": [
    "pay=finalset.payed.value_counts().to_frame()\r\n",
    "pay[\"prob\"]=(pay.payed/pay.payed.sum())*100\r\n",
    "pay"
   ],
   "outputs": [
    {
     "output_type": "execute_result",
     "data": {
      "text/plain": [
       "     payed       prob\n",
       "No     228  94.214876\n",
       "Yes     14   5.785124"
      ],
      "text/html": [
       "<div>\n",
       "<style scoped>\n",
       "    .dataframe tbody tr th:only-of-type {\n",
       "        vertical-align: middle;\n",
       "    }\n",
       "\n",
       "    .dataframe tbody tr th {\n",
       "        vertical-align: top;\n",
       "    }\n",
       "\n",
       "    .dataframe thead th {\n",
       "        text-align: right;\n",
       "    }\n",
       "</style>\n",
       "<table border=\"1\" class=\"dataframe\">\n",
       "  <thead>\n",
       "    <tr style=\"text-align: right;\">\n",
       "      <th></th>\n",
       "      <th>payed</th>\n",
       "      <th>prob</th>\n",
       "    </tr>\n",
       "  </thead>\n",
       "  <tbody>\n",
       "    <tr>\n",
       "      <th>No</th>\n",
       "      <td>228</td>\n",
       "      <td>94.214876</td>\n",
       "    </tr>\n",
       "    <tr>\n",
       "      <th>Yes</th>\n",
       "      <td>14</td>\n",
       "      <td>5.785124</td>\n",
       "    </tr>\n",
       "  </tbody>\n",
       "</table>\n",
       "</div>"
      ]
     },
     "metadata": {},
     "execution_count": 188
    }
   ],
   "metadata": {}
  },
  {
   "cell_type": "code",
   "execution_count": 189,
   "source": [
    "genpay[\"Yes/male_prob\"]=(genpay[\"gender/Yes_prob\"]*pay.iloc[1,1])/gen.iloc[0,1]\r\n",
    "genpay[\"No/male_prob\"]=(genpay[\"gender/No_prob\"]*pay.iloc[0,1])/gen.iloc[0,1]\r\n",
    "genpay"
   ],
   "outputs": [
    {
     "output_type": "execute_result",
     "data": {
      "text/plain": [
       "payed    No  Yes  gender/Yes_prob  gender/No_prob  Yes/male_prob  No/male_prob\n",
       "gender                                                                        \n",
       "female   39    5        35.714286       17.105263       2.525253     19.696970\n",
       "male    189    9        64.285714       82.894737       4.545455     95.454545"
      ],
      "text/html": [
       "<div>\n",
       "<style scoped>\n",
       "    .dataframe tbody tr th:only-of-type {\n",
       "        vertical-align: middle;\n",
       "    }\n",
       "\n",
       "    .dataframe tbody tr th {\n",
       "        vertical-align: top;\n",
       "    }\n",
       "\n",
       "    .dataframe thead th {\n",
       "        text-align: right;\n",
       "    }\n",
       "</style>\n",
       "<table border=\"1\" class=\"dataframe\">\n",
       "  <thead>\n",
       "    <tr style=\"text-align: right;\">\n",
       "      <th>payed</th>\n",
       "      <th>No</th>\n",
       "      <th>Yes</th>\n",
       "      <th>gender/Yes_prob</th>\n",
       "      <th>gender/No_prob</th>\n",
       "      <th>Yes/male_prob</th>\n",
       "      <th>No/male_prob</th>\n",
       "    </tr>\n",
       "    <tr>\n",
       "      <th>gender</th>\n",
       "      <th></th>\n",
       "      <th></th>\n",
       "      <th></th>\n",
       "      <th></th>\n",
       "      <th></th>\n",
       "      <th></th>\n",
       "    </tr>\n",
       "  </thead>\n",
       "  <tbody>\n",
       "    <tr>\n",
       "      <th>female</th>\n",
       "      <td>39</td>\n",
       "      <td>5</td>\n",
       "      <td>35.714286</td>\n",
       "      <td>17.105263</td>\n",
       "      <td>2.525253</td>\n",
       "      <td>19.696970</td>\n",
       "    </tr>\n",
       "    <tr>\n",
       "      <th>male</th>\n",
       "      <td>189</td>\n",
       "      <td>9</td>\n",
       "      <td>64.285714</td>\n",
       "      <td>82.894737</td>\n",
       "      <td>4.545455</td>\n",
       "      <td>95.454545</td>\n",
       "    </tr>\n",
       "  </tbody>\n",
       "</table>\n",
       "</div>"
      ]
     },
     "metadata": {},
     "execution_count": 189
    }
   ],
   "metadata": {}
  },
  {
   "cell_type": "markdown",
   "source": [
    "### Answer-20\r\n",
    "* The probability of paying the course while you are a man is 4.54%\r\n",
    "* The probability of not paying the course while you are a man is 95.45%"
   ],
   "metadata": {}
  },
  {
   "cell_type": "markdown",
   "source": [
    "* P(Payed=\"yes/no\"/Bootcamp Insterest=\"Increase Skill\")"
   ],
   "metadata": {}
  },
  {
   "cell_type": "code",
   "execution_count": 190,
   "source": [
    "boo=finalset.bootcamp_interest.value_counts().to_frame()\r\n",
    "boo[\"prob\"]=(boo.bootcamp_interest/boo.bootcamp_interest.sum())*100\r\n",
    "boo"
   ],
   "outputs": [
    {
     "output_type": "execute_result",
     "data": {
      "text/plain": [
       "                                   bootcamp_interest       prob\n",
       "Improving my data analysis skills                128  52.892562\n",
       "Finding a job/internship                          42  17.355372\n",
       "Training to start my own company                  37  15.289256\n",
       "Switching careers                                 20   8.264463\n",
       "Mentorship                                        12   4.958678\n",
       "other                                              2   0.826446\n",
       "unknown                                            1   0.413223"
      ],
      "text/html": [
       "<div>\n",
       "<style scoped>\n",
       "    .dataframe tbody tr th:only-of-type {\n",
       "        vertical-align: middle;\n",
       "    }\n",
       "\n",
       "    .dataframe tbody tr th {\n",
       "        vertical-align: top;\n",
       "    }\n",
       "\n",
       "    .dataframe thead th {\n",
       "        text-align: right;\n",
       "    }\n",
       "</style>\n",
       "<table border=\"1\" class=\"dataframe\">\n",
       "  <thead>\n",
       "    <tr style=\"text-align: right;\">\n",
       "      <th></th>\n",
       "      <th>bootcamp_interest</th>\n",
       "      <th>prob</th>\n",
       "    </tr>\n",
       "  </thead>\n",
       "  <tbody>\n",
       "    <tr>\n",
       "      <th>Improving my data analysis skills</th>\n",
       "      <td>128</td>\n",
       "      <td>52.892562</td>\n",
       "    </tr>\n",
       "    <tr>\n",
       "      <th>Finding a job/internship</th>\n",
       "      <td>42</td>\n",
       "      <td>17.355372</td>\n",
       "    </tr>\n",
       "    <tr>\n",
       "      <th>Training to start my own company</th>\n",
       "      <td>37</td>\n",
       "      <td>15.289256</td>\n",
       "    </tr>\n",
       "    <tr>\n",
       "      <th>Switching careers</th>\n",
       "      <td>20</td>\n",
       "      <td>8.264463</td>\n",
       "    </tr>\n",
       "    <tr>\n",
       "      <th>Mentorship</th>\n",
       "      <td>12</td>\n",
       "      <td>4.958678</td>\n",
       "    </tr>\n",
       "    <tr>\n",
       "      <th>other</th>\n",
       "      <td>2</td>\n",
       "      <td>0.826446</td>\n",
       "    </tr>\n",
       "    <tr>\n",
       "      <th>unknown</th>\n",
       "      <td>1</td>\n",
       "      <td>0.413223</td>\n",
       "    </tr>\n",
       "  </tbody>\n",
       "</table>\n",
       "</div>"
      ]
     },
     "metadata": {},
     "execution_count": 190
    }
   ],
   "metadata": {}
  },
  {
   "cell_type": "code",
   "execution_count": 191,
   "source": [
    "boopay[\"Yes/Impskil_prob\"]=(boopay[\"boo/Yes_prob\"]*pay.iloc[1,1])/boo.iloc[0,1]\r\n",
    "boopay[\"No/Impskil_prob\"]=(boopay[\"boo/No_prob\"]*pay.iloc[0,1])/boo.iloc[0,1]\r\n",
    "boopay"
   ],
   "outputs": [
    {
     "output_type": "execute_result",
     "data": {
      "text/plain": [
       "payed                               No  Yes  boo/Yes_prob  boo/No_prob  \\\n",
       "bootcamp_interest                                                        \n",
       "Finding a job/internship            39    3     21.428571    17.105263   \n",
       "Improving my data analysis skills  118   10     71.428571    51.754386   \n",
       "Mentorship                          12    0      0.000000     5.263158   \n",
       "Switching careers                   20    0      0.000000     8.771930   \n",
       "Training to start my own company    36    1      7.142857    15.789474   \n",
       "other                                2    0      0.000000     0.877193   \n",
       "unknown                              1    0      0.000000     0.438596   \n",
       "\n",
       "payed                              Yes/Impskil_prob  No/Impskil_prob  \n",
       "bootcamp_interest                                                     \n",
       "Finding a job/internship                    2.34375         30.46875  \n",
       "Improving my data analysis skills           7.81250         92.18750  \n",
       "Mentorship                                  0.00000          9.37500  \n",
       "Switching careers                           0.00000         15.62500  \n",
       "Training to start my own company            0.78125         28.12500  \n",
       "other                                       0.00000          1.56250  \n",
       "unknown                                     0.00000          0.78125  "
      ],
      "text/html": [
       "<div>\n",
       "<style scoped>\n",
       "    .dataframe tbody tr th:only-of-type {\n",
       "        vertical-align: middle;\n",
       "    }\n",
       "\n",
       "    .dataframe tbody tr th {\n",
       "        vertical-align: top;\n",
       "    }\n",
       "\n",
       "    .dataframe thead th {\n",
       "        text-align: right;\n",
       "    }\n",
       "</style>\n",
       "<table border=\"1\" class=\"dataframe\">\n",
       "  <thead>\n",
       "    <tr style=\"text-align: right;\">\n",
       "      <th>payed</th>\n",
       "      <th>No</th>\n",
       "      <th>Yes</th>\n",
       "      <th>boo/Yes_prob</th>\n",
       "      <th>boo/No_prob</th>\n",
       "      <th>Yes/Impskil_prob</th>\n",
       "      <th>No/Impskil_prob</th>\n",
       "    </tr>\n",
       "    <tr>\n",
       "      <th>bootcamp_interest</th>\n",
       "      <th></th>\n",
       "      <th></th>\n",
       "      <th></th>\n",
       "      <th></th>\n",
       "      <th></th>\n",
       "      <th></th>\n",
       "    </tr>\n",
       "  </thead>\n",
       "  <tbody>\n",
       "    <tr>\n",
       "      <th>Finding a job/internship</th>\n",
       "      <td>39</td>\n",
       "      <td>3</td>\n",
       "      <td>21.428571</td>\n",
       "      <td>17.105263</td>\n",
       "      <td>2.34375</td>\n",
       "      <td>30.46875</td>\n",
       "    </tr>\n",
       "    <tr>\n",
       "      <th>Improving my data analysis skills</th>\n",
       "      <td>118</td>\n",
       "      <td>10</td>\n",
       "      <td>71.428571</td>\n",
       "      <td>51.754386</td>\n",
       "      <td>7.81250</td>\n",
       "      <td>92.18750</td>\n",
       "    </tr>\n",
       "    <tr>\n",
       "      <th>Mentorship</th>\n",
       "      <td>12</td>\n",
       "      <td>0</td>\n",
       "      <td>0.000000</td>\n",
       "      <td>5.263158</td>\n",
       "      <td>0.00000</td>\n",
       "      <td>9.37500</td>\n",
       "    </tr>\n",
       "    <tr>\n",
       "      <th>Switching careers</th>\n",
       "      <td>20</td>\n",
       "      <td>0</td>\n",
       "      <td>0.000000</td>\n",
       "      <td>8.771930</td>\n",
       "      <td>0.00000</td>\n",
       "      <td>15.62500</td>\n",
       "    </tr>\n",
       "    <tr>\n",
       "      <th>Training to start my own company</th>\n",
       "      <td>36</td>\n",
       "      <td>1</td>\n",
       "      <td>7.142857</td>\n",
       "      <td>15.789474</td>\n",
       "      <td>0.78125</td>\n",
       "      <td>28.12500</td>\n",
       "    </tr>\n",
       "    <tr>\n",
       "      <th>other</th>\n",
       "      <td>2</td>\n",
       "      <td>0</td>\n",
       "      <td>0.000000</td>\n",
       "      <td>0.877193</td>\n",
       "      <td>0.00000</td>\n",
       "      <td>1.56250</td>\n",
       "    </tr>\n",
       "    <tr>\n",
       "      <th>unknown</th>\n",
       "      <td>1</td>\n",
       "      <td>0</td>\n",
       "      <td>0.000000</td>\n",
       "      <td>0.438596</td>\n",
       "      <td>0.00000</td>\n",
       "      <td>0.78125</td>\n",
       "    </tr>\n",
       "  </tbody>\n",
       "</table>\n",
       "</div>"
      ]
     },
     "metadata": {},
     "execution_count": 191
    }
   ],
   "metadata": {}
  },
  {
   "cell_type": "markdown",
   "source": [
    "### Answer-20\r\n",
    "* The probability of paying the course while you are interested in improving your skill is 7.81%\r\n",
    "* The probability of not paying the course while you are  interested in improving your skill is 92.18%"
   ],
   "metadata": {}
  },
  {
   "cell_type": "markdown",
   "source": [
    "* P(Payed=\"yes/no\"/Communication channels=\"Friend\")"
   ],
   "metadata": {}
  },
  {
   "cell_type": "code",
   "execution_count": 192,
   "source": [
    "com=finalset.communication_channel.value_counts().to_frame()\r\n",
    "com[\"prob\"]=(com.communication_channel/com.communication_channel.sum())*100\r\n",
    "com"
   ],
   "outputs": [
    {
     "output_type": "execute_result",
     "data": {
      "text/plain": [
       "                         communication_channel       prob\n",
       "Friend                                      66  27.272727\n",
       "WhatsApp                                    64  26.446281\n",
       "Facebook                                    38  15.702479\n",
       "ESIH                                        17   7.024793\n",
       "Ayiti Analytics Website                     15   6.198347\n",
       "Bootcamp Alumni                             14   5.785124\n",
       "LinkedIn                                    14   5.785124\n",
       "other                                        9   3.719008\n",
       "Instagram                                    5   2.066116"
      ],
      "text/html": [
       "<div>\n",
       "<style scoped>\n",
       "    .dataframe tbody tr th:only-of-type {\n",
       "        vertical-align: middle;\n",
       "    }\n",
       "\n",
       "    .dataframe tbody tr th {\n",
       "        vertical-align: top;\n",
       "    }\n",
       "\n",
       "    .dataframe thead th {\n",
       "        text-align: right;\n",
       "    }\n",
       "</style>\n",
       "<table border=\"1\" class=\"dataframe\">\n",
       "  <thead>\n",
       "    <tr style=\"text-align: right;\">\n",
       "      <th></th>\n",
       "      <th>communication_channel</th>\n",
       "      <th>prob</th>\n",
       "    </tr>\n",
       "  </thead>\n",
       "  <tbody>\n",
       "    <tr>\n",
       "      <th>Friend</th>\n",
       "      <td>66</td>\n",
       "      <td>27.272727</td>\n",
       "    </tr>\n",
       "    <tr>\n",
       "      <th>WhatsApp</th>\n",
       "      <td>64</td>\n",
       "      <td>26.446281</td>\n",
       "    </tr>\n",
       "    <tr>\n",
       "      <th>Facebook</th>\n",
       "      <td>38</td>\n",
       "      <td>15.702479</td>\n",
       "    </tr>\n",
       "    <tr>\n",
       "      <th>ESIH</th>\n",
       "      <td>17</td>\n",
       "      <td>7.024793</td>\n",
       "    </tr>\n",
       "    <tr>\n",
       "      <th>Ayiti Analytics Website</th>\n",
       "      <td>15</td>\n",
       "      <td>6.198347</td>\n",
       "    </tr>\n",
       "    <tr>\n",
       "      <th>Bootcamp Alumni</th>\n",
       "      <td>14</td>\n",
       "      <td>5.785124</td>\n",
       "    </tr>\n",
       "    <tr>\n",
       "      <th>LinkedIn</th>\n",
       "      <td>14</td>\n",
       "      <td>5.785124</td>\n",
       "    </tr>\n",
       "    <tr>\n",
       "      <th>other</th>\n",
       "      <td>9</td>\n",
       "      <td>3.719008</td>\n",
       "    </tr>\n",
       "    <tr>\n",
       "      <th>Instagram</th>\n",
       "      <td>5</td>\n",
       "      <td>2.066116</td>\n",
       "    </tr>\n",
       "  </tbody>\n",
       "</table>\n",
       "</div>"
      ]
     },
     "metadata": {},
     "execution_count": 192
    }
   ],
   "metadata": {}
  },
  {
   "cell_type": "code",
   "execution_count": 193,
   "source": [
    "compay[\"Yes/friend\"]=(compay[\"com/Yes_prob\"]*pay.iloc[1,1])/com.iloc[0,1]\r\n",
    "compay[\"No/friend\"]=(compay[\"com/No_prob\"]*pay.iloc[0,1])/com.iloc[0,1]\r\n",
    "compay"
   ],
   "outputs": [
    {
     "output_type": "execute_result",
     "data": {
      "text/plain": [
       "payed                    No  Yes  com/Yes_prob  com/No_prob  Yes/friend  \\\n",
       "communication_channel                                                     \n",
       "Ayiti Analytics Website  15    0      0.000000     6.578947    0.000000   \n",
       "Bootcamp Alumni          13    1      7.142857     5.701754    1.515152   \n",
       "ESIH                     17    0      0.000000     7.456140    0.000000   \n",
       "Facebook                 36    2     14.285714    15.789474    3.030303   \n",
       "Friend                   61    5     35.714286    26.754386    7.575758   \n",
       "Instagram                 4    1      7.142857     1.754386    1.515152   \n",
       "LinkedIn                 14    0      0.000000     6.140351    0.000000   \n",
       "WhatsApp                 60    4     28.571429    26.315789    6.060606   \n",
       "other                     8    1      7.142857     3.508772    1.515152   \n",
       "\n",
       "payed                    No/friend  \n",
       "communication_channel               \n",
       "Ayiti Analytics Website  22.727273  \n",
       "Bootcamp Alumni          19.696970  \n",
       "ESIH                     25.757576  \n",
       "Facebook                 54.545455  \n",
       "Friend                   92.424242  \n",
       "Instagram                 6.060606  \n",
       "LinkedIn                 21.212121  \n",
       "WhatsApp                 90.909091  \n",
       "other                    12.121212  "
      ],
      "text/html": [
       "<div>\n",
       "<style scoped>\n",
       "    .dataframe tbody tr th:only-of-type {\n",
       "        vertical-align: middle;\n",
       "    }\n",
       "\n",
       "    .dataframe tbody tr th {\n",
       "        vertical-align: top;\n",
       "    }\n",
       "\n",
       "    .dataframe thead th {\n",
       "        text-align: right;\n",
       "    }\n",
       "</style>\n",
       "<table border=\"1\" class=\"dataframe\">\n",
       "  <thead>\n",
       "    <tr style=\"text-align: right;\">\n",
       "      <th>payed</th>\n",
       "      <th>No</th>\n",
       "      <th>Yes</th>\n",
       "      <th>com/Yes_prob</th>\n",
       "      <th>com/No_prob</th>\n",
       "      <th>Yes/friend</th>\n",
       "      <th>No/friend</th>\n",
       "    </tr>\n",
       "    <tr>\n",
       "      <th>communication_channel</th>\n",
       "      <th></th>\n",
       "      <th></th>\n",
       "      <th></th>\n",
       "      <th></th>\n",
       "      <th></th>\n",
       "      <th></th>\n",
       "    </tr>\n",
       "  </thead>\n",
       "  <tbody>\n",
       "    <tr>\n",
       "      <th>Ayiti Analytics Website</th>\n",
       "      <td>15</td>\n",
       "      <td>0</td>\n",
       "      <td>0.000000</td>\n",
       "      <td>6.578947</td>\n",
       "      <td>0.000000</td>\n",
       "      <td>22.727273</td>\n",
       "    </tr>\n",
       "    <tr>\n",
       "      <th>Bootcamp Alumni</th>\n",
       "      <td>13</td>\n",
       "      <td>1</td>\n",
       "      <td>7.142857</td>\n",
       "      <td>5.701754</td>\n",
       "      <td>1.515152</td>\n",
       "      <td>19.696970</td>\n",
       "    </tr>\n",
       "    <tr>\n",
       "      <th>ESIH</th>\n",
       "      <td>17</td>\n",
       "      <td>0</td>\n",
       "      <td>0.000000</td>\n",
       "      <td>7.456140</td>\n",
       "      <td>0.000000</td>\n",
       "      <td>25.757576</td>\n",
       "    </tr>\n",
       "    <tr>\n",
       "      <th>Facebook</th>\n",
       "      <td>36</td>\n",
       "      <td>2</td>\n",
       "      <td>14.285714</td>\n",
       "      <td>15.789474</td>\n",
       "      <td>3.030303</td>\n",
       "      <td>54.545455</td>\n",
       "    </tr>\n",
       "    <tr>\n",
       "      <th>Friend</th>\n",
       "      <td>61</td>\n",
       "      <td>5</td>\n",
       "      <td>35.714286</td>\n",
       "      <td>26.754386</td>\n",
       "      <td>7.575758</td>\n",
       "      <td>92.424242</td>\n",
       "    </tr>\n",
       "    <tr>\n",
       "      <th>Instagram</th>\n",
       "      <td>4</td>\n",
       "      <td>1</td>\n",
       "      <td>7.142857</td>\n",
       "      <td>1.754386</td>\n",
       "      <td>1.515152</td>\n",
       "      <td>6.060606</td>\n",
       "    </tr>\n",
       "    <tr>\n",
       "      <th>LinkedIn</th>\n",
       "      <td>14</td>\n",
       "      <td>0</td>\n",
       "      <td>0.000000</td>\n",
       "      <td>6.140351</td>\n",
       "      <td>0.000000</td>\n",
       "      <td>21.212121</td>\n",
       "    </tr>\n",
       "    <tr>\n",
       "      <th>WhatsApp</th>\n",
       "      <td>60</td>\n",
       "      <td>4</td>\n",
       "      <td>28.571429</td>\n",
       "      <td>26.315789</td>\n",
       "      <td>6.060606</td>\n",
       "      <td>90.909091</td>\n",
       "    </tr>\n",
       "    <tr>\n",
       "      <th>other</th>\n",
       "      <td>8</td>\n",
       "      <td>1</td>\n",
       "      <td>7.142857</td>\n",
       "      <td>3.508772</td>\n",
       "      <td>1.515152</td>\n",
       "      <td>12.121212</td>\n",
       "    </tr>\n",
       "  </tbody>\n",
       "</table>\n",
       "</div>"
      ]
     },
     "metadata": {},
     "execution_count": 193
    }
   ],
   "metadata": {}
  },
  {
   "cell_type": "markdown",
   "source": [
    "### Answer-20\r\n",
    "* The probability of paying the course while you used the friend channel is 7.57%\r\n",
    "* The probability of not paying the course while you used the friend channel is 92.42%"
   ],
   "metadata": {}
  },
  {
   "cell_type": "markdown",
   "source": [
    "### Based on these findings, propose strategies to increase our sales?"
   ],
   "metadata": {}
  },
  {
   "cell_type": "markdown",
   "source": [
    "### Considering the finding of the 20th question, a increase in the course sale can be obtained by :\r\n",
    "* Using adds targeting less man as they have a 95,45% probability of not buy the course\r\n",
    "* Prioritizing communication channels other than the friend channel as those have a 92.42% probability of not buy the course\r\n",
    "* Using adds not targeting people looking to improve their analytical skills as they have a 92.18% probability of not buy the course"
   ],
   "metadata": {}
  },
  {
   "cell_type": "markdown",
   "source": [],
   "metadata": {}
  }
 ],
 "metadata": {
  "interpreter": {
   "hash": "466934aa0fd7774d67f845814f8f3c98ceae17528a6c84557ec107f8a85e23b2"
  },
  "kernelspec": {
   "name": "python3",
   "display_name": "Python 3.8.5 64-bit ('base': conda)"
  },
  "language_info": {
   "codemirror_mode": {
    "name": "ipython",
    "version": 3
   },
   "file_extension": ".py",
   "mimetype": "text/x-python",
   "name": "python",
   "nbconvert_exporter": "python",
   "pygments_lexer": "ipython3",
   "version": "3.8.5"
  },
  "orig_nbformat": 4
 },
 "nbformat": 4,
 "nbformat_minor": 2
}